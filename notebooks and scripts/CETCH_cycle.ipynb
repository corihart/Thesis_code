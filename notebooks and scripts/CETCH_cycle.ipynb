{
 "cells": [
  {
   "cell_type": "code",
   "execution_count": 1,
   "id": "3a682822-d3b4-4d4d-8a0b-19a63be790d8",
   "metadata": {},
   "outputs": [],
   "source": [
    "import cobra\n",
    "import numpy as np"
   ]
  },
  {
   "cell_type": "code",
   "execution_count": 2,
   "id": "572a9157-7063-456f-99f7-0db8c7f8b48a",
   "metadata": {},
   "outputs": [],
   "source": [
    "from cobra import Model, Reaction, Metabolite"
   ]
  },
  {
   "cell_type": "code",
   "execution_count": 3,
   "id": "75258ff4",
   "metadata": {},
   "outputs": [],
   "source": [
    "# set solver for optimisation\n",
    "solver = 'glpk'\n",
    "cobra.core.Configuration.solver = solver\n",
    "\n"
   ]
  },
  {
   "cell_type": "code",
   "execution_count": 4,
   "id": "d0eea2f8-8709-405b-9daa-da671f5a6148",
   "metadata": {},
   "outputs": [],
   "source": [
    "cetch_model = Model(\"CETCH cycle\", name = \"CETCH cycle\")"
   ]
  },
  {
   "cell_type": "code",
   "execution_count": 5,
   "id": "61c247c7-9c54-46f7-91c4-f677be333de9",
   "metadata": {
    "tags": []
   },
   "outputs": [
    {
     "data": {
      "text/html": [
       "\n",
       "        <table>\n",
       "            <tr>\n",
       "                <td><strong>Name</strong></td>\n",
       "                <td>CETCH cycle</td>\n",
       "            </tr><tr>\n",
       "                <td><strong>Memory address</strong></td>\n",
       "                <td>7f644a55db70</td>\n",
       "            </tr><tr>\n",
       "                <td><strong>Number of metabolites</strong></td>\n",
       "                <td>0</td>\n",
       "            </tr><tr>\n",
       "                <td><strong>Number of reactions</strong></td>\n",
       "                <td>0</td>\n",
       "            </tr><tr>\n",
       "                <td><strong>Number of genes</strong></td>\n",
       "                <td>0</td>\n",
       "            </tr><tr>\n",
       "                <td><strong>Number of groups</strong></td>\n",
       "                <td>0</td>\n",
       "            </tr><tr>\n",
       "                <td><strong>Objective expression</strong></td>\n",
       "                <td>0</td>\n",
       "            </tr><tr>\n",
       "                <td><strong>Compartments</strong></td>\n",
       "                <td></td>\n",
       "            </tr>\n",
       "          </table>"
      ],
      "text/plain": [
       "<Model CETCH cycle at 0x7f644a55db70>"
      ]
     },
     "execution_count": 5,
     "metadata": {},
     "output_type": "execute_result"
    }
   ],
   "source": [
    "cetch_model"
   ]
  },
  {
   "cell_type": "markdown",
   "id": "a9a04b0f-d770-4625-b092-ec4268e6e998",
   "metadata": {},
   "source": [
    "- substituting all \"-\" in BioCyc Id for \"_\"\n",
    "- need to add charge\n",
    "- need to determine elements from chemical formula\n",
    "- SMILES don't work because of error with \"\\N\"\n",
    "- currently not adding a compartment to metabolites or reactions"
   ]
  },
  {
   "cell_type": "markdown",
   "id": "c59682bf",
   "metadata": {},
   "source": [
    "### defining metabolites of the CETCH cycle"
   ]
  },
  {
   "cell_type": "code",
   "execution_count": 6,
   "id": "3d7146f1-0396-481b-9bad-92f71a8dcd53",
   "metadata": {
    "tags": []
   },
   "outputs": [],
   "source": [
    "met = Metabolite(\"GLYOX\")\n",
    "met.name = \"glyoxylate\"\n",
    "met.formula = \"C2HO3\"\n",
    "# met.charge = 0\n",
    "met.elements = {}\n",
    "met.annotation = {\"biocyc\": \"META:GLYOX\",\n",
    "            \"synonyms\": [\"glyoxalate\",\n",
    "                        \"glyox\",\n",
    "                        \"glyoxylic acid\"],\n",
    "            \"delta_G_f(kcal/mol)\": -102.04095,\n",
    "            \"inchikey\": \"HHLFWLYXYJOTON-UHFFFAOYSA-M\",\n",
    "            \"InChI\": \"InChI=1S/C2H2O3/c3-1-2(4)5/h1H,(H,4,5)/p-1\",\n",
    "            \"molecular_weight(daltons)\": 73.028}\n",
    "met.compartment = \"u\"\n",
    "\n",
    "cetch_model.add_metabolites(met)\n",
    "\n",
    "cetch_model.metabolites.get_by_id(met.id).formula = \"C2HO3\""
   ]
  },
  {
   "cell_type": "code",
   "execution_count": 7,
   "id": "91716ec1-1b57-42ea-84a7-8fa9abc9d08c",
   "metadata": {
    "tags": []
   },
   "outputs": [],
   "source": [
    "met = Metabolite(\"WATER\")\n",
    "met.name = \"Water\"\n",
    "met.formula = \"H2O\"\n",
    "# met.charge = 0\n",
    "met.elements = {}\n",
    "met.annotation = {\"biocyc\": \"META:WATER\",\n",
    "            \"synonyms\": [\"H2O\",\n",
    "                        \"hydrogen oxide\",\n",
    "                        \"water\"],\n",
    "            \"delta_G_f(kcal/mol)\": -36.144756,\n",
    "            \"inchikey\": \"XLYOFNOQVPJJNP-UHFFFAOYSA-N\",\n",
    "            \"InChI\": \"InChI=1S/H2O/h1H2\",\n",
    "            \"molecular_weight(daltons)\": 18.015}\n",
    "\n",
    "cetch_model.add_metabolites(met)\n",
    "\n",
    "cetch_model.metabolites.get_by_id(met.id).formula = \"H2O\""
   ]
  },
  {
   "cell_type": "code",
   "execution_count": 8,
   "id": "e3834bdb-db8f-48a2-a473-fd884af978f8",
   "metadata": {
    "tags": []
   },
   "outputs": [],
   "source": [
    "met = Metabolite(\"ACETYL_COA\")\n",
    "met.name = \"acetyl-CoA\"\n",
    "met.formula = \"C23H34N7O17P3S\"\n",
    "# met.charge = 0\n",
    "met.elements = {}\n",
    "met.annotation = {\"biocyc\": \"META:ACETYL-COA\",\n",
    "            \"synonyms\": [\"acetyl coenzyme-A\",\n",
    "                        \"ac-CoA\",\n",
    "                        \"acetylcoenzyme-A\",\n",
    "                        \"acetyl-S-CoA\",\n",
    "                        \"ac-S-CoA\"],\n",
    "            \"delta_G_f(kcal/mol)\": -506.8639,\n",
    "            \"inchikey\": \"ZSLZBFCDCINBPY-ZSJPKINUSA-J\",\n",
    "            \"InChI\": \"InChI=1S/C23H38N7O17P3S/c1-12(31)51-7-6-25-14(32)4-5-26-21(35)18(34)23(2,3)9-44-50(41,42)47-49(39,40)43-8-13-17(46-48(36,37)38)16(33)22(45-13)30-11-29-15-19(24)27-10-28-20(15)30/h10-11,13,16-18,22,33-34H,4-9H2,1-3H3,(H,25,32)(H,26,35)(H,39,40)(H,41,42)(H2,24,27,28)(H2,36,37,38)/p-4/t13-,16-,17-,18+,22-/m1/s1\",\n",
    "            \"molecular_weight(daltons)\": 805.54}\n",
    "\n",
    "cetch_model.add_metabolites(met)\n",
    "\n",
    "cetch_model.metabolites.get_by_id(met.id).formula = \"C23H34N7O17P3S\""
   ]
  },
  {
   "cell_type": "code",
   "execution_count": 9,
   "id": "687d81d6-0cb1-41be-9263-2ee8e29a288c",
   "metadata": {
    "tags": []
   },
   "outputs": [],
   "source": [
    "met = Metabolite(\"PROTON\")\n",
    "met.name = \"Proton\"\n",
    "met.formula = \"H\"\n",
    "# met.charge = 1\n",
    "met.elements = {}\n",
    "met.annotation = {\"biocyc\": \"META:PROTON\",\n",
    "            \"synonyms\": [\"hydrogen ion\",\n",
    "                        \"proton\"],\n",
    "            \"delta_G_f(kcal/mol)\": 0.42906138,\n",
    "            \"inchikey\": \"GPRLSGONYQIRFK-UHFFFAOYSA-N\",\n",
    "            \"InChI\": \"InChI=1S/p+1\",\n",
    "            \"molecular_weight(daltons)\": 1.008}\n",
    "\n",
    "cetch_model.add_metabolites(met)\n",
    "\n",
    "cetch_model.metabolites.get_by_id(met.id).formula = \"H\""
   ]
  },
  {
   "cell_type": "code",
   "execution_count": 10,
   "id": "ba8fb5a8-2386-400b-8b10-588389e008b9",
   "metadata": {
    "tags": []
   },
   "outputs": [],
   "source": [
    "met = Metabolite(\"MAL\")\n",
    "met.name = \"(S)-malate\"\n",
    "met.formula = \"C4H4O5\"\n",
    "# met.charge = 0\n",
    "met.elements = {}\n",
    "met.annotation = {\"biocyc\": \"META:MAL\",\n",
    "            \"synonyms\": [\"(S)-malic acid\",\n",
    "                        \"L-apple acid\",\n",
    "                        \"L-malic acid\",\n",
    "                        \"L-hydroxysuccinic acid\",\n",
    "                        \"L-hydroxybutanedioic acid\",\n",
    "                        \"L-malate\"],\n",
    "            \"delta_G_f(kcal/mol)\": -161.16376,\n",
    "            \"inchikey\": \"BJEPYKJPYRNKOW-REOHCLBHSA-L\",\n",
    "            \"InChI\": \"InChI=1S/C4H6O5/c5-2(4(8)9)1-3(6)7/h2,5H,1H2,(H,6,7)(H,8,9)/p-2/t2-/m0/s1\",\n",
    "            \"molecular_weight(daltons)\": 132.07}\n",
    "\n",
    "cetch_model.add_metabolites(met)\n",
    "\n",
    "cetch_model.metabolites.get_by_id(met.id).formula = \"C4H4O5\""
   ]
  },
  {
   "cell_type": "code",
   "execution_count": 11,
   "id": "17bea63c-44ed-45ee-8821-54a27b1c2be4",
   "metadata": {
    "tags": []
   },
   "outputs": [],
   "source": [
    "met = Metabolite(\"CO_A\")\n",
    "met.name = \"coenzyme A\"\n",
    "met.formula = \"C21H32N7O16P3S\"\n",
    "# met.charge = 0\n",
    "met.elements = {}\n",
    "met.annotation = {\"biocyc\": \"META:CO-A\",\n",
    "            \"synonyms\": [\"CoA\",\n",
    "                        \"Co-A-SH\",\n",
    "                        \"HS-CoA\"],\n",
    "            \"delta_G_f(kcal/mol)\": -493.56613,\n",
    "            \"inchikey\": \"RGJOEKWQDUBAIZ-IBOSZNHHSA-J\",\n",
    "            \"InChI\": \"InChI=1S/C21H36N7O16P3S/c1-21(2,16(31)19(32)24-4-3-12(29)23-5-6-48)8-41-47(38,39)44-46(36,37)40-7-11-15(43-45(33,34)35)14(30)20(42-11)28-10-27-13-17(22)25-9-26-18(13)28/h9-11,14-16,20,30-31,48H,3-8H2,1-2H3,(H,23,29)(H,24,32)(H,36,37)(H,38,39)(H2,22,25,26)(H2,33,34,35)/p-4/t11-,14-,15-,16+,20-/m1/s1\",\n",
    "            \"molecular_weight(daltons)\": 763.5}\n",
    "\n",
    "cetch_model.add_metabolites(met)\n",
    "\n",
    "cetch_model.metabolites.get_by_id(met.id).formula = \"C21H32N7O16P3S\""
   ]
  },
  {
   "cell_type": "code",
   "execution_count": 12,
   "id": "30b92ab4-1943-4370-90af-2d0cf87debc8",
   "metadata": {
    "tags": []
   },
   "outputs": [],
   "source": [
    "met = Metabolite(\"ATP\")\n",
    "met.name = \"ATP\"\n",
    "met.formula = \"C10H12N5O13P3\"\n",
    "# met.charge = 0\n",
    "met.elements = {}\n",
    "met.annotation = {\"biocyc\": \"META:ATP\",\n",
    "            \"synonyms\": [\"adenylpyrophosphate\",\n",
    "                        \"adenosine-triphosphate\",\n",
    "                        \"adenosine-5'-triphosphate\"],\n",
    "            \"delta_G_f(kcal/mol)\": -553.6995,\n",
    "            \"inchikey\": \"ZKHQWZAMYRWXGA-KQYNXXCUSA-J\",\n",
    "            \"InChI\": \"InChI=1S/C10H16N5O13P3/c11-8-5-9(13-2-12-8)15(3-14-5)10-7(17)6(16)4(26-10)1-25-30(21,22)28-31(23,24)27-29(18,19)20/h2-4,6-7,10,16-17H,1H2,(H,21,22)(H,23,24)(H2,11,12,13)(H2,18,19,20)/p-4/t4-,6-,7-,10-/m1/s1\",\n",
    "            \"molecular_weight(daltons)\": 503.15}\n",
    "\n",
    "cetch_model.add_metabolites(met)\n",
    "\n",
    "cetch_model.metabolites.get_by_id(met.id).formula = \"C10H12N5O13P3\""
   ]
  },
  {
   "cell_type": "code",
   "execution_count": 13,
   "id": "a49894f3-db1a-4f1e-99d8-40f98f5ac631",
   "metadata": {
    "tags": []
   },
   "outputs": [],
   "source": [
    "met = Metabolite(\"4_HYDROXY_BUTYRATE\")\n",
    "met.name = \"4-hydroxybutanoate\"\n",
    "met.formula = \"C4H7O3\"\n",
    "# met.charge = 0\n",
    "met.elements = {}\n",
    "met.annotation = {\"biocyc\": \"META:4-HYDROXY-BUTYRATE\",\n",
    "            \"synonyms\": [\"4-hydroxybutanoic acid\",\n",
    "                        \"4-hydroxybutyric acid\",\n",
    "                        \"γ-hydroxybutyrate\",\n",
    "                        \"γ-hydroxybutyric acid\",\n",
    "                        \"g-hydroxybutyric acid\",\n",
    "                        \"GHB\",\n",
    "                        \"4-hydroxybutyrate\"],\n",
    "            \"delta_G_f(kcal/mol)\": -48.15422,\n",
    "            \"inchikey\": \"SJZRECIVHVDYJC-UHFFFAOYSA-M\",\n",
    "            \"InChI\": \"InChI=1S/C4H8O3/c5-3-1-2-4(6)7/h5H,1-3H2,(H,6,7)/p-1\",\n",
    "            \"molecular_weight(daltons)\": 103.1}\n",
    "\n",
    "cetch_model.add_metabolites(met)\n",
    "\n",
    "cetch_model.metabolites.get_by_id(met.id).formula = \"C4H7O3\""
   ]
  },
  {
   "cell_type": "code",
   "execution_count": 14,
   "id": "829c8faa-be8a-435d-94b2-c2ab099db5ac",
   "metadata": {
    "tags": []
   },
   "outputs": [],
   "source": [
    "met = Metabolite(\"4_HYDROXY_BUTYRYL_COA\")\n",
    "met.name = \"4-hydroxybutanoyl-CoA\"\n",
    "met.formula = \"C25H38N7O18P3S\"\n",
    "# met.charge = 0\n",
    "met.elements = {}\n",
    "met.annotation = {\"biocyc\": \"META:4-HYDROXY-BUTYRYL-COA\",\n",
    "            \"synonyms\": [\"4-hydroxybutyryl-CoA\"],\n",
    "            \"delta_G_f(kcal/mol)\": -498.76944,\n",
    "            \"inchikey\": \"BAMBWCGEVIAQBF-CITAKDKDSA-J\",\n",
    "            \"InChI\": \"InChI=1S/C25H42N7O18P3S/c1-25(2,20(37)23(38)28-6-5-15(34)27-7-9-54-16(35)4-3-8-33)11-47-53(44,45)50-52(42,43)46-10-14-19(49-51(39,40)41)18(36)24(48-14)32-13-31-17-21(26)29-12-30-22(17)32/h12-14,18-20,24,33,36-37H,3-11H2,1-2H3,(H,27,34)(H,28,38)(H,42,43)(H,44,45)(H2,26,29,30)(H2,39,40,41)/p-4/t14-,18-,19-,20+,24-/m1/s1\",\n",
    "            \"molecular_weight(daltons)\": 849.59}\n",
    "\n",
    "cetch_model.add_metabolites(met)\n",
    "\n",
    "cetch_model.metabolites.get_by_id(met.id).formula = \"C25H38N7O18P3S\""
   ]
  },
  {
   "cell_type": "code",
   "execution_count": 15,
   "id": "0a05bcd1-8002-4615-aab3-871854bc46f7",
   "metadata": {
    "tags": []
   },
   "outputs": [],
   "source": [
    "met = Metabolite(\"ADP\")\n",
    "met.name = \"ADP\"\n",
    "met.formula = \"C10H12N5O10P2\"\n",
    "# met.charge = 0\n",
    "met.elements = {}\n",
    "met.annotation = {\"biocyc\": \"META:ADP\",\n",
    "            \"synonyms\": [\"adenosine pyrophosphate\",\n",
    "\"adenosine 5'-pyrophosphate\",\n",
    "\"adenosine-5'-diphosphate\",\n",
    "\"adenosine-diphosphate\",\n",
    "\"adenosine-5-diphosphate\"],\n",
    "            \"delta_G_f(kcal/mol)\": -344.92508,\n",
    "            \"inchikey\": \"XTWYTFMLZFPYCI-KQYNXXCUSA-K\",\n",
    "            \"InChI\": \"InChI=1S/C10H15N5O10P2/c11-8-5-9(13-2-12-8)15(3-14-5)10-7(17)6(16)4(24-10)1-23-27(21,22)25-26(18,19)20/h2-4,6-7,10,16-17H,1H2,(H,21,22)(H2,11,12,13)(H2,18,19,20)/p-3/t4-,6-,7-,10-/m1/s1\",\n",
    "            \"molecular_weight(daltons)\": 424.18}\n",
    "\n",
    "cetch_model.add_metabolites(met)\n",
    "\n",
    "cetch_model.metabolites.get_by_id(met.id).formula = \"C10H12N5O10P2\""
   ]
  },
  {
   "cell_type": "code",
   "execution_count": 16,
   "id": "73d50bcf-30e8-4126-9e28-61a203aa1b4b",
   "metadata": {
    "tags": []
   },
   "outputs": [],
   "source": [
    "met = Metabolite(\"Pi\")\n",
    "met.name = \"phosphate\"\n",
    "met.formula = \"HO4P\"\n",
    "# met.charge = 0\n",
    "met.elements = {}\n",
    "met.annotation = {\"biocyc\": \"META:Pi\",\n",
    "            \"synonyms\": [\"inorganic phosphate\",\n",
    "                        \"phosphate-inorganic\",\n",
    "                        \"Pi\",\n",
    "                        \"orthophosphate\",\n",
    "                        \"PO43-\",\n",
    "                        \"HPO42-\",\n",
    "                        \"HPO4-2\",\n",
    "                        \"hydrogenphosphate\"],\n",
    "            \"delta_G_f(kcal/mol)\": -252.94714,\n",
    "            \"inchikey\": \"NBIIXXVUZAFLBC-UHFFFAOYSA-L\",\n",
    "            \"InChI\": \"InChI=1S/H3O4P/c1-5(2,3)4/h(H3,1,2,3,4)/p-2\",\n",
    "            \"molecular_weight(daltons)\": 95.979}\n",
    "\n",
    "cetch_model.add_metabolites(met)\n",
    "\n",
    "cetch_model.metabolites.get_by_id(met.id).formula = \"HO4P\""
   ]
  },
  {
   "cell_type": "code",
   "execution_count": 17,
   "id": "e056d37d-1bcb-4813-afa8-880a9601273d",
   "metadata": {},
   "outputs": [],
   "source": [
    "met = Metabolite(\"NADP\")\n",
    "met.name = \"NADP+\"\n",
    "met.formula = \"C21H25N7O17P3\"\n",
    "# met.charge = 0\n",
    "met.elements = {}\n",
    "met.annotation = {\"biocyc\": \"META:NADP\",\n",
    "            \"synonyms\": [\"coenzyme II\",\n",
    "                        \"triphosphopyridine nucleotide\",\n",
    "                        \"nicotinamide adenine dinucleotide phosphate\",\n",
    "                        \"NADP-oxidized\",\n",
    "                        \"NADP-ox\",\n",
    "                        \"TPN\",\n",
    "                        \"TPN+\",\n",
    "                        \"TPN-ox\",\n",
    "                        \"nicotinamide adenine dinucleotide-P\",\n",
    "                        \"NADP(+)\",\n",
    "                        \"NADP\",\n",
    "                        \"β-NADP+\"],\n",
    "            \"delta_G_f(kcal/mol)\": -563.64954,\n",
    "            \"inchikey\": \"XJLXINKUBYWONI-NNYOXOHSSA-K\",\n",
    "            \"InChI\": \"InChI=1S/C21H28N7O17P3/c22-17-12-19(25-7-24-17)28(8-26-12)21-16(44-46(33,34)35)14(30)11(43-21)6-41-48(38,39)45-47(36,37)40-5-10-13(29)15(31)20(42-10)27-3-1-2-9(4-27)18(23)32/h1-4,7-8,10-11,13-16,20-21,29-31H,5-6H2,(H7-,22,23,24,25,32,33,34,35,36,37,38,39)/p-3/t10-,11-,13-,14-,15-,16-,20-,21-/m1/s1\",\n",
    "            \"molecular_weight(daltons)\": 740.39}\n",
    "\n",
    "cetch_model.add_metabolites(met)\n",
    "\n",
    "cetch_model.metabolites.get_by_id(met.id).formula = \"C21H25N7O17P3\""
   ]
  },
  {
   "cell_type": "code",
   "execution_count": 18,
   "id": "83038bb7-72f6-4e0c-a731-a804f109f56e",
   "metadata": {},
   "outputs": [],
   "source": [
    "met = Metabolite(\"NADPH\")\n",
    "met.name = \"NADPH\"\n",
    "met.formula = \"C21H26N7O17P3\"\n",
    "# met.charge = 0\n",
    "met.elements = {}\n",
    "met.annotation = {\"biocyc\": \"META:NADPH\",\n",
    "            \"synonyms\": [\"reduced nicotinamide adenine dinucleotide phosphate\",\n",
    "                        \"NADPH2\",\n",
    "                        \"NADPH2\",\n",
    "                        \"dihydrotriphosphopyridine nucleotide\",\n",
    "                        \"reduced dihydrotriphosphopyridine nucleotide\",\n",
    "                        \"dihydronicotinamide adenine dinucleotide phosphate\",\n",
    "                        \"dihydronicotinamide adenine dinucleotide phosphate reduced\",\n",
    "                        \"reduced NADP\",\n",
    "                        \"NADP-red\",\n",
    "                        \"TPNH\",\n",
    "                        \"dihydronicotinamide adenine dinucleotide-P\",\n",
    "                        \"β-NADPH\",\n",
    "                        \"β-nicotinamide adenine dinucleotide phosphate, reduced\"],\n",
    "            \"delta_G_f(kcal/mol)\": -551.72284,\n",
    "            \"inchikey\": \"ACFIXJIJDZMPPO-NNYOXOHSSA-J\",\n",
    "            \"InChI\": \"InChI=1S/C21H30N7O17P3/c22-17-12-19(25-7-24-17)28(8-26-12)21-16(44-46(33,34)35)14(30)11(43-21)6-41-48(38,39)45-47(36,37)40-5-10-13(29)15(31)20(42-10)27-3-1-2-9(4-27)18(23)32/h1,3-4,7-8,10-11,13-16,20-21,29-31H,2,5-6H2,(H2,23,32)(H,36,37)(H,38,39)(H2,22,24,25)(H2,33,34,35)/p-4/t10-,11-,13-,14-,15-,16-,20-,21-/m1/s1\",\n",
    "            \"molecular_weight(daltons)\": 741.39}\n",
    "\n",
    "cetch_model.add_metabolites(met)\n",
    "\n",
    "cetch_model.metabolites.get_by_id(met.id).formula = \"C21H26N7O17P3\""
   ]
  },
  {
   "cell_type": "code",
   "execution_count": 19,
   "id": "3261c6ff-475d-48f9-b775-fa346709f092",
   "metadata": {},
   "outputs": [],
   "source": [
    "met = Metabolite(\"SUCC_S_ALD\")\n",
    "met.name = \"succinate semialdehyde\"\n",
    "met.formula = \"C4H5O3\"\n",
    "# met.charge = 0\n",
    "met.elements = {}\n",
    "met.annotation = {\"biocyc\": \"META:SUCC-S-ALD\",\n",
    "            \"synonyms\": [\"succinyl semialdehyde\",\n",
    "                        \"succ-S-ald\",\n",
    "                        \"succinic semialdehyde\"],\n",
    "            \"delta_G_f(kcal/mol)\": -59.216465,\n",
    "            \"inchikey\": \"UIUJIQZEACWQSV-UHFFFAOYSA-M\",\n",
    "            \"InChI\": \"InChI=1S/C4H6O3/c5-3-1-2-4(6)7/h3H,1-2H2,(H,6,7)/p-1\",\n",
    "            \"molecular_weight(daltons)\": 101.08}\n",
    "\n",
    "cetch_model.add_metabolites(met)\n",
    "\n",
    "cetch_model.metabolites.get_by_id(met.id).formula = \"C4H5O3\""
   ]
  },
  {
   "cell_type": "code",
   "execution_count": 20,
   "id": "748473ef-c7a0-498b-9e5c-4f66d1048593",
   "metadata": {},
   "outputs": [],
   "source": [
    "met = Metabolite(\"OXYGEN_MOLECULE\")\n",
    "met.name = \"dioxygen\"\n",
    "met.formula = \"O2\"\n",
    "# met.charge = 0\n",
    "met.elements = {}\n",
    "met.annotation = {\"biocyc\": \"META:OXYGEN-MOLECULE\",\n",
    "            \"synonyms\": [\"oxygen molecule\",\n",
    "                        \"molecular oxygen\",\n",
    "                        \"oxygen\"],\n",
    "            \"delta_G_f(kcal/mol)\": 3.92,\n",
    "            \"inchikey\": \"MYMOFIZGZYHOMD-UHFFFAOYSA-N\",\n",
    "            \"InChI\": \"InChI=1S/O2/c1-2\",\n",
    "            \"molecular_weight(daltons)\": 31.999}\n",
    "\n",
    "cetch_model.add_metabolites(met)\n",
    "\n",
    "cetch_model.metabolites.get_by_id(met.id).formula = \"O2\""
   ]
  },
  {
   "cell_type": "code",
   "execution_count": 21,
   "id": "48f13b75-ab29-42ba-ab74-6550986e748d",
   "metadata": {},
   "outputs": [],
   "source": [
    "met = Metabolite(\"CPD_9407\")\n",
    "met.name = \"(2S)-methylsuccinyl-CoA\"\n",
    "met.formula = \"C26H37N7O19P3S\"\n",
    "# met.charge = 0\n",
    "met.elements = {}\n",
    "met.annotation = {\"biocyc\": \"META: CPD-9407\",\n",
    "            \"synonyms\": [],\n",
    "            \"delta_G_f(kcal/mol)\": -555.2591,\n",
    "            \"inchikey\": \"OUFHQHVVFSERRI-VKBDFPRVSA-I\",\n",
    "            \"InChI\": \"InChI=1S/C26H42N7O19P3S/c1-13(8-16(35)36)25(40)56-7-6-28-15(34)4-5-29-23(39)20(38)26(2,3)10-49-55(46,47)52-54(44,45)48-9-14-19(51-53(41,42)43)18(37)24(50-14)33-12-32-17-21(27)30-11-31-22(17)33/h11-14,18-20,24,37-38H,4-10H2,1-3H3,(H,28,34)(H,29,39)(H,35,36)(H,44,45)(H,46,47)(H2,27,30,31)(H2,41,42,43)/p-5/t13-,14+,18+,19+,20-,24+/m0/s1\",\n",
    "            \"molecular_weight(daltons)\": 876.6}\n",
    "\n",
    "cetch_model.add_metabolites(met)\n",
    "\n",
    "cetch_model.metabolites.get_by_id(met.id).formula = \"C26H37N7O19P3S\""
   ]
  },
  {
   "cell_type": "code",
   "execution_count": 22,
   "id": "ab0bd2df-f564-4b71-857f-75413075fd67",
   "metadata": {},
   "outputs": [],
   "source": [
    "met = Metabolite(\"CPD_9408\")\n",
    "met.name = \"2-methylfumaryl-CoA\"\n",
    "met.formula = \"C26H35N7O19P3S\"\n",
    "# met.charge = 0\n",
    "met.elements = {}\n",
    "met.annotation = {\"biocyc\": \"META:CPD-9408\",\n",
    "            \"synonyms\": [\"mesaconyl-C1-CoA\",\n",
    "                        \"(E)-3-carboxy-2-methylprop-2-enoyl-CoA\"],\n",
    "            \"delta_G_f(kcal/mol)\": -557.10126,\n",
    "            \"inchikey\": \"LVBVWNJPMXCQJE-CBBDEUQJSA-I\",\n",
    "            \"InChI\": \"InChI=1S/C26H40N7O19P3S/c1-13(8-16(35)36)25(40)56-7-6-28-15(34)4-5-29-23(39)20(38)26(2,3)10-49-55(46,47)52-54(44,45)48-9-14-19(51-53(41,42)43)18(37)24(50-14)33-12-32-17-21(27)30-11-31-22(17)33/h8,11-12,14,18-20,24,37-38H,4-7,9-10H2,1-3H3,(H,28,34)(H,29,39)(H,35,36)(H,44,45)(H,46,47)(H2,27,30,31)(H2,41,42,43)/p-5/b13-8+/t14-,18-,19-,20+,24-/m1/s1\",\n",
    "            \"molecular_weight(daltons)\": 874.58}\n",
    "\n",
    "cetch_model.add_metabolites(met)\n",
    "\n",
    "cetch_model.metabolites.get_by_id(met.id).formula = \"C26H35N7O19P3S\""
   ]
  },
  {
   "cell_type": "code",
   "execution_count": 23,
   "id": "0ba9431d-2d48-49be-82f8-a0a8077fe9d2",
   "metadata": {},
   "outputs": [],
   "source": [
    "met = Metabolite(\"HYDROGEN_PEROXIDE\")\n",
    "met.name = \"hydrogen peroxide\"\n",
    "met.formula = \"H2O2\"\n",
    "# met.charge = 0\n",
    "met.elements = {}\n",
    "met.annotation = {\"biocyc\": \"META:HYDROGEN-PEROXIDE\",\n",
    "            \"synonyms\": [\"hydroperoxide\",\n",
    "                        \"perhydrol\",\n",
    "                        \"H2O2\"],\n",
    "            \"delta_G_f(kcal/mol)\": -11.457759,\n",
    "            \"inchikey\": \"MHAJPDPJQMAIIY-UHFFFAOYSA-N\",\n",
    "            \"InChI\": \"InChI=1S/H2O2/c1-2/h1-2H\",\n",
    "            \"molecular_weight(daltons)\": 34.015}\n",
    "\n",
    "cetch_model.add_metabolites(met)\n",
    "\n",
    "cetch_model.metabolites.get_by_id(met.id).formula = \"H2O2\""
   ]
  },
  {
   "cell_type": "code",
   "execution_count": 24,
   "id": "95d116c3-5c78-49ed-8c28-d8ee49c2a2b9",
   "metadata": {},
   "outputs": [],
   "source": [
    "met = Metabolite(\"PROPIONYL_COA\")\n",
    "met.name = \"propanoyl-CoA\"\n",
    "met.formula = \"C24H36N7O17P3S\"\n",
    "# met.charge = 0\n",
    "met.elements = {}\n",
    "met.annotation = {\"biocyc\": \"META:PROPIONYL-COA\",\n",
    "            \"synonyms\": [\"n-propionyl-CoA\",\n",
    "                        \"propionyl-CoA\"\n",
    "                        \"propionyl-coenzyme A\"],\n",
    "            \"delta_G_f(kcal/mol)\": -484.70157,\n",
    "            \"inchikey\": \"QAQREVBBADEHPA-IEXPHMLFSA-J\",\n",
    "            \"InChI\": \"InChI=1S/C24H40N7O17P3S/c1-4-15(33)52-8-7-26-14(32)5-6-27-22(36)19(35)24(2,3)10-45-51(42,43)48-50(40,41)44-9-13-18(47-49(37,38)39)17(34)23(46-13)31-12-30-16-20(25)28-11-29-21(16)31/h11-13,17-19,23,34-35H,4-10H2,1-3H3,(H,26,32)(H,27,36)(H,40,41)(H,42,43)(H2,25,28,29)(H2,37,38,39)/p-4/t13-,17-,18-,19+,23-/m1/s1\",\n",
    "            \"molecular_weight(daltons)\": 819.57}\n",
    "\n",
    "cetch_model.add_metabolites(met)\n",
    "\n",
    "cetch_model.metabolites.get_by_id(met.id).formula = \"C24H36N7O17P3S\""
   ]
  },
  {
   "cell_type": "code",
   "execution_count": 25,
   "id": "99014b49-d1d3-4d6c-89ad-dd5a554c6e2d",
   "metadata": {},
   "outputs": [],
   "source": [
    "met = Metabolite(\"ACRYLYL_COA\")\n",
    "met.name = \"acryloyl-CoA\"\n",
    "met.formula = \"C24H34N7O17P3S\"\n",
    "# met.charge = 0\n",
    "met.elements = {}\n",
    "met.annotation = {\"biocyc\": \"META:ACRYLYL-COA\",\n",
    "            \"synonyms\": [\"acrylyl-coenzyme A\",\n",
    "                        \"propenoyl-CoA\",\n",
    "                        \"acrylyl-CoA\"],\n",
    "            \"delta_G_f(kcal/mol)\": -485.0938,\n",
    "            \"inchikey\": \"POODSGUMUCVRTR-IEXPHMLFSA-J\",\n",
    "            \"InChI\": \"InChI=1S/C24H38N7O17P3S/c1-4-15(33)52-8-7-26-14(32)5-6-27-22(36)19(35)24(2,3)10-45-51(42,43)48-50(40,41)44-9-13-18(47-49(37,38)39)17(34)23(46-13)31-12-30-16-20(25)28-11-29-21(16)31/h4,11-13,17-19,23,34-35H,1,5-10H2,2-3H3,(H,26,32)(H,27,36)(H,40,41)(H,42,43)(H2,25,28,29)(H2,37,38,39)/p-4/t13-,17-,18-,19+,23-/m1/s1\",\n",
    "            \"molecular_weight(daltons)\": 817.55}\n",
    "\n",
    "cetch_model.add_metabolites(met)\n",
    "\n",
    "cetch_model.metabolites.get_by_id(met.id).formula = \"C24H34N7O17P3S\""
   ]
  },
  {
   "cell_type": "code",
   "execution_count": 26,
   "id": "a454bd9c-84d6-44e4-b486-0e5f0b839f8c",
   "metadata": {},
   "outputs": [],
   "source": [
    "met = Metabolite(\"CPD_9406\")\n",
    "met.name = \"(2S)-ethylmalonyl-CoA\"\n",
    "met.formula = \"C26H37N7O19P3S\"\n",
    "# met.charge = 0\n",
    "met.elements = {}\n",
    "met.annotation = {\"biocyc\": \"META:CPD-9406\",\n",
    "            \"synonyms\": [\"(S)-ethylmalonyl-CoA\"],\n",
    "            \"delta_G_f(kcal/mol)\": -555.2591,\n",
    "            \"inchikey\": \"VUGZQVCBBBEZQE-UQCJFRAESA-I\",\n",
    "            \"InChI\": \"InChI=1S/C26H42N7O19P3S/c1-4-13(24(38)39)25(40)56-8-7-28-15(34)5-6-29-22(37)19(36)26(2,3)10-49-55(46,47)52-54(44,45)48-9-14-18(51-53(41,42)43)17(35)23(50-14)33-12-32-16-20(27)30-11-31-21(16)33/h11-14,17-19,23,35-36H,4-10H2,1-3H3,(H,28,34)(H,29,37)(H,38,39)(H,44,45)(H,46,47)(H2,27,30,31)(H2,41,42,43)/p-5/t13-,14+,17+,18+,19-,23+/m0/s1\",\n",
    "            \"molecular_weight(daltons)\": 876.6}\n",
    "\n",
    "cetch_model.add_metabolites(met)\n",
    "\n",
    "cetch_model.metabolites.get_by_id(met.id).formula = \"C26H37N7O19P3S\""
   ]
  },
  {
   "cell_type": "code",
   "execution_count": 27,
   "id": "ffbd51ec-b6c6-457d-a826-0835d998aca8",
   "metadata": {},
   "outputs": [],
   "source": [
    "met = Metabolite(\"CROTONYL_COA\")\n",
    "met.name = \"crotonyl-CoA\"\n",
    "met.formula = \"C25H36N7O17P3S\"\n",
    "# met.charge = 0\n",
    "met.elements = {}\n",
    "met.annotation = {\"biocyc\": \"META:CROTONYL-COA\",\n",
    "            \"synonyms\": [\"crotonyl-S-CoA\",\n",
    "                        \"crotonyl-coenzyme A\",\n",
    "                        \"crotonoyl-CoA\",\n",
    "                        \"2-butenoyl-CoA\",\n",
    "                        \"trans-but-2-enoyl-CoA\",\n",
    "                        \"but-2-enoyl-CoA\",\n",
    "                        \"trans-butyr-2-enoyl-CoA\",\n",
    "                        \"(E)-but-2-enoyl-CoA\"],\n",
    "            \"delta_G_f(kcal/mol)\": -462.27164,\n",
    "            \"inchikey\": \"KFWWCMJSYSSPSK-PAXLJYGASA-J\",\n",
    "            \"InChI\": \" InChI=1S/C25H40N7O17P3S/c1-4-5-16(34)53-9-8-27-15(33)6-7-28-23(37)20(36)25(2,3)11-46-52(43,44)49-51(41,42)45-10-14-19(48-50(38,39)40)18(35)24(47-14)32-13-31-17-21(26)29-12-30-22(17)32/h4-5,12-14,18-20,24,35-36H,6-11H2,1-3H3,(H,27,33)(H,28,37)(H,41,42)(H,43,44)(H2,26,29,30)(H2,38,39,40)/p-4/b5-4+/t14-,18-,19-,20+,24-/m1/s1\",\n",
    "            \"molecular_weight(daltons)\": 831.58}\n",
    "\n",
    "cetch_model.add_metabolites(met)\n",
    "\n",
    "cetch_model.metabolites.get_by_id(met.id).formula = \"C25H36N7O17P3S\""
   ]
  },
  {
   "cell_type": "code",
   "execution_count": 28,
   "id": "00f99245-51f2-41b8-8cb1-a9bb30ca509c",
   "metadata": {},
   "outputs": [],
   "source": [
    "met = Metabolite(\"CARBON_DIOXIDE\")\n",
    "met.name = \"CO2\"\n",
    "met.formula = \"CO2\"\n",
    "# met.charge = 0\n",
    "met.elements = {}\n",
    "met.annotation = {\"biocyc\": \"META: CARBON-DIOXIDE\",\n",
    "            \"synonyms\": [\"carbonic anhydride\",\n",
    "                        \"carbonic acid gas\",\n",
    "                        \"carbon dioxide\"],\n",
    "            \"delta_G_f(kcal/mol)\": -92.26,\n",
    "            \"inchikey\": \"CURLTUGMZLYLDI-UHFFFAOYSA-N\",\n",
    "            \"InChI\": \"InChI=1S/CO2/c2-1-3\",\n",
    "            \"molecular_weight(daltons)\": 44.01}\n",
    "\n",
    "cetch_model.add_metabolites(met)\n",
    "\n",
    "cetch_model.metabolites.get_by_id(met.id).formula = \"CO2\""
   ]
  },
  {
   "cell_type": "code",
   "execution_count": 29,
   "id": "6878032a-cf22-41ce-9679-2120a55a40b9",
   "metadata": {},
   "outputs": [],
   "source": [
    "met = Metabolite(\"CPD_17635\")\n",
    "met.name = \"(2R)-ethylmalonyl-CoA\"\n",
    "met.formula = \"C26H37N7O19P3S\"\n",
    "# met.charge = 0\n",
    "met.elements = {}\n",
    "met.annotation = {\"biocyc\": \"META:CPD-17635\",\n",
    "            \"synonyms\": [\"(R)-ethylmalonyl-CoA\"],\n",
    "            \"delta_G_f(kcal/mol)\": -555.2591,\n",
    "            \"inchikey\": \"VUGZQVCBBBEZQE-XGVFZYDCSA-I\",\n",
    "            \"InChI\": \"InChI=1S/C26H42N7O19P3S/c1-4-13(24(38)39)25(40)56-8-7-28-15(34)5-6-29-22(37)19(36)26(2,3)10-49-55(46,47)52-54(44,45)48-9-14-18(51-53(41,42)43)17(35)23(50-14)33-12-32-16-20(27)30-11-31-21(16)33/h11-14,17-19,23,35-36H,4-10H2,1-3H3,(H,28,34)(H,29,37)(H,38,39)(H,44,45)(H,46,47)(H2,27,30,31)(H2,41,42,43)/p-5/t13-,14-,17-,18-,19+,23-/m1/s1\",\n",
    "            \"molecular_weight(daltons)\": 876.6}\n",
    "\n",
    "cetch_model.add_metabolites(met)\n",
    "\n",
    "cetch_model.metabolites.get_by_id(met.id).formula = \"C26H37N7O19P3S\""
   ]
  },
  {
   "cell_type": "code",
   "execution_count": 30,
   "id": "c84f1e35-6f45-4fa3-a485-77b1c1cb3122",
   "metadata": {},
   "outputs": [],
   "source": [
    "met = Metabolite(\"CPD_9409\")\n",
    "met.name = \"(2R,3S)-β-methylmalyl-CoA\"\n",
    "met.formula = \"C26H37N7O20P3S\"\n",
    "# met.charge = 0\n",
    "met.elements = {}\n",
    "met.annotation = {\"biocyc\": \"META:CPD-9409\",\n",
    "            \"synonyms\": [\"erythro-β-methylmalyl-CoA\"],\n",
    "            \"delta_G_f(kcal/mol)\": -593.2991,\n",
    "            \"inchikey\": \"OTENCPQKSBPYCM-GQCNFOOOSA-I\",\n",
    "            \"InChI\": \"InChI=1S/C26H42N7O20P3S/c1-12(16(35)24(39)40)25(41)57-7-6-28-14(34)4-5-29-22(38)19(37)26(2,3)9-50-56(47,48)53-55(45,46)49-8-13-18(52-54(42,43)44)17(36)23(51-13)33-11-32-15-20(27)30-10-31-21(15)33/h10-13,16-19,23,35-37H,4-9H2,1-3H3,(H,28,34)(H,29,38)(H,39,40)(H,45,46)(H,47,48)(H2,27,30,31)(H2,42,43,44)/p-5/t12-,13-,16+,17-,18-,19+,23-/m1/s1\",\n",
    "            \"molecular_weight(daltons)\": 892.59}\n",
    "\n",
    "cetch_model.add_metabolites(met)\n",
    "\n",
    "cetch_model.metabolites.get_by_id(met.id).formula = \"C26H37N7O20P3S\""
   ]
  },
  {
   "cell_type": "code",
   "execution_count": 31,
   "id": "0979729b-abe8-4587-81c1-f97adb69f929",
   "metadata": {},
   "outputs": [],
   "source": [
    "met = Metabolite(\"METHYL_MALONYL_COA\")\n",
    "met.name = \"(R)-methylmalonyl-CoA\"\n",
    "met.formula = \"C25H35N7O19P3S\"\n",
    "# met.charge = 0\n",
    "met.elements = {}\n",
    "met.annotation = {\"biocyc\": \"META: METHYL-MALONYL-COA\",\n",
    "            \"synonyms\": [\"L-methylmalonyl-CoA\",\n",
    "                        \"methylmalonyl-CoA\",\n",
    "                        \"methyl-malonyl-coenzyme A\",\n",
    "                        \"CH3-malonyl-CoA\"],\n",
    "            \"delta_G_f(kcal/mol)\": -577.42126,\n",
    "            \"inchikey\": \"MZFOKIKEPGUZEN-AGCMQPJKSA-I\",\n",
    "            \"InChI\": \"InChI=1S/C25H40N7O19P3S/c1-12(23(37)38)24(39)55-7-6-27-14(33)4-5-28-21(36)18(35)25(2,3)9-48-54(45,46)51-53(43,44)47-8-13-17(50-52(40,41)42)16(34)22(49-13)32-11-31-15-19(26)29-10-30-20(15)32/h10-13,16-18,22,34-35H,4-9H2,1-3H3,(H,27,33)(H,28,36)(H,37,38)(H,43,44)(H,45,46)(H2,26,29,30)(H2,40,41,42)/p-5/t12-,13-,16-,17-,18+,22-/m1/s1\",\n",
    "            \"molecular_weight(daltons)\": 862.57}\n",
    "\n",
    "cetch_model.add_metabolites(met)\n",
    "\n",
    "cetch_model.metabolites.get_by_id(met.id).formula = \"C25H35N7O19P3S\""
   ]
  },
  {
   "cell_type": "code",
   "execution_count": 32,
   "id": "8b3307e1-8cea-4824-885d-04cfd71fb07f",
   "metadata": {},
   "outputs": [],
   "source": [
    "met = Metabolite(\"SUC_COA\")\n",
    "met.name = \"succinyl-CoA\"\n",
    "# met.charge = 0\n",
    "met.elements = {}\n",
    "met.annotation = {\"biocyc\": \"META:SUC-COA\",\n",
    "            \"synonyms\": [\"succ-coenzyme-A\",\n",
    "                        \"succ-S-coenzyme-A\",\n",
    "                        \"succinyl-S-coenzyme-A\",\n",
    "                        \"succ-S-CoA\",\n",
    "                        \"succinylcoenzyme-A\",\n",
    "                        \"succ-CoA\",\n",
    "                        \"suc-CoA\",\n",
    "                        \"succinyl-S-CoA\",\n",
    "                        \"succinyl-coenzyme A\"],\n",
    "            \"delta_G_f(kcal/mol)\": -575.61127,\n",
    "            \"inchikey\": \"VNOYUJKHFWYWIR-ITIYDSSPSA-I\",\n",
    "            \"InChI\": \" InChI=1S/C25H40N7O19P3S/c1-25(2,20(38)23(39)28-6-5-14(33)27-7-8-55-16(36)4-3-15(34)35)10-48-54(45,46)51-53(43,44)47-9-13-19(50-52(40,41)42)18(37)24(49-13)32-12-31-17-21(26)29-11-30-22(17)32/h11-13,18-20,24,37-38H,3-10H2,1-2H3,(H,27,33)(H,28,39)(H,34,35)(H,43,44)(H,45,46)(H2,26,29,30)(H2,40,41,42)/p-5/t13-,18-,19-,20+,24-/m1/s1\",\n",
    "            \"molecular_weight(daltons)\": 862.57}\n",
    "\n",
    "cetch_model.add_metabolites(met)\n",
    "\n",
    "cetch_model.metabolites.get_by_id(met.id).formula = \"C25H35N7O19P3S\""
   ]
  },
  {
   "cell_type": "code",
   "execution_count": 33,
   "id": "9c417f15-6654-41c3-841f-22ce2ff8c7b3",
   "metadata": {},
   "outputs": [],
   "source": [
    "met = Metabolite(\"CPD_226\")\n",
    "met.name = \"vinylacetyl-CoA\"\n",
    "# met.charge = 0met.\n",
    "\n",
    "met.elements = {}\n",
    "met.annotation = {\"biocyc\": \"META:CPD-226\",\n",
    "            \"synonyms\": [\"3-butenoyl-CoA\",\"but-3-enoyl-CoA\"],\n",
    "            \"delta_G_f(kcal/mol)\": -461.3816,\n",
    "            \"inchikey\": \"UATIGEHITDTAGF-CITAKDKDSA-J\",\n",
    "            \"InChI\": \" InChI=1S/C25H40N7O17P3S/c1-4-5-16(34)53-9-8-27-15(33)6-7-28-23(37)20(36)25(2,3)11-46-52(43,44)49-51(41,42)45-10-14-19(48-50(38,39)40)18(35)24(47-14)32-13-31-17-21(26)29-12-30-22(17)32/h4,12-14,18-20,24,35-36H,1,5-11H2,2-3H3,(H,27,33)(H,28,37)(H,41,42)(H,43,44)(H2,26,29,30)(H2,38,39,40)/p-4/t14-,18-,19-,20+,24-/m1/s1\",\n",
    "            \"molecular_weight(daltons)\": 831.58}\n",
    "\n",
    "cetch_model.add_metabolites(met)\n",
    "\n",
    "cetch_model.metabolites.get_by_id(met.id).formula = \"C25H36N7O17P3S\""
   ]
  },
  {
   "cell_type": "code",
   "execution_count": 34,
   "id": "b9b2fd03-d06d-42e8-aab2-ccd14588cfca",
   "metadata": {},
   "outputs": [],
   "source": [
    "# for met in cetch_model.metabolites:\n",
    "    #separate formula into elements"
   ]
  },
  {
   "cell_type": "code",
   "execution_count": 35,
   "id": "9cd9f31e-5242-4a4f-a2ed-62f556964bd7",
   "metadata": {},
   "outputs": [
    {
     "data": {
      "text/plain": [
       "{}"
      ]
     },
     "execution_count": 35,
     "metadata": {},
     "output_type": "execute_result"
    }
   ],
   "source": [
    "cetch_model.metabolites.CPD_226.notes"
   ]
  },
  {
   "cell_type": "code",
   "execution_count": 36,
   "id": "812cf4bd-c179-4992-9ce9-a7fe3a9542df",
   "metadata": {},
   "outputs": [],
   "source": [
    "model = cetch_model.copy()"
   ]
  },
  {
   "cell_type": "markdown",
   "id": "6bbf2c2a",
   "metadata": {},
   "source": [
    "### defining reactions of the CETCH cycle"
   ]
  },
  {
   "cell_type": "code",
   "execution_count": 37,
   "id": "f0e39117-6ac8-436e-8f73-853ef7036698",
   "metadata": {},
   "outputs": [],
   "source": [
    "rxn = Reaction(\"MALSYN_RXN\")\n",
    "rxn.name = \"malate synthase\"\n",
    "rxn.add_metabolites({model.metabolites.ACETYL_COA : -1,\n",
    "                    model.metabolites.GLYOX : -1,\n",
    "                    model.metabolites.WATER : -1,\n",
    "                    model.metabolites.MAL : 1,\n",
    "                    model.metabolites.CO_A : 1,\n",
    "                    model.metabolites.PROTON : 1})\n",
    "rxn.upper_bound = 1000\n",
    "rxn.lower_bound = 0\n",
    "rxn.annotation = {\"ec-code\": \"2.3.3.9\",\n",
    "             \"biocyc\": \"META:MALSYN-RXN\",\n",
    "             \"delta_G_r\": -9.251221,\n",
    "             \"Enzyme Commission Summary\": \"The enzyme catalyses the irreversible condensation of acetyl-CoA with glyoxylate to form (S)-malate. Among other functions, the enzyme participates in the glyoxylate cycle, a modified version of the TCA cycle that bypasses steps that lead to a loss of CO2.\"}\n",
    "cetch_model.add_reactions([rxn])"
   ]
  },
  {
   "cell_type": "code",
   "execution_count": 38,
   "id": "e02a5109-7d72-457a-b429-b063b5614448",
   "metadata": {
    "tags": []
   },
   "outputs": [],
   "source": [
    "rxn = Reaction(\"RXN_8961\")\n",
    "rxn.name = \"malyl-CoA lyase\"\n",
    "rxn.add_metabolites({model.metabolites.CPD_9409 : -1,\n",
    "                    model.metabolites.GLYOX : 1,\n",
    "                    model.metabolites.PROPIONYL_COA : 1})\n",
    "rxn.upper_bound = 1000\n",
    "rxn.lower_bound = -1000\n",
    "rxn.annotation = {\"ec-code\": \"4.1.3.24\",\n",
    "             \"biocyc\": \"META:RXN-8961\",\n",
    "             \"delta_G_r\": 6.5565796,\n",
    "             \"Enzyme Commission Summary\": \"The enzymes from Rhodobacter species catalyze a step in the ethylmalonyl-CoA pathway for acetate assimilation [Meister05, Erb10]. The enzyme from halophilic bacteria participate in the methylaspartate cycle and catalyze the reaction in the direction of malyl-CoA formation [Borjian17]. The enzyme from the bacterium Chloroflexus aurantiacus, which participates in the 3-hydroxypropanoate cycle for carbon assimilation, also has the activity of EC 4.1.3.25, (S)-citramalyl-CoA lyase [Herter02, Friedmann07].\"}\n",
    "cetch_model.add_reactions([rxn])"
   ]
  },
  {
   "cell_type": "code",
   "execution_count": 39,
   "id": "2cb2eddc-765b-428c-b632-21453a44af9a",
   "metadata": {
    "tags": []
   },
   "outputs": [],
   "source": [
    "rxn = Reaction(\"RXN_15977\")\n",
    "rxn.name = \"acyl-CoA oxidase\"\n",
    "rxn.add_metabolites({model.metabolites.PROPIONYL_COA : -1,\n",
    "                    model.metabolites.OXYGEN_MOLECULE : -1,\n",
    "                    model.metabolites.ACRYLYL_COA : 1,\n",
    "                    model.metabolites.HYDROGEN_PEROXIDE : 1})\n",
    "rxn.upper_bound = 1000\n",
    "rxn.lower_bound = -1000\n",
    "rxn.annotation = {\"ec-code\": \"1.3.3.6\",\n",
    "             \"biocyc\": \"META:RXN-15977\",\n",
    "             \"delta_G_r\": -15.77002,\n",
    "             \"Enzyme Commission Summary\": \"A flavoprotein (FAD). Acts on CoA derivatives of fatty acids with chain lengths from 8 to 18.\"}\n",
    "cetch_model.add_reactions([rxn])"
   ]
  },
  {
   "cell_type": "code",
   "execution_count": 40,
   "id": "ac098ac3-6b7d-49d8-859a-87f5067f14a7",
   "metadata": {
    "tags": []
   },
   "outputs": [],
   "source": [
    "rxn = Reaction(\"RXN_18384\")\n",
    "rxn.name = \"crotonyl-CoA carboxylase/reductase\"\n",
    "rxn.add_metabolites({model.metabolites.METHYL_MALONYL_COA : 1,\n",
    "                    model.metabolites.NADP : 1,\n",
    "                    model.metabolites.ACRYLYL_COA : -1,\n",
    "                    model.metabolites.CARBON_DIOXIDE : -1,\n",
    "                    model.metabolites.NADPH : -1})\n",
    "rxn.upper_bound = 1000\n",
    "rxn.lower_bound = -1000\n",
    "rxn.annotation = {\"ec-code\": \"1.3.1.85\",\n",
    "             \"biocyc\": \"META:RXN-18384\",\n",
    "             \"delta_G_r\": 11.994141,\n",
    "             \"Enzyme Commission Summary\": \"The reaction is catalysed in the reverse direction. This enzyme, isolated from the bacterium Rhodobacter sphaeroides, catalyses E)-but-2-enoyl-CoA-dependent oxidation of NADPH in the presence of CO2. When CO2 is absent, the enzyme catalyses the reduction of E)-but-2-enoyl-CoA to butanoyl-CoA, but with only 10% of maximal activity relative to E)-but-2-enoyl-CoA carboxylation (c.f. EC 1.3.1.86, crotonyl-CoA reductase).\"}\n",
    "cetch_model.add_reactions([rxn])"
   ]
  },
  {
   "cell_type": "code",
   "execution_count": 41,
   "id": "fadd7861-0051-4997-8ab5-1b3ca09ea8c2",
   "metadata": {
    "tags": []
   },
   "outputs": [],
   "source": [
    "rxn = Reaction(\"METHYLMALONYL_COA_MUT_RXN\")\n",
    "rxn.name = \"methylmalonyl-CoA mutase\"\n",
    "rxn.add_metabolites({model.metabolites.METHYL_MALONYL_COA : -1,\n",
    "                    model.metabolites.SUC_COA : 1})\n",
    "rxn.upper_bound = 1000\n",
    "rxn.lower_bound = -1000\n",
    "rxn.annotation = {\"ec-code\": \"5.4.99.2\",\n",
    "             \"biocyc\": \"META:METHYLMALONYL-COA-MUT-RXN\",\n",
    "             \"delta_G_r\": 1.81,\n",
    "             \"Enzyme Commission Summary\": \"Requires a cobamide coenzyme.\"}\n",
    "cetch_model.add_reactions([rxn])"
   ]
  },
  {
   "cell_type": "code",
   "execution_count": 42,
   "id": "94c65fc5-a049-4e2d-aa05-eb524a92b399",
   "metadata": {
    "tags": []
   },
   "outputs": [],
   "source": [
    "rxn = Reaction(\"RXN_8891\")\n",
    "rxn.name = \"succinate-semialdehyde dehydrogenase (acylating)\"\n",
    "rxn.add_metabolites({model.metabolites.SUCC_S_ALD : -1,\n",
    "                    model.metabolites.CO_A : -1,\n",
    "                    model.metabolites.NADP : -1,\n",
    "                    model.metabolites.SUC_COA : 1,\n",
    "                    model.metabolites.NADPH : 1,\n",
    "                    model.metabolites.PROTON : 1})\n",
    "rxn.upper_bound = 1000\n",
    "rxn.lower_bound = -1000\n",
    "rxn.annotation = {\"ec-code\": \"1.2.1.76\",\n",
    "             \"biocyc\": \"META:RXN-8891\",\n",
    "             \"delta_G_r\": -10.4729,\n",
    "             \"Enzyme Commission Summary\": \"Catalyses the NADPH-dependent reduction of succinyl-CoA to succinate semialdehyde. The enzyme has been described in Clostridium kluyveri, where it participates in succinate fermentation [Sohling93], and in Metallosphaera sedula, where it participates in the 3-hydroxypropionate/4-hydroxybutyrate cycle, an autotrophic CO2 fixation pathway found in some thermoacidophilic archaea [Alber06a, Berg07].\"}\n",
    "cetch_model.add_reactions([rxn])"
   ]
  },
  {
   "cell_type": "code",
   "execution_count": 43,
   "id": "8c0ac447-b110-401a-890a-bf092a16f939",
   "metadata": {},
   "outputs": [],
   "source": [
    "rxn = Reaction(\"RXN_11002\")\n",
    "rxn.name = \"succinate semialdehyde reductase (NADPH)\"\n",
    "rxn.add_metabolites({model.metabolites.get_by_id(\"4_HYDROXY_BUTYRATE\"): 1,\n",
    "                    model.metabolites.NADP : 1,\n",
    "                    model.metabolites.SUCC_S_ALD : -1,\n",
    "                    model.metabolites.NADPH : -1,\n",
    "                    model.metabolites.PROTON : -1})\n",
    "rxn.upper_bound = 1000\n",
    "rxn.lower_bound = -1000\n",
    "rxn.annotation = {\"ec-code\": \"1.1.1.co\",\n",
    "             \"biocyc\": \"META:RXN-11002\",\n",
    "             \"delta_G_r\": 1.2935181,\n",
    "             \"Enzyme Commission Summary\": \"The reduction of succinate semialdehyde with NADPH to 4-hydroxybutanoate is part of the 3-hydroxypropanoate/4-hydroxybutanate cycle, an autotrophic CO2 fixation pathway found in some thermoacidophilic archaea such as Metallosphaera sedula. A zinc protein.\"}\n",
    "cetch_model.add_reactions([rxn])"
   ]
  },
  {
   "cell_type": "code",
   "execution_count": 44,
   "id": "b66fa267-7661-4f04-a3db-8feb741be3ec",
   "metadata": {},
   "outputs": [],
   "source": [
    "rxn = Reaction(\"RXN_18387\")\n",
    "rxn.name = \"4-hydroxybutyrate—CoA ligase\"\n",
    "rxn.add_metabolites({model.metabolites.get_by_id(\"4_HYDROXY_BUTYRATE\"): -1,\n",
    "                    model.metabolites.ATP : -1,\n",
    "                    model.metabolites.CO_A : -1,\n",
    "                    model.metabolites.ADP : 1,\n",
    "                    model.metabolites.get_by_id(\"4_HYDROXY_BUTYRYL_COA\") : 1,\n",
    "                    model.metabolites.Pi : 1})\n",
    "rxn.upper_bound = 1000\n",
    "rxn.lower_bound = -1000\n",
    "rxn.annotation = {\"ec-code\": \"6.2.1.56\",\n",
    "             \"biocyc\": \"META:RXN-18387\",\n",
    "             \"delta_G_r\": -1.2216797,\n",
    "             \"Enzyme Commission Summary\": \"(ADP-forming) The enzyme, characterized from the marine ammonia-oxidizing archaeon Nitrosopumilus maritimus, participates in a variant of the 3-hydroxypropanoate/4-hydroxybutanate CO2 fixation cycle. cf EC 6.2.1.40, 4-hydroxybutyrate—CoA ligase (AMP-forming).\"}\n",
    "cetch_model.add_reactions([rxn])"
   ]
  },
  {
   "cell_type": "code",
   "execution_count": 45,
   "id": "73fcad35-f26a-4a57-8f16-bd270a9ec4f9",
   "metadata": {
    "tags": []
   },
   "outputs": [],
   "source": [
    "rxn = Reaction(\"RXN_8890\")\n",
    "rxn.name = \"\"\n",
    "rxn.add_metabolites({model.metabolites.get_by_id(\"4_HYDROXY_BUTYRYL_COA\") : -1,\n",
    "                    model.metabolites.CROTONYL_COA : 1,\n",
    "                    model.metabolites.WATER : 1})\n",
    "rxn.upper_bound = 1000\n",
    "rxn.lower_bound = -1000\n",
    "rxn.annotation = {\"ec-code\": \"4.2.1.120\",\n",
    "             \"biocyc\": \"META:RXN-8890\",\n",
    "             \"delta_G_r\": 0.3529663,\n",
    "             \"Enzyme Commission Summary\": \"Contains FAD and a [4Fe-4S] iron-sulfur cluster. The enzyme has been characterized from several microorganisms, including Clostridium kluyveri, where it participates in succinate fermentation [Bartsch61, Scherf94], Clostridium aminobutyricum, where it participates in 4-aminobutanoate degradation [Scherf93, Muh96], and Metallosphaera sedula, where it participates in the 3-hydroxypropanoate/4-hydroxybutanate cycle, an autotrophic CO2 fixation pathway found in some thermoacidophilic archaea [Berg07].\"}\n",
    "cetch_model.add_reactions([rxn])"
   ]
  },
  {
   "cell_type": "code",
   "execution_count": 46,
   "id": "d50e3e79-a328-428d-b7ec-a821c708921e",
   "metadata": {
    "tags": []
   },
   "outputs": [],
   "source": [
    "rxn = Reaction(\"RXN_8957\")\n",
    "rxn.name = \"crotonyl-CoA carboxylase/reductase\"\n",
    "rxn.add_metabolites({model.metabolites.CPD_9406 : 1,\n",
    "                    model.metabolites.NADP : 1,\n",
    "                    model.metabolites.CROTONYL_COA : -1,\n",
    "                    model.metabolites.NADPH : -1,\n",
    "                    model.metabolites.CARBON_DIOXIDE : -1})\n",
    "rxn.upper_bound = 1000\n",
    "rxn.lower_bound = -1000\n",
    "rxn.annotation = {\"ec-code\": \"1.3.1.85\",\n",
    "             \"biocyc\": \"META:RXN-8957\",\n",
    "             \"delta_G_r\": 12.654297,\n",
    "             \"Enzyme Commission Summary\": \"The reaction is catalysed in the reverse direction. This enzyme, isolated from the bacterium Rhodobacter sphaeroides, catalyses E)-but-2-enoyl-CoA-dependent oxidation of NADPH in the presence of CO2. When CO2 is absent, the enzyme catalyses the reduction of E)-but-2-enoyl-CoA to butanoyl-CoA, but with only 10% of maximal activity relative to E)-but-2-enoyl-CoA carboxylation (c.f. EC 1.3.1.86, crotonyl-CoA reductase).\"}\n",
    "cetch_model.add_reactions([rxn])"
   ]
  },
  {
   "cell_type": "code",
   "execution_count": 47,
   "id": "ef9d1f17-f18d-457e-9c1a-aa3ba86d7df8",
   "metadata": {
    "tags": []
   },
   "outputs": [],
   "source": [
    "rxn = Reaction(\"RXN_16391\")\n",
    "rxn.name = \"methylmalonyl-CoA epimerase\"\n",
    "rxn.add_metabolites({model.metabolites.CPD_9406 : -1,\n",
    "                    model.metabolites.CPD_17635 : 1})\n",
    "rxn.upper_bound = 1000\n",
    "rxn.lower_bound = -1000\n",
    "rxn.annotation = {\"ec-code\": \"5.1.99.1\",\n",
    "             \"biocyc\": \"META:RXN-16391\",\n",
    "             # \"delta_G_r\": np.nan,\n",
    "             \"Enzyme Commission Summary\": \"\"}\n",
    "cetch_model.add_reactions([rxn])"
   ]
  },
  {
   "cell_type": "code",
   "execution_count": 48,
   "id": "a96c7b20-2953-454c-baa9-ff1def4b673d",
   "metadata": {
    "tags": []
   },
   "outputs": [],
   "source": [
    "rxn = Reaction(\"RXN_8958\")\n",
    "rxn.name = \"ethylmalonyl-CoA mutase\"\n",
    "rxn.add_metabolites({model.metabolites.CPD_17635 : -1,\n",
    "                    model.metabolites.CPD_9407 : 1})\n",
    "rxn.upper_bound = 1000\n",
    "rxn.lower_bound = -1000\n",
    "rxn.annotation = {\"ec-code\": \"5.4.99.63\",\n",
    "             \"biocyc\": \"META:RXN-8958\",\n",
    "             # \"delta_G_r\": np.nan,\n",
    "             \"Enzyme Commission Summary\": \"The enzyme, characterized from the bacterium Rhodobacter sphaeroides, participates in the ethylmalonyl-CoA pathway for acetyl-CoA assimilation. It is hightly specific for its substrate and requires coenzyme B12 for activity.\"}\n",
    "cetch_model.add_reactions([rxn])"
   ]
  },
  {
   "cell_type": "code",
   "execution_count": 49,
   "id": "c76a06ba-41c2-47a7-aed1-b54425c54cd6",
   "metadata": {
    "tags": []
   },
   "outputs": [],
   "source": [
    "rxn = Reaction(\"RXN_18381\")\n",
    "rxn.name = \"methylsuccinyl-CoA oxidase\"\n",
    "rxn.add_metabolites({model.metabolites.CPD_9407 : -1,\n",
    "                    model.metabolites.OXYGEN_MOLECULE : -1,\n",
    "                    model.metabolites.CPD_9408 : 1,\n",
    "                    model.metabolites.HYDROGEN_PEROXIDE : 1})\n",
    "rxn.upper_bound = 1000\n",
    "rxn.lower_bound = -1000\n",
    "rxn.annotation = {\"ec-code\": \"1.3.3.M3\",\n",
    "             \"biocyc\": \"META:RXN-18381\",\n",
    "             \"delta_G_r\": -17.21991,\n",
    "             \"Enzyme Commission Summary\": \"This reaction is catalyzed by an engineered form of EC 1.3.8.12, (2S)-methylsuccinyl-CoA dehydrogenase. Three point mutations - T317G, E377N, and W315F, converted the dehydrogenase encoded by the mcd gene of Rhodobacter sphaeroides into a functional methylsuccinyl-CoA oxidase [Schwander16].\"}\n",
    "cetch_model.add_reactions([rxn])"
   ]
  },
  {
   "cell_type": "code",
   "execution_count": 50,
   "id": "faa2cffc-70b3-44cb-9f7f-63ede3c4a8af",
   "metadata": {
    "tags": []
   },
   "outputs": [],
   "source": [
    "rxn = Reaction(\"RXN_8960\")\n",
    "rxn.name = \"2-methylfumaryl-CoA hydratase\"\n",
    "rxn.add_metabolites({model.metabolites.CPD_9409 : -1,\n",
    "                    model.metabolites.CPD_9408 : 1,\n",
    "                    model.metabolites.WATER : 1})\n",
    "rxn.upper_bound = 1000\n",
    "rxn.lower_bound = -1000\n",
    "rxn.annotation = {\"ec-code\": \"4.2.1.148\",\n",
    "             \"biocyc\": \"META:RXN-8960\",\n",
    "             \"delta_G_r\": 0.052978516,\n",
    "             \"Enzyme Commission Summary\": \"The enzyme from the bacterium Chloroflexus aurantiacus is part of the 3-hydroxypropanoate cycle for carbon assimilation.\"}\n",
    "cetch_model.add_reactions([rxn])"
   ]
  },
  {
   "cell_type": "code",
   "execution_count": 51,
   "id": "ea726216-da18-4b65-a2e2-098754483bab",
   "metadata": {},
   "outputs": [
    {
     "data": {
      "text/plain": [
       "[<Metabolite GLYOX at 0x7f644a55f8e0>,\n",
       " <Metabolite WATER at 0x7f64e04dfaf0>,\n",
       " <Metabolite ACETYL_COA at 0x7f64e04dee00>,\n",
       " <Metabolite PROTON at 0x7f644a55e440>,\n",
       " <Metabolite MAL at 0x7f644a55f070>,\n",
       " <Metabolite CO_A at 0x7f64e04dfc10>,\n",
       " <Metabolite ATP at 0x7f644a55ffd0>,\n",
       " <Metabolite 4_HYDROXY_BUTYRATE at 0x7f644a55ffa0>,\n",
       " <Metabolite 4_HYDROXY_BUTYRYL_COA at 0x7f644a55ef80>,\n",
       " <Metabolite ADP at 0x7f644a55e710>,\n",
       " <Metabolite Pi at 0x7f644a55fd60>,\n",
       " <Metabolite NADP at 0x7f644a55eef0>,\n",
       " <Metabolite NADPH at 0x7f644a55e890>,\n",
       " <Metabolite SUCC_S_ALD at 0x7f644a55e5f0>,\n",
       " <Metabolite OXYGEN_MOLECULE at 0x7f644a55fd30>,\n",
       " <Metabolite CPD_9407 at 0x7f644a55f0d0>,\n",
       " <Metabolite CPD_9408 at 0x7f644a55ea10>,\n",
       " <Metabolite HYDROGEN_PEROXIDE at 0x7f644a55ec50>,\n",
       " <Metabolite PROPIONYL_COA at 0x7f644a55ee90>,\n",
       " <Metabolite ACRYLYL_COA at 0x7f644a55fb50>,\n",
       " <Metabolite CPD_9406 at 0x7f644a55f8b0>,\n",
       " <Metabolite CROTONYL_COA at 0x7f644a55fc70>,\n",
       " <Metabolite CARBON_DIOXIDE at 0x7f644a55e6e0>,\n",
       " <Metabolite CPD_17635 at 0x7f644a55edd0>,\n",
       " <Metabolite CPD_9409 at 0x7f644a55ee30>,\n",
       " <Metabolite METHYL_MALONYL_COA at 0x7f644a55fdf0>,\n",
       " <Metabolite SUC_COA at 0x7f644a55f370>,\n",
       " <Metabolite CPD_226 at 0x7f644a55e530>]"
      ]
     },
     "execution_count": 51,
     "metadata": {},
     "output_type": "execute_result"
    }
   ],
   "source": [
    "cetch_model.metabolites"
   ]
  },
  {
   "cell_type": "code",
   "execution_count": 52,
   "id": "fe7f79fd-1fbd-49c9-8f58-dab60ffe2f68",
   "metadata": {},
   "outputs": [
    {
     "data": {
      "text/plain": [
       "[<Reaction MALSYN_RXN at 0x7f644a1e8070>,\n",
       " <Reaction RXN_8961 at 0x7f644a55e7a0>,\n",
       " <Reaction RXN_15977 at 0x7f644a1ea080>,\n",
       " <Reaction RXN_18384 at 0x7f64e04dc790>,\n",
       " <Reaction METHYLMALONYL_COA_MUT_RXN at 0x7f64e04dd240>,\n",
       " <Reaction RXN_8891 at 0x7f644a1eac20>,\n",
       " <Reaction RXN_11002 at 0x7f644a1e9c30>,\n",
       " <Reaction RXN_18387 at 0x7f644a55e800>,\n",
       " <Reaction RXN_8890 at 0x7f644a55f010>,\n",
       " <Reaction RXN_8957 at 0x7f644a55faf0>,\n",
       " <Reaction RXN_16391 at 0x7f644a1eb1c0>,\n",
       " <Reaction RXN_8958 at 0x7f64e04dc0a0>,\n",
       " <Reaction RXN_18381 at 0x7f64e04de6e0>,\n",
       " <Reaction RXN_8960 at 0x7f644a1e9b40>]"
      ]
     },
     "execution_count": 52,
     "metadata": {},
     "output_type": "execute_result"
    }
   ],
   "source": [
    "cetch_model.reactions"
   ]
  },
  {
   "cell_type": "code",
   "execution_count": 53,
   "id": "7b2a9ce9",
   "metadata": {},
   "outputs": [],
   "source": [
    "for met in cetch_model.metabolites:\n",
    "    met.compartment = \"u\""
   ]
  },
  {
   "cell_type": "code",
   "execution_count": 54,
   "id": "99e25f87",
   "metadata": {},
   "outputs": [],
   "source": [
    "cobra.io.write_sbml_model(cetch_model, \"CETCH_cycle.xml\")"
   ]
  },
  {
   "cell_type": "code",
   "execution_count": 55,
   "id": "4d4cb676",
   "metadata": {},
   "outputs": [
    {
     "name": "stdout",
     "output_type": "stream",
     "text": [
      "MALSYN_RXN \t ACETYL_COA + GLYOX + WATER --> CO_A + MAL + PROTON\n",
      "RXN_8961 \t CPD_9409 <=> GLYOX + PROPIONYL_COA\n",
      "RXN_15977 \t OXYGEN_MOLECULE + PROPIONYL_COA <=> ACRYLYL_COA + HYDROGEN_PEROXIDE\n",
      "RXN_18384 \t ACRYLYL_COA + CARBON_DIOXIDE + NADPH <=> METHYL_MALONYL_COA + NADP\n",
      "METHYLMALONYL_COA_MUT_RXN \t METHYL_MALONYL_COA <=> SUC_COA\n",
      "RXN_8891 \t CO_A + NADP + SUCC_S_ALD <=> NADPH + PROTON + SUC_COA\n",
      "RXN_11002 \t NADPH + PROTON + SUCC_S_ALD <=> 4_HYDROXY_BUTYRATE + NADP\n",
      "RXN_18387 \t 4_HYDROXY_BUTYRATE + ATP + CO_A <=> 4_HYDROXY_BUTYRYL_COA + ADP + Pi\n",
      "RXN_8890 \t 4_HYDROXY_BUTYRYL_COA <=> CROTONYL_COA + WATER\n",
      "RXN_8957 \t CARBON_DIOXIDE + CROTONYL_COA + NADPH <=> CPD_9406 + NADP\n",
      "RXN_16391 \t CPD_9406 <=> CPD_17635\n",
      "RXN_8958 \t CPD_17635 <=> CPD_9407\n",
      "RXN_18381 \t CPD_9407 + OXYGEN_MOLECULE <=> CPD_9408 + HYDROGEN_PEROXIDE\n",
      "RXN_8960 \t CPD_9409 <=> CPD_9408 + WATER\n"
     ]
    }
   ],
   "source": [
    "cetch_total = Reaction(\"CETCH_total\", name=\"CETCH_total\")\n",
    "\n",
    "for rxn in cetch_model.reactions:\n",
    "    print(rxn.id, \"\\t\", rxn.reaction)\n",
    "    if \"_tx\" in rxn.id:\n",
    "        break\n",
    "    if rxn.id == \"RXN_8891\" or rxn.id == \"RXN_8960\":\n",
    "        for met in rxn.metabolites:\n",
    "            cetch_total.add_metabolites({met: rxn.get_coefficient(met) * (-1)})\n",
    "    else:\n",
    "        for met in rxn.metabolites:\n",
    "            cetch_total.add_metabolites({met: rxn.get_coefficient(met)})"
   ]
  },
  {
   "cell_type": "code",
   "execution_count": 56,
   "id": "111b40b0",
   "metadata": {},
   "outputs": [
    {
     "data": {
      "text/plain": [
       "'ACETYL_COA + ATP + 2 CARBON_DIOXIDE + 4 NADPH + 2 OXYGEN_MOLECULE + PROTON + WATER --> ADP + CO_A + 2 HYDROGEN_PEROXIDE + MAL + 4 NADP + Pi'"
      ]
     },
     "execution_count": 56,
     "metadata": {},
     "output_type": "execute_result"
    }
   ],
   "source": [
    "cetch_total.reaction"
   ]
  },
  {
   "cell_type": "code",
   "execution_count": 57,
   "id": "5b5d2cf8",
   "metadata": {},
   "outputs": [
    {
     "data": {
      "text/plain": [
       "{}"
      ]
     },
     "execution_count": 57,
     "metadata": {},
     "output_type": "execute_result"
    }
   ],
   "source": [
    "cetch_total.check_mass_balance()"
   ]
  },
  {
   "cell_type": "markdown",
   "id": "dcf4ea9f",
   "metadata": {},
   "source": [
    "### adding exchange metabolites to CETCH model"
   ]
  },
  {
   "cell_type": "markdown",
   "id": "07742c10",
   "metadata": {},
   "source": [
    "This allows to optimise the CETCH model on its own, to check that all reactions are defined correctly."
   ]
  },
  {
   "cell_type": "code",
   "execution_count": 58,
   "id": "b07f61a0-cd20-405c-87d7-1e2b09b7cdb9",
   "metadata": {},
   "outputs": [],
   "source": [
    "rxn = Reaction(\"MAL_tx\")\n",
    "rxn.name = \"malate exchange\"\n",
    "rxn.add_metabolites({model.metabolites.MAL: 1})\n",
    "rxn.upper_bound = 1000\n",
    "rxn.lower_bound = -1000\n",
    "rxn.annotation = {\"ec-code\": \"\",\n",
    "             \"biocyc\": \"META:\",\n",
    "             # \"delta_G_r\": np.nan,\n",
    "             \"Enzyme Commission Summary\": \"\"}\n",
    "cetch_model.add_reactions([rxn])"
   ]
  },
  {
   "cell_type": "code",
   "execution_count": 59,
   "id": "7610bc25-dddc-40d9-9bf6-83fb0df2b610",
   "metadata": {},
   "outputs": [],
   "source": [
    "rxn = Reaction(\"CO2_tx\")\n",
    "rxn.name = \"CO2 exchange\"\n",
    "rxn.add_metabolites({model.metabolites.CARBON_DIOXIDE: 1})\n",
    "rxn.upper_bound = 1000\n",
    "rxn.lower_bound = -1000\n",
    "rxn.annotation = {\"ec-code\": \"\",\n",
    "             \"biocyc\": \"META:\",\n",
    "             # \"delta_G_r\": np.nan,\n",
    "             \"Enzyme Commission Summary\": \"\"}\n",
    "cetch_model.add_reactions([rxn])"
   ]
  },
  {
   "cell_type": "code",
   "execution_count": 60,
   "id": "af7d75d6-05d8-4d5c-8d55-27f467f380b6",
   "metadata": {},
   "outputs": [],
   "source": [
    "exchange_mets = [\"ACETYL_COA\", \"ATP\", \"ADP\", \"NADPH\", \"NADP\", \"PROTON\", \"HYDROGEN_PEROXIDE\", \"OXYGEN_MOLECULE\", \"CO_A\", \"Pi\", \"WATER\"]"
   ]
  },
  {
   "cell_type": "markdown",
   "id": "bfdaa2f9-becf-4505-8e70-9c574765fada",
   "metadata": {},
   "source": [
    "exchange_mets.append(\"MAL\")"
   ]
  },
  {
   "cell_type": "code",
   "execution_count": 61,
   "id": "95cdc66d-e2f5-4624-82b5-90dc30a8aa7e",
   "metadata": {},
   "outputs": [],
   "source": [
    "for met in exchange_mets:\n",
    "    rxn = Reaction(met + \"_tx\")\n",
    "    rxn.name = met + \" exchange\"\n",
    "    rxn.add_metabolites({model.metabolites.get_by_id(met): 1})\n",
    "    rxn.upper_bound = 1000\n",
    "    rxn.lower_bound = -1000\n",
    "    rxn.annotation = {\"ec-code\": \"\",\n",
    "                 \"biocyc\": \"META:\",\n",
    "                 # \"delta_G_r\": np.nan,\n",
    "                 \"Enzyme Commission Summary\": \"\"}\n",
    "    cetch_model.add_reactions([rxn])"
   ]
  },
  {
   "cell_type": "code",
   "execution_count": 62,
   "id": "aad82cbb-20a1-4814-aba0-a0ec00f37147",
   "metadata": {},
   "outputs": [],
   "source": [
    "cetch_model.objective = \"MALSYN_RXN\""
   ]
  },
  {
   "cell_type": "code",
   "execution_count": 63,
   "id": "5a7927e1-14eb-4b10-b68d-93e2603d87d8",
   "metadata": {},
   "outputs": [],
   "source": [
    "solution = cetch_model.optimize()"
   ]
  },
  {
   "cell_type": "code",
   "execution_count": 64,
   "metadata": {},
   "outputs": [
    {
     "data": {
      "text/html": [
       "<h3>Objective</h3><p>1.0 MALSYN_RXN = 250.00000000000014</p><h4>Uptake</h4><table border=\"1\" class=\"dataframe\">\n",
       "  <thead>\n",
       "    <tr style=\"text-align: right;\">\n",
       "      <th>Metabolite</th>\n",
       "      <th>Reaction</th>\n",
       "      <th>Flux</th>\n",
       "      <th>C-Number</th>\n",
       "      <th>C-Flux</th>\n",
       "    </tr>\n",
       "  </thead>\n",
       "  <tbody>\n",
       "    <tr>\n",
       "      <td>ACETYL_COA</td>\n",
       "      <td>ACETYL_COA_tx</td>\n",
       "      <td>250</td>\n",
       "      <td>23</td>\n",
       "      <td>19.33%</td>\n",
       "    </tr>\n",
       "    <tr>\n",
       "      <td>ATP</td>\n",
       "      <td>ATP_tx</td>\n",
       "      <td>250</td>\n",
       "      <td>10</td>\n",
       "      <td>8.40%</td>\n",
       "    </tr>\n",
       "    <tr>\n",
       "      <td>CARBON_DIOXIDE</td>\n",
       "      <td>CO2_tx</td>\n",
       "      <td>500</td>\n",
       "      <td>1</td>\n",
       "      <td>1.68%</td>\n",
       "    </tr>\n",
       "    <tr>\n",
       "      <td>NADPH</td>\n",
       "      <td>NADPH_tx</td>\n",
       "      <td>1000</td>\n",
       "      <td>21</td>\n",
       "      <td>70.59%</td>\n",
       "    </tr>\n",
       "    <tr>\n",
       "      <td>OXYGEN_MOLECULE</td>\n",
       "      <td>OXYGEN_MOLECULE_tx</td>\n",
       "      <td>500</td>\n",
       "      <td>0</td>\n",
       "      <td>0.00%</td>\n",
       "    </tr>\n",
       "    <tr>\n",
       "      <td>PROTON</td>\n",
       "      <td>PROTON_tx</td>\n",
       "      <td>250</td>\n",
       "      <td>0</td>\n",
       "      <td>0.00%</td>\n",
       "    </tr>\n",
       "    <tr>\n",
       "      <td>WATER</td>\n",
       "      <td>WATER_tx</td>\n",
       "      <td>250</td>\n",
       "      <td>0</td>\n",
       "      <td>0.00%</td>\n",
       "    </tr>\n",
       "  </tbody>\n",
       "</table><h4>Secretion</h4><table border=\"1\" class=\"dataframe\">\n",
       "  <thead>\n",
       "    <tr style=\"text-align: right;\">\n",
       "      <th>Metabolite</th>\n",
       "      <th>Reaction</th>\n",
       "      <th>Flux</th>\n",
       "      <th>C-Number</th>\n",
       "      <th>C-Flux</th>\n",
       "    </tr>\n",
       "  </thead>\n",
       "  <tbody>\n",
       "    <tr>\n",
       "      <td>ADP</td>\n",
       "      <td>ADP_tx</td>\n",
       "      <td>-250</td>\n",
       "      <td>10</td>\n",
       "      <td>8.40%</td>\n",
       "    </tr>\n",
       "    <tr>\n",
       "      <td>CO_A</td>\n",
       "      <td>CO_A_tx</td>\n",
       "      <td>-250</td>\n",
       "      <td>21</td>\n",
       "      <td>17.65%</td>\n",
       "    </tr>\n",
       "    <tr>\n",
       "      <td>HYDROGEN_PEROXIDE</td>\n",
       "      <td>HYDROGEN_PEROXIDE_tx</td>\n",
       "      <td>-500</td>\n",
       "      <td>0</td>\n",
       "      <td>0.00%</td>\n",
       "    </tr>\n",
       "    <tr>\n",
       "      <td>MAL</td>\n",
       "      <td>MAL_tx</td>\n",
       "      <td>-250</td>\n",
       "      <td>4</td>\n",
       "      <td>3.36%</td>\n",
       "    </tr>\n",
       "    <tr>\n",
       "      <td>NADP</td>\n",
       "      <td>NADP_tx</td>\n",
       "      <td>-1000</td>\n",
       "      <td>21</td>\n",
       "      <td>70.59%</td>\n",
       "    </tr>\n",
       "    <tr>\n",
       "      <td>Pi</td>\n",
       "      <td>Pi_tx</td>\n",
       "      <td>-250</td>\n",
       "      <td>0</td>\n",
       "      <td>0.00%</td>\n",
       "    </tr>\n",
       "  </tbody>\n",
       "</table>"
      ],
      "text/plain": [
       "<cobra.summary.model_summary.ModelSummary at 0x7f644a55fbe0>"
      ]
     },
     "execution_count": 64,
     "metadata": {},
     "output_type": "execute_result"
    }
   ],
   "source": [
    "cetch_model.summary()"
   ]
  },
  {
   "cell_type": "code",
   "execution_count": 65,
   "id": "70817f1c-3706-4dcd-b4ca-b195e1bc0a42",
   "metadata": {},
   "outputs": [
    {
     "data": {
      "text/html": [
       "<strong><em>Optimal</em> solution with objective value 250.000</strong><br><div>\n",
       "<style scoped>\n",
       "    .dataframe tbody tr th:only-of-type {\n",
       "        vertical-align: middle;\n",
       "    }\n",
       "\n",
       "    .dataframe tbody tr th {\n",
       "        vertical-align: top;\n",
       "    }\n",
       "\n",
       "    .dataframe thead th {\n",
       "        text-align: right;\n",
       "    }\n",
       "</style>\n",
       "<table border=\"1\" class=\"dataframe\">\n",
       "  <thead>\n",
       "    <tr style=\"text-align: right;\">\n",
       "      <th></th>\n",
       "      <th>fluxes</th>\n",
       "      <th>reduced_costs</th>\n",
       "    </tr>\n",
       "  </thead>\n",
       "  <tbody>\n",
       "    <tr>\n",
       "      <th>MALSYN_RXN</th>\n",
       "      <td>250.0</td>\n",
       "      <td>0.000000e+00</td>\n",
       "    </tr>\n",
       "    <tr>\n",
       "      <th>RXN_8961</th>\n",
       "      <td>250.0</td>\n",
       "      <td>-1.110223e-16</td>\n",
       "    </tr>\n",
       "    <tr>\n",
       "      <th>RXN_15977</th>\n",
       "      <td>250.0</td>\n",
       "      <td>-1.110223e-16</td>\n",
       "    </tr>\n",
       "    <tr>\n",
       "      <th>RXN_18384</th>\n",
       "      <td>250.0</td>\n",
       "      <td>-1.110223e-16</td>\n",
       "    </tr>\n",
       "    <tr>\n",
       "      <th>METHYLMALONYL_COA_MUT_RXN</th>\n",
       "      <td>250.0</td>\n",
       "      <td>0.000000e+00</td>\n",
       "    </tr>\n",
       "    <tr>\n",
       "      <th>...</th>\n",
       "      <td>...</td>\n",
       "      <td>...</td>\n",
       "    </tr>\n",
       "    <tr>\n",
       "      <th>HYDROGEN_PEROXIDE_tx</th>\n",
       "      <td>-500.0</td>\n",
       "      <td>-0.000000e+00</td>\n",
       "    </tr>\n",
       "    <tr>\n",
       "      <th>OXYGEN_MOLECULE_tx</th>\n",
       "      <td>500.0</td>\n",
       "      <td>0.000000e+00</td>\n",
       "    </tr>\n",
       "    <tr>\n",
       "      <th>CO_A_tx</th>\n",
       "      <td>-250.0</td>\n",
       "      <td>1.110223e-16</td>\n",
       "    </tr>\n",
       "    <tr>\n",
       "      <th>Pi_tx</th>\n",
       "      <td>-250.0</td>\n",
       "      <td>-0.000000e+00</td>\n",
       "    </tr>\n",
       "    <tr>\n",
       "      <th>WATER_tx</th>\n",
       "      <td>250.0</td>\n",
       "      <td>0.000000e+00</td>\n",
       "    </tr>\n",
       "  </tbody>\n",
       "</table>\n",
       "<p>27 rows × 2 columns</p>\n",
       "</div>"
      ],
      "text/plain": [
       "<Solution 250.000 at 0x7f644a55ddb0>"
      ]
     },
     "execution_count": 65,
     "metadata": {},
     "output_type": "execute_result"
    }
   ],
   "source": [
    "solution"
   ]
  },
  {
   "cell_type": "code",
   "execution_count": 66,
   "id": "c07ffade-975a-478c-a0ae-14c1babf11de",
   "metadata": {},
   "outputs": [
    {
     "data": {
      "text/plain": [
       "[<Metabolite GLYOX at 0x7f644a55f8e0>,\n",
       " <Metabolite WATER at 0x7f64e04dfaf0>,\n",
       " <Metabolite ACETYL_COA at 0x7f64e04dee00>,\n",
       " <Metabolite PROTON at 0x7f644a55e440>,\n",
       " <Metabolite MAL at 0x7f644a55f070>,\n",
       " <Metabolite CO_A at 0x7f64e04dfc10>,\n",
       " <Metabolite ATP at 0x7f644a55ffd0>,\n",
       " <Metabolite 4_HYDROXY_BUTYRATE at 0x7f644a55ffa0>,\n",
       " <Metabolite 4_HYDROXY_BUTYRYL_COA at 0x7f644a55ef80>,\n",
       " <Metabolite ADP at 0x7f644a55e710>,\n",
       " <Metabolite Pi at 0x7f644a55fd60>,\n",
       " <Metabolite NADP at 0x7f644a55eef0>,\n",
       " <Metabolite NADPH at 0x7f644a55e890>,\n",
       " <Metabolite SUCC_S_ALD at 0x7f644a55e5f0>,\n",
       " <Metabolite OXYGEN_MOLECULE at 0x7f644a55fd30>,\n",
       " <Metabolite CPD_9407 at 0x7f644a55f0d0>,\n",
       " <Metabolite CPD_9408 at 0x7f644a55ea10>,\n",
       " <Metabolite HYDROGEN_PEROXIDE at 0x7f644a55ec50>,\n",
       " <Metabolite PROPIONYL_COA at 0x7f644a55ee90>,\n",
       " <Metabolite ACRYLYL_COA at 0x7f644a55fb50>,\n",
       " <Metabolite CPD_9406 at 0x7f644a55f8b0>,\n",
       " <Metabolite CROTONYL_COA at 0x7f644a55fc70>,\n",
       " <Metabolite CARBON_DIOXIDE at 0x7f644a55e6e0>,\n",
       " <Metabolite CPD_17635 at 0x7f644a55edd0>,\n",
       " <Metabolite CPD_9409 at 0x7f644a55ee30>,\n",
       " <Metabolite METHYL_MALONYL_COA at 0x7f644a55fdf0>,\n",
       " <Metabolite SUC_COA at 0x7f644a55f370>,\n",
       " <Metabolite CPD_226 at 0x7f644a55e530>]"
      ]
     },
     "execution_count": 66,
     "metadata": {},
     "output_type": "execute_result"
    }
   ],
   "source": [
    "cetch_model.metabolites"
   ]
  },
  {
   "cell_type": "code",
   "execution_count": 67,
   "id": "9abb2db5-d59a-462f-92fc-b953a266a469",
   "metadata": {},
   "outputs": [
    {
     "data": {
      "text/plain": [
       "MALSYN_RXN                    250.0\n",
       "RXN_8961                      250.0\n",
       "RXN_15977                     250.0\n",
       "RXN_18384                     250.0\n",
       "METHYLMALONYL_COA_MUT_RXN     250.0\n",
       "RXN_8891                     -250.0\n",
       "RXN_11002                     250.0\n",
       "RXN_18387                     250.0\n",
       "RXN_8890                      250.0\n",
       "RXN_8957                      250.0\n",
       "RXN_16391                     250.0\n",
       "RXN_8958                      250.0\n",
       "RXN_18381                     250.0\n",
       "RXN_8960                     -250.0\n",
       "MAL_tx                       -250.0\n",
       "CO2_tx                        500.0\n",
       "ACETYL_COA_tx                 250.0\n",
       "ATP_tx                        250.0\n",
       "ADP_tx                       -250.0\n",
       "NADPH_tx                     1000.0\n",
       "NADP_tx                     -1000.0\n",
       "PROTON_tx                     250.0\n",
       "HYDROGEN_PEROXIDE_tx         -500.0\n",
       "OXYGEN_MOLECULE_tx            500.0\n",
       "CO_A_tx                      -250.0\n",
       "Pi_tx                        -250.0\n",
       "WATER_tx                      250.0\n",
       "Name: fluxes, dtype: float64"
      ]
     },
     "execution_count": 67,
     "metadata": {},
     "output_type": "execute_result"
    }
   ],
   "source": [
    "solution.fluxes"
   ]
  },
  {
   "cell_type": "code",
   "execution_count": 68,
   "id": "bc856c63-a0c8-46b2-b83d-bba6125bb2f1",
   "metadata": {
    "scrolled": true
   },
   "outputs": [
    {
     "name": "stdout",
     "output_type": "stream",
     "text": [
      "MALSYN_RXN: ACETYL_COA + GLYOX + WATER --> CO_A + MAL + PROTON\n",
      "250.0\n",
      "\n",
      "RXN_8961: CPD_9409 <=> GLYOX + PROPIONYL_COA\n",
      "250.0\n",
      "\n",
      "RXN_15977: OXYGEN_MOLECULE + PROPIONYL_COA <=> ACRYLYL_COA + HYDROGEN_PEROXIDE\n",
      "250.0\n",
      "\n",
      "RXN_18384: ACRYLYL_COA + CARBON_DIOXIDE + NADPH <=> METHYL_MALONYL_COA + NADP\n",
      "250.0\n",
      "\n",
      "METHYLMALONYL_COA_MUT_RXN: METHYL_MALONYL_COA <=> SUC_COA\n",
      "250.0\n",
      "\n",
      "RXN_8891: CO_A + NADP + SUCC_S_ALD <=> NADPH + PROTON + SUC_COA\n",
      "-250.0\n",
      "\n",
      "RXN_11002: NADPH + PROTON + SUCC_S_ALD <=> 4_HYDROXY_BUTYRATE + NADP\n",
      "250.0\n",
      "\n",
      "RXN_18387: 4_HYDROXY_BUTYRATE + ATP + CO_A <=> 4_HYDROXY_BUTYRYL_COA + ADP + Pi\n",
      "250.0\n",
      "\n",
      "RXN_8890: 4_HYDROXY_BUTYRYL_COA <=> CROTONYL_COA + WATER\n",
      "250.0\n",
      "\n",
      "RXN_8957: CARBON_DIOXIDE + CROTONYL_COA + NADPH <=> CPD_9406 + NADP\n",
      "250.0\n",
      "\n",
      "RXN_16391: CPD_9406 <=> CPD_17635\n",
      "250.0\n",
      "\n",
      "RXN_8958: CPD_17635 <=> CPD_9407\n",
      "250.0\n",
      "\n",
      "RXN_18381: CPD_9407 + OXYGEN_MOLECULE <=> CPD_9408 + HYDROGEN_PEROXIDE\n",
      "250.0\n",
      "\n",
      "RXN_8960: CPD_9409 <=> CPD_9408 + WATER\n",
      "-250.0\n",
      "\n",
      "MAL_tx:  <=> MAL\n",
      "-250.0\n",
      "\n",
      "CO2_tx:  <=> CARBON_DIOXIDE\n",
      "500.0\n",
      "\n",
      "ACETYL_COA_tx:  <=> ACETYL_COA\n",
      "250.0\n",
      "\n",
      "ATP_tx:  <=> ATP\n",
      "250.0\n",
      "\n",
      "ADP_tx:  <=> ADP\n",
      "-250.0\n",
      "\n",
      "NADPH_tx:  <=> NADPH\n",
      "1000.0\n",
      "\n",
      "NADP_tx:  <=> NADP\n",
      "-1000.0\n",
      "\n",
      "PROTON_tx:  <=> PROTON\n",
      "250.0\n",
      "\n",
      "HYDROGEN_PEROXIDE_tx:  <=> HYDROGEN_PEROXIDE\n",
      "-500.0\n",
      "\n",
      "OXYGEN_MOLECULE_tx:  <=> OXYGEN_MOLECULE\n",
      "500.0\n",
      "\n",
      "CO_A_tx:  <=> CO_A\n",
      "-250.0\n",
      "\n",
      "Pi_tx:  <=> Pi\n",
      "-250.0\n",
      "\n",
      "WATER_tx:  <=> WATER\n",
      "250.0\n",
      "\n"
     ]
    }
   ],
   "source": [
    "for rxn in cetch_model.reactions:\n",
    "    print(rxn)\n",
    "    print(round(rxn.flux,0))\n",
    "    print(\"\")"
   ]
  },
  {
   "cell_type": "code",
   "execution_count": 69,
   "id": "87e52a22-9039-45bd-878b-6f73b40222d7",
   "metadata": {},
   "outputs": [],
   "source": [
    "cobra.io.write_sbml_model(cetch_model, \"CETCH_cycle_exchange.xml\")"
   ]
  },
  {
   "cell_type": "code",
   "execution_count": 70,
   "id": "fd5b4aea-3125-4526-8066-ef16d4dda868",
   "metadata": {},
   "outputs": [
    {
     "data": {
      "text/plain": [
       "{<Reaction MAL_tx at 0x7f644a1eb0d0>: {'C': 4, 'H': 4, 'O': 5},\n",
       " <Reaction CO2_tx at 0x7f644a1ebf70>: {'C': 1, 'O': 2},\n",
       " <Reaction ACETYL_COA_tx at 0x7f644a55ff70>: {'C': 23,\n",
       "  'H': 34,\n",
       "  'N': 7,\n",
       "  'O': 17,\n",
       "  'P': 3,\n",
       "  'S': 1},\n",
       " <Reaction ATP_tx at 0x7f64e04de500>: {'C': 10,\n",
       "  'H': 12,\n",
       "  'N': 5,\n",
       "  'O': 13,\n",
       "  'P': 3},\n",
       " <Reaction ADP_tx at 0x7f644a1ea2f0>: {'C': 10,\n",
       "  'H': 12,\n",
       "  'N': 5,\n",
       "  'O': 10,\n",
       "  'P': 2},\n",
       " <Reaction NADPH_tx at 0x7f644a21a0b0>: {'C': 21,\n",
       "  'H': 26,\n",
       "  'N': 7,\n",
       "  'O': 17,\n",
       "  'P': 3},\n",
       " <Reaction NADP_tx at 0x7f644a219c60>: {'C': 21,\n",
       "  'H': 25,\n",
       "  'N': 7,\n",
       "  'O': 17,\n",
       "  'P': 3},\n",
       " <Reaction PROTON_tx at 0x7f644a219720>: {'H': 1},\n",
       " <Reaction HYDROGEN_PEROXIDE_tx at 0x7f644a219510>: {'H': 2, 'O': 2},\n",
       " <Reaction OXYGEN_MOLECULE_tx at 0x7f644a2190c0>: {'O': 2},\n",
       " <Reaction CO_A_tx at 0x7f644a219930>: {'C': 21,\n",
       "  'H': 32,\n",
       "  'N': 7,\n",
       "  'O': 16,\n",
       "  'P': 3,\n",
       "  'S': 1},\n",
       " <Reaction Pi_tx at 0x7f644a219b40>: {'H': 1, 'O': 4, 'P': 1},\n",
       " <Reaction WATER_tx at 0x7f644a219360>: {'H': 2, 'O': 1}}"
      ]
     },
     "execution_count": 70,
     "metadata": {},
     "output_type": "execute_result"
    }
   ],
   "source": [
    "cobra.manipulation.check_mass_balance(cetch_model)"
   ]
  },
  {
   "cell_type": "code",
   "execution_count": 71,
   "id": "b4bcdadd-e5a3-4654-9f12-2c4575e16590",
   "metadata": {},
   "outputs": [],
   "source": [
    "# cobra.io.save_json_model(cetch_model, \"CETCH_cycle.json\")"
   ]
  },
  {
   "cell_type": "code",
   "execution_count": 72,
   "id": "6e375ed5",
   "metadata": {},
   "outputs": [],
   "source": [
    "cetch_model.objective = \"CO2_tx\"\n",
    "cetch_model.objective_direction = \"max\""
   ]
  },
  {
   "cell_type": "code",
   "execution_count": 73,
   "id": "6be13343",
   "metadata": {},
   "outputs": [],
   "source": [
    "solution = cetch_model.optimize()"
   ]
  },
  {
   "cell_type": "code",
   "execution_count": 74,
   "id": "d3d06419",
   "metadata": {},
   "outputs": [
    {
     "data": {
      "text/html": [
       "<h3>Objective</h3><p>1.0 CO2_tx = 500.0</p><h4>Uptake</h4><table border=\"1\" class=\"dataframe\">\n",
       "  <thead>\n",
       "    <tr style=\"text-align: right;\">\n",
       "      <th>Metabolite</th>\n",
       "      <th>Reaction</th>\n",
       "      <th>Flux</th>\n",
       "      <th>C-Number</th>\n",
       "      <th>C-Flux</th>\n",
       "    </tr>\n",
       "  </thead>\n",
       "  <tbody>\n",
       "    <tr>\n",
       "      <td>ACETYL_COA</td>\n",
       "      <td>ACETYL_COA_tx</td>\n",
       "      <td>250</td>\n",
       "      <td>23</td>\n",
       "      <td>19.33%</td>\n",
       "    </tr>\n",
       "    <tr>\n",
       "      <td>ATP</td>\n",
       "      <td>ATP_tx</td>\n",
       "      <td>250</td>\n",
       "      <td>10</td>\n",
       "      <td>8.40%</td>\n",
       "    </tr>\n",
       "    <tr>\n",
       "      <td>CARBON_DIOXIDE</td>\n",
       "      <td>CO2_tx</td>\n",
       "      <td>500</td>\n",
       "      <td>1</td>\n",
       "      <td>1.68%</td>\n",
       "    </tr>\n",
       "    <tr>\n",
       "      <td>NADPH</td>\n",
       "      <td>NADPH_tx</td>\n",
       "      <td>1000</td>\n",
       "      <td>21</td>\n",
       "      <td>70.59%</td>\n",
       "    </tr>\n",
       "    <tr>\n",
       "      <td>OXYGEN_MOLECULE</td>\n",
       "      <td>OXYGEN_MOLECULE_tx</td>\n",
       "      <td>500</td>\n",
       "      <td>0</td>\n",
       "      <td>0.00%</td>\n",
       "    </tr>\n",
       "    <tr>\n",
       "      <td>PROTON</td>\n",
       "      <td>PROTON_tx</td>\n",
       "      <td>250</td>\n",
       "      <td>0</td>\n",
       "      <td>0.00%</td>\n",
       "    </tr>\n",
       "    <tr>\n",
       "      <td>WATER</td>\n",
       "      <td>WATER_tx</td>\n",
       "      <td>250</td>\n",
       "      <td>0</td>\n",
       "      <td>0.00%</td>\n",
       "    </tr>\n",
       "  </tbody>\n",
       "</table><h4>Secretion</h4><table border=\"1\" class=\"dataframe\">\n",
       "  <thead>\n",
       "    <tr style=\"text-align: right;\">\n",
       "      <th>Metabolite</th>\n",
       "      <th>Reaction</th>\n",
       "      <th>Flux</th>\n",
       "      <th>C-Number</th>\n",
       "      <th>C-Flux</th>\n",
       "    </tr>\n",
       "  </thead>\n",
       "  <tbody>\n",
       "    <tr>\n",
       "      <td>ADP</td>\n",
       "      <td>ADP_tx</td>\n",
       "      <td>-250</td>\n",
       "      <td>10</td>\n",
       "      <td>8.40%</td>\n",
       "    </tr>\n",
       "    <tr>\n",
       "      <td>CO_A</td>\n",
       "      <td>CO_A_tx</td>\n",
       "      <td>-250</td>\n",
       "      <td>21</td>\n",
       "      <td>17.65%</td>\n",
       "    </tr>\n",
       "    <tr>\n",
       "      <td>HYDROGEN_PEROXIDE</td>\n",
       "      <td>HYDROGEN_PEROXIDE_tx</td>\n",
       "      <td>-500</td>\n",
       "      <td>0</td>\n",
       "      <td>0.00%</td>\n",
       "    </tr>\n",
       "    <tr>\n",
       "      <td>MAL</td>\n",
       "      <td>MAL_tx</td>\n",
       "      <td>-250</td>\n",
       "      <td>4</td>\n",
       "      <td>3.36%</td>\n",
       "    </tr>\n",
       "    <tr>\n",
       "      <td>NADP</td>\n",
       "      <td>NADP_tx</td>\n",
       "      <td>-1000</td>\n",
       "      <td>21</td>\n",
       "      <td>70.59%</td>\n",
       "    </tr>\n",
       "    <tr>\n",
       "      <td>Pi</td>\n",
       "      <td>Pi_tx</td>\n",
       "      <td>-250</td>\n",
       "      <td>0</td>\n",
       "      <td>0.00%</td>\n",
       "    </tr>\n",
       "  </tbody>\n",
       "</table>"
      ],
      "text/plain": [
       "<cobra.summary.model_summary.ModelSummary at 0x7f644a16feb0>"
      ]
     },
     "execution_count": 74,
     "metadata": {},
     "output_type": "execute_result"
    }
   ],
   "source": [
    "cetch_model.summary()"
   ]
  }
 ],
 "metadata": {
  "kernelspec": {
   "display_name": "Python 3 (ipykernel)",
   "language": "python",
   "name": "python3"
  },
  "language_info": {
   "codemirror_mode": {
    "name": "ipython",
    "version": 3
   },
   "file_extension": ".py",
   "mimetype": "text/x-python",
   "name": "python",
   "nbconvert_exporter": "python",
   "pygments_lexer": "ipython3",
   "version": "3.10.12"
  }
 },
 "nbformat": 4,
 "nbformat_minor": 5
}
