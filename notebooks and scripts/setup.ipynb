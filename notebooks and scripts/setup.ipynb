{
 "cells": [
  {
   "cell_type": "code",
   "execution_count": 1,
   "metadata": {
    "cell_id": "dfaae5b23c15489bbfc2736a498a4616",
    "deepnote_cell_type": "code",
    "deepnote_to_be_reexecuted": false,
    "execution_millis": 718,
    "execution_start": 1665581948029,
    "source_hash": "cc0d5864"
   },
   "outputs": [],
   "source": [
    "%run FBA_model_functions.ipynb"
   ]
  },
  {
   "cell_type": "code",
   "execution_count": 5,
   "metadata": {
    "cell_id": "5c3e20d9800b4abb97f372cf2bf52869",
    "deepnote_cell_type": "code",
    "deepnote_to_be_reexecuted": false,
    "execution_millis": 499,
    "execution_start": 1665581948822,
    "source_hash": "ec3b8566",
    "tags": []
   },
   "outputs": [
    {
     "ename": "NameError",
     "evalue": "name 'udef_constraint_data_file' is not defined",
     "output_type": "error",
     "traceback": [
      "\u001b[0;31m---------------------------------------------------------------------------\u001b[0m",
      "\u001b[0;31mNameError\u001b[0m                                 Traceback (most recent call last)",
      "\u001b[0;32m<ipython-input-5-c6bc33302469>\u001b[0m in \u001b[0;36m<module>\u001b[0;34m\u001b[0m\n\u001b[0;32m----> 1\u001b[0;31m \u001b[0mread_file\u001b[0m \u001b[0;34m=\u001b[0m \u001b[0mpd\u001b[0m\u001b[0;34m.\u001b[0m\u001b[0mread_excel\u001b[0m \u001b[0;34m(\u001b[0m\u001b[0mudef_constraint_data_file\u001b[0m\u001b[0;34m,\u001b[0m \u001b[0mudef_constraint_sheet\u001b[0m\u001b[0;34m)\u001b[0m\u001b[0;34m\u001b[0m\u001b[0;34m\u001b[0m\u001b[0m\n\u001b[0m\u001b[1;32m      2\u001b[0m \u001b[0;31m# read_file.to_csv (udef_constraint_data_file[:-5]+\".csv\", index = None,header=True)\u001b[0m\u001b[0;34m\u001b[0m\u001b[0;34m\u001b[0m\u001b[0;34m\u001b[0m\u001b[0m\n",
      "\u001b[0;31mNameError\u001b[0m: name 'udef_constraint_data_file' is not defined"
     ]
    }
   ],
   "source": [
    "read_file = pd.read_excel (udef_constraint_data_file, udef_constraint_sheet)\n",
    "# read_file.to_csv (udef_constraint_data_file[:-5]+\".csv\", index = None,header=True)"
   ]
  },
  {
   "cell_type": "code",
   "execution_count": null,
   "metadata": {
    "cell_id": "899e33a60af04b5aa2781abf38bc3303",
    "deepnote_cell_type": "code",
    "deepnote_to_be_reexecuted": true,
    "execution_millis": 8526,
    "execution_start": 1643710504695,
    "owner_user_id": "972210d6-241c-4794-be29-56fd02263eb6",
    "scrolled": true,
    "source_hash": "138fc73"
   },
   "outputs": [],
   "source": [
    "#########\n",
    "constraint_dict = check_constraint_data_file(file_name =udef_constraint_data_file, \n",
    "                                             sheet_name = udef_constraint_sheet, \n",
    "                                             time_interval = udef_time_interval)\n",
    "\n",
    "constraints_same_across_time_phases(cobra_model)\n",
    "\n",
    "make_biomass_composition(cobra_model, udef_biomass_file, udef_biomass_composition, udef_biomass_sheet)\n",
    "#already in core model: AraCore, Biomass\n",
    "#in spreadsheet: de_Oliverira_DalMolin_et_al_AraGEM\n",
    "\n",
    "phased_model, time_phase_dict = set_up_time_phases(cobra_model, time_interval = udef_time_interval)\n",
    "\n",
    "changing_charge_states_in_vacuole_rxns(phased_model, file_name= udef_constraint_data_file, \n",
    "                                       constraint_sheet=udef_constraint_sheet, ph_sheet= \"charge_states\", time_interval =udef_time_interval)\n",
    "\n",
    "creating_linker_fluxes(phased_model, constraint_data = constraint_dict, \n",
    "                       time_interval = udef_time_interval, protons=False)\n",
    "\n",
    "light_dark_phases_constraints(phased_model, constraint_data=constraint_dict, \n",
    "                              manual = False, biomass_composition = udef_biomass_composition, maintenance_even_distribution = True, \n",
    "                              amino_acid_night_to_day_accum = allow_amino_acid_accum)\n",
    "\n",
    "\n",
    "apply_constraints_for_each_phase(phased_model, constraint_data= constraint_dict, biomass_composition= udef_biomass_composition)\n",
    "\n",
    "solution = optimise_model(phased_model, objective_reaction, pFBA = pFBA_or_not)"
   ]
  }
 ],
 "metadata": {
  "deepnote": {},
  "deepnote_execution_queue": [],
  "deepnote_notebook_id": "a6726ee999d1453a977e8105a06607a6",
  "kernelspec": {
   "display_name": "Python 3 (ipykernel)",
   "language": "python",
   "name": "python3"
  },
  "language_info": {
   "codemirror_mode": {
    "name": "ipython",
    "version": 3
   },
   "file_extension": ".py",
   "mimetype": "text/x-python",
   "name": "python",
   "nbconvert_exporter": "python",
   "pygments_lexer": "ipython3",
   "version": "3.8.3"
  }
 },
 "nbformat": 4,
 "nbformat_minor": 4
}
