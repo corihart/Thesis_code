{
 "cells": [
  {
   "cell_type": "code",
   "execution_count": 1,
   "metadata": {},
   "outputs": [],
   "source": [
    "import cobra\n",
    "import thermo_flux\n",
    "from thermo_flux.core.model import ThermoModel, ThermoReaction\n",
    "from equilibrator_api import  Q_"
   ]
  },
  {
   "cell_type": "markdown",
   "metadata": {},
   "source": [
    "### Load the latest version of the plant core model from the bitbucket. (this is on the dev_Ed branch)\n",
    "This model has been modified to remove the a, b, etc. prefixed form metabolites with different charge states. \n",
    "The full set of modifications can be seen in the notebook \"PlantCoreMetabolism_v3_curation_02.ipynb\" on the dev_Ed branch as well as in the CurationLog.csv\n",
    "Major changes include removal of the mitochondrial intermembrane space compartment and modifcation of the phloem composition to match Arabidopsis data.\n",
    "\n",
    "The model is already constrained to represent a leaf model during the day using the function \"day_model()\" which is in the file \"curation.py\" which also includes some other useful functions. These should be moved to the sweetlove bitbucket at some point... "
   ]
  },
  {
   "cell_type": "code",
   "execution_count": 2,
   "metadata": {},
   "outputs": [
    {
     "name": "stdout",
     "output_type": "stream",
     "text": [
      "Set parameter Username\n",
      "Academic license - for non-commercial use only - expires 2024-04-18\n"
     ]
    }
   ],
   "source": [
    "model = cobra.io.read_sbml_model(r\"PlantCoreMetabolism_v3_0_1.xml\")\n"
   ]
  },
  {
   "cell_type": "markdown",
   "metadata": {},
   "source": [
    "At this point you might want to compare this model to any model you were using previously to see what any differences are. \n",
    "\n",
    "Things to look out for include cycles of NH3 and NH4 transport to move protons or issues around mitochondrial electron/proton transport"
   ]
  },
  {
   "cell_type": "code",
   "execution_count": 3,
   "metadata": {},
   "outputs": [
    {
     "data": {
      "text/html": [
       "<h3>Objective</h3><p>1.0 Phloem_output_tx = 7.278222678703933</p><h4>Uptake</h4><table border=\"1\" class=\"dataframe\">\n",
       "  <thead>\n",
       "    <tr style=\"text-align: right;\">\n",
       "      <th>Metabolite</th>\n",
       "      <th>Reaction</th>\n",
       "      <th>Flux</th>\n",
       "      <th>C-Number</th>\n",
       "      <th>C-Flux</th>\n",
       "    </tr>\n",
       "  </thead>\n",
       "  <tbody>\n",
       "    <tr>\n",
       "      <td>CARBON_DIOXIDE_e</td>\n",
       "      <td>CO2_tx</td>\n",
       "      <td>70.44</td>\n",
       "      <td>1</td>\n",
       "      <td>100.00%</td>\n",
       "    </tr>\n",
       "    <tr>\n",
       "      <td>WATER_e</td>\n",
       "      <td>H2O_tx</td>\n",
       "      <td>63.62</td>\n",
       "      <td>0</td>\n",
       "      <td>0.00%</td>\n",
       "    </tr>\n",
       "    <tr>\n",
       "      <td>PROTON_e</td>\n",
       "      <td>H_tx</td>\n",
       "      <td>3.253</td>\n",
       "      <td>0</td>\n",
       "      <td>0.00%</td>\n",
       "    </tr>\n",
       "    <tr>\n",
       "      <td>NITRATE_e</td>\n",
       "      <td>Nitrate_tx</td>\n",
       "      <td>3.446</td>\n",
       "      <td>0</td>\n",
       "      <td>0.00%</td>\n",
       "    </tr>\n",
       "    <tr>\n",
       "      <td>Photon_e</td>\n",
       "      <td>Photon_tx</td>\n",
       "      <td>1000</td>\n",
       "      <td>0</td>\n",
       "      <td>0.00%</td>\n",
       "    </tr>\n",
       "    <tr>\n",
       "      <td>SULFATE_e</td>\n",
       "      <td>SO4_tx</td>\n",
       "      <td>0.01593</td>\n",
       "      <td>0</td>\n",
       "      <td>0.00%</td>\n",
       "    </tr>\n",
       "  </tbody>\n",
       "</table><h4>Secretion</h4><table border=\"1\" class=\"dataframe\">\n",
       "  <thead>\n",
       "    <tr style=\"text-align: right;\">\n",
       "      <th>Metabolite</th>\n",
       "      <th>Reaction</th>\n",
       "      <th>Flux</th>\n",
       "      <th>C-Number</th>\n",
       "      <th>C-Flux</th>\n",
       "    </tr>\n",
       "  </thead>\n",
       "  <tbody>\n",
       "    <tr>\n",
       "      <td>OXYGEN_MOLECULE_e</td>\n",
       "      <td>O2_tx</td>\n",
       "      <td>-76.52</td>\n",
       "      <td>0</td>\n",
       "      <td>0.00%</td>\n",
       "    </tr>\n",
       "  </tbody>\n",
       "</table>"
      ],
      "text/plain": [
       "<cobra.summary.model_summary.ModelSummary at 0x7f40949ad8a0>"
      ]
     },
     "execution_count": 3,
     "metadata": {},
     "output_type": "execute_result"
    }
   ],
   "source": [
    "model.objective = model.reactions.Phloem_output_tx\n",
    "sol = cobra.flux_analysis.pfba(model)\n",
    "model.summary(sol)"
   ]
  },
  {
   "cell_type": "markdown",
   "metadata": {},
   "source": [
    "## Convert the model to a ThermoModel to use the new proton balancing features"
   ]
  },
  {
   "cell_type": "code",
   "execution_count": 4,
   "metadata": {},
   "outputs": [],
   "source": [
    "tmodel = ThermoModel(model, split_biomass=False, add_charge_exchange=False) #flags prevent modifications that are important for thermodynamc analysis and charge balancing but we don't need them here"
   ]
  },
  {
   "cell_type": "markdown",
   "metadata": {},
   "source": [
    "### Define the physiological properties of the model\n",
    "\n",
    "You might want to make these organism or conditions specific."
   ]
  },
  {
   "cell_type": "code",
   "execution_count": 5,
   "metadata": {},
   "outputs": [],
   "source": [
    "#set the pH of each compartment\n",
    "tmodel.pH = {'m': Q_(8.1),\n",
    " 'c': Q_(7.3),\n",
    " 'b': Q_(7.3),\n",
    " 'p': Q_(8.0),\n",
    " 'v': Q_(5.2),\n",
    " 'x': Q_(7.5),\n",
    " 'r': Q_(7.1),\n",
    " 'e': Q_(4.7),\n",
    " 'l': Q_(6.0),\n",
    " 'i': Q_(7.3)}\n",
    "\n",
    "#Define a constant ionic strength for each compartment\n",
    "tmodel.I = {comp: Q_(0.25, 'M') for comp in tmodel.compartments}\n",
    "\n",
    "#Set the temperature of the model\n",
    "tmodel.T = Q_(298.15, 'K')\n",
    "\n",
    "#define mebrane potential for each compartment\n",
    "tmodel.phi = {'pl':Q_(0,'V'), \n",
    "               'pc':Q_(-0.111,'V'),\n",
    "               'cm':Q_(-0.160,'V'),\n",
    "               'ce':Q_(0.150,'V'),\n",
    "               'cx':Q_(0,'V'),\n",
    "               'cv':Q_(0.02,'V')}"
   ]
  },
  {
   "cell_type": "code",
   "execution_count": 6,
   "metadata": {},
   "outputs": [
    {
     "data": {
      "text/plain": [
       "{'biocyc': 'META:GLYOX',\n",
       " 'metacyc.compound': 'GLYOX',\n",
       " 'bigg.metabolite': 'glx',\n",
       " 'chebi': 'CHEBI:16891',\n",
       " 'envipath': '32de3cf4-e3e6-4168-956e-32fa5ddb0ce1/compound/cdffdb1a-3322-4cc1-9171-d857bfaa198a',\n",
       " 'hmdb': 'HMDB00119',\n",
       " 'kegg': 'C00048',\n",
       " 'reactome': '389678.0',\n",
       " 'sabiork.compound': '1838.0',\n",
       " 'seed': 'cpd00040',\n",
       " 'metanetx.chemical': 'MNXM89656',\n",
       " 'synonyms': 'Glyoxylate',\n",
       " 'inchi': 'InChI=1/C2H2O3/c3-1-2(4)5/h1H,(H,4,5)/p-1/fC2HO3/q-1'}"
      ]
     },
     "execution_count": 6,
     "metadata": {},
     "output_type": "execute_result"
    }
   ],
   "source": [
    "tmodel.metabolites.GLYOX_r.annotation"
   ]
  },
  {
   "cell_type": "code",
   "execution_count": 7,
   "metadata": {},
   "outputs": [
    {
     "name": "stdout",
     "output_type": "stream",
     "text": [
      "Initilizing component contribution object.../859 UREA_m                 \n",
      "No valid license for cxcalc installed, operating in read-only mode. A local cache may be loaded, but no compounds can be created. Please obtain a ChemAxon license to enable compound creation.\n",
      "Loading compounds from PlantCoreMetabolism_v2_1_0_compound.sqlite\n",
      "[████████████████████████████████████████] 859/859 Docosanoyl_CoA_c                                                                                                                                                                                                                                                                                                                                                                                                                                                                                                                                                                                                                                                                                                                                                                                                                                                                                                                                                                                                                                                                                                                                                                                                                                                                                                                                                                                                                                                                                                                                                                                                                                 \n",
      "\n"
     ]
    },
    {
     "data": {
      "text/plain": [
       "[]"
      ]
     },
     "execution_count": 7,
     "metadata": {},
     "output_type": "execute_result"
    }
   ],
   "source": [
    "#idnetify all the compounds that are in the model\n",
    "tmodel.get_compounds(search = False, update_annotations = False)"
   ]
  },
  {
   "cell_type": "code",
   "execution_count": 8,
   "metadata": {},
   "outputs": [],
   "source": [
    "for rxn in tmodel.reactions:\n",
    "    if len(rxn.compartments) <3: #some reactions in the ER have three compartments and the code can't handle that yet... \n",
    "        if rxn.id not in ['Phloem_output_tx', 'AraCore_Biomass_tx']: #dont balance these as they are exchange reactions\n",
    "            thermo_flux.tools.drg_tools.reaction_balance(rxn, balance_charge=False, balance_mg=False, round_dp=2) #for simplicity we're ignoring Mg balance here but it could be enabled \n",
    "        "
   ]
  },
  {
   "cell_type": "code",
   "execution_count": 9,
   "metadata": {},
   "outputs": [
    {
     "data": {
      "text/html": [
       "<h3>Objective</h3><p>1.0 Phloem_output_tx = 7.278222678703945</p><h4>Uptake</h4><table border=\"1\" class=\"dataframe\">\n",
       "  <thead>\n",
       "    <tr style=\"text-align: right;\">\n",
       "      <th>Metabolite</th>\n",
       "      <th>Reaction</th>\n",
       "      <th>Flux</th>\n",
       "      <th>C-Number</th>\n",
       "      <th>C-Flux</th>\n",
       "    </tr>\n",
       "  </thead>\n",
       "  <tbody>\n",
       "    <tr>\n",
       "      <td>CARBON_DIOXIDE_e</td>\n",
       "      <td>CO2_tx</td>\n",
       "      <td>70.44</td>\n",
       "      <td>1</td>\n",
       "      <td>100.00%</td>\n",
       "    </tr>\n",
       "    <tr>\n",
       "      <td>WATER_e</td>\n",
       "      <td>H2O_tx</td>\n",
       "      <td>63.62</td>\n",
       "      <td>0</td>\n",
       "      <td>0.00%</td>\n",
       "    </tr>\n",
       "    <tr>\n",
       "      <td>PROTON_e</td>\n",
       "      <td>H_tx</td>\n",
       "      <td>3.253</td>\n",
       "      <td>0</td>\n",
       "      <td>0.00%</td>\n",
       "    </tr>\n",
       "    <tr>\n",
       "      <td>NITRATE_e</td>\n",
       "      <td>Nitrate_tx</td>\n",
       "      <td>3.446</td>\n",
       "      <td>0</td>\n",
       "      <td>0.00%</td>\n",
       "    </tr>\n",
       "    <tr>\n",
       "      <td>Photon_e</td>\n",
       "      <td>Photon_tx</td>\n",
       "      <td>1000</td>\n",
       "      <td>0</td>\n",
       "      <td>0.00%</td>\n",
       "    </tr>\n",
       "    <tr>\n",
       "      <td>SULFATE_e</td>\n",
       "      <td>SO4_tx</td>\n",
       "      <td>0.01593</td>\n",
       "      <td>0</td>\n",
       "      <td>0.00%</td>\n",
       "    </tr>\n",
       "  </tbody>\n",
       "</table><h4>Secretion</h4><table border=\"1\" class=\"dataframe\">\n",
       "  <thead>\n",
       "    <tr style=\"text-align: right;\">\n",
       "      <th>Metabolite</th>\n",
       "      <th>Reaction</th>\n",
       "      <th>Flux</th>\n",
       "      <th>C-Number</th>\n",
       "      <th>C-Flux</th>\n",
       "    </tr>\n",
       "  </thead>\n",
       "  <tbody>\n",
       "    <tr>\n",
       "      <td>OXYGEN_MOLECULE_e</td>\n",
       "      <td>O2_tx</td>\n",
       "      <td>-76.52</td>\n",
       "      <td>0</td>\n",
       "      <td>0.00%</td>\n",
       "    </tr>\n",
       "  </tbody>\n",
       "</table>"
      ],
      "text/plain": [
       "<cobra.summary.model_summary.ModelSummary at 0x7f4092ed4fd0>"
      ]
     },
     "execution_count": 9,
     "metadata": {},
     "output_type": "execute_result"
    }
   ],
   "source": [
    "sol = tmodel.optimize()\n",
    "tmodel.summary(sol)"
   ]
  },
  {
   "cell_type": "code",
   "execution_count": 10,
   "metadata": {},
   "outputs": [
    {
     "data": {
      "text/html": [
       "<h3>Objective</h3><p>1.0 Phloem_output_tx = 7.278222678703933</p><h4>Uptake</h4><table border=\"1\" class=\"dataframe\">\n",
       "  <thead>\n",
       "    <tr style=\"text-align: right;\">\n",
       "      <th>Metabolite</th>\n",
       "      <th>Reaction</th>\n",
       "      <th>Flux</th>\n",
       "      <th>C-Number</th>\n",
       "      <th>C-Flux</th>\n",
       "    </tr>\n",
       "  </thead>\n",
       "  <tbody>\n",
       "    <tr>\n",
       "      <td>CARBON_DIOXIDE_e</td>\n",
       "      <td>CO2_tx</td>\n",
       "      <td>70.44</td>\n",
       "      <td>1</td>\n",
       "      <td>100.00%</td>\n",
       "    </tr>\n",
       "    <tr>\n",
       "      <td>WATER_e</td>\n",
       "      <td>H2O_tx</td>\n",
       "      <td>63.62</td>\n",
       "      <td>0</td>\n",
       "      <td>0.00%</td>\n",
       "    </tr>\n",
       "    <tr>\n",
       "      <td>PROTON_e</td>\n",
       "      <td>H_tx</td>\n",
       "      <td>3.253</td>\n",
       "      <td>0</td>\n",
       "      <td>0.00%</td>\n",
       "    </tr>\n",
       "    <tr>\n",
       "      <td>NITRATE_e</td>\n",
       "      <td>Nitrate_tx</td>\n",
       "      <td>3.446</td>\n",
       "      <td>0</td>\n",
       "      <td>0.00%</td>\n",
       "    </tr>\n",
       "    <tr>\n",
       "      <td>Photon_e</td>\n",
       "      <td>Photon_tx</td>\n",
       "      <td>1000</td>\n",
       "      <td>0</td>\n",
       "      <td>0.00%</td>\n",
       "    </tr>\n",
       "    <tr>\n",
       "      <td>SULFATE_e</td>\n",
       "      <td>SO4_tx</td>\n",
       "      <td>0.01593</td>\n",
       "      <td>0</td>\n",
       "      <td>0.00%</td>\n",
       "    </tr>\n",
       "  </tbody>\n",
       "</table><h4>Secretion</h4><table border=\"1\" class=\"dataframe\">\n",
       "  <thead>\n",
       "    <tr style=\"text-align: right;\">\n",
       "      <th>Metabolite</th>\n",
       "      <th>Reaction</th>\n",
       "      <th>Flux</th>\n",
       "      <th>C-Number</th>\n",
       "      <th>C-Flux</th>\n",
       "    </tr>\n",
       "  </thead>\n",
       "  <tbody>\n",
       "    <tr>\n",
       "      <td>OXYGEN_MOLECULE_e</td>\n",
       "      <td>O2_tx</td>\n",
       "      <td>-76.52</td>\n",
       "      <td>0</td>\n",
       "      <td>0.00%</td>\n",
       "    </tr>\n",
       "  </tbody>\n",
       "</table>"
      ],
      "text/plain": [
       "<cobra.summary.model_summary.ModelSummary at 0x7f4092ed4e80>"
      ]
     },
     "execution_count": 10,
     "metadata": {},
     "output_type": "execute_result"
    }
   ],
   "source": [
    "model = cobra.io.read_sbml_model(r\"PlantCoreMetabolism_v3_0_1.xml\")\n",
    "model.objective = model.reactions.Phloem_output_tx\n",
    "sol = model.optimize()\n",
    "model.summary(sol)"
   ]
  },
  {
   "cell_type": "markdown",
   "metadata": {},
   "source": [
    "### Adding new metabolites and reactions\n"
   ]
  },
  {
   "cell_type": "code",
   "execution_count": 11,
   "metadata": {},
   "outputs": [],
   "source": [
    "from cobra.core import Metabolite, Reaction\n",
    "from thermo_flux.core.model import ThermoMetabolite, ThermoReaction"
   ]
  },
  {
   "cell_type": "code",
   "execution_count": 12,
   "metadata": {},
   "outputs": [],
   "source": [
    "#add new metabolites\n",
    "met = ThermoMetabolite(Metabolite(id='hydroxybutanoyl_COA_c', compartment='c')) #make sure compartment is defined as this is used to define pH \n",
    "met.annotation = {'kegg': 'C11062'} #many annotation formats are possible - look at the equilibrator API documentation for more details\n",
    "tmodel.add_metabolites(met)\n",
    "\n",
    "met = ThermoMetabolite(Metabolite(id='hydroxybutanoate_c', compartment='c'))\n",
    "met.annotation = {'kegg':'C00989'}\n",
    "tmodel.add_metabolites(met)\n"
   ]
  },
  {
   "cell_type": "code",
   "execution_count": 13,
   "metadata": {},
   "outputs": [
    {
     "name": "stdout",
     "output_type": "stream",
     "text": [
      "[████████████████████████████████████████] 862/862 hydroxybutanoate_c                                                                                                                                                                                                                                                                                                       \n",
      "\n"
     ]
    },
    {
     "data": {
      "text/plain": [
       "[]"
      ]
     },
     "execution_count": 13,
     "metadata": {},
     "output_type": "execute_result"
    }
   ],
   "source": [
    "#identify compounds and update the annotations \n",
    "tmodel.get_compounds(search = False, update_annotations = True) #update annotation will add other annotation formats if possible"
   ]
  },
  {
   "cell_type": "code",
   "execution_count": 14,
   "metadata": {},
   "outputs": [
    {
     "data": {
      "text/html": [
       "\n",
       "        <table>\n",
       "            <tr>\n",
       "                <td><strong>Reaction identifier</strong></td><td>hydroxybutyrate_CoA_ligase_c</td>\n",
       "            </tr><tr>\n",
       "                <td><strong>Name</strong></td><td>4-hydroxybutyrate--CoA ligase (ADP-forming)</td>\n",
       "            </tr><tr>\n",
       "                <td><strong>Memory address</strong></td>\n",
       "                <td>0x7f408b0becb0</td>\n",
       "            </tr><tr>\n",
       "                <td><strong>Stoichiometry</strong></td>\n",
       "                <td>\n",
       "                    <p style='text-align:right'>ADP_c + Pi_c + hydroxybutanoyl_COA_c --> ATP_c + CO_A_c + WATER_c + hydroxybutanoate_c</p>\n",
       "                    <p style='text-align:right'>ADP + Pi[c] + --> ATP + CO-A + WATER +</p>\n",
       "                </td>\n",
       "            </tr><tr>\n",
       "                <td><strong>GPR</strong></td><td></td>\n",
       "            </tr><tr>\n",
       "                <td><strong>Lower bound</strong></td><td>0</td>\n",
       "            </tr><tr>\n",
       "                <td><strong>Upper bound</strong></td><td>1000.0</td>\n",
       "            </tr>\n",
       "        </table>\n",
       "        "
      ],
      "text/plain": [
       "<ThermoReaction hydroxybutyrate_CoA_ligase_c at 0x7f408b0becb0>"
      ]
     },
     "execution_count": 14,
     "metadata": {},
     "output_type": "execute_result"
    }
   ],
   "source": [
    "tmodel.metabolites.ACET_c.compound.get_common_name() \n",
    "rxn = ThermoReaction(Reaction(id='hydroxybutyrate_CoA_ligase_c', name='4-hydroxybutyrate--CoA ligase (ADP-forming)', lower_bound=0, upper_bound=1000)) #make sure to use ThermoReaction \n",
    "tmodel.add_reactions([rxn])\n",
    "rxn.build_reaction_from_string('hydroxybutanoyl_COA_c + ADP_c + Pi_c -> hydroxybutanoate_c + CO_A_c + ATP_c + WATER_c') #could also use reaction.add_metabolites()\n",
    "rxn"
   ]
  },
  {
   "cell_type": "code",
   "execution_count": 15,
   "metadata": {},
   "outputs": [
    {
     "name": "stdout",
     "output_type": "stream",
     "text": [
      "hydroxybutyrate_CoA_ligase_c: ADP_c + Pi_c + hydroxybutanoyl_COA_c --> ATP_c + CO_A_c + WATER_c + hydroxybutanoate_c\n",
      "hydroxybutyrate_CoA_ligase_c: ADP_c + 1.73 PROTON_c + Pi_c + hydroxybutanoyl_COA_c --> ATP_c + CO_A_c + WATER_c + hydroxybutanoate_c\n"
     ]
    }
   ],
   "source": [
    "print(rxn)\n",
    "thermo_flux.tools.drg_tools.reaction_balance(rxn, balance_charge=False, balance_mg=False, round_dp=2) #ignore charges and magneisum for now\n",
    "print(rxn)"
   ]
  },
  {
   "cell_type": "code",
   "execution_count": 16,
   "metadata": {},
   "outputs": [
    {
     "name": "stdout",
     "output_type": "stream",
     "text": [
      "average charge: -4.0\n",
      "average protons: 38.0\n",
      "average mg: 0.0\n"
     ]
    },
    {
     "data": {
      "text/html": [
       "<div>\n",
       "<style scoped>\n",
       "    .dataframe tbody tr th:only-of-type {\n",
       "        vertical-align: middle;\n",
       "    }\n",
       "\n",
       "    .dataframe tbody tr th {\n",
       "        vertical-align: top;\n",
       "    }\n",
       "\n",
       "    .dataframe thead th {\n",
       "        text-align: right;\n",
       "    }\n",
       "</style>\n",
       "<table border=\"1\" class=\"dataframe\">\n",
       "  <thead>\n",
       "    <tr style=\"text-align: right;\">\n",
       "      <th></th>\n",
       "      <th>charge</th>\n",
       "      <th>number_protons</th>\n",
       "      <th>number_magnesiums</th>\n",
       "      <th>ddg_over_rt</th>\n",
       "      <th>ddg_prime_over_rt</th>\n",
       "      <th>is_major_ms</th>\n",
       "      <th>abundance</th>\n",
       "      <th>abundance_norm</th>\n",
       "      <th>abundance_round</th>\n",
       "    </tr>\n",
       "  </thead>\n",
       "  <tbody>\n",
       "    <tr>\n",
       "      <th>0</th>\n",
       "      <td>-4</td>\n",
       "      <td>38</td>\n",
       "      <td>0</td>\n",
       "      <td>0.000000</td>\n",
       "      <td>645.926732</td>\n",
       "      <td>True</td>\n",
       "      <td>9.949474e-01</td>\n",
       "      <td>1.0</td>\n",
       "      <td>1.0</td>\n",
       "    </tr>\n",
       "    <tr>\n",
       "      <th>1</th>\n",
       "      <td>-3</td>\n",
       "      <td>39</td>\n",
       "      <td>0</td>\n",
       "      <td>-14.137872</td>\n",
       "      <td>651.212141</td>\n",
       "      <td>False</td>\n",
       "      <td>5.039371e-03</td>\n",
       "      <td>0.0</td>\n",
       "      <td>0.0</td>\n",
       "    </tr>\n",
       "    <tr>\n",
       "      <th>2</th>\n",
       "      <td>-2</td>\n",
       "      <td>40</td>\n",
       "      <td>0</td>\n",
       "      <td>-26.963271</td>\n",
       "      <td>657.156420</td>\n",
       "      <td>False</td>\n",
       "      <td>1.320713e-05</td>\n",
       "      <td>0.0</td>\n",
       "      <td>0.0</td>\n",
       "    </tr>\n",
       "    <tr>\n",
       "      <th>3</th>\n",
       "      <td>-1</td>\n",
       "      <td>41</td>\n",
       "      <td>0</td>\n",
       "      <td>-38.130809</td>\n",
       "      <td>664.104959</td>\n",
       "      <td>False</td>\n",
       "      <td>1.267934e-08</td>\n",
       "      <td>0.0</td>\n",
       "      <td>0.0</td>\n",
       "    </tr>\n",
       "    <tr>\n",
       "      <th>4</th>\n",
       "      <td>0</td>\n",
       "      <td>42</td>\n",
       "      <td>0</td>\n",
       "      <td>-46.857607</td>\n",
       "      <td>672.840635</td>\n",
       "      <td>False</td>\n",
       "      <td>2.038171e-12</td>\n",
       "      <td>0.0</td>\n",
       "      <td>0.0</td>\n",
       "    </tr>\n",
       "    <tr>\n",
       "      <th>5</th>\n",
       "      <td>1</td>\n",
       "      <td>43</td>\n",
       "      <td>0</td>\n",
       "      <td>-54.041672</td>\n",
       "      <td>682.465440</td>\n",
       "      <td>False</td>\n",
       "      <td>1.346606e-16</td>\n",
       "      <td>0.0</td>\n",
       "      <td>0.0</td>\n",
       "    </tr>\n",
       "    <tr>\n",
       "      <th>6</th>\n",
       "      <td>2</td>\n",
       "      <td>44</td>\n",
       "      <td>0</td>\n",
       "      <td>-56.137025</td>\n",
       "      <td>696.525357</td>\n",
       "      <td>False</td>\n",
       "      <td>1.054621e-22</td>\n",
       "      <td>0.0</td>\n",
       "      <td>0.0</td>\n",
       "    </tr>\n",
       "    <tr>\n",
       "      <th>7</th>\n",
       "      <td>3</td>\n",
       "      <td>45</td>\n",
       "      <td>0</td>\n",
       "      <td>-58.025144</td>\n",
       "      <td>710.138903</td>\n",
       "      <td>False</td>\n",
       "      <td>1.290650e-28</td>\n",
       "      <td>0.0</td>\n",
       "      <td>0.0</td>\n",
       "    </tr>\n",
       "  </tbody>\n",
       "</table>\n",
       "</div>"
      ],
      "text/plain": [
       "   charge  number_protons  number_magnesiums  ddg_over_rt  ddg_prime_over_rt  \\\n",
       "0      -4              38                  0     0.000000         645.926732   \n",
       "1      -3              39                  0   -14.137872         651.212141   \n",
       "2      -2              40                  0   -26.963271         657.156420   \n",
       "3      -1              41                  0   -38.130809         664.104959   \n",
       "4       0              42                  0   -46.857607         672.840635   \n",
       "5       1              43                  0   -54.041672         682.465440   \n",
       "6       2              44                  0   -56.137025         696.525357   \n",
       "7       3              45                  0   -58.025144         710.138903   \n",
       "\n",
       "   is_major_ms     abundance  abundance_norm  abundance_round  \n",
       "0         True  9.949474e-01             1.0              1.0  \n",
       "1        False  5.039371e-03             0.0              0.0  \n",
       "2        False  1.320713e-05             0.0              0.0  \n",
       "3        False  1.267934e-08             0.0              0.0  \n",
       "4        False  2.038171e-12             0.0              0.0  \n",
       "5        False  1.346606e-16             0.0              0.0  \n",
       "6        False  1.054621e-22             0.0              0.0  \n",
       "7        False  1.290650e-28             0.0              0.0  "
      ]
     },
     "execution_count": 16,
     "metadata": {},
     "output_type": "execute_result"
    }
   ],
   "source": [
    "#to inspect the average charge and protons of a metabolite at the defined compartment pH \n",
    "charge, protons, mg, df = tmodel.metabolites.hydroxybutanoyl_COA_c.average_charge_protons() #other pH can also be defined here i.e pH = Q_(1,'')\n",
    "print('average charge:', charge)\n",
    "print('average protons:', protons)\n",
    "print('average mg:', mg)\n",
    "df"
   ]
  },
  {
   "cell_type": "code",
   "execution_count": 17,
   "metadata": {},
   "outputs": [
    {
     "data": {
      "text/plain": [
       "<Axes: >"
      ]
     },
     "execution_count": 17,
     "metadata": {},
     "output_type": "execute_result"
    },
    {
     "data": {
      "image/png": "[encoded data removed]",
      "text/plain": [
       "<Figure size 640x480 with 1 Axes>"
      ]
     },
     "metadata": {},
     "output_type": "display_data"
    }
   ],
   "source": [
    "df = thermo_flux.tools.drg_tools.pka_graph(tmodel.metabolites.hydroxybutanoyl_COA_c, pMg = Q_(3,''), ionic_strength = Q_(0.25, 'M'), temperature = Q_(298.15,'K'), accuracy=0.1, round_dp=2) \n",
    "#accuracy ignore species <10% abundant, round_dp rounds to decimal places and then renormalises \n",
    "df.plot()"
   ]
  },
  {
   "cell_type": "code",
   "execution_count": 18,
   "metadata": {},
   "outputs": [
    {
     "data": {
      "text/plain": [
       "<Axes: >"
      ]
     },
     "execution_count": 18,
     "metadata": {},
     "output_type": "execute_result"
    },
    {
     "data": {
      "image/png": "[encoded data removed]",
      "text/plain": [
       "<Figure size 640x480 with 1 Axes>"
      ]
     },
     "metadata": {},
     "output_type": "display_data"
    }
   ],
   "source": [
    "df = thermo_flux.tools.drg_tools.pka_graph(tmodel.metabolites.hydroxybutanoyl_COA_c, pMg = Q_(3,''), ionic_strength = Q_(0.25, 'M'), temperature = Q_(298.15,'K'), accuracy=0.0, round_dp=False) \n",
    "df.plot()"
   ]
  },
  {
   "cell_type": "code",
   "execution_count": null,
   "metadata": {},
   "outputs": [],
   "source": []
  },
  {
   "cell_type": "code",
   "execution_count": 19,
   "metadata": {},
   "outputs": [],
   "source": [
    "# !pip install cvxpy"
   ]
  },
  {
   "cell_type": "code",
   "execution_count": 20,
   "metadata": {},
   "outputs": [],
   "source": [
    "import pandas as pd"
   ]
  },
  {
   "cell_type": "code",
   "execution_count": 21,
   "metadata": {},
   "outputs": [
    {
     "name": "stdout",
     "output_type": "stream",
     "text": [
      "Identifying compounds...\n",
      "[████████████████████████████████████████] 862/862 hydroxybutanoate_c                                                                                                                                                                                                                                                                                                                                                                                                                                                                                                                                                     \n",
      "\n",
      "Estimating dfG0'...\n",
      "[████████████████████████████████████████] 862/862 hydroxybutanoate_c                                                                                                                                                                             \n",
      "\n",
      "Estimating drG0'...\n",
      "[████████████████████████████████████....] 937/1013 CHORISMATEMUT_RXN_c                                                                                                                                                              \r"
     ]
    },
    {
     "name": "stderr",
     "output_type": "stream",
     "text": [
      "/home/corinna/Documents/thermo_flux_test/thermoflux2/thermo_flux/thermo_flux/core/model.py:168: UserWarning: Allantoin_tx is not balanced and could not be automatically balanced, please check reaction stoichiometry\n",
      "  drg_transport, dg_protons, dg_electrostatic = drg_tools.calc_drGtransport(rxn,  round_dp = round_dp)\n"
     ]
    },
    {
     "name": "stdout",
     "output_type": "stream",
     "text": [
      "[██████████████████████████████████████..] 968/1013 EX_charge                                    \r"
     ]
    },
    {
     "name": "stderr",
     "output_type": "stream",
     "text": [
      "/home/corinna/Documents/thermo_flux_test/thermoflux2/thermo_flux/thermo_flux/core/model.py:168: UserWarning: Allantoin_ec is not balanced and could not be automatically balanced, please check reaction stoichiometry\n",
      "  drg_transport, dg_protons, dg_electrostatic = drg_tools.calc_drGtransport(rxn,  round_dp = round_dp)\n"
     ]
    },
    {
     "name": "stdout",
     "output_type": "stream",
     "text": [
      "[████████████████████████████████████████] 1013/1013 hydroxybutyrate_CoA_ligase_c                      \n",
      "\n"
     ]
    }
   ],
   "source": [
    "tmodel.update_thermo_info()"
   ]
  },
  {
   "cell_type": "code",
   "execution_count": 22,
   "metadata": {},
   "outputs": [
    {
     "data": {
      "text/html": [
       "\n",
       "        <table>\n",
       "            <tr>\n",
       "                <td><strong>Name</strong></td>\n",
       "                <td>PlantCoreMetabolism_v2_1_0</td>\n",
       "            </tr><tr>\n",
       "                <td><strong>Memory address</strong></td>\n",
       "                <td>7f4096501a50</td>\n",
       "            </tr><tr>\n",
       "                <td><strong>Number of metabolites</strong></td>\n",
       "                <td>862</td>\n",
       "            </tr><tr>\n",
       "                <td><strong>Number of reactions</strong></td>\n",
       "                <td>1013</td>\n",
       "            </tr><tr>\n",
       "                <td><strong>Number of genes</strong></td>\n",
       "                <td>0</td>\n",
       "            </tr><tr>\n",
       "                <td><strong>Number of groups</strong></td>\n",
       "                <td>208</td>\n",
       "            </tr><tr>\n",
       "                <td><strong>Objective expression</strong></td>\n",
       "                <td>1.0*Phloem_output_tx - 1.0*Phloem_output_tx_reverse_990b1</td>\n",
       "            </tr><tr>\n",
       "                <td><strong>Compartments</strong></td>\n",
       "                <td>Mitochondrion, Cytoplasm, Biomass, Plastid, Vacuole, Peroxisome, Endoplasmic reticulum, Extracellular, Thylakoid, Mitochondrial intermembrane space, Mitochondrion innermembrane interacting with cristal space</td>\n",
       "            </tr>\n",
       "          </table>"
      ],
      "text/plain": [
       "<ThermoModel PlantCoreMetabolism_v2_1_0 at 0x7f4096501a50>"
      ]
     },
     "execution_count": 22,
     "metadata": {},
     "output_type": "execute_result"
    }
   ],
   "source": [
    "tmodel"
   ]
  },
  {
   "cell_type": "code",
   "execution_count": 23,
   "metadata": {},
   "outputs": [],
   "source": [
    "#concentration data all in M \n",
    "ConcLimits_df = pd.read_excel('plant_conc_limits.xlsx', \n",
    "                   header=[0,1], \n",
    "                   index_col=[0]                   \n",
    "                   )\n",
    "\n",
    "for met in tmodel.metabolites:\n",
    "    if met.id[:-2] in list(ConcLimits_df.index):\n",
    "        if met.id[:-2] not in ['charge', 'PROTON']:\n",
    "            ub = (ConcLimits_df.loc[met.id[:-2]][(met.compartment,'up')])\n",
    "            lb = (ConcLimits_df.loc[met.id[:-2]][(met.compartment,'lo')])\n",
    "            met.upper_bound = Q_(ub,'M')\n",
    "            met.lower_bound = Q_(lb,'M')"
   ]
  },
  {
   "cell_type": "code",
   "execution_count": 24,
   "metadata": {},
   "outputs": [
    {
     "name": "stdout",
     "output_type": "stream",
     "text": [
      "Set parameter NonConvex to value 2\n",
      "Set parameter TimeLimit to value 10\n"
     ]
    }
   ],
   "source": [
    "tmodel.m = None #reset the gurobi model object in case you're re-running this cell \n",
    "tmodel.add_TFBA_variables(gdiss_constraint = False, qnorm=1,error_type='covariance')"
   ]
  },
  {
   "cell_type": "code",
   "execution_count": 25,
   "metadata": {
    "scrolled": true
   },
   "outputs": [
    {
     "name": "stdout",
     "output_type": "stream",
     "text": [
      "[........................................] 4/1013 sCIT_biomass                                   \r"
     ]
    },
    {
     "name": "stderr",
     "output_type": "stream",
     "text": [
      "/home/corinna/anaconda3/envs/thermoflux2/lib/python3.10/site-packages/cvxpy/reductions/solvers/solving_chain.py:336: FutureWarning: \n",
      "    Your problem is being solved with the ECOS solver by default. Starting in \n",
      "    CVXPY 1.5.0, Clarabel will be used as the default solver instead. To continue \n",
      "    using ECOS, specify the ECOS solver explicitly using the ``solver=cp.ECOS`` \n",
      "    argument to the ``problem.solve`` method.\n",
      "    \n",
      "  warnings.warn(ECOS_DEPRECATION_MSG, FutureWarning)\n"
     ]
    },
    {
     "name": "stdout",
     "output_type": "stream",
     "text": [
      "[████████████████████████████████████████] 1013/1013 hydroxybutyrate_CoA_ligase_c                                                                                                  \n",
      "\n"
     ]
    }
   ],
   "source": [
    "bounds_df = thermo_flux.solver.gurobi.drG_bounds(tmodel, alpha=0.95) "
   ]
  },
  {
   "cell_type": "code",
   "execution_count": 26,
   "metadata": {},
   "outputs": [
    {
     "data": {
      "text/plain": [
       "lb   -259.934084\n",
       "ub    -14.769097\n",
       "Name: hydroxybutyrate_CoA_ligase_c, dtype: float64"
      ]
     },
     "execution_count": 26,
     "metadata": {},
     "output_type": "execute_result"
    }
   ],
   "source": [
    "bounds_df.T[\"hydroxybutyrate_CoA_ligase_c\"]"
   ]
  },
  {
   "cell_type": "code",
   "execution_count": 27,
   "metadata": {
    "scrolled": true
   },
   "outputs": [
    {
     "data": {
      "text/html": [
       "<table><tbody><tr><th>Magnitude</th><td style='text-align:left;'><pre>[0.0 0.0 0.0 ... 3116.4853615622974 0.0 -216.6533567792951]</pre></td></tr><tr><th>Units</th><td style='text-align:left;'>kilojoule/mole</td></tr></tbody></table>"
      ],
      "text/latex": [
       "$\\begin{pmatrix} &  &  &  &  &  &  &  &  &  &  &  &  &  &  &  &  &  &  &  &  &  &  &  &  &  &  &  &  &  &  &  &  &  &  &  &  &  &  &  &  &  &  &  &  &  &  &  &  &  &  &  &  &  &  &  &  &  &  &  &  &  &  &  &  &  &  &  &  &  &  &  &  &  &  &  &  &  &  &  &  &  &  &  &  &  &  &  &  &  &  &  &  &  &  &  &  &  &  &  &  &  &  &  &  &  &  &  &  &  &  &  &  &  &  &  &  &  &  &  &  &  &  &  &  &  &  &  &  &  &  &  &  &  &  &  &  &  &  &  &  &  &  &  &  &  &  &  &  &  &  &  &  &  &  &  &  &  &  &  &  &  &  &  &  &  &  &  &  &  &  &  &  &  &  &  &  &  &  &  &  &  &  &  &  &  &  &  &  &  &  &  &  &  &  &  &  &  &  &  &  &  &  &  &  &  &  &  &  &  &  &  &  &  &  &  &  &  &  &  &  &  &  &  &  &  &  &  &  &  &  &  &  &  &  &  &  &  &  &  &  &  &  &  &  &  &  &  &  &  &  &  &  &  &  &  &  &  &  &  &  &  &  &  &  &  &  &  &  &  &  &  &  &  &  &  &  &  &  &  &  &  &  &  &  &  &  &  &  &  &  &  &  &  &  &  &  &  &  &  &  &  &  &  &  &  &  &  &  &  &  &  &  &  &  &  &  &  &  &  &  &  &  &  &  &  &  &  &  &  &  &  &  &  &  &  &  &  &  &  &  &  &  &  &  &  &  &  &  &  &  &  &  &  &  &  &  &  &  &  &  &  &  &  &  &  &  &  &  &  &  &  &  &  &  &  &  &  &  &  &  &  &  &  &  &  &  &  &  &  &  &  &  &  &  &  &  &  &  &  &  &  &  &  &  &  &  &  &  &  &  &  &  &  &  &  &  &  &  &  &  &  &  &  &  &  &  &  &  &  &  &  &  &  &  &  &  &  &  &  &  &  &  &  &  &  &  &  &  &  &  &  &  &  &  &  &  &  &  &  &  &  &  &  &  &  &  &  &  &  &  &  &  &  &  &  &  &  &  &  &  &  &  &  &  &  &  &  &  &  &  &  &  &  &  &  &  &  &  &  &  &  &  &  &  &  &  &  &  &  &  &  &  &  &  &  &  &  &  &  &  &  &  &  &  &  &  &  &  &  &  &  &  &  &  &  &  &  &  &  &  &  &  &  &  &  &  &  &  &  &  &  &  &  &  &  &  &  &  &  &  &  &  &  &  &  &  &  &  &  &  &  &  &  &  &  &  &  &  &  &  &  &  &  &  &  &  &  &  &  &  &  &  &  &  &  &  &  &  &  &  &  &  &  &  &  &  &  &  &  &  &  &  &  &  &  &  &  &  &  &  &  &  &  &  &  &  &  &  &  &  &  &  &  &  &  &  &  &  &  &  &  &  &  &  &  &  &  &  &  &  &  &  &  &  &  &  &  &  &  &  &  &  &  &  &  &  &  &  &  &  &  &  &  &  &  &  &  &  &  &  &  &  &  &  &  &  &  &  &  &  &  &  &  &  &  &  &  &  &  &  &  &  &  &  &  &  &  &  &  &  &  &  &  &  &  &  &  &  &  &  &  &  &  &  &  &  &  &  &  &  &  &  &  &  &  &  &  &  &  &  &  &  &  &  &  &  &  &  &  &  &  &  &  &  &  &  &  &  &  &  &  &  &  &  &  &  &  &  &  &  &  &  &  &  &  &  &  &  &  &  &  &  &  &  &  &  &  &  &  &  &  &  &  &  &  &  &  &  &  &  &  &  &  &  &  &  &  &  &  &  &  &  &  &  &  &  &  &  &  &  &  &  &  &  &  &  &  &  &  &  &  &  &  &  &  &  &  &  &  &  &  &  &  &  &  &  &  &  &  &  &  &  &  &  &  &  &  &  &  &  &  &  &  &  &  &  &  &  &  &  &  &  &  &  &  &  &  &  &  &  &  &  &  &  &  &  &  &  &  &  &  &  &  &  &  &  &  &  &  &  &  &  &  &  &  &  &  &  &  &  &  &  &  &  &  &  &  &  &  &  &  &  &  &  &  &  &  &  &  &  &  &  &  &  &  &  &  &  &  &  &  &  &  &  &  &  &  &  &  &  &  &  &  &  &  &  &  &  &  &  &  &  &  &  &  &  &  &  &  &  &  &  &  &  &  &  &  &  &  &  &  &  &  &  &  &  &  &  &  &  &  &  &  &  &  &  &  &  &  &  &  &  &  &  &  &  &  &  &  &  &  & \\end{pmatrix}\\ \\frac{\\mathrm{kilojoule}}{\\mathrm{mole}}$"
      ],
      "text/plain": [
       "array([   0.        ,    0.        ,    0.        , ..., 3116.48536156,\n",
       "          0.        , -216.65335678]) <Unit('kilojoule / mole')>"
      ]
     },
     "execution_count": 27,
     "metadata": {},
     "output_type": "execute_result"
    }
   ],
   "source": [
    "thermo_flux.tools.drg_tools.calc_model_drG0(tmodel)"
   ]
  },
  {
   "cell_type": "code",
   "execution_count": 28,
   "metadata": {},
   "outputs": [
    {
     "data": {
      "text/plain": [
       "{'m': 3 <Unit('dimensionless')>,\n",
       " 'c': 3 <Unit('dimensionless')>,\n",
       " 'b': 3 <Unit('dimensionless')>,\n",
       " 'p': 3 <Unit('dimensionless')>,\n",
       " 'v': 3 <Unit('dimensionless')>,\n",
       " 'x': 3 <Unit('dimensionless')>,\n",
       " 'r': 3 <Unit('dimensionless')>,\n",
       " 'e': 3 <Unit('dimensionless')>,\n",
       " 'l': 3 <Unit('dimensionless')>,\n",
       " 'i': 3 <Unit('dimensionless')>,\n",
       " 'mi': 3 <Unit('dimensionless')>}"
      ]
     },
     "execution_count": 28,
     "metadata": {},
     "output_type": "execute_result"
    }
   ],
   "source": [
    "tmodel.pMg"
   ]
  },
  {
   "cell_type": "markdown",
   "metadata": {},
   "source": [
    "# CETCH cycle"
   ]
  },
  {
   "cell_type": "code",
   "execution_count": 29,
   "metadata": {
    "scrolled": true
   },
   "outputs": [
    {
     "name": "stderr",
     "output_type": "stream",
     "text": [
      "ERROR:cobra.io.sbml:'' is not a valid SBML 'SId'.\n",
      "WARNING:cobra.io.sbml:https://identifiers.org/Enzyme Commission Summary/ does not conform to 'http(s)://identifiers.org/collection/id' or'http(s)://identifiers.org/COLLECTION:id\n",
      "WARNING:cobra.io.sbml:https://identifiers.org/ec-code/ does not conform to 'http(s)://identifiers.org/collection/id' or'http(s)://identifiers.org/COLLECTION:id\n",
      "WARNING:cobra.io.sbml:https://identifiers.org/Enzyme Commission Summary/ does not conform to 'http(s)://identifiers.org/collection/id' or'http(s)://identifiers.org/COLLECTION:id\n",
      "WARNING:cobra.io.sbml:https://identifiers.org/ec-code/ does not conform to 'http(s)://identifiers.org/collection/id' or'http(s)://identifiers.org/COLLECTION:id\n",
      "WARNING:cobra.io.sbml:https://identifiers.org/Enzyme Commission Summary/ does not conform to 'http(s)://identifiers.org/collection/id' or'http(s)://identifiers.org/COLLECTION:id\n",
      "WARNING:cobra.io.sbml:https://identifiers.org/ec-code/ does not conform to 'http(s)://identifiers.org/collection/id' or'http(s)://identifiers.org/COLLECTION:id\n",
      "WARNING:cobra.io.sbml:https://identifiers.org/Enzyme Commission Summary/ does not conform to 'http(s)://identifiers.org/collection/id' or'http(s)://identifiers.org/COLLECTION:id\n",
      "WARNING:cobra.io.sbml:https://identifiers.org/ec-code/ does not conform to 'http(s)://identifiers.org/collection/id' or'http(s)://identifiers.org/COLLECTION:id\n",
      "WARNING:cobra.io.sbml:https://identifiers.org/Enzyme Commission Summary/ does not conform to 'http(s)://identifiers.org/collection/id' or'http(s)://identifiers.org/COLLECTION:id\n",
      "WARNING:cobra.io.sbml:https://identifiers.org/ec-code/ does not conform to 'http(s)://identifiers.org/collection/id' or'http(s)://identifiers.org/COLLECTION:id\n",
      "WARNING:cobra.io.sbml:https://identifiers.org/Enzyme Commission Summary/ does not conform to 'http(s)://identifiers.org/collection/id' or'http(s)://identifiers.org/COLLECTION:id\n",
      "WARNING:cobra.io.sbml:https://identifiers.org/ec-code/ does not conform to 'http(s)://identifiers.org/collection/id' or'http(s)://identifiers.org/COLLECTION:id\n",
      "WARNING:cobra.io.sbml:https://identifiers.org/Enzyme Commission Summary/ does not conform to 'http(s)://identifiers.org/collection/id' or'http(s)://identifiers.org/COLLECTION:id\n",
      "WARNING:cobra.io.sbml:https://identifiers.org/ec-code/ does not conform to 'http(s)://identifiers.org/collection/id' or'http(s)://identifiers.org/COLLECTION:id\n",
      "WARNING:cobra.io.sbml:https://identifiers.org/Enzyme Commission Summary/ does not conform to 'http(s)://identifiers.org/collection/id' or'http(s)://identifiers.org/COLLECTION:id\n",
      "WARNING:cobra.io.sbml:https://identifiers.org/ec-code/ does not conform to 'http(s)://identifiers.org/collection/id' or'http(s)://identifiers.org/COLLECTION:id\n",
      "WARNING:cobra.io.sbml:https://identifiers.org/Enzyme Commission Summary/ does not conform to 'http(s)://identifiers.org/collection/id' or'http(s)://identifiers.org/COLLECTION:id\n",
      "WARNING:cobra.io.sbml:https://identifiers.org/ec-code/ does not conform to 'http(s)://identifiers.org/collection/id' or'http(s)://identifiers.org/COLLECTION:id\n",
      "WARNING:cobra.io.sbml:https://identifiers.org/Enzyme Commission Summary/ does not conform to 'http(s)://identifiers.org/collection/id' or'http(s)://identifiers.org/COLLECTION:id\n",
      "WARNING:cobra.io.sbml:https://identifiers.org/ec-code/ does not conform to 'http(s)://identifiers.org/collection/id' or'http(s)://identifiers.org/COLLECTION:id\n",
      "WARNING:cobra.io.sbml:https://identifiers.org/Enzyme Commission Summary/ does not conform to 'http(s)://identifiers.org/collection/id' or'http(s)://identifiers.org/COLLECTION:id\n",
      "WARNING:cobra.io.sbml:https://identifiers.org/ec-code/ does not conform to 'http(s)://identifiers.org/collection/id' or'http(s)://identifiers.org/COLLECTION:id\n",
      "WARNING:cobra.io.sbml:https://identifiers.org/Enzyme Commission Summary/ does not conform to 'http(s)://identifiers.org/collection/id' or'http(s)://identifiers.org/COLLECTION:id\n",
      "WARNING:cobra.io.sbml:https://identifiers.org/ec-code/ does not conform to 'http(s)://identifiers.org/collection/id' or'http(s)://identifiers.org/COLLECTION:id\n",
      "WARNING:cobra.io.sbml:https://identifiers.org/Enzyme Commission Summary/ does not conform to 'http(s)://identifiers.org/collection/id' or'http(s)://identifiers.org/COLLECTION:id\n",
      "WARNING:cobra.io.sbml:https://identifiers.org/ec-code/ does not conform to 'http(s)://identifiers.org/collection/id' or'http(s)://identifiers.org/COLLECTION:id\n",
      "WARNING:cobra.io.sbml:https://identifiers.org/Enzyme Commission Summary/ does not conform to 'http(s)://identifiers.org/collection/id' or'http(s)://identifiers.org/COLLECTION:id\n"
     ]
    },
    {
     "data": {
      "text/html": [
       "<h3>Objective</h3><p>1.0 MALSYN_RXN = 250.0</p><h4>Uptake</h4><table border=\"1\" class=\"dataframe\">\n",
       "  <thead>\n",
       "    <tr style=\"text-align: right;\">\n",
       "      <th>Metabolite</th>\n",
       "      <th>Reaction</th>\n",
       "      <th>Flux</th>\n",
       "      <th>C-Number</th>\n",
       "      <th>C-Flux</th>\n",
       "    </tr>\n",
       "  </thead>\n",
       "  <tbody>\n",
       "    <tr>\n",
       "      <td>ACETYL_COA</td>\n",
       "      <td>ACETYL_COA_tx</td>\n",
       "      <td>250</td>\n",
       "      <td>23</td>\n",
       "      <td>19.33%</td>\n",
       "    </tr>\n",
       "    <tr>\n",
       "      <td>ATP</td>\n",
       "      <td>ATP_tx</td>\n",
       "      <td>250</td>\n",
       "      <td>10</td>\n",
       "      <td>8.40%</td>\n",
       "    </tr>\n",
       "    <tr>\n",
       "      <td>CARBON_DIOXIDE</td>\n",
       "      <td>CO2_tx</td>\n",
       "      <td>500</td>\n",
       "      <td>1</td>\n",
       "      <td>1.68%</td>\n",
       "    </tr>\n",
       "    <tr>\n",
       "      <td>NADPH</td>\n",
       "      <td>NADPH_tx</td>\n",
       "      <td>1000</td>\n",
       "      <td>21</td>\n",
       "      <td>70.59%</td>\n",
       "    </tr>\n",
       "    <tr>\n",
       "      <td>OXYGEN_MOLECULE</td>\n",
       "      <td>OXYGEN_MOLECULE_tx</td>\n",
       "      <td>500</td>\n",
       "      <td>0</td>\n",
       "      <td>0.00%</td>\n",
       "    </tr>\n",
       "    <tr>\n",
       "      <td>PROTON</td>\n",
       "      <td>PROTON_tx</td>\n",
       "      <td>250</td>\n",
       "      <td>0</td>\n",
       "      <td>0.00%</td>\n",
       "    </tr>\n",
       "    <tr>\n",
       "      <td>WATER</td>\n",
       "      <td>WATER_tx</td>\n",
       "      <td>250</td>\n",
       "      <td>0</td>\n",
       "      <td>0.00%</td>\n",
       "    </tr>\n",
       "  </tbody>\n",
       "</table><h4>Secretion</h4><table border=\"1\" class=\"dataframe\">\n",
       "  <thead>\n",
       "    <tr style=\"text-align: right;\">\n",
       "      <th>Metabolite</th>\n",
       "      <th>Reaction</th>\n",
       "      <th>Flux</th>\n",
       "      <th>C-Number</th>\n",
       "      <th>C-Flux</th>\n",
       "    </tr>\n",
       "  </thead>\n",
       "  <tbody>\n",
       "    <tr>\n",
       "      <td>ADP</td>\n",
       "      <td>ADP_tx</td>\n",
       "      <td>-250</td>\n",
       "      <td>10</td>\n",
       "      <td>8.40%</td>\n",
       "    </tr>\n",
       "    <tr>\n",
       "      <td>CO_A</td>\n",
       "      <td>CO_A_tx</td>\n",
       "      <td>-250</td>\n",
       "      <td>21</td>\n",
       "      <td>17.65%</td>\n",
       "    </tr>\n",
       "    <tr>\n",
       "      <td>HYDROGEN_PEROXIDE</td>\n",
       "      <td>HYDROGEN_PEROXIDE_tx</td>\n",
       "      <td>-500</td>\n",
       "      <td>0</td>\n",
       "      <td>0.00%</td>\n",
       "    </tr>\n",
       "    <tr>\n",
       "      <td>MAL</td>\n",
       "      <td>MAL_tx</td>\n",
       "      <td>-250</td>\n",
       "      <td>4</td>\n",
       "      <td>3.36%</td>\n",
       "    </tr>\n",
       "    <tr>\n",
       "      <td>NADP</td>\n",
       "      <td>NADP_tx</td>\n",
       "      <td>-1000</td>\n",
       "      <td>21</td>\n",
       "      <td>70.59%</td>\n",
       "    </tr>\n",
       "    <tr>\n",
       "      <td>Pi</td>\n",
       "      <td>Pi_tx</td>\n",
       "      <td>-250</td>\n",
       "      <td>0</td>\n",
       "      <td>0.00%</td>\n",
       "    </tr>\n",
       "  </tbody>\n",
       "</table>"
      ],
      "text/plain": [
       "<cobra.summary.model_summary.ModelSummary at 0x7f4091d076a0>"
      ]
     },
     "execution_count": 29,
     "metadata": {},
     "output_type": "execute_result"
    }
   ],
   "source": [
    "model = cobra.io.read_sbml_model(r\"CETCH_cycle_exchange.xml\")\n",
    "model.objective = model.reactions.MALSYN_RXN\n",
    "sol = model.optimize()\n",
    "model.summary(sol)"
   ]
  },
  {
   "cell_type": "code",
   "execution_count": 30,
   "metadata": {},
   "outputs": [],
   "source": [
    "tmodel = ThermoModel(model, split_biomass=False, add_charge_exchange=False) #flags prevent modifications that are important for thermodynamc analysis and charge balancing but we don't need them here"
   ]
  },
  {
   "cell_type": "code",
   "execution_count": 31,
   "metadata": {},
   "outputs": [
    {
     "data": {
      "text/html": [
       "\n",
       "        <table>\n",
       "            <tr>\n",
       "                <td><strong>Name</strong></td>\n",
       "                <td></td>\n",
       "            </tr><tr>\n",
       "                <td><strong>Memory address</strong></td>\n",
       "                <td>7f4091d86710</td>\n",
       "            </tr><tr>\n",
       "                <td><strong>Number of metabolites</strong></td>\n",
       "                <td>28</td>\n",
       "            </tr><tr>\n",
       "                <td><strong>Number of reactions</strong></td>\n",
       "                <td>27</td>\n",
       "            </tr><tr>\n",
       "                <td><strong>Number of genes</strong></td>\n",
       "                <td>0</td>\n",
       "            </tr><tr>\n",
       "                <td><strong>Number of groups</strong></td>\n",
       "                <td>0</td>\n",
       "            </tr><tr>\n",
       "                <td><strong>Objective expression</strong></td>\n",
       "                <td>1.0*MALSYN_RXN - 1.0*MALSYN_RXN_reverse_25886</td>\n",
       "            </tr><tr>\n",
       "                <td><strong>Compartments</strong></td>\n",
       "                <td>u</td>\n",
       "            </tr>\n",
       "          </table>"
      ],
      "text/plain": [
       "<ThermoModel  at 0x7f4091d86710>"
      ]
     },
     "execution_count": 31,
     "metadata": {},
     "output_type": "execute_result"
    }
   ],
   "source": [
    "tmodel"
   ]
  },
  {
   "cell_type": "code",
   "execution_count": 32,
   "metadata": {},
   "outputs": [
    {
     "data": {
      "text/plain": [
       "[<ThermoMetabolite GLYOX at 0x7f4091d86a40>,\n",
       " <ThermoMetabolite WATER at 0x7f4091d86e90>,\n",
       " <ThermoMetabolite ACETYL_COA at 0x7f4091d87340>,\n",
       " <ThermoMetabolite PROTON at 0x7f4091d86560>,\n",
       " <ThermoMetabolite MAL at 0x7f4091d874c0>,\n",
       " <ThermoMetabolite CO_A at 0x7f4091d87460>,\n",
       " <ThermoMetabolite ATP at 0x7f4091d874f0>,\n",
       " <ThermoMetabolite 4_HYDROXY_BUTYRATE at 0x7f4091d87520>,\n",
       " <ThermoMetabolite 4_HYDROXY_BUTYRYL_COA at 0x7f4091d87550>,\n",
       " <ThermoMetabolite ADP at 0x7f4091d87580>,\n",
       " <ThermoMetabolite Pi at 0x7f4091d875b0>,\n",
       " <ThermoMetabolite NADP at 0x7f4091d875e0>,\n",
       " <ThermoMetabolite NADPH at 0x7f4091d87610>,\n",
       " <ThermoMetabolite SUCC_S_ALD at 0x7f4091d87640>,\n",
       " <ThermoMetabolite OXYGEN_MOLECULE at 0x7f4091d87670>,\n",
       " <ThermoMetabolite CPD_9407 at 0x7f4091d876a0>,\n",
       " <ThermoMetabolite CPD_9408 at 0x7f4091d876d0>,\n",
       " <ThermoMetabolite HYDROGEN_PEROXIDE at 0x7f4091d87700>,\n",
       " <ThermoMetabolite PROPIONYL_COA at 0x7f4091d87730>,\n",
       " <ThermoMetabolite ACRYLYL_COA at 0x7f4091d87760>,\n",
       " <ThermoMetabolite CPD_9406 at 0x7f4091d87790>,\n",
       " <ThermoMetabolite CROTONYL_COA at 0x7f4091d877c0>,\n",
       " <ThermoMetabolite CARBON_DIOXIDE at 0x7f4091d877f0>,\n",
       " <ThermoMetabolite CPD_17635 at 0x7f4091d87820>,\n",
       " <ThermoMetabolite CPD_9409 at 0x7f4091d87850>,\n",
       " <ThermoMetabolite METHYL_MALONYL_COA at 0x7f4091d87880>,\n",
       " <ThermoMetabolite SUC_COA at 0x7f4091d878b0>,\n",
       " <ThermoMetabolite CPD_226 at 0x7f4091d878e0>]"
      ]
     },
     "execution_count": 32,
     "metadata": {},
     "output_type": "execute_result"
    }
   ],
   "source": [
    "tmodel.metabolites"
   ]
  },
  {
   "cell_type": "code",
   "execution_count": 33,
   "metadata": {},
   "outputs": [],
   "source": [
    "#set the pH of each compartment\n",
    "tmodel.pH = {'m': Q_(8.1),\n",
    " 'c': Q_(7.3),\n",
    " 'b': Q_(7.3),\n",
    " 'p': Q_(8.0),\n",
    " 'v': Q_(5.2),\n",
    " 'x': Q_(7.5),\n",
    " 'r': Q_(7.1),\n",
    " 'e': Q_(4.7),\n",
    " 'l': Q_(6.0),\n",
    " 'i': Q_(7.3),\n",
    " 'u': Q_(7.0)}\n",
    "\n",
    "#Define a constant ionic strength for each compartment\n",
    "tmodel.I = {comp: Q_(0.25, 'M') for comp in tmodel.compartments}\n",
    "\n",
    "#Set the temperature of the model\n",
    "tmodel.T = Q_(298.15, 'K')\n",
    "\n",
    "#define mebrane potential for each compartment\n",
    "tmodel.phi = {'pl':Q_(0,'V'), \n",
    "               'pc':Q_(-0.111,'V'),\n",
    "               'cm':Q_(-0.160,'V'),\n",
    "               'ce':Q_(0.150,'V'),\n",
    "               'cx':Q_(0,'V'),\n",
    "               'cv':Q_(0.02,'V')}"
   ]
  },
  {
   "cell_type": "code",
   "execution_count": 34,
   "metadata": {},
   "outputs": [
    {
     "data": {
      "text/plain": [
       "{'biocyc': 'META:GLYOX',\n",
       " 'synonyms': ['glyoxalate', 'glyox', 'glyoxylic acid'],\n",
       " 'delta_G_f(kcal': 'mol)/-102.04095',\n",
       " 'inchikey': 'HHLFWLYXYJOTON-UHFFFAOYSA-M',\n",
       " 'InChI': 'InChI=1S/C2H2O3/c3-1-2(4)5/h1H,(H,4,5)/p-1',\n",
       " 'molecular_weight(daltons)': '73.028'}"
      ]
     },
     "execution_count": 34,
     "metadata": {},
     "output_type": "execute_result"
    }
   ],
   "source": [
    "tmodel.metabolites.GLYOX.annotation"
   ]
  },
  {
   "cell_type": "code",
   "execution_count": 35,
   "metadata": {},
   "outputs": [],
   "source": [
    "tmodel.metabolites.GLYOX.annotation ={'biocyc': 'META:GLYOX',\n",
    " 'metacyc.compound': 'GLYOX',\n",
    " 'bigg.metabolite': 'glx',\n",
    " 'chebi': 'CHEBI:16891',\n",
    " 'envipath': '32de3cf4-e3e6-4168-956e-32fa5ddb0ce1/compound/cdffdb1a-3322-4cc1-9171-d857bfaa198a',\n",
    " 'hmdb': 'HMDB00119',\n",
    " 'kegg': 'C00048',\n",
    " 'reactome': '389678.0',\n",
    " 'sabiork.compound': '1838.0',\n",
    " 'seed': 'cpd00040',\n",
    " 'metanetx.chemical': 'MNXM89656',\n",
    " 'synonyms': 'Glyoxylate',\n",
    " 'inchi': 'InChI=1/C2H2O3/c3-1-2(4)5/h1H,(H,4,5)/p-1/fC2HO3/q-1'}"
   ]
  },
  {
   "cell_type": "code",
   "execution_count": 36,
   "metadata": {},
   "outputs": [],
   "source": [
    "tmodel.metabolites.GLYOX.annotation ={'biocyc': 'META:GLYOX',\n",
    " 'inchi': 'InChI=1S/C2H2O3/c3-1-2(4)5/h1H,(H,4,5)/p-1',\n",
    " 'molecular_weight(daltons)': '73.028',\n",
    " 'kegg': 'C00048'}\n",
    "\n"
   ]
  },
  {
   "cell_type": "code",
   "execution_count": 37,
   "metadata": {},
   "outputs": [],
   "source": [
    "for met in tmodel.metabolites:\n",
    "    \n",
    "    met_cmp= met.annotation[\"biocyc\"].replace(\"META:\",\"\")\n",
    "    met.annotation = {\"metacyc.compound\":met_cmp}\n",
    "    "
   ]
  },
  {
   "cell_type": "code",
   "execution_count": 38,
   "metadata": {},
   "outputs": [
    {
     "name": "stdout",
     "output_type": "stream",
     "text": [
      "{'metacyc.compound': 'GLYOX'}\n",
      "{'metacyc.compound': 'WATER'}\n",
      "{'metacyc.compound': 'ACETYL-COA'}\n",
      "{'metacyc.compound': 'PROTON'}\n",
      "{'metacyc.compound': 'MAL'}\n",
      "{'metacyc.compound': 'CO-A'}\n",
      "{'metacyc.compound': 'ATP'}\n",
      "{'metacyc.compound': '4-HYDROXY-BUTYRATE'}\n",
      "{'metacyc.compound': '4-HYDROXY-BUTYRYL-COA'}\n",
      "{'metacyc.compound': 'ADP'}\n",
      "{'metacyc.compound': 'Pi'}\n",
      "{'metacyc.compound': 'NADP'}\n",
      "{'metacyc.compound': 'NADPH'}\n",
      "{'metacyc.compound': 'SUCC-S-ALD'}\n",
      "{'metacyc.compound': 'OXYGEN-MOLECULE'}\n",
      "{'metacyc.compound': ' CPD-9407'}\n",
      "{'metacyc.compound': 'CPD-9408'}\n",
      "{'metacyc.compound': 'HYDROGEN-PEROXIDE'}\n",
      "{'metacyc.compound': 'PROPIONYL-COA'}\n",
      "{'metacyc.compound': 'ACRYLYL-COA'}\n",
      "{'metacyc.compound': 'CPD-9406'}\n",
      "{'metacyc.compound': 'CROTONYL-COA'}\n",
      "{'metacyc.compound': ' CARBON-DIOXIDE'}\n",
      "{'metacyc.compound': 'CPD-17635'}\n",
      "{'metacyc.compound': 'CPD-9409'}\n",
      "{'metacyc.compound': ' METHYL-MALONYL-COA'}\n",
      "{'metacyc.compound': 'SUC-COA'}\n",
      "{'metacyc.compound': 'CPD-226'}\n"
     ]
    }
   ],
   "source": [
    "for met in tmodel.metabolites:\n",
    "    print(met.annotation)"
   ]
  },
  {
   "cell_type": "code",
   "execution_count": 39,
   "metadata": {},
   "outputs": [
    {
     "name": "stdout",
     "output_type": "stream",
     "text": [
      "Initilizing component contribution object...\n",
      "No valid license for cxcalc installed, operating in read-only mode. A local cache may be loaded, but no compounds can be created. Please obtain a ChemAxon license to enable compound creation.\n",
      "Loading compounds from _compound.sqlite\n"
     ]
    },
    {
     "data": {
      "text/plain": [
       "(Compound(id=66, inchi_key=HHLFWLYXYJOTON-UHFFFAOYSA-M), {}, None, None, False)"
      ]
     },
     "execution_count": 39,
     "metadata": {},
     "output_type": "execute_result"
    }
   ],
   "source": [
    "thermo_flux.tools.drg_tools.get_suitable_ids(tmodel.metabolites.GLYOX)"
   ]
  },
  {
   "cell_type": "code",
   "execution_count": 40,
   "metadata": {},
   "outputs": [],
   "source": [
    "tmodel.metabolites.CPD_9407.annotation = {'metacyc.compound': 'CPD-9407'}#, 'kegg': 'C18324'}\n",
    "tmodel.metabolites.METHYL_MALONYL_COA.annotation = {'metacyc.compound': 'METHYL-MALONYL-COA'}#, 'kegg': 'C01213'}\n",
    "tmodel.metabolites.CARBON_DIOXIDE.annotation = {'metacyc.compound': 'CARBON-DIOXIDE'}"
   ]
  },
  {
   "cell_type": "code",
   "execution_count": 41,
   "metadata": {},
   "outputs": [
    {
     "name": "stdout",
     "output_type": "stream",
     "text": [
      "[████████████████████████████████████████] 28/28 CPD_226                              \n",
      "\n"
     ]
    },
    {
     "data": {
      "text/plain": [
       "[]"
      ]
     },
     "execution_count": 41,
     "metadata": {},
     "output_type": "execute_result"
    }
   ],
   "source": [
    "#idnetify all the compounds that are in the model\n",
    "tmodel.get_compounds(search = True, update_annotations = True)"
   ]
  },
  {
   "cell_type": "code",
   "execution_count": 42,
   "metadata": {
    "scrolled": true
   },
   "outputs": [
    {
     "name": "stdout",
     "output_type": "stream",
     "text": [
      "GLYOX\n",
      "WATER\n",
      "ACETYL_COA\n",
      "MAL\n",
      "CO_A\n",
      "ATP\n",
      "4_HYDROXY_BUTYRATE\n",
      "4_HYDROXY_BUTYRYL_COA\n",
      "ADP\n",
      "Pi\n",
      "NADP\n",
      "NADPH\n",
      "SUCC_S_ALD\n",
      "OXYGEN_MOLECULE\n",
      "CPD_9407\n",
      "CPD_9408\n",
      "HYDROGEN_PEROXIDE\n",
      "PROPIONYL_COA\n",
      "ACRYLYL_COA\n",
      "CPD_9406\n",
      "CROTONYL_COA\n",
      "CARBON_DIOXIDE\n",
      "CPD_17635\n",
      "CPD_9409\n",
      "METHYL_MALONYL_COA\n",
      "SUC_COA\n",
      "CPD_226\n"
     ]
    }
   ],
   "source": [
    "#concentration data all in M \n",
    "ConcLimits_df = pd.read_excel('cetch_conc_limits.xlsx', \n",
    "                   header=[0,1], \n",
    "                   index_col=[0]                   \n",
    "                   )\n",
    "\n",
    "for met in tmodel.metabolites:\n",
    "    # if met.id[:-2] in list(ConcLimits_df.index):\n",
    "    #     if met.id[:-2] not in ['charge', 'PROTON']:\n",
    "    if met.id in list(ConcLimits_df.index):\n",
    "        if met.id not in ['charge', 'PROTON']:\n",
    "            # ub = (ConcLimits_df.loc[met.id[:-2]][(met.compartment,'up')])\n",
    "            # lb = (ConcLimits_df.loc[met.id[:-2]][(met.compartment,'lo')])\n",
    "            ub = (ConcLimits_df.loc[met.id][(met.compartment,'up')])\n",
    "            lb = (ConcLimits_df.loc[met.id][(met.compartment,'lo')])\n",
    "            met.upper_bound = Q_(ub,'M')\n",
    "            met.lower_bound = Q_(lb,'M')\n",
    "            print(met.id)"
   ]
  },
  {
   "cell_type": "code",
   "execution_count": 108,
   "metadata": {},
   "outputs": [
    {
     "name": "stdout",
     "output_type": "stream",
     "text": [
      "MALSYN_RXN: ACETYL_COA + GLYOX + WATER --> CO_A + MAL + PROTON\n",
      "RXN_8961: CPD_9409 <=> GLYOX + PROPIONYL_COA\n",
      "RXN_15977: OXYGEN_MOLECULE + PROPIONYL_COA <=> ACRYLYL_COA + HYDROGEN_PEROXIDE\n",
      "RXN_18384: ACRYLYL_COA + CARBON_DIOXIDE + NADH <=> METHYL_MALONYL_COA + NAD\n",
      "METHYLMALONYL_COA_MUT_RXN: METHYL_MALONYL_COA <=> SUC_COA\n",
      "RXN_8891: CO_A + NAD + SUCC_S_ALD <=> NADH + PROTON + SUC_COA\n",
      "RXN_11002: NADH + PROTON + SUCC_S_ALD <=> 4_HYDROXY_BUTYRATE + NAD\n",
      "RXN_18387: 4_HYDROXY_BUTYRATE + ATP + CO_A <=> 4_HYDROXY_BUTYRYL_COA + ADP + Pi\n",
      "RXN_8890: 4_HYDROXY_BUTYRYL_COA <=> CROTONYL_COA + WATER\n",
      "RXN_8957: CARBON_DIOXIDE + CROTONYL_COA + NADH <=> CPD_9406 + NAD\n",
      "RXN_16391: CPD_9406 <=> CPD_17635\n",
      "RXN_8958: CPD_17635 <=> CPD_9407\n",
      "RXN_18381: CPD_9407 + OXYGEN_MOLECULE <=> CPD_9408 + HYDROGEN_PEROXIDE\n",
      "RXN_8960: CPD_9409 <=> CPD_9408 + WATER\n",
      "MAL_tx:  <=> MAL\n",
      "CO2_tx:  <=> CARBON_DIOXIDE\n",
      "ACETYL_COA_tx:  <=> ACETYL_COA\n",
      "ATP_tx:  <=> ATP\n",
      "ADP_tx:  <=> ADP\n",
      "NADPH_tx:  <=> NADH\n",
      "NADP_tx:  <=> NAD\n",
      "PROTON_tx:  <=> PROTON\n",
      "HYDROGEN_PEROXIDE_tx:  <=> HYDROGEN_PEROXIDE\n",
      "OXYGEN_MOLECULE_tx:  <=> OXYGEN_MOLECULE\n",
      "CO_A_tx:  <=> CO_A\n",
      "Pi_tx:  <=> Pi\n",
      "WATER_tx:  <=> WATER\n"
     ]
    }
   ],
   "source": [
    "for rxn in tmodel.reactions:\n",
    "    print(rxn)"
   ]
  },
  {
   "cell_type": "code",
   "execution_count": 43,
   "metadata": {},
   "outputs": [
    {
     "data": {
      "text/plain": [
       "{'u': ''}"
      ]
     },
     "execution_count": 43,
     "metadata": {},
     "output_type": "execute_result"
    }
   ],
   "source": [
    "tmodel.compartments"
   ]
  },
  {
   "cell_type": "code",
   "execution_count": 44,
   "metadata": {},
   "outputs": [
    {
     "name": "stdout",
     "output_type": "stream",
     "text": [
      "Identifying compounds...\n",
      "[████████████████████████████████████████] 28/28 CPD_226                              \n",
      "\n",
      "Estimating dfG0'...\n",
      "[████████████████████████████████████████] 30/30 Mg_u                                 \n",
      "\n",
      "Estimating drG0'...\n",
      "[████████████████████████████████████████] 27/27 WATER_tx                                 \n",
      "\n"
     ]
    }
   ],
   "source": [
    "tmodel.update_thermo_info()"
   ]
  },
  {
   "cell_type": "code",
   "execution_count": 45,
   "metadata": {},
   "outputs": [],
   "source": [
    "# for met in tmodel.metabolites:\n",
    "#     met.lower_bound = Q_(1,'mM')\n",
    "#     met.upper_bound = Q_(1,'mM')"
   ]
  },
  {
   "cell_type": "code",
   "execution_count": 46,
   "metadata": {},
   "outputs": [
    {
     "name": "stdout",
     "output_type": "stream",
     "text": [
      "Set parameter NonConvex to value 2\n",
      "Set parameter TimeLimit to value 10\n"
     ]
    }
   ],
   "source": [
    "tmodel.m = None #reset the gurobi model object in case you're re-running this cell \n",
    "tmodel.add_TFBA_variables(gdiss_constraint = False, qnorm=1,error_type='covariance')"
   ]
  },
  {
   "cell_type": "code",
   "execution_count": 47,
   "metadata": {},
   "outputs": [
    {
     "name": "stdout",
     "output_type": "stream",
     "text": [
      "[█████████████████████████...............] 17/27 ACETYL_COA_tx                            \r"
     ]
    },
    {
     "name": "stderr",
     "output_type": "stream",
     "text": [
      "/home/corinna/anaconda3/envs/thermoflux2/lib/python3.10/site-packages/cvxpy/reductions/solvers/solving_chain.py:336: FutureWarning: \n",
      "    Your problem is being solved with the ECOS solver by default. Starting in \n",
      "    CVXPY 1.5.0, Clarabel will be used as the default solver instead. To continue \n",
      "    using ECOS, specify the ECOS solver explicitly using the ``solver=cp.ECOS`` \n",
      "    argument to the ``problem.solve`` method.\n",
      "    \n",
      "  warnings.warn(ECOS_DEPRECATION_MSG, FutureWarning)\n"
     ]
    },
    {
     "name": "stdout",
     "output_type": "stream",
     "text": [
      "[████████████████████████████████████████] 27/27 WATER_tx                             \n",
      "\n"
     ]
    }
   ],
   "source": [
    "bounds_df = thermo_flux.solver.gurobi.drG_bounds(tmodel, alpha=0.95) "
   ]
  },
  {
   "cell_type": "code",
   "execution_count": 48,
   "metadata": {},
   "outputs": [
    {
     "data": {
      "text/html": [
       "3000 kilojoule/mole"
      ],
      "text/latex": [
       "$3000\\ \\frac{\\mathrm{kilojoule}}{\\mathrm{mole}}$"
      ],
      "text/plain": [
       "3000 <Unit('kilojoule / mole')>"
      ]
     },
     "execution_count": 48,
     "metadata": {},
     "output_type": "execute_result"
    }
   ],
   "source": [
    "tmodel._rmse_inf"
   ]
  },
  {
   "cell_type": "code",
   "execution_count": 49,
   "metadata": {},
   "outputs": [
    {
     "name": "stdout",
     "output_type": "stream",
     "text": [
      "MALSYN_RXN 2.081758617438947 kilojoule / mole\n",
      "RXN_8961 3.0140600870424894 kilojoule / mole\n",
      "RXN_15977 5.308282697132137 kilojoule / mole\n",
      "RXN_18384 4.380841802160132 kilojoule / mole\n",
      "METHYLMALONYL_COA_MUT_RXN 2.073145691421793 kilojoule / mole\n",
      "RXN_8891 2.741059699994797 kilojoule / mole\n",
      "RXN_11002 1.7074524659665746 kilojoule / mole\n",
      "RXN_18387 1.8761154422533108 kilojoule / mole\n",
      "RXN_8890 2.4371689046283436 kilojoule / mole\n",
      "RXN_8957 3.993568120529032 kilojoule / mole\n",
      "RXN_16391 3.697785493223493e-32 kilojoule / mole\n",
      "RXN_8958 4.529975766397789e-16 kilojoule / mole\n",
      "RXN_18381 4.48987935776239 kilojoule / mole\n",
      "RXN_8960 1.9030338036478547 kilojoule / mole\n",
      "MAL_tx 0.9873559681976731 kilojoule / mole\n",
      "CO2_tx 2.9318707535840742 kilojoule / mole\n",
      "ACETYL_COA_tx 7.826810198529089 kilojoule / mole\n",
      "ATP_tx 1.4899855434834717 kilojoule / mole\n",
      "ADP_tx 1.225790908474294 kilojoule / mole\n",
      "NADPH_tx 6.829013246048599 kilojoule / mole\n",
      "NADP_tx 6.831885021911919 kilojoule / mole\n",
      "PROTON_tx 0.0 kilojoule / mole\n",
      "HYDROGEN_PEROXIDE_tx 2.9318707535840547 kilojoule / mole\n",
      "OXYGEN_MOLECULE_tx 2.931870753584163 kilojoule / mole\n",
      "CO_A_tx 7.8671887615452185 kilojoule / mole\n",
      "Pi_tx 0.7487227046582045 kilojoule / mole\n",
      "WATER_tx 0.759034035393981 kilojoule / mole\n"
     ]
    }
   ],
   "source": [
    "for rxn in tmodel.reactions:\n",
    "    print(rxn.id, rxn.drG_SE)"
   ]
  },
  {
   "cell_type": "code",
   "execution_count": 50,
   "metadata": {},
   "outputs": [
    {
     "name": "stdout",
     "output_type": "stream",
     "text": [
      "MALSYN_RXN 0.497552250821928 kilocalorie / mole\n",
      "RXN_8961 0.7203776498667517 kilocalorie / mole\n",
      "RXN_15977 1.2687100136549083 kilocalorie / mole\n",
      "RXN_18384 1.0470463198279474 kilocalorie / mole\n",
      "METHYLMALONYL_COA_MUT_RXN 0.49549371209889886 kilocalorie / mole\n",
      "RXN_8891 0.6551289913945499 kilocalorie / mole\n",
      "RXN_11002 0.40809093354841647 kilocalorie / mole\n",
      "RXN_18387 0.4484023523549978 kilocalorie / mole\n",
      "RXN_8890 0.5824973481425295 kilocalorie / mole\n",
      "RXN_8957 0.9544856884629617 kilocalorie / mole\n",
      "RXN_16391 8.83791943887068e-33 kilocalorie / mole\n",
      "RXN_8958 1.0826901927336972e-16 kilocalorie / mole\n",
      "RXN_18381 1.0731069210713169 kilocalorie / mole\n",
      "RXN_8960 0.4548359951357205 kilocalorie / mole\n",
      "MAL_tx 0.23598374000900407 kilocalorie / mole\n",
      "CO2_tx 0.700733927720859 kilocalorie / mole\n",
      "ACETYL_COA_tx 1.8706525331092467 kilocalorie / mole\n",
      "ATP_tx 0.3561150916547494 kilocalorie / mole\n",
      "ADP_tx 0.2929710584307586 kilocalorie / mole\n",
      "NADPH_tx 1.6321733379657262 kilocalorie / mole\n",
      "NADP_tx 1.6328597088699615 kilocalorie / mole\n",
      "PROTON_tx 0.0 kilocalorie / mole\n",
      "HYDROGEN_PEROXIDE_tx 0.7007339277208543 kilocalorie / mole\n",
      "OXYGEN_MOLECULE_tx 0.7007339277208803 kilocalorie / mole\n",
      "CO_A_tx 1.880303241287098 kilocalorie / mole\n",
      "Pi_tx 0.1789490211898194 kilocalorie / mole\n",
      "WATER_tx 0.18141348838288263 kilocalorie / mole\n"
     ]
    }
   ],
   "source": [
    "for rxn in tmodel.reactions:\n",
    "    print(rxn.id, rxn.drG_SE.to('kcal/mol'))"
   ]
  },
  {
   "cell_type": "code",
   "execution_count": 51,
   "metadata": {},
   "outputs": [
    {
     "name": "stdout",
     "output_type": "stream",
     "text": [
      "charge_u 3000.0 kilojoule / mole {}\n"
     ]
    }
   ],
   "source": [
    "for met in tmodel.metabolites:\n",
    "    if met.dfG_SE >= tmodel._rmse_inf:\n",
    "        print(met.id, met.dfG_SE, met.annotation)"
   ]
  },
  {
   "cell_type": "code",
   "execution_count": 52,
   "metadata": {},
   "outputs": [
    {
     "data": {
      "text/plain": [
       "[CompoundIdentifier(registry=Registry(namespace=chebi), accession=CHEBI:81672),\n",
       " CompoundIdentifier(registry=Registry(namespace=chebi), accession=CHEBI:84866),\n",
       " CompoundIdentifier(registry=Registry(namespace=kegg), accession=C18324),\n",
       " CompoundIdentifier(registry=Registry(namespace=metacyc.compound), accession=CPD-9407),\n",
       " CompoundIdentifier(registry=Registry(namespace=seed), accession=cpd19589),\n",
       " CompoundIdentifier(registry=Registry(namespace=metanetx.chemical), accession=MNXM5823),\n",
       " CompoundIdentifier(registry=Registry(namespace=synonyms), accession=(2S)-methylsuccinyl-CoA),\n",
       " CompoundIdentifier(registry=Registry(namespace=synonyms), accession=(2S)-methylsuccinyl-coenzyme A),\n",
       " CompoundIdentifier(registry=Registry(namespace=synonyms), accession=Methylsuccinyl-CoA),\n",
       " CompoundIdentifier(registry=Registry(namespace=synonyms), accession=Methylsuccinyl-coenzyme A),\n",
       " CompoundIdentifier(registry=Registry(namespace=synonyms), accession=OUFHQHVVFSERRI-VKBDFPRVSA-N),\n",
       " CompoundIdentifier(registry=Registry(namespace=synonyms), accession=(2S)-methylsuccinyl-CoA),\n",
       " CompoundIdentifier(registry=Registry(namespace=synonyms), accession=(2S)-methylsuccinyl-CoA(5-)),\n",
       " CompoundIdentifier(registry=Registry(namespace=synonyms), accession=OUFHQHVVFSERRI-VKBDFPRVSA-I),\n",
       " CompoundIdentifier(registry=Registry(namespace=synonyms), accession=(2S)-Methylsuccinyl-CoA),\n",
       " CompoundIdentifier(registry=Registry(namespace=synonyms), accession=Methylsuccinyl-CoA),\n",
       " CompoundIdentifier(registry=Registry(namespace=synonyms), accession=Methylsuccinyl-coenzyme A),\n",
       " CompoundIdentifier(registry=Registry(namespace=synonyms), accession=(2S)-methylsuccinyl-CoA),\n",
       " CompoundIdentifier(registry=Registry(namespace=synonyms), accession=CPD-9407),\n",
       " CompoundIdentifier(registry=Registry(namespace=synonyms), accession=(2S)-Methylsuccinyl-CoA),\n",
       " CompoundIdentifier(registry=Registry(namespace=synonyms), accession=Methylsuccinyl-CoA),\n",
       " CompoundIdentifier(registry=Registry(namespace=synonyms), accession=Methylsuccinyl-coenzyme A),\n",
       " CompoundIdentifier(registry=Registry(namespace=synonyms), accession=methylsuccinyl-CoA)]"
      ]
     },
     "execution_count": 52,
     "metadata": {},
     "output_type": "execute_result"
    }
   ],
   "source": [
    "tmodel.metabolites.CPD_9407.compound.identifiers"
   ]
  },
  {
   "cell_type": "code",
   "execution_count": 53,
   "metadata": {},
   "outputs": [
    {
     "data": {
      "text/html": [
       "-35.811333743200976 kilojoule/mole"
      ],
      "text/latex": [
       "$-35.811333743200976\\ \\frac{\\mathrm{kilojoule}}{\\mathrm{mole}}$"
      ],
      "text/plain": [
       "-35.811333743200976 <Unit('kilojoule / mole')>"
      ]
     },
     "execution_count": 53,
     "metadata": {},
     "output_type": "execute_result"
    }
   ],
   "source": [
    "tmodel.reactions[0].drG0prime"
   ]
  },
  {
   "cell_type": "code",
   "execution_count": 54,
   "metadata": {},
   "outputs": [
    {
     "name": "stdout",
     "output_type": "stream",
     "text": [
      "MALSYN_RXN -4.468569839502854 kilocalorie / mole 0.497552250821928 kilocalorie / mole\n",
      "RXN_8961 -0.49360430183069526 kilocalorie / mole 0.7203776498667517 kilocalorie / mole\n",
      "RXN_15977 -17.177014785142386 kilocalorie / mole 1.2687100136549083 kilocalorie / mole\n",
      "RXN_18384 -5.669564096372622 kilocalorie / mole 1.0470463198279474 kilocalorie / mole\n",
      "METHYLMALONYL_COA_MUT_RXN -1.9965264980934827 kilocalorie / mole 0.49549371209889886 kilocalorie / mole\n",
      "RXN_8891 1.4475355473939144 kilocalorie / mole 0.6551289913945499 kilocalorie / mole\n",
      "RXN_11002 0.12259569656085906 kilocalorie / mole 0.40809093354841647 kilocalorie / mole\n",
      "RXN_18387 -3.8912020636719005 kilocalorie / mole 0.4484023523549978 kilocalorie / mole\n",
      "RXN_8890 -6.684621090455249 kilocalorie / mole 0.5824973481425295 kilocalorie / mole\n",
      "RXN_8957 -5.43395753440906 kilocalorie / mole 0.9544856884629617 kilocalorie / mole\n",
      "RXN_16391 3.570950243937794e-16 kilocalorie / mole 8.83791943887068e-33 kilocalorie / mole\n",
      "RXN_8958 0.0 kilocalorie / mole 1.0826901927336972e-16 kilocalorie / mole\n",
      "RXN_18381 -18.266455337586287 kilocalorie / mole 1.0731069210713169 kilocalorie / mole\n",
      "RXN_8960 -4.971751188574445 kilocalorie / mole 0.4548359951357205 kilocalorie / mole\n",
      "MAL_tx -166.96364768321973 kilocalorie / mole 0.23598374000900407 kilocalorie / mole\n",
      "CO2_tx -96.34675849300261 kilocalorie / mole 0.700733927720859 kilocalorie / mole\n",
      "ACETYL_COA_tx -448.46094243670535 kilocalorie / mole 1.8706525331092467 kilocalorie / mole\n",
      "ATP_tx -553.3048574154453 kilocalorie / mole 0.3561150916547494 kilocalorie / mole\n",
      "ADP_tx -344.26805055366117 kilocalorie / mole 0.2929710584307586 kilocalorie / mole\n",
      "NADPH_tx -487.9559219938547 kilocalorie / mole 1.6321733379657262 kilocalorie / mole\n",
      "NADP_tx -503.1072174135485 kilocalorie / mole 1.6328597088699615 kilocalorie / mole\n",
      "PROTON_tx 0.0 kilocalorie / mole 0.0 kilocalorie / mole\n",
      "HYDROGEN_PEROXIDE_tx -16.638345491083125 kilocalorie / mole 0.7007339277208543 kilocalorie / mole\n",
      "OXYGEN_MOLECULE_tx -0.1708502712370934 kilocalorie / mole 0.7007339277208803 kilocalorie / mole\n",
      "CO_A_tx -434.54490435905 kilocalorie / mole 1.880303241287098 kilocalorie / mole\n",
      "Pi_tx -257.10758216259455 kilocalorie / mole 0.1789490211898194 kilocalorie / mole\n",
      "WATER_tx -41.530335829513895 kilocalorie / mole 0.18141348838288263 kilocalorie / mole\n"
     ]
    }
   ],
   "source": [
    "for rxn in tmodel.reactions:\n",
    "    print(rxn.id, rxn.drGmprime.to('kcal/mol'), rxn.drG_SE.to('kcal/mol'))"
   ]
  },
  {
   "cell_type": "code",
   "execution_count": 55,
   "metadata": {},
   "outputs": [
    {
     "name": "stdout",
     "output_type": "stream",
     "text": [
      "MALSYN_RXN -4.468569839502854 kilocalorie / mole 0.497552250821928 kilocalorie / mole\n",
      "RXN_8961 -0.49360430183069526 kilocalorie / mole 0.7203776498667517 kilocalorie / mole\n",
      "RXN_15977 -17.177014785142386 kilocalorie / mole 1.2687100136549083 kilocalorie / mole\n",
      "RXN_18384 -5.669564096372622 kilocalorie / mole 1.0470463198279474 kilocalorie / mole\n",
      "METHYLMALONYL_COA_MUT_RXN -1.9965264980934827 kilocalorie / mole 0.49549371209889886 kilocalorie / mole\n",
      "RXN_8891 1.4475355473939144 kilocalorie / mole 0.6551289913945499 kilocalorie / mole\n",
      "RXN_11002 0.12259569656085906 kilocalorie / mole 0.40809093354841647 kilocalorie / mole\n",
      "RXN_18387 -3.8912020636719005 kilocalorie / mole 0.4484023523549978 kilocalorie / mole\n",
      "RXN_8890 -6.684621090455249 kilocalorie / mole 0.5824973481425295 kilocalorie / mole\n",
      "RXN_8957 -5.43395753440906 kilocalorie / mole 0.9544856884629617 kilocalorie / mole\n",
      "RXN_16391 3.570950243937794e-16 kilocalorie / mole 8.83791943887068e-33 kilocalorie / mole\n",
      "RXN_8958 0.0 kilocalorie / mole 1.0826901927336972e-16 kilocalorie / mole\n",
      "RXN_18381 -18.266455337586287 kilocalorie / mole 1.0731069210713169 kilocalorie / mole\n",
      "RXN_8960 -4.971751188574445 kilocalorie / mole 0.4548359951357205 kilocalorie / mole\n",
      "MAL_tx -166.96364768321973 kilocalorie / mole 0.23598374000900407 kilocalorie / mole\n",
      "CO2_tx -96.34675849300261 kilocalorie / mole 0.700733927720859 kilocalorie / mole\n",
      "ACETYL_COA_tx -448.46094243670535 kilocalorie / mole 1.8706525331092467 kilocalorie / mole\n",
      "ATP_tx -553.3048574154453 kilocalorie / mole 0.3561150916547494 kilocalorie / mole\n",
      "ADP_tx -344.26805055366117 kilocalorie / mole 0.2929710584307586 kilocalorie / mole\n",
      "NADPH_tx -487.9559219938547 kilocalorie / mole 1.6321733379657262 kilocalorie / mole\n",
      "NADP_tx -503.1072174135485 kilocalorie / mole 1.6328597088699615 kilocalorie / mole\n",
      "PROTON_tx 0.0 kilocalorie / mole 0.0 kilocalorie / mole\n",
      "HYDROGEN_PEROXIDE_tx -16.638345491083125 kilocalorie / mole 0.7007339277208543 kilocalorie / mole\n",
      "OXYGEN_MOLECULE_tx -0.1708502712370934 kilocalorie / mole 0.7007339277208803 kilocalorie / mole\n",
      "CO_A_tx -434.54490435905 kilocalorie / mole 1.880303241287098 kilocalorie / mole\n",
      "Pi_tx -257.10758216259455 kilocalorie / mole 0.1789490211898194 kilocalorie / mole\n",
      "WATER_tx -41.530335829513895 kilocalorie / mole 0.18141348838288263 kilocalorie / mole\n"
     ]
    }
   ],
   "source": [
    "for rxn in tmodel.reactions:\n",
    "\n",
    "    print(rxn.id, rxn.drGmprime.to('kcal/mol'), rxn.drG_SE.to('kcal/mol'))"
   ]
  },
  {
   "cell_type": "code",
   "execution_count": 56,
   "metadata": {},
   "outputs": [
    {
     "data": {
      "text/plain": [
       "-18.696496208479942"
      ]
     },
     "execution_count": 56,
     "metadata": {},
     "output_type": "execute_result"
    }
   ],
   "source": [
    "tmodel.reactions.MALSYN_RXN.drGmprime.m"
   ]
  },
  {
   "cell_type": "code",
   "execution_count": 57,
   "metadata": {},
   "outputs": [
    {
     "data": {
      "text/plain": [
       "-4.468569839502854"
      ]
     },
     "execution_count": 57,
     "metadata": {},
     "output_type": "execute_result"
    }
   ],
   "source": [
    "tmodel.reactions.MALSYN_RXN.drGmprime.m_as('kcal/mol')"
   ]
  },
  {
   "cell_type": "code",
   "execution_count": 58,
   "metadata": {},
   "outputs": [],
   "source": [
    "drGmprime_df = pd.DataFrame(columns=['reaction','drGmprime','drG_SE'])\n",
    "df_list = []\n",
    "\n",
    "for rxn in tmodel.reactions:\n",
    "    data ={'reaction':rxn.id, 'drGmprime':rxn.drGmprime.m_as('kcal/mol'), 'drG_SE':rxn.drG_SE.m_as('kcal/mol')}\n",
    "    df_list.append(pd.DataFrame(data, index=[0]))\n",
    "\n",
    "drGmprime_df = pd.concat(df_list)\n"
   ]
  },
  {
   "cell_type": "code",
   "execution_count": 59,
   "metadata": {},
   "outputs": [
    {
     "data": {
      "text/html": [
       "<div>\n",
       "<style scoped>\n",
       "    .dataframe tbody tr th:only-of-type {\n",
       "        vertical-align: middle;\n",
       "    }\n",
       "\n",
       "    .dataframe tbody tr th {\n",
       "        vertical-align: top;\n",
       "    }\n",
       "\n",
       "    .dataframe thead th {\n",
       "        text-align: right;\n",
       "    }\n",
       "</style>\n",
       "<table border=\"1\" class=\"dataframe\">\n",
       "  <thead>\n",
       "    <tr style=\"text-align: right;\">\n",
       "      <th></th>\n",
       "      <th>reaction</th>\n",
       "      <th>drGmprime</th>\n",
       "      <th>drG_SE</th>\n",
       "    </tr>\n",
       "  </thead>\n",
       "  <tbody>\n",
       "    <tr>\n",
       "      <th>0</th>\n",
       "      <td>MALSYN_RXN</td>\n",
       "      <td>-4.468570e+00</td>\n",
       "      <td>4.975523e-01</td>\n",
       "    </tr>\n",
       "    <tr>\n",
       "      <th>0</th>\n",
       "      <td>RXN_8961</td>\n",
       "      <td>-4.936043e-01</td>\n",
       "      <td>7.203776e-01</td>\n",
       "    </tr>\n",
       "    <tr>\n",
       "      <th>0</th>\n",
       "      <td>RXN_15977</td>\n",
       "      <td>-1.717701e+01</td>\n",
       "      <td>1.268710e+00</td>\n",
       "    </tr>\n",
       "    <tr>\n",
       "      <th>0</th>\n",
       "      <td>RXN_18384</td>\n",
       "      <td>-5.669564e+00</td>\n",
       "      <td>1.047046e+00</td>\n",
       "    </tr>\n",
       "    <tr>\n",
       "      <th>0</th>\n",
       "      <td>METHYLMALONYL_COA_MUT_RXN</td>\n",
       "      <td>-1.996526e+00</td>\n",
       "      <td>4.954937e-01</td>\n",
       "    </tr>\n",
       "    <tr>\n",
       "      <th>0</th>\n",
       "      <td>RXN_8891</td>\n",
       "      <td>1.447536e+00</td>\n",
       "      <td>6.551290e-01</td>\n",
       "    </tr>\n",
       "    <tr>\n",
       "      <th>0</th>\n",
       "      <td>RXN_11002</td>\n",
       "      <td>1.225957e-01</td>\n",
       "      <td>4.080909e-01</td>\n",
       "    </tr>\n",
       "    <tr>\n",
       "      <th>0</th>\n",
       "      <td>RXN_18387</td>\n",
       "      <td>-3.891202e+00</td>\n",
       "      <td>4.484024e-01</td>\n",
       "    </tr>\n",
       "    <tr>\n",
       "      <th>0</th>\n",
       "      <td>RXN_8890</td>\n",
       "      <td>-6.684621e+00</td>\n",
       "      <td>5.824973e-01</td>\n",
       "    </tr>\n",
       "    <tr>\n",
       "      <th>0</th>\n",
       "      <td>RXN_8957</td>\n",
       "      <td>-5.433958e+00</td>\n",
       "      <td>9.544857e-01</td>\n",
       "    </tr>\n",
       "    <tr>\n",
       "      <th>0</th>\n",
       "      <td>RXN_16391</td>\n",
       "      <td>3.570950e-16</td>\n",
       "      <td>8.837919e-33</td>\n",
       "    </tr>\n",
       "    <tr>\n",
       "      <th>0</th>\n",
       "      <td>RXN_8958</td>\n",
       "      <td>0.000000e+00</td>\n",
       "      <td>1.082690e-16</td>\n",
       "    </tr>\n",
       "    <tr>\n",
       "      <th>0</th>\n",
       "      <td>RXN_18381</td>\n",
       "      <td>-1.826646e+01</td>\n",
       "      <td>1.073107e+00</td>\n",
       "    </tr>\n",
       "    <tr>\n",
       "      <th>0</th>\n",
       "      <td>RXN_8960</td>\n",
       "      <td>-4.971751e+00</td>\n",
       "      <td>4.548360e-01</td>\n",
       "    </tr>\n",
       "    <tr>\n",
       "      <th>0</th>\n",
       "      <td>MAL_tx</td>\n",
       "      <td>-1.669636e+02</td>\n",
       "      <td>2.359837e-01</td>\n",
       "    </tr>\n",
       "    <tr>\n",
       "      <th>0</th>\n",
       "      <td>CO2_tx</td>\n",
       "      <td>-9.634676e+01</td>\n",
       "      <td>7.007339e-01</td>\n",
       "    </tr>\n",
       "    <tr>\n",
       "      <th>0</th>\n",
       "      <td>ACETYL_COA_tx</td>\n",
       "      <td>-4.484609e+02</td>\n",
       "      <td>1.870653e+00</td>\n",
       "    </tr>\n",
       "    <tr>\n",
       "      <th>0</th>\n",
       "      <td>ATP_tx</td>\n",
       "      <td>-5.533049e+02</td>\n",
       "      <td>3.561151e-01</td>\n",
       "    </tr>\n",
       "    <tr>\n",
       "      <th>0</th>\n",
       "      <td>ADP_tx</td>\n",
       "      <td>-3.442681e+02</td>\n",
       "      <td>2.929711e-01</td>\n",
       "    </tr>\n",
       "    <tr>\n",
       "      <th>0</th>\n",
       "      <td>NADPH_tx</td>\n",
       "      <td>-4.879559e+02</td>\n",
       "      <td>1.632173e+00</td>\n",
       "    </tr>\n",
       "    <tr>\n",
       "      <th>0</th>\n",
       "      <td>NADP_tx</td>\n",
       "      <td>-5.031072e+02</td>\n",
       "      <td>1.632860e+00</td>\n",
       "    </tr>\n",
       "    <tr>\n",
       "      <th>0</th>\n",
       "      <td>PROTON_tx</td>\n",
       "      <td>0.000000e+00</td>\n",
       "      <td>0.000000e+00</td>\n",
       "    </tr>\n",
       "    <tr>\n",
       "      <th>0</th>\n",
       "      <td>HYDROGEN_PEROXIDE_tx</td>\n",
       "      <td>-1.663835e+01</td>\n",
       "      <td>7.007339e-01</td>\n",
       "    </tr>\n",
       "    <tr>\n",
       "      <th>0</th>\n",
       "      <td>OXYGEN_MOLECULE_tx</td>\n",
       "      <td>-1.708503e-01</td>\n",
       "      <td>7.007339e-01</td>\n",
       "    </tr>\n",
       "    <tr>\n",
       "      <th>0</th>\n",
       "      <td>CO_A_tx</td>\n",
       "      <td>-4.345449e+02</td>\n",
       "      <td>1.880303e+00</td>\n",
       "    </tr>\n",
       "    <tr>\n",
       "      <th>0</th>\n",
       "      <td>Pi_tx</td>\n",
       "      <td>-2.571076e+02</td>\n",
       "      <td>1.789490e-01</td>\n",
       "    </tr>\n",
       "    <tr>\n",
       "      <th>0</th>\n",
       "      <td>WATER_tx</td>\n",
       "      <td>-4.153034e+01</td>\n",
       "      <td>1.814135e-01</td>\n",
       "    </tr>\n",
       "  </tbody>\n",
       "</table>\n",
       "</div>"
      ],
      "text/plain": [
       "                    reaction     drGmprime        drG_SE\n",
       "0                 MALSYN_RXN -4.468570e+00  4.975523e-01\n",
       "0                   RXN_8961 -4.936043e-01  7.203776e-01\n",
       "0                  RXN_15977 -1.717701e+01  1.268710e+00\n",
       "0                  RXN_18384 -5.669564e+00  1.047046e+00\n",
       "0  METHYLMALONYL_COA_MUT_RXN -1.996526e+00  4.954937e-01\n",
       "0                   RXN_8891  1.447536e+00  6.551290e-01\n",
       "0                  RXN_11002  1.225957e-01  4.080909e-01\n",
       "0                  RXN_18387 -3.891202e+00  4.484024e-01\n",
       "0                   RXN_8890 -6.684621e+00  5.824973e-01\n",
       "0                   RXN_8957 -5.433958e+00  9.544857e-01\n",
       "0                  RXN_16391  3.570950e-16  8.837919e-33\n",
       "0                   RXN_8958  0.000000e+00  1.082690e-16\n",
       "0                  RXN_18381 -1.826646e+01  1.073107e+00\n",
       "0                   RXN_8960 -4.971751e+00  4.548360e-01\n",
       "0                     MAL_tx -1.669636e+02  2.359837e-01\n",
       "0                     CO2_tx -9.634676e+01  7.007339e-01\n",
       "0              ACETYL_COA_tx -4.484609e+02  1.870653e+00\n",
       "0                     ATP_tx -5.533049e+02  3.561151e-01\n",
       "0                     ADP_tx -3.442681e+02  2.929711e-01\n",
       "0                   NADPH_tx -4.879559e+02  1.632173e+00\n",
       "0                    NADP_tx -5.031072e+02  1.632860e+00\n",
       "0                  PROTON_tx  0.000000e+00  0.000000e+00\n",
       "0       HYDROGEN_PEROXIDE_tx -1.663835e+01  7.007339e-01\n",
       "0         OXYGEN_MOLECULE_tx -1.708503e-01  7.007339e-01\n",
       "0                    CO_A_tx -4.345449e+02  1.880303e+00\n",
       "0                      Pi_tx -2.571076e+02  1.789490e-01\n",
       "0                   WATER_tx -4.153034e+01  1.814135e-01"
      ]
     },
     "execution_count": 59,
     "metadata": {},
     "output_type": "execute_result"
    }
   ],
   "source": [
    "drGmprime_df"
   ]
  },
  {
   "cell_type": "code",
   "execution_count": 60,
   "metadata": {},
   "outputs": [],
   "source": [
    "import matplotlib.pyplot as plt\n",
    "\n",
    "import matplotlib.pyplot as plt\n",
    "\n",
    "def plot_reaction(drGmprime_df, reactions_list):\n",
    "    # Get the reaction names and drGmprime values\n",
    "    reactions = drGmprime_df['reaction'].values\n",
    "    drGmprime = drGmprime_df['drGmprime'].values\n",
    "    errors = drGmprime_df['drG_SE'].values\n",
    "\n",
    "    # Filter the reactions based on the provided list\n",
    "    filtered_reactions = [reaction for reaction in reactions if reaction in reactions_list]\n",
    "    filtered_drGmprime = [drGmprime[i] for i, reaction in enumerate(reactions) if reaction in reactions_list]\n",
    "    filtered_errors = [errors[i] for i, reaction in enumerate(reactions) if reaction in reactions_list]\n",
    "\n",
    "    # Plot the filtered drGmprime values with error bars\n",
    "    plt.errorbar(filtered_reactions, filtered_drGmprime, yerr=filtered_errors, fmt='o')\n",
    "\n",
    "    # Set the x-axis label\n",
    "    plt.xlabel('Reaction')\n",
    "\n",
    "    # Set the y-axis label\n",
    "    plt.ylabel('drGmprime')\n",
    "\n",
    "    # Set the title\n",
    "    plt.title('drGmprime vs. Reaction')\n",
    "\n",
    "    # Tilt the x-axis labels by 270 degrees\n",
    "    plt.xticks(rotation=90)\n",
    "\n",
    "    # Show the plot\n",
    "    plt.show()\n"
   ]
  },
  {
   "cell_type": "code",
   "execution_count": 61,
   "metadata": {},
   "outputs": [
    {
     "data": {
      "image/png": "[encoded data removed]",
      "text/plain": [
       "<Figure size 640x480 with 1 Axes>"
      ]
     },
     "metadata": {},
     "output_type": "display_data"
    }
   ],
   "source": [
    "rxn_list1 = [rxn.id for rxn in tmodel.reactions if not rxn.id.endswith(\"_tx\")]\n",
    "\n",
    "plot_reaction(drGmprime_df, rxn_list1)"
   ]
  },
  {
   "cell_type": "code",
   "execution_count": 62,
   "metadata": {},
   "outputs": [
    {
     "data": {
      "text/html": [
       "<table><tbody><tr><th>Magnitude</th><td style='text-align:left;'><pre>[6.9588450478595405 8.67233616377598 -71.95250154839323 -38.05589005295042<br> -7.571646229303951 43.858767604056084 -45.98645811939059<br> -21.483355426267735 -10.195393016173512 -38.990656777847505 0.0 0.0<br> -76.4269889781367 -3.686422011659033 -841.1781113959644<br> -386.0000000000019 -3231.0580128140787 -2811.578331958078<br> -1945.4278989637223 -3070.5260288612576 -3098.931269475794 0.0<br> -133.98848078973268 16.399999999865035 -3091.7676959124556<br> -1095.2054811974629 -238.1367122055623]</pre></td></tr><tr><th>Units</th><td style='text-align:left;'>kilojoule/mole</td></tr></tbody></table>"
      ],
      "text/latex": [
       "$\\begin{pmatrix} &  &  &  &  &  &  &  &  &  &  &  &  &  &  &  &  &  &  &  &  &  &  &  &  &  & \\end{pmatrix}\\ \\frac{\\mathrm{kilojoule}}{\\mathrm{mole}}$"
      ],
      "text/plain": [
       "array([    6.95884505,     8.67233616,   -71.95250155,   -38.05589005,\n",
       "          -7.57164623,    43.8587676 ,   -45.98645812,   -21.48335543,\n",
       "         -10.19539302,   -38.99065678,     0.        ,     0.        ,\n",
       "         -76.42698898,    -3.68642201,  -841.1781114 ,  -386.        ,\n",
       "       -3231.05801281, -2811.57833196, -1945.42789896, -3070.52602886,\n",
       "       -3098.93126948,     0.        ,  -133.98848079,    16.4       ,\n",
       "       -3091.76769591, -1095.2054812 ,  -238.13671221]) <Unit('kilojoule / mole')>"
      ]
     },
     "execution_count": 62,
     "metadata": {},
     "output_type": "execute_result"
    }
   ],
   "source": [
    "thermo_flux.tools.drg_tools.calc_model_drG0(tmodel)"
   ]
  },
  {
   "cell_type": "code",
   "execution_count": 63,
   "metadata": {},
   "outputs": [
    {
     "data": {
      "text/html": [
       "-4.468569839502854 kilocalorie/mole"
      ],
      "text/latex": [
       "$-4.468569839502854\\ \\frac{\\mathrm{kilocalorie}}{\\mathrm{mole}}$"
      ],
      "text/plain": [
       "-4.468569839502854 <Unit('kilocalorie / mole')>"
      ]
     },
     "execution_count": 63,
     "metadata": {},
     "output_type": "execute_result"
    }
   ],
   "source": [
    "tmodel.reactions.MALSYN_RXN.drGmprime.to('kcal/mol')"
   ]
  },
  {
   "cell_type": "code",
   "execution_count": 64,
   "metadata": {},
   "outputs": [
    {
     "data": {
      "text/html": [
       "<table><tbody><tr><th>Magnitude</th><td style='text-align:left;'><pre>[[-15.668769429416612 6.321170901712158]<br> [-9.557122173020543 8.980372418057918]<br> [-31.487371468596884 -2.8666581016878756]<br> [-20.349986533394077 8.600399475591209]<br> [-8.272226283661299 4.27917328747433]<br> [-10.750676948697608 13.235289194786663]<br> [-8.737026658564265 8.982218051685976]<br> [-16.143625359619836 8.361221232276042]<br> [-14.874873528379426 1.9160901961676546]<br> [-19.528146848730575 8.249772923087246]<br> [-3.1374884112949624 3.137488411294964]<br> [-3.1374884112949633 3.1374884112949633]<br> [-31.337959065085187 -5.19495161008738]<br> [-12.353459945130544 2.8204164166804095]<br> [-169.82176640992023 -163.69507010782056]<br> [-102.14837436145469 -90.13468377585178]<br> [-461.6722423932678 -434.8391836314441]<br> [-556.9238285302677 -549.2754274518613]<br> [-347.48709868571433 -340.6385435729092]<br> [-499.65681303012667 -475.8445721088839]<br> [-514.8124555826416 -490.99152039575654]<br> [6.776895989943239e-13 -6.776895989943239e-13]<br> [-22.439961359535165 -10.426270773932336]<br> [-5.972466139689297 6.041224445913856]<br> [-447.81732711380977 -420.8620227555915]<br> [-259.6044712733421 -254.20023420314823]<br> [-44.042833652921104 -38.60737915740797]]</pre></td></tr><tr><th>Units</th><td style='text-align:left;'>kilocalorie/mole</td></tr></tbody></table>"
      ],
      "text/latex": [
       "$\\begin{pmatrix} & \\\\ \n",
       " & \\\\ \n",
       " & \\\\ \n",
       " & \\\\ \n",
       " & \\\\ \n",
       " & \\\\ \n",
       " & \\\\ \n",
       " & \\\\ \n",
       " & \\\\ \n",
       " & \\\\ \n",
       " & \\\\ \n",
       " & \\\\ \n",
       " & \\\\ \n",
       " & \\\\ \n",
       " & \\\\ \n",
       " & \\\\ \n",
       " & \\\\ \n",
       " & \\\\ \n",
       " & \\\\ \n",
       " & \\\\ \n",
       " & \\\\ \n",
       " & \\\\ \n",
       " & \\\\ \n",
       " & \\\\ \n",
       " & \\\\ \n",
       " & \\\\ \n",
       " & \\end{pmatrix}\\ \\frac{\\mathrm{kilocalorie}}{\\mathrm{mole}}$"
      ],
      "text/plain": [
       "array([[-1.56687694e+01,  6.32117090e+00],\n",
       "       [-9.55712217e+00,  8.98037242e+00],\n",
       "       [-3.14873715e+01, -2.86665810e+00],\n",
       "       [-2.03499865e+01,  8.60039948e+00],\n",
       "       [-8.27222628e+00,  4.27917329e+00],\n",
       "       [-1.07506769e+01,  1.32352892e+01],\n",
       "       [-8.73702666e+00,  8.98221805e+00],\n",
       "       [-1.61436254e+01,  8.36122123e+00],\n",
       "       [-1.48748735e+01,  1.91609020e+00],\n",
       "       [-1.95281468e+01,  8.24977292e+00],\n",
       "       [-3.13748841e+00,  3.13748841e+00],\n",
       "       [-3.13748841e+00,  3.13748841e+00],\n",
       "       [-3.13379591e+01, -5.19495161e+00],\n",
       "       [-1.23534599e+01,  2.82041642e+00],\n",
       "       [-1.69821766e+02, -1.63695070e+02],\n",
       "       [-1.02148374e+02, -9.01346838e+01],\n",
       "       [-4.61672242e+02, -4.34839184e+02],\n",
       "       [-5.56923829e+02, -5.49275427e+02],\n",
       "       [-3.47487099e+02, -3.40638544e+02],\n",
       "       [-4.99656813e+02, -4.75844572e+02],\n",
       "       [-5.14812456e+02, -4.90991520e+02],\n",
       "       [ 6.77689599e-13, -6.77689599e-13],\n",
       "       [-2.24399614e+01, -1.04262708e+01],\n",
       "       [-5.97246614e+00,  6.04122445e+00],\n",
       "       [-4.47817327e+02, -4.20862023e+02],\n",
       "       [-2.59604471e+02, -2.54200234e+02],\n",
       "       [-4.40428337e+01, -3.86073792e+01]]) <Unit('kilocalorie / mole')>"
      ]
     },
     "execution_count": 64,
     "metadata": {},
     "output_type": "execute_result"
    }
   ],
   "source": [
    "Q_(bounds_df.values, 'kJ/mol').to('kcal/mol')\n"
   ]
  },
  {
   "cell_type": "code",
   "execution_count": 65,
   "metadata": {},
   "outputs": [
    {
     "data": {
      "text/plain": [
       "array([-1.56687694e+01, -9.55712217e+00, -3.14873715e+01, -2.03499865e+01,\n",
       "       -8.27222628e+00, -1.07506769e+01, -8.73702666e+00, -1.61436254e+01,\n",
       "       -1.48748735e+01, -1.95281468e+01, -3.13748841e+00, -3.13748841e+00,\n",
       "       -3.13379591e+01, -1.23534599e+01, -1.69821766e+02, -1.02148374e+02,\n",
       "       -4.61672242e+02, -5.56923829e+02, -3.47487099e+02, -4.99656813e+02,\n",
       "       -5.14812456e+02,  6.77689599e-13, -2.24399614e+01, -5.97246614e+00,\n",
       "       -4.47817327e+02, -2.59604471e+02, -4.40428337e+01])"
      ]
     },
     "execution_count": 65,
     "metadata": {},
     "output_type": "execute_result"
    }
   ],
   "source": [
    "Q_(bounds_df.values, 'kJ/mol').to('kcal/mol').m.T[0]\n"
   ]
  },
  {
   "cell_type": "code",
   "execution_count": 66,
   "metadata": {},
   "outputs": [
    {
     "data": {
      "text/html": [
       "<div>\n",
       "<style scoped>\n",
       "    .dataframe tbody tr th:only-of-type {\n",
       "        vertical-align: middle;\n",
       "    }\n",
       "\n",
       "    .dataframe tbody tr th {\n",
       "        vertical-align: top;\n",
       "    }\n",
       "\n",
       "    .dataframe thead th {\n",
       "        text-align: right;\n",
       "    }\n",
       "</style>\n",
       "<table border=\"1\" class=\"dataframe\">\n",
       "  <thead>\n",
       "    <tr style=\"text-align: right;\">\n",
       "      <th></th>\n",
       "      <th>lb</th>\n",
       "      <th>ub</th>\n",
       "    </tr>\n",
       "  </thead>\n",
       "  <tbody>\n",
       "    <tr>\n",
       "      <th>MALSYN_RXN</th>\n",
       "      <td>-6.555813e+01</td>\n",
       "      <td>2.644778e+01</td>\n",
       "    </tr>\n",
       "    <tr>\n",
       "      <th>RXN_8961</th>\n",
       "      <td>-3.998700e+01</td>\n",
       "      <td>3.757388e+01</td>\n",
       "    </tr>\n",
       "    <tr>\n",
       "      <th>RXN_15977</th>\n",
       "      <td>-1.317432e+02</td>\n",
       "      <td>-1.199410e+01</td>\n",
       "    </tr>\n",
       "    <tr>\n",
       "      <th>RXN_18384</th>\n",
       "      <td>-8.514434e+01</td>\n",
       "      <td>3.598407e+01</td>\n",
       "    </tr>\n",
       "    <tr>\n",
       "      <th>METHYLMALONYL_COA_MUT_RXN</th>\n",
       "      <td>-3.461099e+01</td>\n",
       "      <td>1.790406e+01</td>\n",
       "    </tr>\n",
       "    <tr>\n",
       "      <th>RXN_8891</th>\n",
       "      <td>-4.498083e+01</td>\n",
       "      <td>5.537645e+01</td>\n",
       "    </tr>\n",
       "    <tr>\n",
       "      <th>RXN_11002</th>\n",
       "      <td>-3.655572e+01</td>\n",
       "      <td>3.758160e+01</td>\n",
       "    </tr>\n",
       "    <tr>\n",
       "      <th>RXN_18387</th>\n",
       "      <td>-6.754493e+01</td>\n",
       "      <td>3.498335e+01</td>\n",
       "    </tr>\n",
       "    <tr>\n",
       "      <th>RXN_8890</th>\n",
       "      <td>-6.223647e+01</td>\n",
       "      <td>8.016921e+00</td>\n",
       "    </tr>\n",
       "    <tr>\n",
       "      <th>RXN_8957</th>\n",
       "      <td>-8.170577e+01</td>\n",
       "      <td>3.451705e+01</td>\n",
       "    </tr>\n",
       "    <tr>\n",
       "      <th>RXN_16391</th>\n",
       "      <td>-1.312725e+01</td>\n",
       "      <td>1.312725e+01</td>\n",
       "    </tr>\n",
       "    <tr>\n",
       "      <th>RXN_8958</th>\n",
       "      <td>-1.312725e+01</td>\n",
       "      <td>1.312725e+01</td>\n",
       "    </tr>\n",
       "    <tr>\n",
       "      <th>RXN_18381</th>\n",
       "      <td>-1.311180e+02</td>\n",
       "      <td>-2.173568e+01</td>\n",
       "    </tr>\n",
       "    <tr>\n",
       "      <th>RXN_8960</th>\n",
       "      <td>-5.168688e+01</td>\n",
       "      <td>1.180062e+01</td>\n",
       "    </tr>\n",
       "    <tr>\n",
       "      <th>MAL_tx</th>\n",
       "      <td>-7.105343e+02</td>\n",
       "      <td>-6.849002e+02</td>\n",
       "    </tr>\n",
       "    <tr>\n",
       "      <th>CO2_tx</th>\n",
       "      <td>-4.273888e+02</td>\n",
       "      <td>-3.771235e+02</td>\n",
       "    </tr>\n",
       "    <tr>\n",
       "      <th>ACETYL_COA_tx</th>\n",
       "      <td>-1.931637e+03</td>\n",
       "      <td>-1.819367e+03</td>\n",
       "    </tr>\n",
       "    <tr>\n",
       "      <th>ATP_tx</th>\n",
       "      <td>-2.330169e+03</td>\n",
       "      <td>-2.298168e+03</td>\n",
       "    </tr>\n",
       "    <tr>\n",
       "      <th>ADP_tx</th>\n",
       "      <td>-1.453886e+03</td>\n",
       "      <td>-1.425232e+03</td>\n",
       "    </tr>\n",
       "    <tr>\n",
       "      <th>NADPH_tx</th>\n",
       "      <td>-2.090564e+03</td>\n",
       "      <td>-1.990934e+03</td>\n",
       "    </tr>\n",
       "    <tr>\n",
       "      <th>NADP_tx</th>\n",
       "      <td>-2.153975e+03</td>\n",
       "      <td>-2.054309e+03</td>\n",
       "    </tr>\n",
       "    <tr>\n",
       "      <th>PROTON_tx</th>\n",
       "      <td>2.835453e-12</td>\n",
       "      <td>-2.835453e-12</td>\n",
       "    </tr>\n",
       "    <tr>\n",
       "      <th>HYDROGEN_PEROXIDE_tx</th>\n",
       "      <td>-9.388880e+01</td>\n",
       "      <td>-4.362352e+01</td>\n",
       "    </tr>\n",
       "    <tr>\n",
       "      <th>OXYGEN_MOLECULE_tx</th>\n",
       "      <td>-2.498880e+01</td>\n",
       "      <td>2.527648e+01</td>\n",
       "    </tr>\n",
       "    <tr>\n",
       "      <th>CO_A_tx</th>\n",
       "      <td>-1.873668e+03</td>\n",
       "      <td>-1.760887e+03</td>\n",
       "    </tr>\n",
       "    <tr>\n",
       "      <th>Pi_tx</th>\n",
       "      <td>-1.086185e+03</td>\n",
       "      <td>-1.063574e+03</td>\n",
       "    </tr>\n",
       "    <tr>\n",
       "      <th>WATER_tx</th>\n",
       "      <td>-1.842752e+02</td>\n",
       "      <td>-1.615333e+02</td>\n",
       "    </tr>\n",
       "  </tbody>\n",
       "</table>\n",
       "</div>"
      ],
      "text/plain": [
       "                                     lb            ub\n",
       "MALSYN_RXN                -6.555813e+01  2.644778e+01\n",
       "RXN_8961                  -3.998700e+01  3.757388e+01\n",
       "RXN_15977                 -1.317432e+02 -1.199410e+01\n",
       "RXN_18384                 -8.514434e+01  3.598407e+01\n",
       "METHYLMALONYL_COA_MUT_RXN -3.461099e+01  1.790406e+01\n",
       "RXN_8891                  -4.498083e+01  5.537645e+01\n",
       "RXN_11002                 -3.655572e+01  3.758160e+01\n",
       "RXN_18387                 -6.754493e+01  3.498335e+01\n",
       "RXN_8890                  -6.223647e+01  8.016921e+00\n",
       "RXN_8957                  -8.170577e+01  3.451705e+01\n",
       "RXN_16391                 -1.312725e+01  1.312725e+01\n",
       "RXN_8958                  -1.312725e+01  1.312725e+01\n",
       "RXN_18381                 -1.311180e+02 -2.173568e+01\n",
       "RXN_8960                  -5.168688e+01  1.180062e+01\n",
       "MAL_tx                    -7.105343e+02 -6.849002e+02\n",
       "CO2_tx                    -4.273888e+02 -3.771235e+02\n",
       "ACETYL_COA_tx             -1.931637e+03 -1.819367e+03\n",
       "ATP_tx                    -2.330169e+03 -2.298168e+03\n",
       "ADP_tx                    -1.453886e+03 -1.425232e+03\n",
       "NADPH_tx                  -2.090564e+03 -1.990934e+03\n",
       "NADP_tx                   -2.153975e+03 -2.054309e+03\n",
       "PROTON_tx                  2.835453e-12 -2.835453e-12\n",
       "HYDROGEN_PEROXIDE_tx      -9.388880e+01 -4.362352e+01\n",
       "OXYGEN_MOLECULE_tx        -2.498880e+01  2.527648e+01\n",
       "CO_A_tx                   -1.873668e+03 -1.760887e+03\n",
       "Pi_tx                     -1.086185e+03 -1.063574e+03\n",
       "WATER_tx                  -1.842752e+02 -1.615333e+02"
      ]
     },
     "execution_count": 66,
     "metadata": {},
     "output_type": "execute_result"
    }
   ],
   "source": [
    "bounds_df"
   ]
  },
  {
   "cell_type": "code",
   "execution_count": 67,
   "metadata": {},
   "outputs": [],
   "source": [
    "bounds_kcal = Q_(bounds_df.values, 'kJ/mol').to('kcal/mol').m"
   ]
  },
  {
   "cell_type": "code",
   "execution_count": 68,
   "metadata": {},
   "outputs": [],
   "source": [
    "bounds_df_kcal = pd.DataFrame(bounds_kcal, index=bounds_df.index, columns=bounds_df.columns)"
   ]
  },
  {
   "cell_type": "code",
   "execution_count": 69,
   "metadata": {},
   "outputs": [
    {
     "data": {
      "text/html": [
       "<div>\n",
       "<style scoped>\n",
       "    .dataframe tbody tr th:only-of-type {\n",
       "        vertical-align: middle;\n",
       "    }\n",
       "\n",
       "    .dataframe tbody tr th {\n",
       "        vertical-align: top;\n",
       "    }\n",
       "\n",
       "    .dataframe thead th {\n",
       "        text-align: right;\n",
       "    }\n",
       "</style>\n",
       "<table border=\"1\" class=\"dataframe\">\n",
       "  <thead>\n",
       "    <tr style=\"text-align: right;\">\n",
       "      <th></th>\n",
       "      <th>lb</th>\n",
       "      <th>ub</th>\n",
       "    </tr>\n",
       "  </thead>\n",
       "  <tbody>\n",
       "    <tr>\n",
       "      <th>MALSYN_RXN</th>\n",
       "      <td>-1.566877e+01</td>\n",
       "      <td>6.321171e+00</td>\n",
       "    </tr>\n",
       "    <tr>\n",
       "      <th>RXN_8961</th>\n",
       "      <td>-9.557122e+00</td>\n",
       "      <td>8.980372e+00</td>\n",
       "    </tr>\n",
       "    <tr>\n",
       "      <th>RXN_15977</th>\n",
       "      <td>-3.148737e+01</td>\n",
       "      <td>-2.866658e+00</td>\n",
       "    </tr>\n",
       "    <tr>\n",
       "      <th>RXN_18384</th>\n",
       "      <td>-2.034999e+01</td>\n",
       "      <td>8.600399e+00</td>\n",
       "    </tr>\n",
       "    <tr>\n",
       "      <th>METHYLMALONYL_COA_MUT_RXN</th>\n",
       "      <td>-8.272226e+00</td>\n",
       "      <td>4.279173e+00</td>\n",
       "    </tr>\n",
       "    <tr>\n",
       "      <th>RXN_8891</th>\n",
       "      <td>-1.075068e+01</td>\n",
       "      <td>1.323529e+01</td>\n",
       "    </tr>\n",
       "    <tr>\n",
       "      <th>RXN_11002</th>\n",
       "      <td>-8.737027e+00</td>\n",
       "      <td>8.982218e+00</td>\n",
       "    </tr>\n",
       "    <tr>\n",
       "      <th>RXN_18387</th>\n",
       "      <td>-1.614363e+01</td>\n",
       "      <td>8.361221e+00</td>\n",
       "    </tr>\n",
       "    <tr>\n",
       "      <th>RXN_8890</th>\n",
       "      <td>-1.487487e+01</td>\n",
       "      <td>1.916090e+00</td>\n",
       "    </tr>\n",
       "    <tr>\n",
       "      <th>RXN_8957</th>\n",
       "      <td>-1.952815e+01</td>\n",
       "      <td>8.249773e+00</td>\n",
       "    </tr>\n",
       "    <tr>\n",
       "      <th>RXN_16391</th>\n",
       "      <td>-3.137488e+00</td>\n",
       "      <td>3.137488e+00</td>\n",
       "    </tr>\n",
       "    <tr>\n",
       "      <th>RXN_8958</th>\n",
       "      <td>-3.137488e+00</td>\n",
       "      <td>3.137488e+00</td>\n",
       "    </tr>\n",
       "    <tr>\n",
       "      <th>RXN_18381</th>\n",
       "      <td>-3.133796e+01</td>\n",
       "      <td>-5.194952e+00</td>\n",
       "    </tr>\n",
       "    <tr>\n",
       "      <th>RXN_8960</th>\n",
       "      <td>-1.235346e+01</td>\n",
       "      <td>2.820416e+00</td>\n",
       "    </tr>\n",
       "    <tr>\n",
       "      <th>MAL_tx</th>\n",
       "      <td>-1.698218e+02</td>\n",
       "      <td>-1.636951e+02</td>\n",
       "    </tr>\n",
       "    <tr>\n",
       "      <th>CO2_tx</th>\n",
       "      <td>-1.021484e+02</td>\n",
       "      <td>-9.013468e+01</td>\n",
       "    </tr>\n",
       "    <tr>\n",
       "      <th>ACETYL_COA_tx</th>\n",
       "      <td>-4.616722e+02</td>\n",
       "      <td>-4.348392e+02</td>\n",
       "    </tr>\n",
       "    <tr>\n",
       "      <th>ATP_tx</th>\n",
       "      <td>-5.569238e+02</td>\n",
       "      <td>-5.492754e+02</td>\n",
       "    </tr>\n",
       "    <tr>\n",
       "      <th>ADP_tx</th>\n",
       "      <td>-3.474871e+02</td>\n",
       "      <td>-3.406385e+02</td>\n",
       "    </tr>\n",
       "    <tr>\n",
       "      <th>NADPH_tx</th>\n",
       "      <td>-4.996568e+02</td>\n",
       "      <td>-4.758446e+02</td>\n",
       "    </tr>\n",
       "    <tr>\n",
       "      <th>NADP_tx</th>\n",
       "      <td>-5.148125e+02</td>\n",
       "      <td>-4.909915e+02</td>\n",
       "    </tr>\n",
       "    <tr>\n",
       "      <th>PROTON_tx</th>\n",
       "      <td>6.776896e-13</td>\n",
       "      <td>-6.776896e-13</td>\n",
       "    </tr>\n",
       "    <tr>\n",
       "      <th>HYDROGEN_PEROXIDE_tx</th>\n",
       "      <td>-2.243996e+01</td>\n",
       "      <td>-1.042627e+01</td>\n",
       "    </tr>\n",
       "    <tr>\n",
       "      <th>OXYGEN_MOLECULE_tx</th>\n",
       "      <td>-5.972466e+00</td>\n",
       "      <td>6.041224e+00</td>\n",
       "    </tr>\n",
       "    <tr>\n",
       "      <th>CO_A_tx</th>\n",
       "      <td>-4.478173e+02</td>\n",
       "      <td>-4.208620e+02</td>\n",
       "    </tr>\n",
       "    <tr>\n",
       "      <th>Pi_tx</th>\n",
       "      <td>-2.596045e+02</td>\n",
       "      <td>-2.542002e+02</td>\n",
       "    </tr>\n",
       "    <tr>\n",
       "      <th>WATER_tx</th>\n",
       "      <td>-4.404283e+01</td>\n",
       "      <td>-3.860738e+01</td>\n",
       "    </tr>\n",
       "  </tbody>\n",
       "</table>\n",
       "</div>"
      ],
      "text/plain": [
       "                                     lb            ub\n",
       "MALSYN_RXN                -1.566877e+01  6.321171e+00\n",
       "RXN_8961                  -9.557122e+00  8.980372e+00\n",
       "RXN_15977                 -3.148737e+01 -2.866658e+00\n",
       "RXN_18384                 -2.034999e+01  8.600399e+00\n",
       "METHYLMALONYL_COA_MUT_RXN -8.272226e+00  4.279173e+00\n",
       "RXN_8891                  -1.075068e+01  1.323529e+01\n",
       "RXN_11002                 -8.737027e+00  8.982218e+00\n",
       "RXN_18387                 -1.614363e+01  8.361221e+00\n",
       "RXN_8890                  -1.487487e+01  1.916090e+00\n",
       "RXN_8957                  -1.952815e+01  8.249773e+00\n",
       "RXN_16391                 -3.137488e+00  3.137488e+00\n",
       "RXN_8958                  -3.137488e+00  3.137488e+00\n",
       "RXN_18381                 -3.133796e+01 -5.194952e+00\n",
       "RXN_8960                  -1.235346e+01  2.820416e+00\n",
       "MAL_tx                    -1.698218e+02 -1.636951e+02\n",
       "CO2_tx                    -1.021484e+02 -9.013468e+01\n",
       "ACETYL_COA_tx             -4.616722e+02 -4.348392e+02\n",
       "ATP_tx                    -5.569238e+02 -5.492754e+02\n",
       "ADP_tx                    -3.474871e+02 -3.406385e+02\n",
       "NADPH_tx                  -4.996568e+02 -4.758446e+02\n",
       "NADP_tx                   -5.148125e+02 -4.909915e+02\n",
       "PROTON_tx                  6.776896e-13 -6.776896e-13\n",
       "HYDROGEN_PEROXIDE_tx      -2.243996e+01 -1.042627e+01\n",
       "OXYGEN_MOLECULE_tx        -5.972466e+00  6.041224e+00\n",
       "CO_A_tx                   -4.478173e+02 -4.208620e+02\n",
       "Pi_tx                     -2.596045e+02 -2.542002e+02\n",
       "WATER_tx                  -4.404283e+01 -3.860738e+01"
      ]
     },
     "execution_count": 69,
     "metadata": {},
     "output_type": "execute_result"
    }
   ],
   "source": [
    "bounds_df_kcal"
   ]
  },
  {
   "cell_type": "code",
   "execution_count": 70,
   "metadata": {
    "scrolled": true
   },
   "outputs": [
    {
     "name": "stdout",
     "output_type": "stream",
     "text": [
      "0.01 millimolar 0.01 millimolar\n",
      "Set parameter NonConvex to value 2\n",
      "Set parameter TimeLimit to value 10\n",
      "[██████████████████████..................] 15/27 MAL_tx                                   \r"
     ]
    },
    {
     "name": "stderr",
     "output_type": "stream",
     "text": [
      "/home/corinna/anaconda3/envs/thermoflux2/lib/python3.10/site-packages/cvxpy/reductions/solvers/solving_chain.py:336: FutureWarning: \n",
      "    Your problem is being solved with the ECOS solver by default. Starting in \n",
      "    CVXPY 1.5.0, Clarabel will be used as the default solver instead. To continue \n",
      "    using ECOS, specify the ECOS solver explicitly using the ``solver=cp.ECOS`` \n",
      "    argument to the ``problem.solve`` method.\n",
      "    \n",
      "  warnings.warn(ECOS_DEPRECATION_MSG, FutureWarning)\n"
     ]
    },
    {
     "name": "stdout",
     "output_type": "stream",
     "text": [
      "[████████████████████████████████████████] 27/27 WATER_tx                             \n",
      "\n",
      "0.2 millimolar 0.2 millimolar\n",
      "Set parameter NonConvex to value 2\n",
      "Set parameter TimeLimit to value 10\n",
      "[████████████████████....................] 14/27 RXN_8960                                 \r"
     ]
    },
    {
     "name": "stderr",
     "output_type": "stream",
     "text": [
      "/home/corinna/anaconda3/envs/thermoflux2/lib/python3.10/site-packages/cvxpy/reductions/solvers/solving_chain.py:336: FutureWarning: \n",
      "    Your problem is being solved with the ECOS solver by default. Starting in \n",
      "    CVXPY 1.5.0, Clarabel will be used as the default solver instead. To continue \n",
      "    using ECOS, specify the ECOS solver explicitly using the ``solver=cp.ECOS`` \n",
      "    argument to the ``problem.solve`` method.\n",
      "    \n",
      "  warnings.warn(ECOS_DEPRECATION_MSG, FutureWarning)\n"
     ]
    },
    {
     "name": "stdout",
     "output_type": "stream",
     "text": [
      "[████████████████████████████████████████] 27/27 WATER_tx                             \n",
      "\n",
      "0.4 millimolar 0.4 millimolar\n",
      "Set parameter NonConvex to value 2\n",
      "Set parameter TimeLimit to value 10\n",
      "[███████████████████.....................] 13/27 RXN_18381                                \r"
     ]
    },
    {
     "name": "stderr",
     "output_type": "stream",
     "text": [
      "/home/corinna/anaconda3/envs/thermoflux2/lib/python3.10/site-packages/cvxpy/reductions/solvers/solving_chain.py:336: FutureWarning: \n",
      "    Your problem is being solved with the ECOS solver by default. Starting in \n",
      "    CVXPY 1.5.0, Clarabel will be used as the default solver instead. To continue \n",
      "    using ECOS, specify the ECOS solver explicitly using the ``solver=cp.ECOS`` \n",
      "    argument to the ``problem.solve`` method.\n",
      "    \n",
      "  warnings.warn(ECOS_DEPRECATION_MSG, FutureWarning)\n"
     ]
    },
    {
     "name": "stdout",
     "output_type": "stream",
     "text": [
      "[████████████████████████████████████████] 27/27 WATER_tx                             \n",
      "\n",
      "0.6 millimolar 0.6 millimolar\n",
      "Set parameter NonConvex to value 2\n",
      "Set parameter TimeLimit to value 10\n",
      "[█████████████████████████...............] 17/27 ACETYL_COA_tx                            \r"
     ]
    },
    {
     "name": "stderr",
     "output_type": "stream",
     "text": [
      "/home/corinna/anaconda3/envs/thermoflux2/lib/python3.10/site-packages/cvxpy/reductions/solvers/solving_chain.py:336: FutureWarning: \n",
      "    Your problem is being solved with the ECOS solver by default. Starting in \n",
      "    CVXPY 1.5.0, Clarabel will be used as the default solver instead. To continue \n",
      "    using ECOS, specify the ECOS solver explicitly using the ``solver=cp.ECOS`` \n",
      "    argument to the ``problem.solve`` method.\n",
      "    \n",
      "  warnings.warn(ECOS_DEPRECATION_MSG, FutureWarning)\n"
     ]
    },
    {
     "name": "stdout",
     "output_type": "stream",
     "text": [
      "[████████████████████████████████████████] 27/27 WATER_tx                             \n",
      "\n",
      "0.8 millimolar 0.8 millimolar\n",
      "Set parameter NonConvex to value 2\n",
      "Set parameter TimeLimit to value 10\n",
      "[███████████████████████.................] 16/27 CO2_tx                                   \r"
     ]
    },
    {
     "name": "stderr",
     "output_type": "stream",
     "text": [
      "/home/corinna/anaconda3/envs/thermoflux2/lib/python3.10/site-packages/cvxpy/reductions/solvers/solving_chain.py:336: FutureWarning: \n",
      "    Your problem is being solved with the ECOS solver by default. Starting in \n",
      "    CVXPY 1.5.0, Clarabel will be used as the default solver instead. To continue \n",
      "    using ECOS, specify the ECOS solver explicitly using the ``solver=cp.ECOS`` \n",
      "    argument to the ``problem.solve`` method.\n",
      "    \n",
      "  warnings.warn(ECOS_DEPRECATION_MSG, FutureWarning)\n"
     ]
    },
    {
     "name": "stdout",
     "output_type": "stream",
     "text": [
      "[████████████████████████████████████████] 27/27 WATER_tx                             \n",
      "\n",
      "1 millimolar 1 millimolar\n",
      "Set parameter NonConvex to value 2\n",
      "Set parameter TimeLimit to value 10\n",
      "[█████████████████████████...............] 17/27 ACETYL_COA_tx                            \r"
     ]
    },
    {
     "name": "stderr",
     "output_type": "stream",
     "text": [
      "/home/corinna/anaconda3/envs/thermoflux2/lib/python3.10/site-packages/cvxpy/reductions/solvers/solving_chain.py:336: FutureWarning: \n",
      "    Your problem is being solved with the ECOS solver by default. Starting in \n",
      "    CVXPY 1.5.0, Clarabel will be used as the default solver instead. To continue \n",
      "    using ECOS, specify the ECOS solver explicitly using the ``solver=cp.ECOS`` \n",
      "    argument to the ``problem.solve`` method.\n",
      "    \n",
      "  warnings.warn(ECOS_DEPRECATION_MSG, FutureWarning)\n"
     ]
    },
    {
     "name": "stdout",
     "output_type": "stream",
     "text": [
      "[████████████████████████████████████████] 27/27 WATER_tx                             \n",
      "\n",
      "2 millimolar 2 millimolar\n",
      "Set parameter NonConvex to value 2\n",
      "Set parameter TimeLimit to value 10\n",
      "[███████████████████████.................] 16/27 CO2_tx                                   \r"
     ]
    },
    {
     "name": "stderr",
     "output_type": "stream",
     "text": [
      "/home/corinna/anaconda3/envs/thermoflux2/lib/python3.10/site-packages/cvxpy/reductions/solvers/solving_chain.py:336: FutureWarning: \n",
      "    Your problem is being solved with the ECOS solver by default. Starting in \n",
      "    CVXPY 1.5.0, Clarabel will be used as the default solver instead. To continue \n",
      "    using ECOS, specify the ECOS solver explicitly using the ``solver=cp.ECOS`` \n",
      "    argument to the ``problem.solve`` method.\n",
      "    \n",
      "  warnings.warn(ECOS_DEPRECATION_MSG, FutureWarning)\n"
     ]
    },
    {
     "name": "stdout",
     "output_type": "stream",
     "text": [
      "[████████████████████████████████████████] 27/27 WATER_tx                             \n",
      "\n",
      "3 millimolar 3 millimolar\n",
      "Set parameter NonConvex to value 2\n",
      "Set parameter TimeLimit to value 10\n",
      "[████████████████████....................] 14/27 RXN_8960                                 \r"
     ]
    },
    {
     "name": "stderr",
     "output_type": "stream",
     "text": [
      "/home/corinna/anaconda3/envs/thermoflux2/lib/python3.10/site-packages/cvxpy/reductions/solvers/solving_chain.py:336: FutureWarning: \n",
      "    Your problem is being solved with the ECOS solver by default. Starting in \n",
      "    CVXPY 1.5.0, Clarabel will be used as the default solver instead. To continue \n",
      "    using ECOS, specify the ECOS solver explicitly using the ``solver=cp.ECOS`` \n",
      "    argument to the ``problem.solve`` method.\n",
      "    \n",
      "  warnings.warn(ECOS_DEPRECATION_MSG, FutureWarning)\n"
     ]
    },
    {
     "name": "stdout",
     "output_type": "stream",
     "text": [
      "[████████████████████████████████████████] 27/27 WATER_tx                             \n",
      "\n",
      "4 millimolar 4 millimolar\n",
      "Set parameter NonConvex to value 2\n",
      "Set parameter TimeLimit to value 10\n",
      "[█████████████████████████...............] 17/27 ACETYL_COA_tx                            \r"
     ]
    },
    {
     "name": "stderr",
     "output_type": "stream",
     "text": [
      "/home/corinna/anaconda3/envs/thermoflux2/lib/python3.10/site-packages/cvxpy/reductions/solvers/solving_chain.py:336: FutureWarning: \n",
      "    Your problem is being solved with the ECOS solver by default. Starting in \n",
      "    CVXPY 1.5.0, Clarabel will be used as the default solver instead. To continue \n",
      "    using ECOS, specify the ECOS solver explicitly using the ``solver=cp.ECOS`` \n",
      "    argument to the ``problem.solve`` method.\n",
      "    \n",
      "  warnings.warn(ECOS_DEPRECATION_MSG, FutureWarning)\n"
     ]
    },
    {
     "name": "stdout",
     "output_type": "stream",
     "text": [
      "[████████████████████████████████████████] 27/27 WATER_tx                             \n",
      "\n",
      "5 millimolar 5 millimolar\n",
      "Set parameter NonConvex to value 2\n",
      "Set parameter TimeLimit to value 10\n",
      "[█████████████████████████...............] 17/27 ACETYL_COA_tx                            \r"
     ]
    },
    {
     "name": "stderr",
     "output_type": "stream",
     "text": [
      "/home/corinna/anaconda3/envs/thermoflux2/lib/python3.10/site-packages/cvxpy/reductions/solvers/solving_chain.py:336: FutureWarning: \n",
      "    Your problem is being solved with the ECOS solver by default. Starting in \n",
      "    CVXPY 1.5.0, Clarabel will be used as the default solver instead. To continue \n",
      "    using ECOS, specify the ECOS solver explicitly using the ``solver=cp.ECOS`` \n",
      "    argument to the ``problem.solve`` method.\n",
      "    \n",
      "  warnings.warn(ECOS_DEPRECATION_MSG, FutureWarning)\n"
     ]
    },
    {
     "name": "stdout",
     "output_type": "stream",
     "text": [
      "[████████████████████████████████████████] 27/27 WATER_tx                             \n",
      "\n",
      "100 millimolar 100 millimolar\n",
      "Set parameter NonConvex to value 2\n",
      "Set parameter TimeLimit to value 10\n",
      "[█████████████████████████...............] 17/27 ACETYL_COA_tx                            \r"
     ]
    },
    {
     "name": "stderr",
     "output_type": "stream",
     "text": [
      "/home/corinna/anaconda3/envs/thermoflux2/lib/python3.10/site-packages/cvxpy/reductions/solvers/solving_chain.py:336: FutureWarning: \n",
      "    Your problem is being solved with the ECOS solver by default. Starting in \n",
      "    CVXPY 1.5.0, Clarabel will be used as the default solver instead. To continue \n",
      "    using ECOS, specify the ECOS solver explicitly using the ``solver=cp.ECOS`` \n",
      "    argument to the ``problem.solve`` method.\n",
      "    \n",
      "  warnings.warn(ECOS_DEPRECATION_MSG, FutureWarning)\n"
     ]
    },
    {
     "name": "stdout",
     "output_type": "stream",
     "text": [
      "[████████████████████████████████████████] 27/27 WATER_tx                             \n",
      "\n"
     ]
    }
   ],
   "source": [
    "ratio_list = [0.01, 0.2, 0.4, 0.6, 0.8, 1, 2, 3, 4, 5, 100]\n",
    "\n",
    "tmodel.metabolites.NADP.lower_bound = Q_(1, 'mM')\n",
    "tmodel.metabolites.NADP.upper_bound = Q_(1, 'mM')\n",
    "\n",
    "\n",
    "\n",
    "compiled_df = pd.DataFrame()\n",
    "\n",
    "for item in ratio_list:\n",
    "    try:\n",
    "        tmodel.metabolites.NADPH.lower_bound = Q_(item, 'mM')\n",
    "        tmodel.metabolites.NADPH.upper_bound = Q_(item, 'mM')\n",
    "    except:\n",
    "        tmodel.metabolites.NADPH.upper_bound = Q_(item, 'mM')\n",
    "        tmodel.metabolites.NADPH.lower_bound = Q_(item, 'mM')\n",
    "\n",
    "    print(tmodel.metabolites.NADPH.lower_bound , tmodel.metabolites.NADPH.upper_bound) \n",
    "\n",
    "\n",
    "    tmodel.m = None #reset the gurobi model object in case you're re-running this cell \n",
    "    tmodel.add_TFBA_variables(gdiss_constraint = False, qnorm=1,error_type='covariance')\n",
    "    bounds_df = thermo_flux.solver.gurobi.drG_bounds(tmodel, alpha=0.95)\n",
    "\n",
    "\n",
    "    # Add bounds_df.lb and bounds_df.ub for each iteration to the compiled_df\n",
    "    compiled_df.insert(0, str(item)+\"_ub\", bounds_df.ub, False)\n",
    "    compiled_df.insert(0, str(item)+\"_lb\", bounds_df.lb, False)\n",
    "\n",
    "\n",
    "\n",
    "new_compiled_df = pd.DataFrame()\n",
    "new_compiled_df.index = compiled_df.index\n",
    "\n",
    "for value in ratio_list:\n",
    "    new_compiled_df[str(value)] = [[a,b] for a, b in zip(compiled_df[str(value)+\"_lb\"], compiled_df[str(value)+\"_ub\"])]"
   ]
  },
  {
   "cell_type": "code",
   "execution_count": 71,
   "metadata": {},
   "outputs": [
    {
     "data": {
      "text/html": [
       "<div>\n",
       "<style scoped>\n",
       "    .dataframe tbody tr th:only-of-type {\n",
       "        vertical-align: middle;\n",
       "    }\n",
       "\n",
       "    .dataframe tbody tr th {\n",
       "        vertical-align: top;\n",
       "    }\n",
       "\n",
       "    .dataframe thead th {\n",
       "        text-align: right;\n",
       "    }\n",
       "</style>\n",
       "<table border=\"1\" class=\"dataframe\">\n",
       "  <thead>\n",
       "    <tr style=\"text-align: right;\">\n",
       "      <th></th>\n",
       "      <th>0.01</th>\n",
       "      <th>0.2</th>\n",
       "      <th>0.4</th>\n",
       "      <th>0.6</th>\n",
       "      <th>0.8</th>\n",
       "      <th>1</th>\n",
       "      <th>2</th>\n",
       "      <th>3</th>\n",
       "      <th>4</th>\n",
       "      <th>5</th>\n",
       "      <th>100</th>\n",
       "    </tr>\n",
       "  </thead>\n",
       "  <tbody>\n",
       "    <tr>\n",
       "      <th>MALSYN_RXN</th>\n",
       "      <td>[-65.55813129267743, 26.447779052762897]</td>\n",
       "      <td>[-65.55813129267663, 26.447779052762392]</td>\n",
       "      <td>[-65.55813129267699, 26.447779052762343]</td>\n",
       "      <td>[-65.55813129267668, 26.447779052762318]</td>\n",
       "      <td>[-65.55813129267663, 26.4477790527621]</td>\n",
       "      <td>[-65.55813129267801, 26.44777905276225]</td>\n",
       "      <td>[-65.55813129267787, 26.447779052762854]</td>\n",
       "      <td>[-65.55813129267777, 26.447779052762804]</td>\n",
       "      <td>[-65.55813129267787, 26.447779052762847]</td>\n",
       "      <td>[-65.55813129267774, 26.447779052763025]</td>\n",
       "      <td>[-65.55813129267756, 26.447779052762698]</td>\n",
       "    </tr>\n",
       "    <tr>\n",
       "      <th>RXN_8961</th>\n",
       "      <td>[-39.98699917191418, 37.57387819714994]</td>\n",
       "      <td>[-39.986999171914036, 37.57387819714984]</td>\n",
       "      <td>[-39.98699917191402, 37.57387819714984]</td>\n",
       "      <td>[-39.98699917191398, 37.57387819715001]</td>\n",
       "      <td>[-39.98699917191391, 37.573878197149924]</td>\n",
       "      <td>[-39.98699917191402, 37.57387819714994]</td>\n",
       "      <td>[-39.98699917191388, 37.57387819715004]</td>\n",
       "      <td>[-39.98699917191395, 37.57387819715007]</td>\n",
       "      <td>[-39.98699917191374, 37.573878197149895]</td>\n",
       "      <td>[-39.98699917191378, 37.573878197149995]</td>\n",
       "      <td>[-39.98699917191308, 37.573878197149156]</td>\n",
       "    </tr>\n",
       "    <tr>\n",
       "      <th>RXN_15977</th>\n",
       "      <td>[-131.74316222465723, -11.994097497414117]</td>\n",
       "      <td>[-131.74316222465805, -11.994097497413826]</td>\n",
       "      <td>[-131.74316222465754, -11.99409749741428]</td>\n",
       "      <td>[-131.7431622246576, -11.994097497413684]</td>\n",
       "      <td>[-131.74316222465754, -11.994097497413456]</td>\n",
       "      <td>[-131.74316222465757, -11.99409749741394]</td>\n",
       "      <td>[-131.7431622246579, -11.994097497414202]</td>\n",
       "      <td>[-131.7431622246576, -11.994097497414252]</td>\n",
       "      <td>[-131.74316222465734, -11.99409749741399]</td>\n",
       "      <td>[-131.7431622246572, -11.994097497414138]</td>\n",
       "      <td>[-131.74316222465535, -11.994097497415908]</td>\n",
       "    </tr>\n",
       "    <tr>\n",
       "      <th>RXN_18384</th>\n",
       "      <td>[-60.607200453449, 34.266711611036065]</td>\n",
       "      <td>[-68.02950612131202, 26.844405943175502]</td>\n",
       "      <td>[-69.74686594426615, 25.127046120216004]</td>\n",
       "      <td>[-70.75145704093846, 24.122455023542194]</td>\n",
       "      <td>[-71.46422576721977, 23.409686297261004]</td>\n",
       "      <td>[-72.01709214326003, 22.856819921221845]</td>\n",
       "      <td>[-73.73445196621563, 21.139460138902304]</td>\n",
       "      <td>[-74.73904306288962, 20.13486904222837]</td>\n",
       "      <td>[-75.45181178917103, 19.422100315946803]</td>\n",
       "      <td>[-76.00467816521122, 18.869233939906607]</td>\n",
       "      <td>[-83.426983833074, 11.446928272046012]</td>\n",
       "    </tr>\n",
       "    <tr>\n",
       "      <th>METHYLMALONYL_COA_MUT_RXN</th>\n",
       "      <td>[-34.610994770835376, 17.904061034789017]</td>\n",
       "      <td>[-34.61099477083681, 17.904061034790576]</td>\n",
       "      <td>[-34.61099477083573, 17.904061034789606]</td>\n",
       "      <td>[-34.61099477083574, 17.90406103478942]</td>\n",
       "      <td>[-34.61099477083661, 17.904061034790416]</td>\n",
       "      <td>[-34.61099477083658, 17.90406103479036]</td>\n",
       "      <td>[-34.61099477083671, 17.904061034790445]</td>\n",
       "      <td>[-34.61099477083657, 17.904061034790317]</td>\n",
       "      <td>[-34.610994770836555, 17.904061034790253]</td>\n",
       "      <td>[-34.61099477083648, 17.904061034790388]</td>\n",
       "      <td>[-34.61099477083633, 17.904061034790082]</td>\n",
       "    </tr>\n",
       "    <tr>\n",
       "      <th>RXN_8891</th>\n",
       "      <td>[-43.26347253042487, 30.839306788433923]</td>\n",
       "      <td>[-35.84116686256189, 38.261612456296284]</td>\n",
       "      <td>[-34.123807039606376, 39.97897227925188]</td>\n",
       "      <td>[-33.11921594293224, 40.98356337592574]</td>\n",
       "      <td>[-32.40644721665078, 41.69633210220738]</td>\n",
       "      <td>[-31.853580840610743, 42.249198478247465]</td>\n",
       "      <td>[-30.136221017654833, 43.9665583012031]</td>\n",
       "      <td>[-29.131629920980874, 44.9711493978771]</td>\n",
       "      <td>[-28.418861194699303, 45.68391812415866]</td>\n",
       "      <td>[-27.8659948186589, 46.23678450019874]</td>\n",
       "      <td>[-20.443689150797073, 53.65909016806214]</td>\n",
       "    </tr>\n",
       "    <tr>\n",
       "      <th>RXN_11002</th>\n",
       "      <td>[-12.01857633688338, 35.864240505332745]</td>\n",
       "      <td>[-19.440882004747046, 28.44193483747126]</td>\n",
       "      <td>[-21.15824182770189, 26.72457501451479]</td>\n",
       "      <td>[-22.16283292437587, 25.71998391784053]</td>\n",
       "      <td>[-22.875601650657472, 25.00721519155895]</td>\n",
       "      <td>[-23.428468026697537, 24.454348815518756]</td>\n",
       "      <td>[-25.145827849652925, 22.736988992562942]</td>\n",
       "      <td>[-26.1504189463271, 21.732397895888912]</td>\n",
       "      <td>[-26.863187672608547, 21.019629169607317]</td>\n",
       "      <td>[-27.416054048648704, 20.466762793567085]</td>\n",
       "      <td>[-34.838359716510936, 13.044457125704195]</td>\n",
       "    </tr>\n",
       "    <tr>\n",
       "      <th>RXN_18387</th>\n",
       "      <td>[-67.54492850464916, 34.983349635843055]</td>\n",
       "      <td>[-67.54492850464837, 34.98334963584173]</td>\n",
       "      <td>[-67.54492850464966, 34.983349635843055]</td>\n",
       "      <td>[-67.54492850464945, 34.98334963584299]</td>\n",
       "      <td>[-67.54492850464955, 34.98334963584297]</td>\n",
       "      <td>[-67.54492850464933, 34.98334963584296]</td>\n",
       "      <td>[-67.54492850464949, 34.983349635842906]</td>\n",
       "      <td>[-67.5449285046492, 34.98334963584282]</td>\n",
       "      <td>[-67.54492850464928, 34.98334963584284]</td>\n",
       "      <td>[-67.54492850464925, 34.98334963584258]</td>\n",
       "      <td>[-67.54492850464888, 34.983349635842515]</td>\n",
       "    </tr>\n",
       "    <tr>\n",
       "      <th>RXN_8890</th>\n",
       "      <td>[-62.23647084273735, 8.016921380763149]</td>\n",
       "      <td>[-62.236470842737134, 8.016921380762579]</td>\n",
       "      <td>[-62.236470842736864, 8.016921380762707]</td>\n",
       "      <td>[-62.236470842736935, 8.01692138076265]</td>\n",
       "      <td>[-62.23647084273692, 8.016921380762888]</td>\n",
       "      <td>[-62.23647084273685, 8.016921380762605]</td>\n",
       "      <td>[-62.23647084273691, 8.016921380762621]</td>\n",
       "      <td>[-62.236470842736715, 8.016921380762549]</td>\n",
       "      <td>[-62.23647084273669, 8.016921380762431]</td>\n",
       "      <td>[-62.236470842736765, 8.016921380761872]</td>\n",
       "      <td>[-62.23647084273666, 8.016921380761783]</td>\n",
       "    </tr>\n",
       "    <tr>\n",
       "      <th>RXN_8957</th>\n",
       "      <td>[-57.16862321262687, 32.79969009856249]</td>\n",
       "      <td>[-64.59092888049236, 25.37738443069855]</td>\n",
       "      <td>[-66.30828870344806, 23.660024607742226]</td>\n",
       "      <td>[-67.31287980012219, 22.655433511069177]</td>\n",
       "      <td>[-68.02564852640356, 21.942664784787624]</td>\n",
       "      <td>[-68.57851490244374, 21.389798408747126]</td>\n",
       "      <td>[-70.2958747253993, 19.672438585791355]</td>\n",
       "      <td>[-71.30046582207355, 18.66784748911653]</td>\n",
       "      <td>[-72.01323454835483, 17.955078762834717]</td>\n",
       "      <td>[-72.56610092439499, 17.40221238679425]</td>\n",
       "      <td>[-79.98840659225765, 9.979906741738763]</td>\n",
       "    </tr>\n",
       "    <tr>\n",
       "      <th>RXN_16391</th>\n",
       "      <td>[-13.127251512858207, 13.127251512858205]</td>\n",
       "      <td>[-13.127251512858193, 13.127251512858196]</td>\n",
       "      <td>[-13.127251512858185, 13.127251512858184]</td>\n",
       "      <td>[-13.127251512858178, 13.12725151285818]</td>\n",
       "      <td>[-13.127251512858185, 13.127251512858184]</td>\n",
       "      <td>[-13.127251512858177, 13.127251512858177]</td>\n",
       "      <td>[-13.127251512858177, 13.127251512858171]</td>\n",
       "      <td>[-13.127251512858173, 13.127251512858171]</td>\n",
       "      <td>[-13.127251512858171, 13.127251512858171]</td>\n",
       "      <td>[-13.127251512858171, 13.12725151285817]</td>\n",
       "      <td>[-13.127251512858157, 13.127251512858162]</td>\n",
       "    </tr>\n",
       "    <tr>\n",
       "      <th>RXN_8958</th>\n",
       "      <td>[-13.127251512858205, 13.127251512858205]</td>\n",
       "      <td>[-13.127251512858194, 13.127251512858194]</td>\n",
       "      <td>[-13.127251512858187, 13.127251512858182]</td>\n",
       "      <td>[-13.127251512858182, 13.127251512858182]</td>\n",
       "      <td>[-13.127251512858184, 13.12725151285818]</td>\n",
       "      <td>[-13.12725151285818, 13.127251512858177]</td>\n",
       "      <td>[-13.127251512858175, 13.127251512858175]</td>\n",
       "      <td>[-13.127251512858173, 13.12725151285817]</td>\n",
       "      <td>[-13.127251512858171, 13.12725151285817]</td>\n",
       "      <td>[-13.12725151285817, 13.127251512858171]</td>\n",
       "      <td>[-13.127251512858162, 13.127251512858159]</td>\n",
       "    </tr>\n",
       "    <tr>\n",
       "      <th>RXN_18381</th>\n",
       "      <td>[-131.1180207283888, -21.735677536532926]</td>\n",
       "      <td>[-131.11802072838978, -21.735677536532464]</td>\n",
       "      <td>[-131.1180207283894, -21.735677536532744]</td>\n",
       "      <td>[-131.11802072838904, -21.735677536533007]</td>\n",
       "      <td>[-131.1180207283871, -21.735677536534844]</td>\n",
       "      <td>[-131.118020728387, -21.73567753653495]</td>\n",
       "      <td>[-131.11802072838725, -21.735677536534844]</td>\n",
       "      <td>[-131.11802072838694, -21.73567753653509]</td>\n",
       "      <td>[-131.11802072838708, -21.735677536535196]</td>\n",
       "      <td>[-131.11802072838722, -21.735677536534833]</td>\n",
       "      <td>[-131.11802072838697, -21.73567753653512]</td>\n",
       "    </tr>\n",
       "    <tr>\n",
       "      <th>RXN_8960</th>\n",
       "      <td>[-51.68687641042423, 11.800622287390024]</td>\n",
       "      <td>[-51.68687641042385, 11.800622287389537]</td>\n",
       "      <td>[-51.686876410424375, 11.800622287389498]</td>\n",
       "      <td>[-51.686876410424354, 11.800622287389391]</td>\n",
       "      <td>[-51.686876410424254, 11.800622287389398]</td>\n",
       "      <td>[-51.68687641042429, 11.800622287389345]</td>\n",
       "      <td>[-51.686876410424176, 11.800622287389356]</td>\n",
       "      <td>[-51.686876410424134, 11.800622287389324]</td>\n",
       "      <td>[-51.68687641042409, 11.800622287389308]</td>\n",
       "      <td>[-51.686876410424105, 11.800622287389263]</td>\n",
       "      <td>[-51.68687641042498, 11.800622287388979]</td>\n",
       "    </tr>\n",
       "    <tr>\n",
       "      <th>MAL_tx</th>\n",
       "      <td>[-710.5342706591084, -684.9001733311189]</td>\n",
       "      <td>[-710.5342706591076, -684.9001733311194]</td>\n",
       "      <td>[-710.5342706591073, -684.9001733311193]</td>\n",
       "      <td>[-710.5342706591081, -684.9001733311195]</td>\n",
       "      <td>[-710.5342706591084, -684.9001733311192]</td>\n",
       "      <td>[-710.5342706591083, -684.9001733311192]</td>\n",
       "      <td>[-710.5342706591081, -684.9001733311195]</td>\n",
       "      <td>[-710.5342706591081, -684.9001733311193]</td>\n",
       "      <td>[-710.534270659108, -684.9001733311193]</td>\n",
       "      <td>[-710.5342706591078, -684.9001733311194]</td>\n",
       "      <td>[-710.5342706591082, -684.9001733311192]</td>\n",
       "    </tr>\n",
       "    <tr>\n",
       "      <th>CO2_tx</th>\n",
       "      <td>[-427.3887983283221, -377.12351691816855]</td>\n",
       "      <td>[-427.38879832832185, -377.12351691816815]</td>\n",
       "      <td>[-427.3887983283218, -377.1235169181682]</td>\n",
       "      <td>[-427.3887983283216, -377.1235169181686]</td>\n",
       "      <td>[-427.38879832832157, -377.12351691816843]</td>\n",
       "      <td>[-427.3887983283217, -377.1235169181684]</td>\n",
       "      <td>[-427.3887983283216, -377.12351691816855]</td>\n",
       "      <td>[-427.38879832832174, -377.1235169181685]</td>\n",
       "      <td>[-427.3887983283218, -377.12351691816843]</td>\n",
       "      <td>[-427.38879832832157, -377.12351691816843]</td>\n",
       "      <td>[-427.38879832832197, -377.12351691816843]</td>\n",
       "    </tr>\n",
       "    <tr>\n",
       "      <th>ACETYL_COA_tx</th>\n",
       "      <td>[-1931.636662173379, -1819.367144314006]</td>\n",
       "      <td>[-1931.636662173383, -1819.3671443140136]</td>\n",
       "      <td>[-1931.636662173383, -1819.3671443140133]</td>\n",
       "      <td>[-1931.6366621733828, -1819.3671443140129]</td>\n",
       "      <td>[-1931.6366621733828, -1819.367144314013]</td>\n",
       "      <td>[-1931.6366621733835, -1819.367144314013]</td>\n",
       "      <td>[-1931.636662173383, -1819.367144314013]</td>\n",
       "      <td>[-1931.636662173383, -1819.3671443140133]</td>\n",
       "      <td>[-1931.6366621733828, -1819.3671443140129]</td>\n",
       "      <td>[-1931.6366621733832, -1819.367144314013]</td>\n",
       "      <td>[-1931.636662173383, -1819.3671443140136]</td>\n",
       "    </tr>\n",
       "    <tr>\n",
       "      <th>ATP_tx</th>\n",
       "      <td>[-2330.1692985706395, -2298.1683884585877]</td>\n",
       "      <td>[-2330.1692985706395, -2298.1683884585877]</td>\n",
       "      <td>[-2330.1692985706395, -2298.1683884585877]</td>\n",
       "      <td>[-2330.169298570639, -2298.1683884585877]</td>\n",
       "      <td>[-2330.16929857064, -2298.1683884585877]</td>\n",
       "      <td>[-2330.16929857064, -2298.1683884585877]</td>\n",
       "      <td>[-2330.16929857064, -2298.1683884585877]</td>\n",
       "      <td>[-2330.16929857064, -2298.1683884585877]</td>\n",
       "      <td>[-2330.16929857064, -2298.1683884585877]</td>\n",
       "      <td>[-2330.16929857064, -2298.1683884585877]</td>\n",
       "      <td>[-2330.1692985706395, -2298.1683884585877]</td>\n",
       "    </tr>\n",
       "    <tr>\n",
       "      <th>ADP_tx</th>\n",
       "      <td>[-1453.8860209010295, -1425.231666309052]</td>\n",
       "      <td>[-1453.886020901029, -1425.2316663090512]</td>\n",
       "      <td>[-1453.8860209010302, -1425.2316663090514]</td>\n",
       "      <td>[-1453.8860209010297, -1425.231666309052]</td>\n",
       "      <td>[-1453.8860209010297, -1425.2316663090517]</td>\n",
       "      <td>[-1453.8860209010297, -1425.231666309052]</td>\n",
       "      <td>[-1453.8860209010295, -1425.2316663090521]</td>\n",
       "      <td>[-1453.8860209010293, -1425.231666309051]</td>\n",
       "      <td>[-1453.8860209010295, -1425.2316663090512]</td>\n",
       "      <td>[-1453.8860209010302, -1425.2316663090521]</td>\n",
       "      <td>[-1453.8860209010293, -1425.2316663090517]</td>\n",
       "    </tr>\n",
       "    <tr>\n",
       "      <th>NADPH_tx</th>\n",
       "      <td>[-2096.269051550686, -2009.7658870598502]</td>\n",
       "      <td>[-2088.846745882824, -2002.3435813919873]</td>\n",
       "      <td>[-2087.12938605987, -2000.626221569032]</td>\n",
       "      <td>[-2086.124794963192, -1999.6216304723575]</td>\n",
       "      <td>[-2085.412026236911, -1998.9088617460766]</td>\n",
       "      <td>[-2084.8591598608714, -1998.3559953700362]</td>\n",
       "      <td>[-2083.141800037916, -1996.6386355470809]</td>\n",
       "      <td>[-2082.137208941241, -1995.6340444504062]</td>\n",
       "      <td>[-2081.4244402149598, -1994.9212757241248]</td>\n",
       "      <td>[-2080.871573838919, -1994.3684093480847]</td>\n",
       "      <td>[-2073.4492681847237, -1986.9461036802247]</td>\n",
       "    </tr>\n",
       "    <tr>\n",
       "      <th>NADP_tx</th>\n",
       "      <td>[-2148.270368300588, -2061.7308270023123]</td>\n",
       "      <td>[-2148.2703683005884, -2061.7308270023123]</td>\n",
       "      <td>[-2148.270368300593, -2061.7308270023123]</td>\n",
       "      <td>[-2148.2703683005893, -2061.7308270023127]</td>\n",
       "      <td>[-2148.2703683005902, -2061.7308270023123]</td>\n",
       "      <td>[-2148.2703683005907, -2061.7308270023127]</td>\n",
       "      <td>[-2148.2703683005907, -2061.7308270023127]</td>\n",
       "      <td>[-2148.27036830059, -2061.7308270023127]</td>\n",
       "      <td>[-2148.2703683005902, -2061.7308270023123]</td>\n",
       "      <td>[-2148.27036830059, -2061.7308270023123]</td>\n",
       "      <td>[-2148.2703683005875, -2061.730827002312]</td>\n",
       "    </tr>\n",
       "    <tr>\n",
       "      <th>PROTON_tx</th>\n",
       "      <td>[2.9892629888352903e-12, -2.9892629888352903e-12]</td>\n",
       "      <td>[2.9919934272409975e-12, -2.9919934272409975e-12]</td>\n",
       "      <td>[2.9938103815623178e-12, -2.9937418444714923e-12]</td>\n",
       "      <td>[2.993187563016785e-12, -2.993187563016785e-12]</td>\n",
       "      <td>[2.9935177909638825e-12, -2.9935177909096473e-12]</td>\n",
       "      <td>[2.9942501271966667e-12, -2.9942501271966667e-12]</td>\n",
       "      <td>[2.9966141074484876e-12, -2.9966141074484876e-12]</td>\n",
       "      <td>[2.996689339755907e-12, -2.996689339755907e-12]</td>\n",
       "      <td>[2.996857850439752e-12, -2.996857850439752e-12]</td>\n",
       "      <td>[2.997775622724535e-12, -2.997775622724535e-12]</td>\n",
       "      <td>[3.0008633723190407e-12, -3.0008633723190407e-12]</td>\n",
       "    </tr>\n",
       "    <tr>\n",
       "      <th>HYDROGEN_PEROXIDE_tx</th>\n",
       "      <td>[-93.88879832829073, -43.62351691813721]</td>\n",
       "      <td>[-93.88879832829049, -43.623516918137184]</td>\n",
       "      <td>[-93.88879832829062, -43.62351691813757]</td>\n",
       "      <td>[-93.8887983282906, -43.62351691813754]</td>\n",
       "      <td>[-93.88879832829059, -43.62351691813748]</td>\n",
       "      <td>[-93.88879832829045, -43.6235169181374]</td>\n",
       "      <td>[-93.88879832829035, -43.623516918137526]</td>\n",
       "      <td>[-93.88879832829048, -43.62351691813757]</td>\n",
       "      <td>[-93.8887983282903, -43.6235169181375]</td>\n",
       "      <td>[-93.88879832829049, -43.623516918137504]</td>\n",
       "      <td>[-93.88879832829073, -43.623516918137454]</td>\n",
       "    </tr>\n",
       "    <tr>\n",
       "      <th>OXYGEN_MOLECULE_tx</th>\n",
       "      <td>[-24.988798328455527, 25.276483081699407]</td>\n",
       "      <td>[-24.988798328455495, 25.27648308169929]</td>\n",
       "      <td>[-24.988798328455243, 25.276483081699155]</td>\n",
       "      <td>[-24.988798328455392, 25.27648308169904]</td>\n",
       "      <td>[-24.98879832845551, 25.276483081699144]</td>\n",
       "      <td>[-24.988798328455413, 25.276483081699087]</td>\n",
       "      <td>[-24.988798328455406, 25.276483081698977]</td>\n",
       "      <td>[-24.988798328455367, 25.276483081699002]</td>\n",
       "      <td>[-24.988798328455285, 25.27648308169905]</td>\n",
       "      <td>[-24.988798328455395, 25.276483081699094]</td>\n",
       "      <td>[-24.98879832845563, 25.27648308169915]</td>\n",
       "    </tr>\n",
       "    <tr>\n",
       "      <th>CO_A_tx</th>\n",
       "      <td>[-1873.667696644128, -1760.886703209443]</td>\n",
       "      <td>[-1873.6676966441253, -1760.8867032094477]</td>\n",
       "      <td>[-1873.667696644125, -1760.886703209448]</td>\n",
       "      <td>[-1873.667696644125, -1760.886703209448]</td>\n",
       "      <td>[-1873.6676966441253, -1760.8867032094477]</td>\n",
       "      <td>[-1873.667696644125, -1760.8867032094474]</td>\n",
       "      <td>[-1873.6676966441255, -1760.8867032094477]</td>\n",
       "      <td>[-1873.6676966441255, -1760.8867032094477]</td>\n",
       "      <td>[-1873.667696644125, -1760.8867032094477]</td>\n",
       "      <td>[-1873.6676966441253, -1760.8867032094474]</td>\n",
       "      <td>[-1873.667696644125, -1760.8867032094481]</td>\n",
       "    </tr>\n",
       "    <tr>\n",
       "      <th>Pi_tx</th>\n",
       "      <td>[-1086.1851078076668, -1063.5737799059693]</td>\n",
       "      <td>[-1086.1851078076663, -1063.5737799059693]</td>\n",
       "      <td>[-1086.1851078076666, -1063.5737799059693]</td>\n",
       "      <td>[-1086.1851078076668, -1063.5737799059693]</td>\n",
       "      <td>[-1086.1851078076666, -1063.5737799059698]</td>\n",
       "      <td>[-1086.1851078076663, -1063.5737799059693]</td>\n",
       "      <td>[-1086.1851078076666, -1063.5737799059693]</td>\n",
       "      <td>[-1086.1851078076663, -1063.5737799059693]</td>\n",
       "      <td>[-1086.1851078076668, -1063.5737799059698]</td>\n",
       "      <td>[-1086.1851078076666, -1063.5737799059698]</td>\n",
       "      <td>[-1086.1851078076663, -1063.5737799059696]</td>\n",
       "    </tr>\n",
       "    <tr>\n",
       "      <th>WATER_tx</th>\n",
       "      <td>[-184.2752160038253, -161.53327439459167]</td>\n",
       "      <td>[-184.27521600382508, -161.5332743945918]</td>\n",
       "      <td>[-184.2752160038251, -161.53327439459207]</td>\n",
       "      <td>[-184.27521600382485, -161.53327439459184]</td>\n",
       "      <td>[-184.2752160038248, -161.5332743945921]</td>\n",
       "      <td>[-184.27521600382508, -161.53327439459215]</td>\n",
       "      <td>[-184.2752160038252, -161.53327439459218]</td>\n",
       "      <td>[-184.27521600382505, -161.5332743945918]</td>\n",
       "      <td>[-184.27521600382488, -161.53327439459193]</td>\n",
       "      <td>[-184.27521600382525, -161.53327439459227]</td>\n",
       "      <td>[-184.27521600382488, -161.53327439459215]</td>\n",
       "    </tr>\n",
       "  </tbody>\n",
       "</table>\n",
       "</div>"
      ],
      "text/plain": [
       "                                                                        0.01  \\\n",
       "MALSYN_RXN                          [-65.55813129267743, 26.447779052762897]   \n",
       "RXN_8961                             [-39.98699917191418, 37.57387819714994]   \n",
       "RXN_15977                         [-131.74316222465723, -11.994097497414117]   \n",
       "RXN_18384                             [-60.607200453449, 34.266711611036065]   \n",
       "METHYLMALONYL_COA_MUT_RXN          [-34.610994770835376, 17.904061034789017]   \n",
       "RXN_8891                            [-43.26347253042487, 30.839306788433923]   \n",
       "RXN_11002                           [-12.01857633688338, 35.864240505332745]   \n",
       "RXN_18387                           [-67.54492850464916, 34.983349635843055]   \n",
       "RXN_8890                             [-62.23647084273735, 8.016921380763149]   \n",
       "RXN_8957                             [-57.16862321262687, 32.79969009856249]   \n",
       "RXN_16391                          [-13.127251512858207, 13.127251512858205]   \n",
       "RXN_8958                           [-13.127251512858205, 13.127251512858205]   \n",
       "RXN_18381                          [-131.1180207283888, -21.735677536532926]   \n",
       "RXN_8960                            [-51.68687641042423, 11.800622287390024]   \n",
       "MAL_tx                              [-710.5342706591084, -684.9001733311189]   \n",
       "CO2_tx                             [-427.3887983283221, -377.12351691816855]   \n",
       "ACETYL_COA_tx                       [-1931.636662173379, -1819.367144314006]   \n",
       "ATP_tx                            [-2330.1692985706395, -2298.1683884585877]   \n",
       "ADP_tx                             [-1453.8860209010295, -1425.231666309052]   \n",
       "NADPH_tx                           [-2096.269051550686, -2009.7658870598502]   \n",
       "NADP_tx                            [-2148.270368300588, -2061.7308270023123]   \n",
       "PROTON_tx                  [2.9892629888352903e-12, -2.9892629888352903e-12]   \n",
       "HYDROGEN_PEROXIDE_tx                [-93.88879832829073, -43.62351691813721]   \n",
       "OXYGEN_MOLECULE_tx                 [-24.988798328455527, 25.276483081699407]   \n",
       "CO_A_tx                             [-1873.667696644128, -1760.886703209443]   \n",
       "Pi_tx                             [-1086.1851078076668, -1063.5737799059693]   \n",
       "WATER_tx                           [-184.2752160038253, -161.53327439459167]   \n",
       "\n",
       "                                                                         0.2  \\\n",
       "MALSYN_RXN                          [-65.55813129267663, 26.447779052762392]   \n",
       "RXN_8961                            [-39.986999171914036, 37.57387819714984]   \n",
       "RXN_15977                         [-131.74316222465805, -11.994097497413826]   \n",
       "RXN_18384                           [-68.02950612131202, 26.844405943175502]   \n",
       "METHYLMALONYL_COA_MUT_RXN           [-34.61099477083681, 17.904061034790576]   \n",
       "RXN_8891                            [-35.84116686256189, 38.261612456296284]   \n",
       "RXN_11002                           [-19.440882004747046, 28.44193483747126]   \n",
       "RXN_18387                            [-67.54492850464837, 34.98334963584173]   \n",
       "RXN_8890                            [-62.236470842737134, 8.016921380762579]   \n",
       "RXN_8957                             [-64.59092888049236, 25.37738443069855]   \n",
       "RXN_16391                          [-13.127251512858193, 13.127251512858196]   \n",
       "RXN_8958                           [-13.127251512858194, 13.127251512858194]   \n",
       "RXN_18381                         [-131.11802072838978, -21.735677536532464]   \n",
       "RXN_8960                            [-51.68687641042385, 11.800622287389537]   \n",
       "MAL_tx                              [-710.5342706591076, -684.9001733311194]   \n",
       "CO2_tx                            [-427.38879832832185, -377.12351691816815]   \n",
       "ACETYL_COA_tx                      [-1931.636662173383, -1819.3671443140136]   \n",
       "ATP_tx                            [-2330.1692985706395, -2298.1683884585877]   \n",
       "ADP_tx                             [-1453.886020901029, -1425.2316663090512]   \n",
       "NADPH_tx                           [-2088.846745882824, -2002.3435813919873]   \n",
       "NADP_tx                           [-2148.2703683005884, -2061.7308270023123]   \n",
       "PROTON_tx                  [2.9919934272409975e-12, -2.9919934272409975e-12]   \n",
       "HYDROGEN_PEROXIDE_tx               [-93.88879832829049, -43.623516918137184]   \n",
       "OXYGEN_MOLECULE_tx                  [-24.988798328455495, 25.27648308169929]   \n",
       "CO_A_tx                           [-1873.6676966441253, -1760.8867032094477]   \n",
       "Pi_tx                             [-1086.1851078076663, -1063.5737799059693]   \n",
       "WATER_tx                           [-184.27521600382508, -161.5332743945918]   \n",
       "\n",
       "                                                                         0.4  \\\n",
       "MALSYN_RXN                          [-65.55813129267699, 26.447779052762343]   \n",
       "RXN_8961                             [-39.98699917191402, 37.57387819714984]   \n",
       "RXN_15977                          [-131.74316222465754, -11.99409749741428]   \n",
       "RXN_18384                           [-69.74686594426615, 25.127046120216004]   \n",
       "METHYLMALONYL_COA_MUT_RXN           [-34.61099477083573, 17.904061034789606]   \n",
       "RXN_8891                            [-34.123807039606376, 39.97897227925188]   \n",
       "RXN_11002                            [-21.15824182770189, 26.72457501451479]   \n",
       "RXN_18387                           [-67.54492850464966, 34.983349635843055]   \n",
       "RXN_8890                            [-62.236470842736864, 8.016921380762707]   \n",
       "RXN_8957                            [-66.30828870344806, 23.660024607742226]   \n",
       "RXN_16391                          [-13.127251512858185, 13.127251512858184]   \n",
       "RXN_8958                           [-13.127251512858187, 13.127251512858182]   \n",
       "RXN_18381                          [-131.1180207283894, -21.735677536532744]   \n",
       "RXN_8960                           [-51.686876410424375, 11.800622287389498]   \n",
       "MAL_tx                              [-710.5342706591073, -684.9001733311193]   \n",
       "CO2_tx                              [-427.3887983283218, -377.1235169181682]   \n",
       "ACETYL_COA_tx                      [-1931.636662173383, -1819.3671443140133]   \n",
       "ATP_tx                            [-2330.1692985706395, -2298.1683884585877]   \n",
       "ADP_tx                            [-1453.8860209010302, -1425.2316663090514]   \n",
       "NADPH_tx                             [-2087.12938605987, -2000.626221569032]   \n",
       "NADP_tx                            [-2148.270368300593, -2061.7308270023123]   \n",
       "PROTON_tx                  [2.9938103815623178e-12, -2.9937418444714923e-12]   \n",
       "HYDROGEN_PEROXIDE_tx                [-93.88879832829062, -43.62351691813757]   \n",
       "OXYGEN_MOLECULE_tx                 [-24.988798328455243, 25.276483081699155]   \n",
       "CO_A_tx                             [-1873.667696644125, -1760.886703209448]   \n",
       "Pi_tx                             [-1086.1851078076666, -1063.5737799059693]   \n",
       "WATER_tx                           [-184.2752160038251, -161.53327439459207]   \n",
       "\n",
       "                                                                       0.6  \\\n",
       "MALSYN_RXN                        [-65.55813129267668, 26.447779052762318]   \n",
       "RXN_8961                           [-39.98699917191398, 37.57387819715001]   \n",
       "RXN_15977                        [-131.7431622246576, -11.994097497413684]   \n",
       "RXN_18384                         [-70.75145704093846, 24.122455023542194]   \n",
       "METHYLMALONYL_COA_MUT_RXN          [-34.61099477083574, 17.90406103478942]   \n",
       "RXN_8891                           [-33.11921594293224, 40.98356337592574]   \n",
       "RXN_11002                          [-22.16283292437587, 25.71998391784053]   \n",
       "RXN_18387                          [-67.54492850464945, 34.98334963584299]   \n",
       "RXN_8890                           [-62.236470842736935, 8.01692138076265]   \n",
       "RXN_8957                          [-67.31287980012219, 22.655433511069177]   \n",
       "RXN_16391                         [-13.127251512858178, 13.12725151285818]   \n",
       "RXN_8958                         [-13.127251512858182, 13.127251512858182]   \n",
       "RXN_18381                       [-131.11802072838904, -21.735677536533007]   \n",
       "RXN_8960                         [-51.686876410424354, 11.800622287389391]   \n",
       "MAL_tx                            [-710.5342706591081, -684.9001733311195]   \n",
       "CO2_tx                            [-427.3887983283216, -377.1235169181686]   \n",
       "ACETYL_COA_tx                   [-1931.6366621733828, -1819.3671443140129]   \n",
       "ATP_tx                           [-2330.169298570639, -2298.1683884585877]   \n",
       "ADP_tx                           [-1453.8860209010297, -1425.231666309052]   \n",
       "NADPH_tx                         [-2086.124794963192, -1999.6216304723575]   \n",
       "NADP_tx                         [-2148.2703683005893, -2061.7308270023127]   \n",
       "PROTON_tx                  [2.993187563016785e-12, -2.993187563016785e-12]   \n",
       "HYDROGEN_PEROXIDE_tx               [-93.8887983282906, -43.62351691813754]   \n",
       "OXYGEN_MOLECULE_tx                [-24.988798328455392, 25.27648308169904]   \n",
       "CO_A_tx                           [-1873.667696644125, -1760.886703209448]   \n",
       "Pi_tx                           [-1086.1851078076668, -1063.5737799059693]   \n",
       "WATER_tx                        [-184.27521600382485, -161.53327439459184]   \n",
       "\n",
       "                                                                         0.8  \\\n",
       "MALSYN_RXN                            [-65.55813129267663, 26.4477790527621]   \n",
       "RXN_8961                            [-39.98699917191391, 37.573878197149924]   \n",
       "RXN_15977                         [-131.74316222465754, -11.994097497413456]   \n",
       "RXN_18384                           [-71.46422576721977, 23.409686297261004]   \n",
       "METHYLMALONYL_COA_MUT_RXN           [-34.61099477083661, 17.904061034790416]   \n",
       "RXN_8891                             [-32.40644721665078, 41.69633210220738]   \n",
       "RXN_11002                           [-22.875601650657472, 25.00721519155895]   \n",
       "RXN_18387                            [-67.54492850464955, 34.98334963584297]   \n",
       "RXN_8890                             [-62.23647084273692, 8.016921380762888]   \n",
       "RXN_8957                            [-68.02564852640356, 21.942664784787624]   \n",
       "RXN_16391                          [-13.127251512858185, 13.127251512858184]   \n",
       "RXN_8958                            [-13.127251512858184, 13.12725151285818]   \n",
       "RXN_18381                          [-131.1180207283871, -21.735677536534844]   \n",
       "RXN_8960                           [-51.686876410424254, 11.800622287389398]   \n",
       "MAL_tx                              [-710.5342706591084, -684.9001733311192]   \n",
       "CO2_tx                            [-427.38879832832157, -377.12351691816843]   \n",
       "ACETYL_COA_tx                      [-1931.6366621733828, -1819.367144314013]   \n",
       "ATP_tx                              [-2330.16929857064, -2298.1683884585877]   \n",
       "ADP_tx                            [-1453.8860209010297, -1425.2316663090517]   \n",
       "NADPH_tx                           [-2085.412026236911, -1998.9088617460766]   \n",
       "NADP_tx                           [-2148.2703683005902, -2061.7308270023123]   \n",
       "PROTON_tx                  [2.9935177909638825e-12, -2.9935177909096473e-12]   \n",
       "HYDROGEN_PEROXIDE_tx                [-93.88879832829059, -43.62351691813748]   \n",
       "OXYGEN_MOLECULE_tx                  [-24.98879832845551, 25.276483081699144]   \n",
       "CO_A_tx                           [-1873.6676966441253, -1760.8867032094477]   \n",
       "Pi_tx                             [-1086.1851078076666, -1063.5737799059698]   \n",
       "WATER_tx                            [-184.2752160038248, -161.5332743945921]   \n",
       "\n",
       "                                                                           1  \\\n",
       "MALSYN_RXN                           [-65.55813129267801, 26.44777905276225]   \n",
       "RXN_8961                             [-39.98699917191402, 37.57387819714994]   \n",
       "RXN_15977                          [-131.74316222465757, -11.99409749741394]   \n",
       "RXN_18384                           [-72.01709214326003, 22.856819921221845]   \n",
       "METHYLMALONYL_COA_MUT_RXN            [-34.61099477083658, 17.90406103479036]   \n",
       "RXN_8891                           [-31.853580840610743, 42.249198478247465]   \n",
       "RXN_11002                          [-23.428468026697537, 24.454348815518756]   \n",
       "RXN_18387                            [-67.54492850464933, 34.98334963584296]   \n",
       "RXN_8890                             [-62.23647084273685, 8.016921380762605]   \n",
       "RXN_8957                            [-68.57851490244374, 21.389798408747126]   \n",
       "RXN_16391                          [-13.127251512858177, 13.127251512858177]   \n",
       "RXN_8958                            [-13.12725151285818, 13.127251512858177]   \n",
       "RXN_18381                            [-131.118020728387, -21.73567753653495]   \n",
       "RXN_8960                            [-51.68687641042429, 11.800622287389345]   \n",
       "MAL_tx                              [-710.5342706591083, -684.9001733311192]   \n",
       "CO2_tx                              [-427.3887983283217, -377.1235169181684]   \n",
       "ACETYL_COA_tx                      [-1931.6366621733835, -1819.367144314013]   \n",
       "ATP_tx                              [-2330.16929857064, -2298.1683884585877]   \n",
       "ADP_tx                             [-1453.8860209010297, -1425.231666309052]   \n",
       "NADPH_tx                          [-2084.8591598608714, -1998.3559953700362]   \n",
       "NADP_tx                           [-2148.2703683005907, -2061.7308270023127]   \n",
       "PROTON_tx                  [2.9942501271966667e-12, -2.9942501271966667e-12]   \n",
       "HYDROGEN_PEROXIDE_tx                 [-93.88879832829045, -43.6235169181374]   \n",
       "OXYGEN_MOLECULE_tx                 [-24.988798328455413, 25.276483081699087]   \n",
       "CO_A_tx                            [-1873.667696644125, -1760.8867032094474]   \n",
       "Pi_tx                             [-1086.1851078076663, -1063.5737799059693]   \n",
       "WATER_tx                          [-184.27521600382508, -161.53327439459215]   \n",
       "\n",
       "                                                                           2  \\\n",
       "MALSYN_RXN                          [-65.55813129267787, 26.447779052762854]   \n",
       "RXN_8961                             [-39.98699917191388, 37.57387819715004]   \n",
       "RXN_15977                          [-131.7431622246579, -11.994097497414202]   \n",
       "RXN_18384                           [-73.73445196621563, 21.139460138902304]   \n",
       "METHYLMALONYL_COA_MUT_RXN           [-34.61099477083671, 17.904061034790445]   \n",
       "RXN_8891                             [-30.136221017654833, 43.9665583012031]   \n",
       "RXN_11002                          [-25.145827849652925, 22.736988992562942]   \n",
       "RXN_18387                           [-67.54492850464949, 34.983349635842906]   \n",
       "RXN_8890                             [-62.23647084273691, 8.016921380762621]   \n",
       "RXN_8957                             [-70.2958747253993, 19.672438585791355]   \n",
       "RXN_16391                          [-13.127251512858177, 13.127251512858171]   \n",
       "RXN_8958                           [-13.127251512858175, 13.127251512858175]   \n",
       "RXN_18381                         [-131.11802072838725, -21.735677536534844]   \n",
       "RXN_8960                           [-51.686876410424176, 11.800622287389356]   \n",
       "MAL_tx                              [-710.5342706591081, -684.9001733311195]   \n",
       "CO2_tx                             [-427.3887983283216, -377.12351691816855]   \n",
       "ACETYL_COA_tx                       [-1931.636662173383, -1819.367144314013]   \n",
       "ATP_tx                              [-2330.16929857064, -2298.1683884585877]   \n",
       "ADP_tx                            [-1453.8860209010295, -1425.2316663090521]   \n",
       "NADPH_tx                           [-2083.141800037916, -1996.6386355470809]   \n",
       "NADP_tx                           [-2148.2703683005907, -2061.7308270023127]   \n",
       "PROTON_tx                  [2.9966141074484876e-12, -2.9966141074484876e-12]   \n",
       "HYDROGEN_PEROXIDE_tx               [-93.88879832829035, -43.623516918137526]   \n",
       "OXYGEN_MOLECULE_tx                 [-24.988798328455406, 25.276483081698977]   \n",
       "CO_A_tx                           [-1873.6676966441255, -1760.8867032094477]   \n",
       "Pi_tx                             [-1086.1851078076666, -1063.5737799059693]   \n",
       "WATER_tx                           [-184.2752160038252, -161.53327439459218]   \n",
       "\n",
       "                                                                         3  \\\n",
       "MALSYN_RXN                        [-65.55813129267777, 26.447779052762804]   \n",
       "RXN_8961                           [-39.98699917191395, 37.57387819715007]   \n",
       "RXN_15977                        [-131.7431622246576, -11.994097497414252]   \n",
       "RXN_18384                          [-74.73904306288962, 20.13486904222837]   \n",
       "METHYLMALONYL_COA_MUT_RXN         [-34.61099477083657, 17.904061034790317]   \n",
       "RXN_8891                           [-29.131629920980874, 44.9711493978771]   \n",
       "RXN_11002                          [-26.1504189463271, 21.732397895888912]   \n",
       "RXN_18387                           [-67.5449285046492, 34.98334963584282]   \n",
       "RXN_8890                          [-62.236470842736715, 8.016921380762549]   \n",
       "RXN_8957                           [-71.30046582207355, 18.66784748911653]   \n",
       "RXN_16391                        [-13.127251512858173, 13.127251512858171]   \n",
       "RXN_8958                          [-13.127251512858173, 13.12725151285817]   \n",
       "RXN_18381                        [-131.11802072838694, -21.73567753653509]   \n",
       "RXN_8960                         [-51.686876410424134, 11.800622287389324]   \n",
       "MAL_tx                            [-710.5342706591081, -684.9001733311193]   \n",
       "CO2_tx                           [-427.38879832832174, -377.1235169181685]   \n",
       "ACETYL_COA_tx                    [-1931.636662173383, -1819.3671443140133]   \n",
       "ATP_tx                            [-2330.16929857064, -2298.1683884585877]   \n",
       "ADP_tx                           [-1453.8860209010293, -1425.231666309051]   \n",
       "NADPH_tx                         [-2082.137208941241, -1995.6340444504062]   \n",
       "NADP_tx                           [-2148.27036830059, -2061.7308270023127]   \n",
       "PROTON_tx                  [2.996689339755907e-12, -2.996689339755907e-12]   \n",
       "HYDROGEN_PEROXIDE_tx              [-93.88879832829048, -43.62351691813757]   \n",
       "OXYGEN_MOLECULE_tx               [-24.988798328455367, 25.276483081699002]   \n",
       "CO_A_tx                         [-1873.6676966441255, -1760.8867032094477]   \n",
       "Pi_tx                           [-1086.1851078076663, -1063.5737799059693]   \n",
       "WATER_tx                         [-184.27521600382505, -161.5332743945918]   \n",
       "\n",
       "                                                                         4  \\\n",
       "MALSYN_RXN                        [-65.55813129267787, 26.447779052762847]   \n",
       "RXN_8961                          [-39.98699917191374, 37.573878197149895]   \n",
       "RXN_15977                        [-131.74316222465734, -11.99409749741399]   \n",
       "RXN_18384                         [-75.45181178917103, 19.422100315946803]   \n",
       "METHYLMALONYL_COA_MUT_RXN        [-34.610994770836555, 17.904061034790253]   \n",
       "RXN_8891                          [-28.418861194699303, 45.68391812415866]   \n",
       "RXN_11002                        [-26.863187672608547, 21.019629169607317]   \n",
       "RXN_18387                          [-67.54492850464928, 34.98334963584284]   \n",
       "RXN_8890                           [-62.23647084273669, 8.016921380762431]   \n",
       "RXN_8957                          [-72.01323454835483, 17.955078762834717]   \n",
       "RXN_16391                        [-13.127251512858171, 13.127251512858171]   \n",
       "RXN_8958                          [-13.127251512858171, 13.12725151285817]   \n",
       "RXN_18381                       [-131.11802072838708, -21.735677536535196]   \n",
       "RXN_8960                          [-51.68687641042409, 11.800622287389308]   \n",
       "MAL_tx                             [-710.534270659108, -684.9001733311193]   \n",
       "CO2_tx                           [-427.3887983283218, -377.12351691816843]   \n",
       "ACETYL_COA_tx                   [-1931.6366621733828, -1819.3671443140129]   \n",
       "ATP_tx                            [-2330.16929857064, -2298.1683884585877]   \n",
       "ADP_tx                          [-1453.8860209010295, -1425.2316663090512]   \n",
       "NADPH_tx                        [-2081.4244402149598, -1994.9212757241248]   \n",
       "NADP_tx                         [-2148.2703683005902, -2061.7308270023123]   \n",
       "PROTON_tx                  [2.996857850439752e-12, -2.996857850439752e-12]   \n",
       "HYDROGEN_PEROXIDE_tx                [-93.8887983282903, -43.6235169181375]   \n",
       "OXYGEN_MOLECULE_tx                [-24.988798328455285, 25.27648308169905]   \n",
       "CO_A_tx                          [-1873.667696644125, -1760.8867032094477]   \n",
       "Pi_tx                           [-1086.1851078076668, -1063.5737799059698]   \n",
       "WATER_tx                        [-184.27521600382488, -161.53327439459193]   \n",
       "\n",
       "                                                                         5  \\\n",
       "MALSYN_RXN                        [-65.55813129267774, 26.447779052763025]   \n",
       "RXN_8961                          [-39.98699917191378, 37.573878197149995]   \n",
       "RXN_15977                        [-131.7431622246572, -11.994097497414138]   \n",
       "RXN_18384                         [-76.00467816521122, 18.869233939906607]   \n",
       "METHYLMALONYL_COA_MUT_RXN         [-34.61099477083648, 17.904061034790388]   \n",
       "RXN_8891                            [-27.8659948186589, 46.23678450019874]   \n",
       "RXN_11002                        [-27.416054048648704, 20.466762793567085]   \n",
       "RXN_18387                          [-67.54492850464925, 34.98334963584258]   \n",
       "RXN_8890                          [-62.236470842736765, 8.016921380761872]   \n",
       "RXN_8957                           [-72.56610092439499, 17.40221238679425]   \n",
       "RXN_16391                         [-13.127251512858171, 13.12725151285817]   \n",
       "RXN_8958                          [-13.12725151285817, 13.127251512858171]   \n",
       "RXN_18381                       [-131.11802072838722, -21.735677536534833]   \n",
       "RXN_8960                         [-51.686876410424105, 11.800622287389263]   \n",
       "MAL_tx                            [-710.5342706591078, -684.9001733311194]   \n",
       "CO2_tx                          [-427.38879832832157, -377.12351691816843]   \n",
       "ACETYL_COA_tx                    [-1931.6366621733832, -1819.367144314013]   \n",
       "ATP_tx                            [-2330.16929857064, -2298.1683884585877]   \n",
       "ADP_tx                          [-1453.8860209010302, -1425.2316663090521]   \n",
       "NADPH_tx                         [-2080.871573838919, -1994.3684093480847]   \n",
       "NADP_tx                           [-2148.27036830059, -2061.7308270023123]   \n",
       "PROTON_tx                  [2.997775622724535e-12, -2.997775622724535e-12]   \n",
       "HYDROGEN_PEROXIDE_tx             [-93.88879832829049, -43.623516918137504]   \n",
       "OXYGEN_MOLECULE_tx               [-24.988798328455395, 25.276483081699094]   \n",
       "CO_A_tx                         [-1873.6676966441253, -1760.8867032094474]   \n",
       "Pi_tx                           [-1086.1851078076666, -1063.5737799059698]   \n",
       "WATER_tx                        [-184.27521600382525, -161.53327439459227]   \n",
       "\n",
       "                                                                         100  \n",
       "MALSYN_RXN                          [-65.55813129267756, 26.447779052762698]  \n",
       "RXN_8961                            [-39.98699917191308, 37.573878197149156]  \n",
       "RXN_15977                         [-131.74316222465535, -11.994097497415908]  \n",
       "RXN_18384                             [-83.426983833074, 11.446928272046012]  \n",
       "METHYLMALONYL_COA_MUT_RXN           [-34.61099477083633, 17.904061034790082]  \n",
       "RXN_8891                            [-20.443689150797073, 53.65909016806214]  \n",
       "RXN_11002                          [-34.838359716510936, 13.044457125704195]  \n",
       "RXN_18387                           [-67.54492850464888, 34.983349635842515]  \n",
       "RXN_8890                             [-62.23647084273666, 8.016921380761783]  \n",
       "RXN_8957                             [-79.98840659225765, 9.979906741738763]  \n",
       "RXN_16391                          [-13.127251512858157, 13.127251512858162]  \n",
       "RXN_8958                           [-13.127251512858162, 13.127251512858159]  \n",
       "RXN_18381                          [-131.11802072838697, -21.73567753653512]  \n",
       "RXN_8960                            [-51.68687641042498, 11.800622287388979]  \n",
       "MAL_tx                              [-710.5342706591082, -684.9001733311192]  \n",
       "CO2_tx                            [-427.38879832832197, -377.12351691816843]  \n",
       "ACETYL_COA_tx                      [-1931.636662173383, -1819.3671443140136]  \n",
       "ATP_tx                            [-2330.1692985706395, -2298.1683884585877]  \n",
       "ADP_tx                            [-1453.8860209010293, -1425.2316663090517]  \n",
       "NADPH_tx                          [-2073.4492681847237, -1986.9461036802247]  \n",
       "NADP_tx                            [-2148.2703683005875, -2061.730827002312]  \n",
       "PROTON_tx                  [3.0008633723190407e-12, -3.0008633723190407e-12]  \n",
       "HYDROGEN_PEROXIDE_tx               [-93.88879832829073, -43.623516918137454]  \n",
       "OXYGEN_MOLECULE_tx                   [-24.98879832845563, 25.27648308169915]  \n",
       "CO_A_tx                            [-1873.667696644125, -1760.8867032094481]  \n",
       "Pi_tx                             [-1086.1851078076663, -1063.5737799059696]  \n",
       "WATER_tx                          [-184.27521600382488, -161.53327439459215]  "
      ]
     },
     "execution_count": 71,
     "metadata": {},
     "output_type": "execute_result"
    }
   ],
   "source": [
    "new_compiled_df"
   ]
  },
  {
   "cell_type": "code",
   "execution_count": 72,
   "metadata": {
    "scrolled": true
   },
   "outputs": [
    {
     "name": "stdout",
     "output_type": "stream",
     "text": [
      "0.01 millimolar 0.01 millimolar\n",
      "Set parameter NonConvex to value 2\n",
      "Set parameter TimeLimit to value 10\n",
      "[█████████████████████████...............] 17/27 ACETYL_COA_tx                            \r"
     ]
    },
    {
     "name": "stderr",
     "output_type": "stream",
     "text": [
      "/home/corinna/anaconda3/envs/thermoflux2/lib/python3.10/site-packages/cvxpy/reductions/solvers/solving_chain.py:336: FutureWarning: \n",
      "    Your problem is being solved with the ECOS solver by default. Starting in \n",
      "    CVXPY 1.5.0, Clarabel will be used as the default solver instead. To continue \n",
      "    using ECOS, specify the ECOS solver explicitly using the ``solver=cp.ECOS`` \n",
      "    argument to the ``problem.solve`` method.\n",
      "    \n",
      "  warnings.warn(ECOS_DEPRECATION_MSG, FutureWarning)\n"
     ]
    },
    {
     "name": "stdout",
     "output_type": "stream",
     "text": [
      "[████████████████████████████████████████] 27/27 WATER_tx                             \n",
      "\n",
      "0.2 millimolar 0.2 millimolar\n",
      "Set parameter NonConvex to value 2\n",
      "Set parameter TimeLimit to value 10\n",
      "[█████████████████████████...............] 17/27 ACETYL_COA_tx                            \r"
     ]
    },
    {
     "name": "stderr",
     "output_type": "stream",
     "text": [
      "/home/corinna/anaconda3/envs/thermoflux2/lib/python3.10/site-packages/cvxpy/reductions/solvers/solving_chain.py:336: FutureWarning: \n",
      "    Your problem is being solved with the ECOS solver by default. Starting in \n",
      "    CVXPY 1.5.0, Clarabel will be used as the default solver instead. To continue \n",
      "    using ECOS, specify the ECOS solver explicitly using the ``solver=cp.ECOS`` \n",
      "    argument to the ``problem.solve`` method.\n",
      "    \n",
      "  warnings.warn(ECOS_DEPRECATION_MSG, FutureWarning)\n"
     ]
    },
    {
     "name": "stdout",
     "output_type": "stream",
     "text": [
      "[████████████████████████████████████████] 27/27 WATER_tx                             \n",
      "\n",
      "0.4 millimolar 0.4 millimolar\n",
      "Set parameter NonConvex to value 2\n",
      "Set parameter TimeLimit to value 10\n",
      "[███████████████████████.................] 16/27 CO2_tx                                                      \r"
     ]
    },
    {
     "name": "stderr",
     "output_type": "stream",
     "text": [
      "/home/corinna/anaconda3/envs/thermoflux2/lib/python3.10/site-packages/cvxpy/reductions/solvers/solving_chain.py:336: FutureWarning: \n",
      "    Your problem is being solved with the ECOS solver by default. Starting in \n",
      "    CVXPY 1.5.0, Clarabel will be used as the default solver instead. To continue \n",
      "    using ECOS, specify the ECOS solver explicitly using the ``solver=cp.ECOS`` \n",
      "    argument to the ``problem.solve`` method.\n",
      "    \n",
      "  warnings.warn(ECOS_DEPRECATION_MSG, FutureWarning)\n"
     ]
    },
    {
     "name": "stdout",
     "output_type": "stream",
     "text": [
      "[████████████████████████████████████████] 27/27 WATER_tx                             \n",
      "\n",
      "0.6 millimolar 0.6 millimolar\n",
      "Set parameter NonConvex to value 2\n",
      "Set parameter TimeLimit to value 10\n",
      "[███████████████████████.................] 16/27 CO2_tx                                   \r"
     ]
    },
    {
     "name": "stderr",
     "output_type": "stream",
     "text": [
      "/home/corinna/anaconda3/envs/thermoflux2/lib/python3.10/site-packages/cvxpy/reductions/solvers/solving_chain.py:336: FutureWarning: \n",
      "    Your problem is being solved with the ECOS solver by default. Starting in \n",
      "    CVXPY 1.5.0, Clarabel will be used as the default solver instead. To continue \n",
      "    using ECOS, specify the ECOS solver explicitly using the ``solver=cp.ECOS`` \n",
      "    argument to the ``problem.solve`` method.\n",
      "    \n",
      "  warnings.warn(ECOS_DEPRECATION_MSG, FutureWarning)\n"
     ]
    },
    {
     "name": "stdout",
     "output_type": "stream",
     "text": [
      "[████████████████████████████████████████] 27/27 WATER_tx                             \n",
      "\n",
      "0.8 millimolar 0.8 millimolar\n",
      "Set parameter NonConvex to value 2\n",
      "Set parameter TimeLimit to value 10\n",
      "[███████████████████████.................] 16/27 CO2_tx                                                    \r"
     ]
    },
    {
     "name": "stderr",
     "output_type": "stream",
     "text": [
      "/home/corinna/anaconda3/envs/thermoflux2/lib/python3.10/site-packages/cvxpy/reductions/solvers/solving_chain.py:336: FutureWarning: \n",
      "    Your problem is being solved with the ECOS solver by default. Starting in \n",
      "    CVXPY 1.5.0, Clarabel will be used as the default solver instead. To continue \n",
      "    using ECOS, specify the ECOS solver explicitly using the ``solver=cp.ECOS`` \n",
      "    argument to the ``problem.solve`` method.\n",
      "    \n",
      "  warnings.warn(ECOS_DEPRECATION_MSG, FutureWarning)\n"
     ]
    },
    {
     "name": "stdout",
     "output_type": "stream",
     "text": [
      "[████████████████████████████████████████] 27/27 WATER_tx                             \n",
      "\n",
      "1 millimolar 1 millimolar\n",
      "Set parameter NonConvex to value 2\n",
      "Set parameter TimeLimit to value 10\n",
      "[███████████████████████.................] 16/27 CO2_tx                                   \r"
     ]
    },
    {
     "name": "stderr",
     "output_type": "stream",
     "text": [
      "/home/corinna/anaconda3/envs/thermoflux2/lib/python3.10/site-packages/cvxpy/reductions/solvers/solving_chain.py:336: FutureWarning: \n",
      "    Your problem is being solved with the ECOS solver by default. Starting in \n",
      "    CVXPY 1.5.0, Clarabel will be used as the default solver instead. To continue \n",
      "    using ECOS, specify the ECOS solver explicitly using the ``solver=cp.ECOS`` \n",
      "    argument to the ``problem.solve`` method.\n",
      "    \n",
      "  warnings.warn(ECOS_DEPRECATION_MSG, FutureWarning)\n"
     ]
    },
    {
     "name": "stdout",
     "output_type": "stream",
     "text": [
      "[████████████████████████████████████████] 27/27 WATER_tx                             \n",
      "\n",
      "2 millimolar 2 millimolar\n",
      "Set parameter NonConvex to value 2\n",
      "Set parameter TimeLimit to value 10\n",
      "[██████████████████████..................] 15/27 MAL_tx                                   \r"
     ]
    },
    {
     "name": "stderr",
     "output_type": "stream",
     "text": [
      "/home/corinna/anaconda3/envs/thermoflux2/lib/python3.10/site-packages/cvxpy/reductions/solvers/solving_chain.py:336: FutureWarning: \n",
      "    Your problem is being solved with the ECOS solver by default. Starting in \n",
      "    CVXPY 1.5.0, Clarabel will be used as the default solver instead. To continue \n",
      "    using ECOS, specify the ECOS solver explicitly using the ``solver=cp.ECOS`` \n",
      "    argument to the ``problem.solve`` method.\n",
      "    \n",
      "  warnings.warn(ECOS_DEPRECATION_MSG, FutureWarning)\n"
     ]
    },
    {
     "name": "stdout",
     "output_type": "stream",
     "text": [
      "[████████████████████████████████████████] 27/27 WATER_tx                             \n",
      "\n",
      "3 millimolar 3 millimolar\n",
      "Set parameter NonConvex to value 2\n",
      "Set parameter TimeLimit to value 10\n",
      "[███████████████████████.................] 16/27 CO2_tx                                   \r"
     ]
    },
    {
     "name": "stderr",
     "output_type": "stream",
     "text": [
      "/home/corinna/anaconda3/envs/thermoflux2/lib/python3.10/site-packages/cvxpy/reductions/solvers/solving_chain.py:336: FutureWarning: \n",
      "    Your problem is being solved with the ECOS solver by default. Starting in \n",
      "    CVXPY 1.5.0, Clarabel will be used as the default solver instead. To continue \n",
      "    using ECOS, specify the ECOS solver explicitly using the ``solver=cp.ECOS`` \n",
      "    argument to the ``problem.solve`` method.\n",
      "    \n",
      "  warnings.warn(ECOS_DEPRECATION_MSG, FutureWarning)\n"
     ]
    },
    {
     "name": "stdout",
     "output_type": "stream",
     "text": [
      "[████████████████████████████████████████] 27/27 WATER_tx                             \n",
      "\n",
      "4 millimolar 4 millimolar\n",
      "Set parameter NonConvex to value 2\n",
      "Set parameter TimeLimit to value 10\n",
      "[███████████████████████.................] 16/27 CO2_tx                                   \r"
     ]
    },
    {
     "name": "stderr",
     "output_type": "stream",
     "text": [
      "/home/corinna/anaconda3/envs/thermoflux2/lib/python3.10/site-packages/cvxpy/reductions/solvers/solving_chain.py:336: FutureWarning: \n",
      "    Your problem is being solved with the ECOS solver by default. Starting in \n",
      "    CVXPY 1.5.0, Clarabel will be used as the default solver instead. To continue \n",
      "    using ECOS, specify the ECOS solver explicitly using the ``solver=cp.ECOS`` \n",
      "    argument to the ``problem.solve`` method.\n",
      "    \n",
      "  warnings.warn(ECOS_DEPRECATION_MSG, FutureWarning)\n"
     ]
    },
    {
     "name": "stdout",
     "output_type": "stream",
     "text": [
      "[████████████████████████████████████████] 27/27 WATER_tx                             \n",
      "\n",
      "5 millimolar 5 millimolar\n",
      "Set parameter NonConvex to value 2\n",
      "Set parameter TimeLimit to value 10\n",
      "[█████████████████.......................] 12/27 RXN_8958                                   \r"
     ]
    },
    {
     "name": "stderr",
     "output_type": "stream",
     "text": [
      "/home/corinna/anaconda3/envs/thermoflux2/lib/python3.10/site-packages/cvxpy/reductions/solvers/solving_chain.py:336: FutureWarning: \n",
      "    Your problem is being solved with the ECOS solver by default. Starting in \n",
      "    CVXPY 1.5.0, Clarabel will be used as the default solver instead. To continue \n",
      "    using ECOS, specify the ECOS solver explicitly using the ``solver=cp.ECOS`` \n",
      "    argument to the ``problem.solve`` method.\n",
      "    \n",
      "  warnings.warn(ECOS_DEPRECATION_MSG, FutureWarning)\n"
     ]
    },
    {
     "name": "stdout",
     "output_type": "stream",
     "text": [
      "[████████████████████████████████████████] 27/27 WATER_tx                             \n",
      "\n",
      "100 millimolar 100 millimolar\n",
      "Set parameter NonConvex to value 2\n",
      "Set parameter TimeLimit to value 10\n",
      "[███████████████████████.................] 16/27 CO2_tx                                   \r"
     ]
    },
    {
     "name": "stderr",
     "output_type": "stream",
     "text": [
      "/home/corinna/anaconda3/envs/thermoflux2/lib/python3.10/site-packages/cvxpy/reductions/solvers/solving_chain.py:336: FutureWarning: \n",
      "    Your problem is being solved with the ECOS solver by default. Starting in \n",
      "    CVXPY 1.5.0, Clarabel will be used as the default solver instead. To continue \n",
      "    using ECOS, specify the ECOS solver explicitly using the ``solver=cp.ECOS`` \n",
      "    argument to the ``problem.solve`` method.\n",
      "    \n",
      "  warnings.warn(ECOS_DEPRECATION_MSG, FutureWarning)\n"
     ]
    },
    {
     "name": "stdout",
     "output_type": "stream",
     "text": [
      "[████████████████████████████████████████] 27/27 WATER_tx                             \n",
      "\n"
     ]
    }
   ],
   "source": [
    "ratio_list = [0.01, 0.2, 0.4, 0.6, 0.8, 1, 2, 3, 4, 5, 100]\n",
    "\n",
    "tmodel.metabolites.NADP.lower_bound = Q_(1, 'mM')\n",
    "tmodel.metabolites.NADP.upper_bound = Q_(1, 'mM')\n",
    "\n",
    "\n",
    "\n",
    "compiled_df = pd.DataFrame()\n",
    "\n",
    "for item in ratio_list:\n",
    "    try:\n",
    "        tmodel.metabolites.NADPH.lower_bound = Q_(item, 'mM')\n",
    "        tmodel.metabolites.NADPH.upper_bound = Q_(item, 'mM')\n",
    "    except:\n",
    "        tmodel.metabolites.NADPH.upper_bound = Q_(item, 'mM')\n",
    "        tmodel.metabolites.NADPH.lower_bound = Q_(item, 'mM')\n",
    "\n",
    "    print(tmodel.metabolites.NADPH.lower_bound , tmodel.metabolites.NADPH.upper_bound) \n",
    "\n",
    "\n",
    "    tmodel.m = None #reset the gurobi model object in case you're re-running this cell \n",
    "    tmodel.add_TFBA_variables(gdiss_constraint = False, qnorm=1,error_type='covariance')\n",
    "    bounds_df = thermo_flux.solver.gurobi.drG_bounds(tmodel, alpha=0.95)\n",
    "    bounds_kcal = Q_(bounds_df.values, 'kJ/mol').to('kcal/mol').m\n",
    "    bounds_df_kcal = pd.DataFrame(bounds_kcal, index=bounds_df.index, columns=bounds_df.columns)\n",
    "\n",
    "    # Add bounds_df.lb and bounds_df.ub for each iteration to the compiled_df\n",
    "    compiled_df.insert(0, str(item)+\"_ub\", bounds_df_kcal.ub, False)\n",
    "    compiled_df.insert(0, str(item)+\"_lb\", bounds_df_kcal.lb, False)\n",
    "\n",
    "\n",
    "\n",
    "new_compiled_df = pd.DataFrame()\n",
    "new_compiled_df.index = compiled_df.index\n",
    "\n",
    "for value in ratio_list:\n",
    "    new_compiled_df[str(value)] = [[a,b] for a, b in zip(compiled_df[str(value)+\"_lb\"], compiled_df[str(value)+\"_ub\"])]"
   ]
  },
  {
   "cell_type": "code",
   "execution_count": 73,
   "metadata": {},
   "outputs": [
    {
     "data": {
      "text/html": [
       "<div>\n",
       "<style scoped>\n",
       "    .dataframe tbody tr th:only-of-type {\n",
       "        vertical-align: middle;\n",
       "    }\n",
       "\n",
       "    .dataframe tbody tr th {\n",
       "        vertical-align: top;\n",
       "    }\n",
       "\n",
       "    .dataframe thead th {\n",
       "        text-align: right;\n",
       "    }\n",
       "</style>\n",
       "<table border=\"1\" class=\"dataframe\">\n",
       "  <thead>\n",
       "    <tr style=\"text-align: right;\">\n",
       "      <th></th>\n",
       "      <th>0.01</th>\n",
       "      <th>0.2</th>\n",
       "      <th>0.4</th>\n",
       "      <th>0.6</th>\n",
       "      <th>0.8</th>\n",
       "      <th>1</th>\n",
       "      <th>2</th>\n",
       "      <th>3</th>\n",
       "      <th>4</th>\n",
       "      <th>5</th>\n",
       "      <th>100</th>\n",
       "    </tr>\n",
       "  </thead>\n",
       "  <tbody>\n",
       "    <tr>\n",
       "      <th>MALSYN_RXN</th>\n",
       "      <td>[-15.66876942941621, 6.321170901711973]</td>\n",
       "      <td>[-15.66876942941602, 6.321170901711852]</td>\n",
       "      <td>[-15.668769429416106, 6.321170901711841]</td>\n",
       "      <td>[-15.668769429416031, 6.3211709017118345]</td>\n",
       "      <td>[-15.66876942941602, 6.321170901711783]</td>\n",
       "      <td>[-15.66876942941635, 6.3211709017118185]</td>\n",
       "      <td>[-15.668769429416317, 6.321170901711963]</td>\n",
       "      <td>[-15.668769429416292, 6.321170901711951]</td>\n",
       "      <td>[-15.668769429416317, 6.3211709017119615]</td>\n",
       "      <td>[-15.668769429416285, 6.321170901712003]</td>\n",
       "      <td>[-15.668769429416242, 6.321170901711926]</td>\n",
       "    </tr>\n",
       "    <tr>\n",
       "      <th>RXN_8961</th>\n",
       "      <td>[-9.557122173019641, 8.980372418056868]</td>\n",
       "      <td>[-9.557122173019607, 8.980372418056843]</td>\n",
       "      <td>[-9.557122173019604, 8.980372418056843]</td>\n",
       "      <td>[-9.557122173019593, 8.980372418056884]</td>\n",
       "      <td>[-9.557122173019575, 8.980372418056865]</td>\n",
       "      <td>[-9.557122173019604, 8.980372418056868]</td>\n",
       "      <td>[-9.55712217301957, 8.980372418056891]</td>\n",
       "      <td>[-9.557122173019586, 8.9803724180569]</td>\n",
       "      <td>[-9.557122173019534, 8.980372418056858]</td>\n",
       "      <td>[-9.557122173019545, 8.980372418056882]</td>\n",
       "      <td>[-9.557122173019378, 8.980372418056682]</td>\n",
       "    </tr>\n",
       "    <tr>\n",
       "      <th>RXN_15977</th>\n",
       "      <td>[-31.487371468608323, -2.866658101676414]</td>\n",
       "      <td>[-31.48737146860852, -2.8666581016763444]</td>\n",
       "      <td>[-31.487371468608398, -2.866658101676453]</td>\n",
       "      <td>[-31.48737146860841, -2.8666581016763106]</td>\n",
       "      <td>[-31.487371468608398, -2.866658101676256]</td>\n",
       "      <td>[-31.487371468608405, -2.8666581016763715]</td>\n",
       "      <td>[-31.487371468608483, -2.8666581016764345]</td>\n",
       "      <td>[-31.48737146860841, -2.8666581016764465]</td>\n",
       "      <td>[-31.487371468608348, -2.8666581016763835]</td>\n",
       "      <td>[-31.487371468608316, -2.866658101676419]</td>\n",
       "      <td>[-31.487371468607872, -2.866658101676842]</td>\n",
       "    </tr>\n",
       "    <tr>\n",
       "      <th>RXN_18384</th>\n",
       "      <td>[-14.485468559619742, 8.189940633612826]</td>\n",
       "      <td>[-16.259442189606123, 6.415967003627031]</td>\n",
       "      <td>[-16.669901038304527, 6.005508154927343]</td>\n",
       "      <td>[-16.91000407288204, 5.765405120349473]</td>\n",
       "      <td>[-17.080359887002814, 5.595049306228729]</td>\n",
       "      <td>[-17.212498122194077, 5.462911071037726]</td>\n",
       "      <td>[-17.622956970892837, 5.05245223205122]</td>\n",
       "      <td>[-17.86306000547075, 4.81234919747332]</td>\n",
       "      <td>[-18.033415819591546, 4.641993383352486]</td>\n",
       "      <td>[-18.165554054782795, 4.509855148161234]</td>\n",
       "      <td>[-19.93952768476912, 2.735881518175433]</td>\n",
       "    </tr>\n",
       "    <tr>\n",
       "      <th>METHYLMALONYL_COA_MUT_RXN</th>\n",
       "      <td>[-8.272226283660462, 4.2791732874734745]</td>\n",
       "      <td>[-8.272226283660805, 4.279173287473847]</td>\n",
       "      <td>[-8.272226283660547, 4.279173287473615]</td>\n",
       "      <td>[-8.27222628366055, 4.279173287473571]</td>\n",
       "      <td>[-8.272226283660757, 4.279173287473808]</td>\n",
       "      <td>[-8.27222628366075, 4.279173287473795]</td>\n",
       "      <td>[-8.272226283660782, 4.2791732874738155]</td>\n",
       "      <td>[-8.272226283660748, 4.2791732874737844]</td>\n",
       "      <td>[-8.272226283660745, 4.279173287473769]</td>\n",
       "      <td>[-8.272226283660725, 4.279173287473802]</td>\n",
       "      <td>[-8.27222628366069, 4.2791732874737285]</td>\n",
       "    </tr>\n",
       "    <tr>\n",
       "      <th>RXN_8891</th>\n",
       "      <td>[-10.340218100005943, 7.37077122094501]</td>\n",
       "      <td>[-8.566244470019573, 9.144744850931234]</td>\n",
       "      <td>[-8.155785621320835, 9.55520369962999]</td>\n",
       "      <td>[-7.9156825867428875, 9.795306734207873]</td>\n",
       "      <td>[-7.74532677262208, 9.965662548328723]</td>\n",
       "      <td>[-7.613188537430865, 10.097800783519949]</td>\n",
       "      <td>[-7.202729688732035, 10.508259632218714]</td>\n",
       "      <td>[-6.962626654154128, 10.748362666796629]</td>\n",
       "      <td>[-6.792270840033294, 10.91871848091746]</td>\n",
       "      <td>[-6.660132604841993, 11.050856716108685]</td>\n",
       "      <td>[-4.8861589748558965, 12.824830346095158]</td>\n",
       "    </tr>\n",
       "    <tr>\n",
       "      <th>RXN_11002</th>\n",
       "      <td>[-2.872508684723561, 8.571759202995397]</td>\n",
       "      <td>[-4.646482314710097, 6.797785573009382]</td>\n",
       "      <td>[-5.056941163408673, 6.387326724310418]</td>\n",
       "      <td>[-5.297044197986584, 6.1472236897324395]</td>\n",
       "      <td>[-5.467400012107426, 5.976867875611603]</td>\n",
       "      <td>[-5.599538247298646, 5.844729640420352]</td>\n",
       "      <td>[-6.0099970959973525, 5.434270791721544]</td>\n",
       "      <td>[-6.25010013057531, 5.194167757143621]</td>\n",
       "      <td>[-6.420455944696115, 5.023811943022781]</td>\n",
       "      <td>[-6.5525941798873575, 4.891673707831521]</td>\n",
       "      <td>[-8.32656780987355, 3.117700077845171]</td>\n",
       "    </tr>\n",
       "    <tr>\n",
       "      <th>RXN_18387</th>\n",
       "      <td>[-16.14362535961978, 8.361221232276064]</td>\n",
       "      <td>[-16.14362535961959, 8.36122123227575]</td>\n",
       "      <td>[-16.1436253596199, 8.361221232276064]</td>\n",
       "      <td>[-16.143625359619847, 8.36122123227605]</td>\n",
       "      <td>[-16.14362535961987, 8.361221232276044]</td>\n",
       "      <td>[-16.143625359619822, 8.361221232276042]</td>\n",
       "      <td>[-16.143625359619858, 8.361221232276028]</td>\n",
       "      <td>[-16.14362535961979, 8.361221232276009]</td>\n",
       "      <td>[-16.143625359619808, 8.361221232276014]</td>\n",
       "      <td>[-16.1436253596198, 8.36122123227595]</td>\n",
       "      <td>[-16.143625359619712, 8.361221232275936]</td>\n",
       "    </tr>\n",
       "    <tr>\n",
       "      <th>RXN_8890</th>\n",
       "      <td>[-14.874873528378906, 1.9160901961671004]</td>\n",
       "      <td>[-14.874873528378854, 1.9160901961669643]</td>\n",
       "      <td>[-14.87487352837879, 1.9160901961669947]</td>\n",
       "      <td>[-14.874873528378808, 1.9160901961669812]</td>\n",
       "      <td>[-14.874873528378805, 1.916090196167038]</td>\n",
       "      <td>[-14.874873528378787, 1.9160901961669705]</td>\n",
       "      <td>[-14.874873528378801, 1.9160901961669745]</td>\n",
       "      <td>[-14.874873528378755, 1.916090196166957]</td>\n",
       "      <td>[-14.87487352837875, 1.916090196166929]</td>\n",
       "      <td>[-14.874873528378767, 1.9160901961667953]</td>\n",
       "      <td>[-14.87487352837874, 1.916090196166774]</td>\n",
       "    </tr>\n",
       "    <tr>\n",
       "      <th>RXN_8957</th>\n",
       "      <td>[-13.663628874910819, 7.8393140770942855]</td>\n",
       "      <td>[-15.43760250489779, 6.065340447107684]</td>\n",
       "      <td>[-15.84806135359657, 5.654881598408753]</td>\n",
       "      <td>[-16.08816438817452, 5.414778563831065]</td>\n",
       "      <td>[-16.258520202295305, 5.2444227497102345]</td>\n",
       "      <td>[-16.390658437486554, 5.112284514518911]</td>\n",
       "      <td>[-16.8011172861853, 4.701825665820113]</td>\n",
       "      <td>[-17.041220320763276, 4.461722631242]</td>\n",
       "      <td>[-17.21157613488404, 4.291366817121108]</td>\n",
       "      <td>[-17.343714370075283, 4.159228581929792]</td>\n",
       "      <td>[-19.117688000061577, 2.3852549573945416]</td>\n",
       "    </tr>\n",
       "    <tr>\n",
       "      <th>RXN_16391</th>\n",
       "      <td>[-3.1374884112949823, 3.137488411294982]</td>\n",
       "      <td>[-3.137488411294979, 3.1374884112949797]</td>\n",
       "      <td>[-3.137488411294977, 3.137488411294977]</td>\n",
       "      <td>[-3.1374884112949757, 3.137488411294976]</td>\n",
       "      <td>[-3.137488411294977, 3.137488411294977]</td>\n",
       "      <td>[-3.1374884112949752, 3.1374884112949752]</td>\n",
       "      <td>[-3.1374884112949752, 3.137488411294974]</td>\n",
       "      <td>[-3.1374884112949744, 3.137488411294974]</td>\n",
       "      <td>[-3.137488411294974, 3.137488411294974]</td>\n",
       "      <td>[-3.137488411294974, 3.1374884112949735]</td>\n",
       "      <td>[-3.1374884112949704, 3.1374884112949717]</td>\n",
       "    </tr>\n",
       "    <tr>\n",
       "      <th>RXN_8958</th>\n",
       "      <td>[-3.137488411294982, 3.137488411294982]</td>\n",
       "      <td>[-3.1374884112949792, 3.1374884112949792]</td>\n",
       "      <td>[-3.1374884112949775, 3.1374884112949766]</td>\n",
       "      <td>[-3.1374884112949766, 3.1374884112949766]</td>\n",
       "      <td>[-3.137488411294977, 3.137488411294976]</td>\n",
       "      <td>[-3.137488411294976, 3.1374884112949752]</td>\n",
       "      <td>[-3.137488411294975, 3.137488411294975]</td>\n",
       "      <td>[-3.1374884112949744, 3.1374884112949735]</td>\n",
       "      <td>[-3.137488411294974, 3.1374884112949735]</td>\n",
       "      <td>[-3.1374884112949735, 3.137488411294974]</td>\n",
       "      <td>[-3.1374884112949717, 3.137488411294971]</td>\n",
       "    </tr>\n",
       "    <tr>\n",
       "      <th>RXN_18381</th>\n",
       "      <td>[-31.33795906510249, -5.19495161007001]</td>\n",
       "      <td>[-31.33795906510272, -5.1949516100699]</td>\n",
       "      <td>[-31.33795906510263, -5.1949516100699675]</td>\n",
       "      <td>[-31.33795906510254, -5.19495161007003]</td>\n",
       "      <td>[-31.33795906510208, -5.194951610070469]</td>\n",
       "      <td>[-31.33795906510205, -5.194951610070494]</td>\n",
       "      <td>[-31.337959065102112, -5.194951610070469]</td>\n",
       "      <td>[-31.337959065102037, -5.194951610070528]</td>\n",
       "      <td>[-31.337959065102073, -5.194951610070553]</td>\n",
       "      <td>[-31.33795906510211, -5.194951610070467]</td>\n",
       "      <td>[-31.337959065102044, -5.194951610070535]</td>\n",
       "    </tr>\n",
       "    <tr>\n",
       "      <th>RXN_8960</th>\n",
       "      <td>[-12.353459945130075, 2.820416416680216]</td>\n",
       "      <td>[-12.353459945129982, 2.8204164166800996]</td>\n",
       "      <td>[-12.353459945130108, 2.8204164166800902]</td>\n",
       "      <td>[-12.353459945130103, 2.8204164166800645]</td>\n",
       "      <td>[-12.35345994513008, 2.8204164166800663]</td>\n",
       "      <td>[-12.353459945130087, 2.8204164166800534]</td>\n",
       "      <td>[-12.35345994513006, 2.820416416680056]</td>\n",
       "      <td>[-12.35345994513005, 2.8204164166800485]</td>\n",
       "      <td>[-12.35345994513004, 2.8204164166800445]</td>\n",
       "      <td>[-12.353459945130044, 2.8204164166800343]</td>\n",
       "      <td>[-12.353459945130252, 2.8204164166799663]</td>\n",
       "    </tr>\n",
       "    <tr>\n",
       "      <th>MAL_tx</th>\n",
       "      <td>[-169.82176640992074, -163.69507010782002]</td>\n",
       "      <td>[-169.82176640992054, -163.6950701078201]</td>\n",
       "      <td>[-169.82176640992046, -163.69507010782007]</td>\n",
       "      <td>[-169.82176640992066, -163.69507010782013]</td>\n",
       "      <td>[-169.82176640992074, -163.69507010782007]</td>\n",
       "      <td>[-169.8217664099207, -163.69507010782007]</td>\n",
       "      <td>[-169.82176640992066, -163.69507010782013]</td>\n",
       "      <td>[-169.82176640992066, -163.69507010782007]</td>\n",
       "      <td>[-169.82176640992063, -163.69507010782007]</td>\n",
       "      <td>[-169.8217664099206, -163.6950701078201]</td>\n",
       "      <td>[-169.82176640992068, -163.69507010782007]</td>\n",
       "    </tr>\n",
       "    <tr>\n",
       "      <th>CO2_tx</th>\n",
       "      <td>[-102.14837436145365, -90.13468377585289]</td>\n",
       "      <td>[-102.14837436145359, -90.1346837758528]</td>\n",
       "      <td>[-102.14837436145358, -90.13468377585282]</td>\n",
       "      <td>[-102.14837436145353, -90.1346837758529]</td>\n",
       "      <td>[-102.14837436145352, -90.13468377585288]</td>\n",
       "      <td>[-102.14837436145355, -90.13468377585286]</td>\n",
       "      <td>[-102.14837436145353, -90.13468377585289]</td>\n",
       "      <td>[-102.14837436145356, -90.13468377585288]</td>\n",
       "      <td>[-102.14837436145358, -90.13468377585288]</td>\n",
       "      <td>[-102.14837436145352, -90.13468377585288]</td>\n",
       "      <td>[-102.14837436145362, -90.13468377585288]</td>\n",
       "    </tr>\n",
       "    <tr>\n",
       "      <th>ACETYL_COA_tx</th>\n",
       "      <td>[-461.672242393255, -434.8391836314546]</td>\n",
       "      <td>[-461.67224239325594, -434.83918363145636]</td>\n",
       "      <td>[-461.67224239325594, -434.8391836314563]</td>\n",
       "      <td>[-461.6722423932559, -434.8391836314562]</td>\n",
       "      <td>[-461.6722423932559, -434.83918363145625]</td>\n",
       "      <td>[-461.67224239325606, -434.83918363145625]</td>\n",
       "      <td>[-461.67224239325594, -434.83918363145625]</td>\n",
       "      <td>[-461.67224239325594, -434.8391836314563]</td>\n",
       "      <td>[-461.6722423932559, -434.8391836314562]</td>\n",
       "      <td>[-461.672242393256, -434.83918363145625]</td>\n",
       "      <td>[-461.67224239325594, -434.83918363145636]</td>\n",
       "    </tr>\n",
       "    <tr>\n",
       "      <th>ATP_tx</th>\n",
       "      <td>[-556.9238285302675, -549.2754274518613]</td>\n",
       "      <td>[-556.9238285302675, -549.2754274518613]</td>\n",
       "      <td>[-556.9238285302675, -549.2754274518613]</td>\n",
       "      <td>[-556.9238285302674, -549.2754274518613]</td>\n",
       "      <td>[-556.9238285302677, -549.2754274518613]</td>\n",
       "      <td>[-556.9238285302677, -549.2754274518613]</td>\n",
       "      <td>[-556.9238285302677, -549.2754274518613]</td>\n",
       "      <td>[-556.9238285302677, -549.2754274518613]</td>\n",
       "      <td>[-556.9238285302677, -549.2754274518613]</td>\n",
       "      <td>[-556.9238285302677, -549.2754274518613]</td>\n",
       "      <td>[-556.9238285302675, -549.2754274518613]</td>\n",
       "    </tr>\n",
       "    <tr>\n",
       "      <th>ADP_tx</th>\n",
       "      <td>[-347.4870986857145, -340.63854357290916]</td>\n",
       "      <td>[-347.4870986857144, -340.638543572909]</td>\n",
       "      <td>[-347.48709868571467, -340.63854357290904]</td>\n",
       "      <td>[-347.48709868571456, -340.63854357290916]</td>\n",
       "      <td>[-347.48709868571456, -340.6385435729091]</td>\n",
       "      <td>[-347.48709868571456, -340.63854357290916]</td>\n",
       "      <td>[-347.4870986857145, -340.6385435729092]</td>\n",
       "      <td>[-347.48709868571444, -340.63854357290893]</td>\n",
       "      <td>[-347.4870986857145, -340.638543572909]</td>\n",
       "      <td>[-347.48709868571467, -340.6385435729092]</td>\n",
       "      <td>[-347.48709868571444, -340.6385435729091]</td>\n",
       "    </tr>\n",
       "    <tr>\n",
       "      <th>NADPH_tx</th>\n",
       "      <td>[-501.02032780848134, -480.3455753011114]</td>\n",
       "      <td>[-499.2463541784952, -478.57160167112505]</td>\n",
       "      <td>[-498.83589532979676, -478.16114282242637]</td>\n",
       "      <td>[-498.59579229521796, -477.9210397878483]</td>\n",
       "      <td>[-498.4254364810973, -477.75068397372763]</td>\n",
       "      <td>[-498.29329824590616, -477.61854573853634]</td>\n",
       "      <td>[-497.88283939720736, -477.20808688983766]</td>\n",
       "      <td>[-497.6427363626293, -476.9679838552596]</td>\n",
       "      <td>[-497.4723805485085, -476.7976280411388]</td>\n",
       "      <td>[-497.34024231331716, -476.6654898059476]</td>\n",
       "      <td>[-495.5662686865974, -474.8915161759619]</td>\n",
       "    </tr>\n",
       "    <tr>\n",
       "      <th>NADP_tx</th>\n",
       "      <td>[-513.4489407984197, -492.7654940254092]</td>\n",
       "      <td>[-513.4489407984198, -492.7654940254092]</td>\n",
       "      <td>[-513.4489407984208, -492.7654940254092]</td>\n",
       "      <td>[-513.4489407984199, -492.76549402540934]</td>\n",
       "      <td>[-513.4489407984202, -492.7654940254092]</td>\n",
       "      <td>[-513.4489407984203, -492.76549402540934]</td>\n",
       "      <td>[-513.4489407984203, -492.76549402540934]</td>\n",
       "      <td>[-513.44894079842, -492.76549402540934]</td>\n",
       "      <td>[-513.4489407984202, -492.7654940254092]</td>\n",
       "      <td>[-513.44894079842, -492.7654940254092]</td>\n",
       "      <td>[-513.4489407984196, -492.7654940254091]</td>\n",
       "    </tr>\n",
       "    <tr>\n",
       "      <th>PROTON_tx</th>\n",
       "      <td>[7.144510011556621e-13, -7.144510011556621e-13]</td>\n",
       "      <td>[7.151035915967967e-13, -7.151035915967967e-13]</td>\n",
       "      <td>[7.155378541018924e-13, -7.155214733440469e-13]</td>\n",
       "      <td>[7.153889968969371e-13, -7.153889968969371e-13]</td>\n",
       "      <td>[7.154679232705264e-13, -7.154679232575638e-13]</td>\n",
       "      <td>[7.156429558309432e-13, -7.156429558309432e-13]</td>\n",
       "      <td>[7.162079606712446e-13, -7.162079606712446e-13]</td>\n",
       "      <td>[7.162259416242608e-13, -7.162259416242608e-13]</td>\n",
       "      <td>[7.162662166443001e-13, -7.162662166443001e-13]</td>\n",
       "      <td>[7.164855694848314e-13, -7.164855694848314e-13]</td>\n",
       "      <td>[7.17223559349675e-13, -7.17223559349675e-13]</td>\n",
       "    </tr>\n",
       "    <tr>\n",
       "      <th>HYDROGEN_PEROXIDE_tx</th>\n",
       "      <td>[-22.439961359534113, -10.426270773933368]</td>\n",
       "      <td>[-22.439961359534056, -10.42627077393336]</td>\n",
       "      <td>[-22.439961359534085, -10.426270773933453]</td>\n",
       "      <td>[-22.43996135953408, -10.426270773933446]</td>\n",
       "      <td>[-22.439961359534077, -10.426270773933432]</td>\n",
       "      <td>[-22.439961359534045, -10.426270773933412]</td>\n",
       "      <td>[-22.43996135953402, -10.426270773933442]</td>\n",
       "      <td>[-22.439961359534053, -10.426270773933453]</td>\n",
       "      <td>[-22.43996135953401, -10.426270773933435]</td>\n",
       "      <td>[-22.439961359534056, -10.426270773933437]</td>\n",
       "      <td>[-22.439961359534113, -10.426270773933425]</td>\n",
       "    </tr>\n",
       "    <tr>\n",
       "      <th>OXYGEN_MOLECULE_tx</th>\n",
       "      <td>[-5.9724661396882235, 6.04122444591286]</td>\n",
       "      <td>[-5.9724661396882155, 6.041224445912832]</td>\n",
       "      <td>[-5.972466139688155, 6.0412244459128]</td>\n",
       "      <td>[-5.972466139688191, 6.041224445912772]</td>\n",
       "      <td>[-5.972466139688219, 6.041224445912797]</td>\n",
       "      <td>[-5.972466139688196, 6.041224445912784]</td>\n",
       "      <td>[-5.972466139688194, 6.041224445912757]</td>\n",
       "      <td>[-5.972466139688185, 6.041224445912763]</td>\n",
       "      <td>[-5.972466139688166, 6.041224445912774]</td>\n",
       "      <td>[-5.9724661396881915, 6.0412244459127855]</td>\n",
       "      <td>[-5.9724661396882475, 6.041224445912799]</td>\n",
       "    </tr>\n",
       "    <tr>\n",
       "      <th>CO_A_tx</th>\n",
       "      <td>[-447.8173271137973, -420.862022755603]</td>\n",
       "      <td>[-447.81732711379664, -420.86202275560413]</td>\n",
       "      <td>[-447.8173271137966, -420.86202275560413]</td>\n",
       "      <td>[-447.8173271137966, -420.86202275560413]</td>\n",
       "      <td>[-447.81732711379664, -420.86202275560413]</td>\n",
       "      <td>[-447.8173271137966, -420.8620227556041]</td>\n",
       "      <td>[-447.8173271137967, -420.86202275560413]</td>\n",
       "      <td>[-447.8173271137967, -420.86202275560413]</td>\n",
       "      <td>[-447.8173271137966, -420.86202275560413]</td>\n",
       "      <td>[-447.81732711379664, -420.8620227556041]</td>\n",
       "      <td>[-447.8173271137966, -420.8620227556042]</td>\n",
       "    </tr>\n",
       "    <tr>\n",
       "      <th>Pi_tx</th>\n",
       "      <td>[-259.6044712733429, -254.20023420314755]</td>\n",
       "      <td>[-259.6044712733428, -254.20023420314755]</td>\n",
       "      <td>[-259.6044712733428, -254.20023420314755]</td>\n",
       "      <td>[-259.6044712733429, -254.20023420314755]</td>\n",
       "      <td>[-259.6044712733428, -254.20023420314763]</td>\n",
       "      <td>[-259.6044712733428, -254.20023420314755]</td>\n",
       "      <td>[-259.6044712733428, -254.20023420314755]</td>\n",
       "      <td>[-259.6044712733428, -254.20023420314755]</td>\n",
       "      <td>[-259.6044712733429, -254.20023420314763]</td>\n",
       "      <td>[-259.6044712733428, -254.20023420314763]</td>\n",
       "      <td>[-259.6044712733428, -254.20023420314757]</td>\n",
       "    </tr>\n",
       "    <tr>\n",
       "      <th>WATER_tx</th>\n",
       "      <td>[-44.042833652921914, -38.60737915740719]</td>\n",
       "      <td>[-44.042833652921864, -38.607379157407216]</td>\n",
       "      <td>[-44.04283365292187, -38.60737915740728]</td>\n",
       "      <td>[-44.04283365292181, -38.60737915740722]</td>\n",
       "      <td>[-44.04283365292179, -38.60737915740729]</td>\n",
       "      <td>[-44.042833652921864, -38.6073791574073]</td>\n",
       "      <td>[-44.042833652921885, -38.60737915740731]</td>\n",
       "      <td>[-44.04283365292186, -38.607379157407216]</td>\n",
       "      <td>[-44.042833652921814, -38.607379157407244]</td>\n",
       "      <td>[-44.0428336529219, -38.60737915740733]</td>\n",
       "      <td>[-44.042833652921814, -38.6073791574073]</td>\n",
       "    </tr>\n",
       "  </tbody>\n",
       "</table>\n",
       "</div>"
      ],
      "text/plain": [
       "                                                                      0.01  \\\n",
       "MALSYN_RXN                         [-15.66876942941621, 6.321170901711973]   \n",
       "RXN_8961                           [-9.557122173019641, 8.980372418056868]   \n",
       "RXN_15977                        [-31.487371468608323, -2.866658101676414]   \n",
       "RXN_18384                         [-14.485468559619742, 8.189940633612826]   \n",
       "METHYLMALONYL_COA_MUT_RXN         [-8.272226283660462, 4.2791732874734745]   \n",
       "RXN_8891                           [-10.340218100005943, 7.37077122094501]   \n",
       "RXN_11002                          [-2.872508684723561, 8.571759202995397]   \n",
       "RXN_18387                          [-16.14362535961978, 8.361221232276064]   \n",
       "RXN_8890                         [-14.874873528378906, 1.9160901961671004]   \n",
       "RXN_8957                         [-13.663628874910819, 7.8393140770942855]   \n",
       "RXN_16391                         [-3.1374884112949823, 3.137488411294982]   \n",
       "RXN_8958                           [-3.137488411294982, 3.137488411294982]   \n",
       "RXN_18381                          [-31.33795906510249, -5.19495161007001]   \n",
       "RXN_8960                          [-12.353459945130075, 2.820416416680216]   \n",
       "MAL_tx                          [-169.82176640992074, -163.69507010782002]   \n",
       "CO2_tx                           [-102.14837436145365, -90.13468377585289]   \n",
       "ACETYL_COA_tx                      [-461.672242393255, -434.8391836314546]   \n",
       "ATP_tx                            [-556.9238285302675, -549.2754274518613]   \n",
       "ADP_tx                           [-347.4870986857145, -340.63854357290916]   \n",
       "NADPH_tx                         [-501.02032780848134, -480.3455753011114]   \n",
       "NADP_tx                           [-513.4489407984197, -492.7654940254092]   \n",
       "PROTON_tx                  [7.144510011556621e-13, -7.144510011556621e-13]   \n",
       "HYDROGEN_PEROXIDE_tx            [-22.439961359534113, -10.426270773933368]   \n",
       "OXYGEN_MOLECULE_tx                 [-5.9724661396882235, 6.04122444591286]   \n",
       "CO_A_tx                            [-447.8173271137973, -420.862022755603]   \n",
       "Pi_tx                            [-259.6044712733429, -254.20023420314755]   \n",
       "WATER_tx                         [-44.042833652921914, -38.60737915740719]   \n",
       "\n",
       "                                                                       0.2  \\\n",
       "MALSYN_RXN                         [-15.66876942941602, 6.321170901711852]   \n",
       "RXN_8961                           [-9.557122173019607, 8.980372418056843]   \n",
       "RXN_15977                        [-31.48737146860852, -2.8666581016763444]   \n",
       "RXN_18384                         [-16.259442189606123, 6.415967003627031]   \n",
       "METHYLMALONYL_COA_MUT_RXN          [-8.272226283660805, 4.279173287473847]   \n",
       "RXN_8891                           [-8.566244470019573, 9.144744850931234]   \n",
       "RXN_11002                          [-4.646482314710097, 6.797785573009382]   \n",
       "RXN_18387                           [-16.14362535961959, 8.36122123227575]   \n",
       "RXN_8890                         [-14.874873528378854, 1.9160901961669643]   \n",
       "RXN_8957                           [-15.43760250489779, 6.065340447107684]   \n",
       "RXN_16391                         [-3.137488411294979, 3.1374884112949797]   \n",
       "RXN_8958                         [-3.1374884112949792, 3.1374884112949792]   \n",
       "RXN_18381                           [-31.33795906510272, -5.1949516100699]   \n",
       "RXN_8960                         [-12.353459945129982, 2.8204164166800996]   \n",
       "MAL_tx                           [-169.82176640992054, -163.6950701078201]   \n",
       "CO2_tx                            [-102.14837436145359, -90.1346837758528]   \n",
       "ACETYL_COA_tx                   [-461.67224239325594, -434.83918363145636]   \n",
       "ATP_tx                            [-556.9238285302675, -549.2754274518613]   \n",
       "ADP_tx                             [-347.4870986857144, -340.638543572909]   \n",
       "NADPH_tx                         [-499.2463541784952, -478.57160167112505]   \n",
       "NADP_tx                           [-513.4489407984198, -492.7654940254092]   \n",
       "PROTON_tx                  [7.151035915967967e-13, -7.151035915967967e-13]   \n",
       "HYDROGEN_PEROXIDE_tx             [-22.439961359534056, -10.42627077393336]   \n",
       "OXYGEN_MOLECULE_tx                [-5.9724661396882155, 6.041224445912832]   \n",
       "CO_A_tx                         [-447.81732711379664, -420.86202275560413]   \n",
       "Pi_tx                            [-259.6044712733428, -254.20023420314755]   \n",
       "WATER_tx                        [-44.042833652921864, -38.607379157407216]   \n",
       "\n",
       "                                                                       0.4  \\\n",
       "MALSYN_RXN                        [-15.668769429416106, 6.321170901711841]   \n",
       "RXN_8961                           [-9.557122173019604, 8.980372418056843]   \n",
       "RXN_15977                        [-31.487371468608398, -2.866658101676453]   \n",
       "RXN_18384                         [-16.669901038304527, 6.005508154927343]   \n",
       "METHYLMALONYL_COA_MUT_RXN          [-8.272226283660547, 4.279173287473615]   \n",
       "RXN_8891                            [-8.155785621320835, 9.55520369962999]   \n",
       "RXN_11002                          [-5.056941163408673, 6.387326724310418]   \n",
       "RXN_18387                           [-16.1436253596199, 8.361221232276064]   \n",
       "RXN_8890                          [-14.87487352837879, 1.9160901961669947]   \n",
       "RXN_8957                           [-15.84806135359657, 5.654881598408753]   \n",
       "RXN_16391                          [-3.137488411294977, 3.137488411294977]   \n",
       "RXN_8958                         [-3.1374884112949775, 3.1374884112949766]   \n",
       "RXN_18381                        [-31.33795906510263, -5.1949516100699675]   \n",
       "RXN_8960                         [-12.353459945130108, 2.8204164166800902]   \n",
       "MAL_tx                          [-169.82176640992046, -163.69507010782007]   \n",
       "CO2_tx                           [-102.14837436145358, -90.13468377585282]   \n",
       "ACETYL_COA_tx                    [-461.67224239325594, -434.8391836314563]   \n",
       "ATP_tx                            [-556.9238285302675, -549.2754274518613]   \n",
       "ADP_tx                          [-347.48709868571467, -340.63854357290904]   \n",
       "NADPH_tx                        [-498.83589532979676, -478.16114282242637]   \n",
       "NADP_tx                           [-513.4489407984208, -492.7654940254092]   \n",
       "PROTON_tx                  [7.155378541018924e-13, -7.155214733440469e-13]   \n",
       "HYDROGEN_PEROXIDE_tx            [-22.439961359534085, -10.426270773933453]   \n",
       "OXYGEN_MOLECULE_tx                   [-5.972466139688155, 6.0412244459128]   \n",
       "CO_A_tx                          [-447.8173271137966, -420.86202275560413]   \n",
       "Pi_tx                            [-259.6044712733428, -254.20023420314755]   \n",
       "WATER_tx                          [-44.04283365292187, -38.60737915740728]   \n",
       "\n",
       "                                                                       0.6  \\\n",
       "MALSYN_RXN                       [-15.668769429416031, 6.3211709017118345]   \n",
       "RXN_8961                           [-9.557122173019593, 8.980372418056884]   \n",
       "RXN_15977                        [-31.48737146860841, -2.8666581016763106]   \n",
       "RXN_18384                          [-16.91000407288204, 5.765405120349473]   \n",
       "METHYLMALONYL_COA_MUT_RXN           [-8.27222628366055, 4.279173287473571]   \n",
       "RXN_8891                          [-7.9156825867428875, 9.795306734207873]   \n",
       "RXN_11002                         [-5.297044197986584, 6.1472236897324395]   \n",
       "RXN_18387                          [-16.143625359619847, 8.36122123227605]   \n",
       "RXN_8890                         [-14.874873528378808, 1.9160901961669812]   \n",
       "RXN_8957                           [-16.08816438817452, 5.414778563831065]   \n",
       "RXN_16391                         [-3.1374884112949757, 3.137488411294976]   \n",
       "RXN_8958                         [-3.1374884112949766, 3.1374884112949766]   \n",
       "RXN_18381                          [-31.33795906510254, -5.19495161007003]   \n",
       "RXN_8960                         [-12.353459945130103, 2.8204164166800645]   \n",
       "MAL_tx                          [-169.82176640992066, -163.69507010782013]   \n",
       "CO2_tx                            [-102.14837436145353, -90.1346837758529]   \n",
       "ACETYL_COA_tx                     [-461.6722423932559, -434.8391836314562]   \n",
       "ATP_tx                            [-556.9238285302674, -549.2754274518613]   \n",
       "ADP_tx                          [-347.48709868571456, -340.63854357290916]   \n",
       "NADPH_tx                         [-498.59579229521796, -477.9210397878483]   \n",
       "NADP_tx                          [-513.4489407984199, -492.76549402540934]   \n",
       "PROTON_tx                  [7.153889968969371e-13, -7.153889968969371e-13]   \n",
       "HYDROGEN_PEROXIDE_tx             [-22.43996135953408, -10.426270773933446]   \n",
       "OXYGEN_MOLECULE_tx                 [-5.972466139688191, 6.041224445912772]   \n",
       "CO_A_tx                          [-447.8173271137966, -420.86202275560413]   \n",
       "Pi_tx                            [-259.6044712733429, -254.20023420314755]   \n",
       "WATER_tx                          [-44.04283365292181, -38.60737915740722]   \n",
       "\n",
       "                                                                       0.8  \\\n",
       "MALSYN_RXN                         [-15.66876942941602, 6.321170901711783]   \n",
       "RXN_8961                           [-9.557122173019575, 8.980372418056865]   \n",
       "RXN_15977                        [-31.487371468608398, -2.866658101676256]   \n",
       "RXN_18384                         [-17.080359887002814, 5.595049306228729]   \n",
       "METHYLMALONYL_COA_MUT_RXN          [-8.272226283660757, 4.279173287473808]   \n",
       "RXN_8891                            [-7.74532677262208, 9.965662548328723]   \n",
       "RXN_11002                          [-5.467400012107426, 5.976867875611603]   \n",
       "RXN_18387                          [-16.14362535961987, 8.361221232276044]   \n",
       "RXN_8890                          [-14.874873528378805, 1.916090196167038]   \n",
       "RXN_8957                         [-16.258520202295305, 5.2444227497102345]   \n",
       "RXN_16391                          [-3.137488411294977, 3.137488411294977]   \n",
       "RXN_8958                           [-3.137488411294977, 3.137488411294976]   \n",
       "RXN_18381                         [-31.33795906510208, -5.194951610070469]   \n",
       "RXN_8960                          [-12.35345994513008, 2.8204164166800663]   \n",
       "MAL_tx                          [-169.82176640992074, -163.69507010782007]   \n",
       "CO2_tx                           [-102.14837436145352, -90.13468377585288]   \n",
       "ACETYL_COA_tx                    [-461.6722423932559, -434.83918363145625]   \n",
       "ATP_tx                            [-556.9238285302677, -549.2754274518613]   \n",
       "ADP_tx                           [-347.48709868571456, -340.6385435729091]   \n",
       "NADPH_tx                         [-498.4254364810973, -477.75068397372763]   \n",
       "NADP_tx                           [-513.4489407984202, -492.7654940254092]   \n",
       "PROTON_tx                  [7.154679232705264e-13, -7.154679232575638e-13]   \n",
       "HYDROGEN_PEROXIDE_tx            [-22.439961359534077, -10.426270773933432]   \n",
       "OXYGEN_MOLECULE_tx                 [-5.972466139688219, 6.041224445912797]   \n",
       "CO_A_tx                         [-447.81732711379664, -420.86202275560413]   \n",
       "Pi_tx                            [-259.6044712733428, -254.20023420314763]   \n",
       "WATER_tx                          [-44.04283365292179, -38.60737915740729]   \n",
       "\n",
       "                                                                         1  \\\n",
       "MALSYN_RXN                        [-15.66876942941635, 6.3211709017118185]   \n",
       "RXN_8961                           [-9.557122173019604, 8.980372418056868]   \n",
       "RXN_15977                       [-31.487371468608405, -2.8666581016763715]   \n",
       "RXN_18384                         [-17.212498122194077, 5.462911071037726]   \n",
       "METHYLMALONYL_COA_MUT_RXN           [-8.27222628366075, 4.279173287473795]   \n",
       "RXN_8891                          [-7.613188537430865, 10.097800783519949]   \n",
       "RXN_11002                          [-5.599538247298646, 5.844729640420352]   \n",
       "RXN_18387                         [-16.143625359619822, 8.361221232276042]   \n",
       "RXN_8890                         [-14.874873528378787, 1.9160901961669705]   \n",
       "RXN_8957                          [-16.390658437486554, 5.112284514518911]   \n",
       "RXN_16391                        [-3.1374884112949752, 3.1374884112949752]   \n",
       "RXN_8958                          [-3.137488411294976, 3.1374884112949752]   \n",
       "RXN_18381                         [-31.33795906510205, -5.194951610070494]   \n",
       "RXN_8960                         [-12.353459945130087, 2.8204164166800534]   \n",
       "MAL_tx                           [-169.8217664099207, -163.69507010782007]   \n",
       "CO2_tx                           [-102.14837436145355, -90.13468377585286]   \n",
       "ACETYL_COA_tx                   [-461.67224239325606, -434.83918363145625]   \n",
       "ATP_tx                            [-556.9238285302677, -549.2754274518613]   \n",
       "ADP_tx                          [-347.48709868571456, -340.63854357290916]   \n",
       "NADPH_tx                        [-498.29329824590616, -477.61854573853634]   \n",
       "NADP_tx                          [-513.4489407984203, -492.76549402540934]   \n",
       "PROTON_tx                  [7.156429558309432e-13, -7.156429558309432e-13]   \n",
       "HYDROGEN_PEROXIDE_tx            [-22.439961359534045, -10.426270773933412]   \n",
       "OXYGEN_MOLECULE_tx                 [-5.972466139688196, 6.041224445912784]   \n",
       "CO_A_tx                           [-447.8173271137966, -420.8620227556041]   \n",
       "Pi_tx                            [-259.6044712733428, -254.20023420314755]   \n",
       "WATER_tx                          [-44.042833652921864, -38.6073791574073]   \n",
       "\n",
       "                                                                         2  \\\n",
       "MALSYN_RXN                        [-15.668769429416317, 6.321170901711963]   \n",
       "RXN_8961                            [-9.55712217301957, 8.980372418056891]   \n",
       "RXN_15977                       [-31.487371468608483, -2.8666581016764345]   \n",
       "RXN_18384                          [-17.622956970892837, 5.05245223205122]   \n",
       "METHYLMALONYL_COA_MUT_RXN         [-8.272226283660782, 4.2791732874738155]   \n",
       "RXN_8891                          [-7.202729688732035, 10.508259632218714]   \n",
       "RXN_11002                         [-6.0099970959973525, 5.434270791721544]   \n",
       "RXN_18387                         [-16.143625359619858, 8.361221232276028]   \n",
       "RXN_8890                         [-14.874873528378801, 1.9160901961669745]   \n",
       "RXN_8957                            [-16.8011172861853, 4.701825665820113]   \n",
       "RXN_16391                         [-3.1374884112949752, 3.137488411294974]   \n",
       "RXN_8958                           [-3.137488411294975, 3.137488411294975]   \n",
       "RXN_18381                        [-31.337959065102112, -5.194951610070469]   \n",
       "RXN_8960                           [-12.35345994513006, 2.820416416680056]   \n",
       "MAL_tx                          [-169.82176640992066, -163.69507010782013]   \n",
       "CO2_tx                           [-102.14837436145353, -90.13468377585289]   \n",
       "ACETYL_COA_tx                   [-461.67224239325594, -434.83918363145625]   \n",
       "ATP_tx                            [-556.9238285302677, -549.2754274518613]   \n",
       "ADP_tx                            [-347.4870986857145, -340.6385435729092]   \n",
       "NADPH_tx                        [-497.88283939720736, -477.20808688983766]   \n",
       "NADP_tx                          [-513.4489407984203, -492.76549402540934]   \n",
       "PROTON_tx                  [7.162079606712446e-13, -7.162079606712446e-13]   \n",
       "HYDROGEN_PEROXIDE_tx             [-22.43996135953402, -10.426270773933442]   \n",
       "OXYGEN_MOLECULE_tx                 [-5.972466139688194, 6.041224445912757]   \n",
       "CO_A_tx                          [-447.8173271137967, -420.86202275560413]   \n",
       "Pi_tx                            [-259.6044712733428, -254.20023420314755]   \n",
       "WATER_tx                         [-44.042833652921885, -38.60737915740731]   \n",
       "\n",
       "                                                                         3  \\\n",
       "MALSYN_RXN                        [-15.668769429416292, 6.321170901711951]   \n",
       "RXN_8961                             [-9.557122173019586, 8.9803724180569]   \n",
       "RXN_15977                        [-31.48737146860841, -2.8666581016764465]   \n",
       "RXN_18384                           [-17.86306000547075, 4.81234919747332]   \n",
       "METHYLMALONYL_COA_MUT_RXN         [-8.272226283660748, 4.2791732874737844]   \n",
       "RXN_8891                          [-6.962626654154128, 10.748362666796629]   \n",
       "RXN_11002                           [-6.25010013057531, 5.194167757143621]   \n",
       "RXN_18387                          [-16.14362535961979, 8.361221232276009]   \n",
       "RXN_8890                          [-14.874873528378755, 1.916090196166957]   \n",
       "RXN_8957                             [-17.041220320763276, 4.461722631242]   \n",
       "RXN_16391                         [-3.1374884112949744, 3.137488411294974]   \n",
       "RXN_8958                         [-3.1374884112949744, 3.1374884112949735]   \n",
       "RXN_18381                        [-31.337959065102037, -5.194951610070528]   \n",
       "RXN_8960                          [-12.35345994513005, 2.8204164166800485]   \n",
       "MAL_tx                          [-169.82176640992066, -163.69507010782007]   \n",
       "CO2_tx                           [-102.14837436145356, -90.13468377585288]   \n",
       "ACETYL_COA_tx                    [-461.67224239325594, -434.8391836314563]   \n",
       "ATP_tx                            [-556.9238285302677, -549.2754274518613]   \n",
       "ADP_tx                          [-347.48709868571444, -340.63854357290893]   \n",
       "NADPH_tx                          [-497.6427363626293, -476.9679838552596]   \n",
       "NADP_tx                            [-513.44894079842, -492.76549402540934]   \n",
       "PROTON_tx                  [7.162259416242608e-13, -7.162259416242608e-13]   \n",
       "HYDROGEN_PEROXIDE_tx            [-22.439961359534053, -10.426270773933453]   \n",
       "OXYGEN_MOLECULE_tx                 [-5.972466139688185, 6.041224445912763]   \n",
       "CO_A_tx                          [-447.8173271137967, -420.86202275560413]   \n",
       "Pi_tx                            [-259.6044712733428, -254.20023420314755]   \n",
       "WATER_tx                         [-44.04283365292186, -38.607379157407216]   \n",
       "\n",
       "                                                                         4  \\\n",
       "MALSYN_RXN                       [-15.668769429416317, 6.3211709017119615]   \n",
       "RXN_8961                           [-9.557122173019534, 8.980372418056858]   \n",
       "RXN_15977                       [-31.487371468608348, -2.8666581016763835]   \n",
       "RXN_18384                         [-18.033415819591546, 4.641993383352486]   \n",
       "METHYLMALONYL_COA_MUT_RXN          [-8.272226283660745, 4.279173287473769]   \n",
       "RXN_8891                           [-6.792270840033294, 10.91871848091746]   \n",
       "RXN_11002                          [-6.420455944696115, 5.023811943022781]   \n",
       "RXN_18387                         [-16.143625359619808, 8.361221232276014]   \n",
       "RXN_8890                           [-14.87487352837875, 1.916090196166929]   \n",
       "RXN_8957                           [-17.21157613488404, 4.291366817121108]   \n",
       "RXN_16391                          [-3.137488411294974, 3.137488411294974]   \n",
       "RXN_8958                          [-3.137488411294974, 3.1374884112949735]   \n",
       "RXN_18381                        [-31.337959065102073, -5.194951610070553]   \n",
       "RXN_8960                          [-12.35345994513004, 2.8204164166800445]   \n",
       "MAL_tx                          [-169.82176640992063, -163.69507010782007]   \n",
       "CO2_tx                           [-102.14837436145358, -90.13468377585288]   \n",
       "ACETYL_COA_tx                     [-461.6722423932559, -434.8391836314562]   \n",
       "ATP_tx                            [-556.9238285302677, -549.2754274518613]   \n",
       "ADP_tx                             [-347.4870986857145, -340.638543572909]   \n",
       "NADPH_tx                          [-497.4723805485085, -476.7976280411388]   \n",
       "NADP_tx                           [-513.4489407984202, -492.7654940254092]   \n",
       "PROTON_tx                  [7.162662166443001e-13, -7.162662166443001e-13]   \n",
       "HYDROGEN_PEROXIDE_tx             [-22.43996135953401, -10.426270773933435]   \n",
       "OXYGEN_MOLECULE_tx                 [-5.972466139688166, 6.041224445912774]   \n",
       "CO_A_tx                          [-447.8173271137966, -420.86202275560413]   \n",
       "Pi_tx                            [-259.6044712733429, -254.20023420314763]   \n",
       "WATER_tx                        [-44.042833652921814, -38.607379157407244]   \n",
       "\n",
       "                                                                         5  \\\n",
       "MALSYN_RXN                        [-15.668769429416285, 6.321170901712003]   \n",
       "RXN_8961                           [-9.557122173019545, 8.980372418056882]   \n",
       "RXN_15977                        [-31.487371468608316, -2.866658101676419]   \n",
       "RXN_18384                         [-18.165554054782795, 4.509855148161234]   \n",
       "METHYLMALONYL_COA_MUT_RXN          [-8.272226283660725, 4.279173287473802]   \n",
       "RXN_8891                          [-6.660132604841993, 11.050856716108685]   \n",
       "RXN_11002                         [-6.5525941798873575, 4.891673707831521]   \n",
       "RXN_18387                            [-16.1436253596198, 8.36122123227595]   \n",
       "RXN_8890                         [-14.874873528378767, 1.9160901961667953]   \n",
       "RXN_8957                          [-17.343714370075283, 4.159228581929792]   \n",
       "RXN_16391                         [-3.137488411294974, 3.1374884112949735]   \n",
       "RXN_8958                          [-3.1374884112949735, 3.137488411294974]   \n",
       "RXN_18381                         [-31.33795906510211, -5.194951610070467]   \n",
       "RXN_8960                         [-12.353459945130044, 2.8204164166800343]   \n",
       "MAL_tx                            [-169.8217664099206, -163.6950701078201]   \n",
       "CO2_tx                           [-102.14837436145352, -90.13468377585288]   \n",
       "ACETYL_COA_tx                     [-461.672242393256, -434.83918363145625]   \n",
       "ATP_tx                            [-556.9238285302677, -549.2754274518613]   \n",
       "ADP_tx                           [-347.48709868571467, -340.6385435729092]   \n",
       "NADPH_tx                         [-497.34024231331716, -476.6654898059476]   \n",
       "NADP_tx                             [-513.44894079842, -492.7654940254092]   \n",
       "PROTON_tx                  [7.164855694848314e-13, -7.164855694848314e-13]   \n",
       "HYDROGEN_PEROXIDE_tx            [-22.439961359534056, -10.426270773933437]   \n",
       "OXYGEN_MOLECULE_tx               [-5.9724661396881915, 6.0412244459127855]   \n",
       "CO_A_tx                          [-447.81732711379664, -420.8620227556041]   \n",
       "Pi_tx                            [-259.6044712733428, -254.20023420314763]   \n",
       "WATER_tx                           [-44.0428336529219, -38.60737915740733]   \n",
       "\n",
       "                                                                     100  \n",
       "MALSYN_RXN                      [-15.668769429416242, 6.321170901711926]  \n",
       "RXN_8961                         [-9.557122173019378, 8.980372418056682]  \n",
       "RXN_15977                      [-31.487371468607872, -2.866658101676842]  \n",
       "RXN_18384                        [-19.93952768476912, 2.735881518175433]  \n",
       "METHYLMALONYL_COA_MUT_RXN        [-8.27222628366069, 4.2791732874737285]  \n",
       "RXN_8891                       [-4.8861589748558965, 12.824830346095158]  \n",
       "RXN_11002                         [-8.32656780987355, 3.117700077845171]  \n",
       "RXN_18387                       [-16.143625359619712, 8.361221232275936]  \n",
       "RXN_8890                         [-14.87487352837874, 1.916090196166774]  \n",
       "RXN_8957                       [-19.117688000061577, 2.3852549573945416]  \n",
       "RXN_16391                      [-3.1374884112949704, 3.1374884112949717]  \n",
       "RXN_8958                        [-3.1374884112949717, 3.137488411294971]  \n",
       "RXN_18381                      [-31.337959065102044, -5.194951610070535]  \n",
       "RXN_8960                       [-12.353459945130252, 2.8204164166799663]  \n",
       "MAL_tx                        [-169.82176640992068, -163.69507010782007]  \n",
       "CO2_tx                         [-102.14837436145362, -90.13468377585288]  \n",
       "ACETYL_COA_tx                 [-461.67224239325594, -434.83918363145636]  \n",
       "ATP_tx                          [-556.9238285302675, -549.2754274518613]  \n",
       "ADP_tx                         [-347.48709868571444, -340.6385435729091]  \n",
       "NADPH_tx                        [-495.5662686865974, -474.8915161759619]  \n",
       "NADP_tx                         [-513.4489407984196, -492.7654940254091]  \n",
       "PROTON_tx                  [7.17223559349675e-13, -7.17223559349675e-13]  \n",
       "HYDROGEN_PEROXIDE_tx          [-22.439961359534113, -10.426270773933425]  \n",
       "OXYGEN_MOLECULE_tx              [-5.9724661396882475, 6.041224445912799]  \n",
       "CO_A_tx                         [-447.8173271137966, -420.8620227556042]  \n",
       "Pi_tx                          [-259.6044712733428, -254.20023420314757]  \n",
       "WATER_tx                        [-44.042833652921814, -38.6073791574073]  "
      ]
     },
     "execution_count": 73,
     "metadata": {},
     "output_type": "execute_result"
    }
   ],
   "source": [
    "new_compiled_df"
   ]
  },
  {
   "cell_type": "code",
   "execution_count": 74,
   "metadata": {
    "scrolled": true
   },
   "outputs": [],
   "source": [
    "import pandas as pd\n",
    "# from pint import Quantity as Q_\n",
    "\n",
    "def calculate_flux_bounds(tmodel, ratio_list, metabolite):\n",
    "    \"\"\"\n",
    "    Calculate flux bounds for different ratios using the provided model.\n",
    "\n",
    "    Args:\n",
    "        tmodel (object): The model object.\n",
    "        ratio_list (list): List of ratios to iterate over.\n",
    "\n",
    "    Returns:\n",
    "        pandas.DataFrame: DataFrame containing the flux bounds for each ratio.\n",
    "    \"\"\"\n",
    "    compiled_df = pd.DataFrame()\n",
    "\n",
    "    for item in ratio_list:\n",
    "        try:\n",
    "            tmodel.metabolites.get_by_id(metabolite).lower_bound = Q_(item, 'mM')\n",
    "            tmodel.metabolites.get_by_id(metabolite).upper_bound = Q_(item, 'mM')\n",
    "        except:\n",
    "            tmodel.metabolites.get_by_id(metabolite).upper_bound = Q_(item, 'mM')\n",
    "            tmodel.metabolites.get_by_id(metabolite).lower_bound = Q_(item, 'mM')\n",
    "\n",
    "        tmodel.m = None  # reset the gurobi model object in case you're re-running this cell \n",
    "        tmodel.add_TFBA_variables(gdiss_constraint=False, qnorm=1, error_type='covariance')\n",
    "        bounds_df = thermo_flux.solver.gurobi.drG_bounds(tmodel, alpha=0.95)\n",
    "\n",
    "        # Add bounds_df.lb and bounds_df.ub for each iteration to the compiled_df\n",
    "        compiled_df.insert(0, str(item) + \"_ub\", bounds_df.ub, False)\n",
    "        compiled_df.insert(0, str(item) + \"_lb\", bounds_df.lb, False)\n",
    "\n",
    "    new_compiled_df = pd.DataFrame()\n",
    "    new_compiled_df.index = compiled_df.index\n",
    "\n",
    "    for value in ratio_list:\n",
    "        new_compiled_df[str(value)] = [[a,b] for a, b in zip(compiled_df[str(value)+\"_lb\"], compiled_df[str(value)+\"_ub\"])]\n",
    "\n",
    "    return new_compiled_df\n"
   ]
  },
  {
   "cell_type": "code",
   "execution_count": 75,
   "metadata": {
    "scrolled": true
   },
   "outputs": [
    {
     "name": "stdout",
     "output_type": "stream",
     "text": [
      "Set parameter NonConvex to value 2\n",
      "Set parameter TimeLimit to value 10\n",
      "[██████████████████████..................] 15/27 MAL_tx                                   \r"
     ]
    },
    {
     "name": "stderr",
     "output_type": "stream",
     "text": [
      "/home/corinna/anaconda3/envs/thermoflux2/lib/python3.10/site-packages/cvxpy/reductions/solvers/solving_chain.py:336: FutureWarning: \n",
      "    Your problem is being solved with the ECOS solver by default. Starting in \n",
      "    CVXPY 1.5.0, Clarabel will be used as the default solver instead. To continue \n",
      "    using ECOS, specify the ECOS solver explicitly using the ``solver=cp.ECOS`` \n",
      "    argument to the ``problem.solve`` method.\n",
      "    \n",
      "  warnings.warn(ECOS_DEPRECATION_MSG, FutureWarning)\n"
     ]
    },
    {
     "name": "stdout",
     "output_type": "stream",
     "text": [
      "[████████████████████████████████████████] 27/27 WATER_tx                             \n",
      "\n",
      "Set parameter NonConvex to value 2\n",
      "Set parameter TimeLimit to value 10\n",
      "[███████████████████████.................] 16/27 CO2_tx                                   \r"
     ]
    },
    {
     "name": "stderr",
     "output_type": "stream",
     "text": [
      "/home/corinna/anaconda3/envs/thermoflux2/lib/python3.10/site-packages/cvxpy/reductions/solvers/solving_chain.py:336: FutureWarning: \n",
      "    Your problem is being solved with the ECOS solver by default. Starting in \n",
      "    CVXPY 1.5.0, Clarabel will be used as the default solver instead. To continue \n",
      "    using ECOS, specify the ECOS solver explicitly using the ``solver=cp.ECOS`` \n",
      "    argument to the ``problem.solve`` method.\n",
      "    \n",
      "  warnings.warn(ECOS_DEPRECATION_MSG, FutureWarning)\n"
     ]
    },
    {
     "name": "stdout",
     "output_type": "stream",
     "text": [
      "[████████████████████████████████████████] 27/27 WATER_tx                             \n",
      "\n",
      "Set parameter NonConvex to value 2\n",
      "Set parameter TimeLimit to value 10\n",
      "[██████████████████████..................] 15/27 MAL_tx                                   \r"
     ]
    },
    {
     "name": "stderr",
     "output_type": "stream",
     "text": [
      "/home/corinna/anaconda3/envs/thermoflux2/lib/python3.10/site-packages/cvxpy/reductions/solvers/solving_chain.py:336: FutureWarning: \n",
      "    Your problem is being solved with the ECOS solver by default. Starting in \n",
      "    CVXPY 1.5.0, Clarabel will be used as the default solver instead. To continue \n",
      "    using ECOS, specify the ECOS solver explicitly using the ``solver=cp.ECOS`` \n",
      "    argument to the ``problem.solve`` method.\n",
      "    \n",
      "  warnings.warn(ECOS_DEPRECATION_MSG, FutureWarning)\n"
     ]
    },
    {
     "name": "stdout",
     "output_type": "stream",
     "text": [
      "[████████████████████████████████████████] 27/27 WATER_tx                             \n",
      "\n",
      "Set parameter NonConvex to value 2\n",
      "Set parameter TimeLimit to value 10\n",
      "[███████████████████████.................] 16/27 CO2_tx                                                    \r"
     ]
    },
    {
     "name": "stderr",
     "output_type": "stream",
     "text": [
      "/home/corinna/anaconda3/envs/thermoflux2/lib/python3.10/site-packages/cvxpy/reductions/solvers/solving_chain.py:336: FutureWarning: \n",
      "    Your problem is being solved with the ECOS solver by default. Starting in \n",
      "    CVXPY 1.5.0, Clarabel will be used as the default solver instead. To continue \n",
      "    using ECOS, specify the ECOS solver explicitly using the ``solver=cp.ECOS`` \n",
      "    argument to the ``problem.solve`` method.\n",
      "    \n",
      "  warnings.warn(ECOS_DEPRECATION_MSG, FutureWarning)\n"
     ]
    },
    {
     "name": "stdout",
     "output_type": "stream",
     "text": [
      "[████████████████████████████████████████] 27/27 WATER_tx                             \n",
      "\n",
      "Set parameter NonConvex to value 2\n",
      "Set parameter TimeLimit to value 10\n",
      "[█████████████████████████...............] 17/27 ACETYL_COA_tx                            \r"
     ]
    },
    {
     "name": "stderr",
     "output_type": "stream",
     "text": [
      "/home/corinna/anaconda3/envs/thermoflux2/lib/python3.10/site-packages/cvxpy/reductions/solvers/solving_chain.py:336: FutureWarning: \n",
      "    Your problem is being solved with the ECOS solver by default. Starting in \n",
      "    CVXPY 1.5.0, Clarabel will be used as the default solver instead. To continue \n",
      "    using ECOS, specify the ECOS solver explicitly using the ``solver=cp.ECOS`` \n",
      "    argument to the ``problem.solve`` method.\n",
      "    \n",
      "  warnings.warn(ECOS_DEPRECATION_MSG, FutureWarning)\n"
     ]
    },
    {
     "name": "stdout",
     "output_type": "stream",
     "text": [
      "[████████████████████████████████████████] 27/27 WATER_tx                             \n",
      "\n",
      "Set parameter NonConvex to value 2\n",
      "Set parameter TimeLimit to value 10\n",
      "[█████████████████████████...............] 17/27 ACETYL_COA_tx                            \r"
     ]
    },
    {
     "name": "stderr",
     "output_type": "stream",
     "text": [
      "/home/corinna/anaconda3/envs/thermoflux2/lib/python3.10/site-packages/cvxpy/reductions/solvers/solving_chain.py:336: FutureWarning: \n",
      "    Your problem is being solved with the ECOS solver by default. Starting in \n",
      "    CVXPY 1.5.0, Clarabel will be used as the default solver instead. To continue \n",
      "    using ECOS, specify the ECOS solver explicitly using the ``solver=cp.ECOS`` \n",
      "    argument to the ``problem.solve`` method.\n",
      "    \n",
      "  warnings.warn(ECOS_DEPRECATION_MSG, FutureWarning)\n"
     ]
    },
    {
     "name": "stdout",
     "output_type": "stream",
     "text": [
      "[████████████████████████████████████████] 27/27 WATER_tx                             \n",
      "\n",
      "Set parameter NonConvex to value 2\n",
      "Set parameter TimeLimit to value 10\n",
      "[█████████████████████████...............] 17/27 ACETYL_COA_tx                            \r"
     ]
    },
    {
     "name": "stderr",
     "output_type": "stream",
     "text": [
      "/home/corinna/anaconda3/envs/thermoflux2/lib/python3.10/site-packages/cvxpy/reductions/solvers/solving_chain.py:336: FutureWarning: \n",
      "    Your problem is being solved with the ECOS solver by default. Starting in \n",
      "    CVXPY 1.5.0, Clarabel will be used as the default solver instead. To continue \n",
      "    using ECOS, specify the ECOS solver explicitly using the ``solver=cp.ECOS`` \n",
      "    argument to the ``problem.solve`` method.\n",
      "    \n",
      "  warnings.warn(ECOS_DEPRECATION_MSG, FutureWarning)\n"
     ]
    },
    {
     "name": "stdout",
     "output_type": "stream",
     "text": [
      "[████████████████████████████████████████] 27/27 WATER_tx                             \n",
      "\n",
      "Set parameter NonConvex to value 2\n",
      "Set parameter TimeLimit to value 10\n",
      "[████████████████████....................] 14/27 RXN_8960                                 \r"
     ]
    },
    {
     "name": "stderr",
     "output_type": "stream",
     "text": [
      "/home/corinna/anaconda3/envs/thermoflux2/lib/python3.10/site-packages/cvxpy/reductions/solvers/solving_chain.py:336: FutureWarning: \n",
      "    Your problem is being solved with the ECOS solver by default. Starting in \n",
      "    CVXPY 1.5.0, Clarabel will be used as the default solver instead. To continue \n",
      "    using ECOS, specify the ECOS solver explicitly using the ``solver=cp.ECOS`` \n",
      "    argument to the ``problem.solve`` method.\n",
      "    \n",
      "  warnings.warn(ECOS_DEPRECATION_MSG, FutureWarning)\n"
     ]
    },
    {
     "name": "stdout",
     "output_type": "stream",
     "text": [
      "[████████████████████████████████████████] 27/27 WATER_tx                             \n",
      "\n",
      "Set parameter NonConvex to value 2\n",
      "Set parameter TimeLimit to value 10\n",
      "[███████████████████████.................] 16/27 CO2_tx                                   \r"
     ]
    },
    {
     "name": "stderr",
     "output_type": "stream",
     "text": [
      "/home/corinna/anaconda3/envs/thermoflux2/lib/python3.10/site-packages/cvxpy/reductions/solvers/solving_chain.py:336: FutureWarning: \n",
      "    Your problem is being solved with the ECOS solver by default. Starting in \n",
      "    CVXPY 1.5.0, Clarabel will be used as the default solver instead. To continue \n",
      "    using ECOS, specify the ECOS solver explicitly using the ``solver=cp.ECOS`` \n",
      "    argument to the ``problem.solve`` method.\n",
      "    \n",
      "  warnings.warn(ECOS_DEPRECATION_MSG, FutureWarning)\n"
     ]
    },
    {
     "name": "stdout",
     "output_type": "stream",
     "text": [
      "[████████████████████████████████████████] 27/27 WATER_tx                             \n",
      "\n",
      "Set parameter NonConvex to value 2\n",
      "Set parameter TimeLimit to value 10\n",
      "[█████████████████████████...............] 17/27 ACETYL_COA_tx                            \r"
     ]
    },
    {
     "name": "stderr",
     "output_type": "stream",
     "text": [
      "/home/corinna/anaconda3/envs/thermoflux2/lib/python3.10/site-packages/cvxpy/reductions/solvers/solving_chain.py:336: FutureWarning: \n",
      "    Your problem is being solved with the ECOS solver by default. Starting in \n",
      "    CVXPY 1.5.0, Clarabel will be used as the default solver instead. To continue \n",
      "    using ECOS, specify the ECOS solver explicitly using the ``solver=cp.ECOS`` \n",
      "    argument to the ``problem.solve`` method.\n",
      "    \n",
      "  warnings.warn(ECOS_DEPRECATION_MSG, FutureWarning)\n"
     ]
    },
    {
     "name": "stdout",
     "output_type": "stream",
     "text": [
      "[████████████████████████████████████████] 27/27 WATER_tx                             \n",
      "\n",
      "Set parameter NonConvex to value 2\n",
      "Set parameter TimeLimit to value 10\n",
      "[█████████████████████████...............] 17/27 ACETYL_COA_tx                            \r"
     ]
    },
    {
     "name": "stderr",
     "output_type": "stream",
     "text": [
      "/home/corinna/anaconda3/envs/thermoflux2/lib/python3.10/site-packages/cvxpy/reductions/solvers/solving_chain.py:336: FutureWarning: \n",
      "    Your problem is being solved with the ECOS solver by default. Starting in \n",
      "    CVXPY 1.5.0, Clarabel will be used as the default solver instead. To continue \n",
      "    using ECOS, specify the ECOS solver explicitly using the ``solver=cp.ECOS`` \n",
      "    argument to the ``problem.solve`` method.\n",
      "    \n",
      "  warnings.warn(ECOS_DEPRECATION_MSG, FutureWarning)\n"
     ]
    },
    {
     "name": "stdout",
     "output_type": "stream",
     "text": [
      "[████████████████████████████████████████] 27/27 WATER_tx                             \n",
      "\n"
     ]
    }
   ],
   "source": [
    "new_compiled_df = calculate_flux_bounds(tmodel, ratio_list, \"NADPH\")"
   ]
  },
  {
   "cell_type": "code",
   "execution_count": 76,
   "metadata": {},
   "outputs": [
    {
     "data": {
      "text/html": [
       "<div>\n",
       "<style scoped>\n",
       "    .dataframe tbody tr th:only-of-type {\n",
       "        vertical-align: middle;\n",
       "    }\n",
       "\n",
       "    .dataframe tbody tr th {\n",
       "        vertical-align: top;\n",
       "    }\n",
       "\n",
       "    .dataframe thead th {\n",
       "        text-align: right;\n",
       "    }\n",
       "</style>\n",
       "<table border=\"1\" class=\"dataframe\">\n",
       "  <thead>\n",
       "    <tr style=\"text-align: right;\">\n",
       "      <th></th>\n",
       "      <th>lb</th>\n",
       "      <th>ub</th>\n",
       "    </tr>\n",
       "  </thead>\n",
       "  <tbody>\n",
       "    <tr>\n",
       "      <th>MALSYN_RXN</th>\n",
       "      <td>-6.555813e+01</td>\n",
       "      <td>2.644778e+01</td>\n",
       "    </tr>\n",
       "    <tr>\n",
       "      <th>RXN_8961</th>\n",
       "      <td>-3.998700e+01</td>\n",
       "      <td>3.757388e+01</td>\n",
       "    </tr>\n",
       "    <tr>\n",
       "      <th>RXN_15977</th>\n",
       "      <td>-1.317432e+02</td>\n",
       "      <td>-1.199410e+01</td>\n",
       "    </tr>\n",
       "    <tr>\n",
       "      <th>RXN_18384</th>\n",
       "      <td>-8.342698e+01</td>\n",
       "      <td>1.144693e+01</td>\n",
       "    </tr>\n",
       "    <tr>\n",
       "      <th>METHYLMALONYL_COA_MUT_RXN</th>\n",
       "      <td>-3.461099e+01</td>\n",
       "      <td>1.790406e+01</td>\n",
       "    </tr>\n",
       "    <tr>\n",
       "      <th>RXN_8891</th>\n",
       "      <td>-2.044369e+01</td>\n",
       "      <td>5.365909e+01</td>\n",
       "    </tr>\n",
       "    <tr>\n",
       "      <th>RXN_11002</th>\n",
       "      <td>-3.483836e+01</td>\n",
       "      <td>1.304446e+01</td>\n",
       "    </tr>\n",
       "    <tr>\n",
       "      <th>RXN_18387</th>\n",
       "      <td>-6.754493e+01</td>\n",
       "      <td>3.498335e+01</td>\n",
       "    </tr>\n",
       "    <tr>\n",
       "      <th>RXN_8890</th>\n",
       "      <td>-6.223647e+01</td>\n",
       "      <td>8.016921e+00</td>\n",
       "    </tr>\n",
       "    <tr>\n",
       "      <th>RXN_8957</th>\n",
       "      <td>-7.998841e+01</td>\n",
       "      <td>9.979907e+00</td>\n",
       "    </tr>\n",
       "    <tr>\n",
       "      <th>RXN_16391</th>\n",
       "      <td>-1.312725e+01</td>\n",
       "      <td>1.312725e+01</td>\n",
       "    </tr>\n",
       "    <tr>\n",
       "      <th>RXN_8958</th>\n",
       "      <td>-1.312725e+01</td>\n",
       "      <td>1.312725e+01</td>\n",
       "    </tr>\n",
       "    <tr>\n",
       "      <th>RXN_18381</th>\n",
       "      <td>-1.311180e+02</td>\n",
       "      <td>-2.173568e+01</td>\n",
       "    </tr>\n",
       "    <tr>\n",
       "      <th>RXN_8960</th>\n",
       "      <td>-5.168688e+01</td>\n",
       "      <td>1.180062e+01</td>\n",
       "    </tr>\n",
       "    <tr>\n",
       "      <th>MAL_tx</th>\n",
       "      <td>-7.105343e+02</td>\n",
       "      <td>-6.849002e+02</td>\n",
       "    </tr>\n",
       "    <tr>\n",
       "      <th>CO2_tx</th>\n",
       "      <td>-4.273888e+02</td>\n",
       "      <td>-3.771235e+02</td>\n",
       "    </tr>\n",
       "    <tr>\n",
       "      <th>ACETYL_COA_tx</th>\n",
       "      <td>-1.931637e+03</td>\n",
       "      <td>-1.819367e+03</td>\n",
       "    </tr>\n",
       "    <tr>\n",
       "      <th>ATP_tx</th>\n",
       "      <td>-2.330169e+03</td>\n",
       "      <td>-2.298168e+03</td>\n",
       "    </tr>\n",
       "    <tr>\n",
       "      <th>ADP_tx</th>\n",
       "      <td>-1.453886e+03</td>\n",
       "      <td>-1.425232e+03</td>\n",
       "    </tr>\n",
       "    <tr>\n",
       "      <th>NADPH_tx</th>\n",
       "      <td>-2.073449e+03</td>\n",
       "      <td>-1.986946e+03</td>\n",
       "    </tr>\n",
       "    <tr>\n",
       "      <th>NADP_tx</th>\n",
       "      <td>-2.148270e+03</td>\n",
       "      <td>-2.061731e+03</td>\n",
       "    </tr>\n",
       "    <tr>\n",
       "      <th>PROTON_tx</th>\n",
       "      <td>3.000863e-12</td>\n",
       "      <td>-3.000863e-12</td>\n",
       "    </tr>\n",
       "    <tr>\n",
       "      <th>HYDROGEN_PEROXIDE_tx</th>\n",
       "      <td>-9.388880e+01</td>\n",
       "      <td>-4.362352e+01</td>\n",
       "    </tr>\n",
       "    <tr>\n",
       "      <th>OXYGEN_MOLECULE_tx</th>\n",
       "      <td>-2.498880e+01</td>\n",
       "      <td>2.527648e+01</td>\n",
       "    </tr>\n",
       "    <tr>\n",
       "      <th>CO_A_tx</th>\n",
       "      <td>-1.873668e+03</td>\n",
       "      <td>-1.760887e+03</td>\n",
       "    </tr>\n",
       "    <tr>\n",
       "      <th>Pi_tx</th>\n",
       "      <td>-1.086185e+03</td>\n",
       "      <td>-1.063574e+03</td>\n",
       "    </tr>\n",
       "    <tr>\n",
       "      <th>WATER_tx</th>\n",
       "      <td>-1.842752e+02</td>\n",
       "      <td>-1.615333e+02</td>\n",
       "    </tr>\n",
       "  </tbody>\n",
       "</table>\n",
       "</div>"
      ],
      "text/plain": [
       "                                     lb            ub\n",
       "MALSYN_RXN                -6.555813e+01  2.644778e+01\n",
       "RXN_8961                  -3.998700e+01  3.757388e+01\n",
       "RXN_15977                 -1.317432e+02 -1.199410e+01\n",
       "RXN_18384                 -8.342698e+01  1.144693e+01\n",
       "METHYLMALONYL_COA_MUT_RXN -3.461099e+01  1.790406e+01\n",
       "RXN_8891                  -2.044369e+01  5.365909e+01\n",
       "RXN_11002                 -3.483836e+01  1.304446e+01\n",
       "RXN_18387                 -6.754493e+01  3.498335e+01\n",
       "RXN_8890                  -6.223647e+01  8.016921e+00\n",
       "RXN_8957                  -7.998841e+01  9.979907e+00\n",
       "RXN_16391                 -1.312725e+01  1.312725e+01\n",
       "RXN_8958                  -1.312725e+01  1.312725e+01\n",
       "RXN_18381                 -1.311180e+02 -2.173568e+01\n",
       "RXN_8960                  -5.168688e+01  1.180062e+01\n",
       "MAL_tx                    -7.105343e+02 -6.849002e+02\n",
       "CO2_tx                    -4.273888e+02 -3.771235e+02\n",
       "ACETYL_COA_tx             -1.931637e+03 -1.819367e+03\n",
       "ATP_tx                    -2.330169e+03 -2.298168e+03\n",
       "ADP_tx                    -1.453886e+03 -1.425232e+03\n",
       "NADPH_tx                  -2.073449e+03 -1.986946e+03\n",
       "NADP_tx                   -2.148270e+03 -2.061731e+03\n",
       "PROTON_tx                  3.000863e-12 -3.000863e-12\n",
       "HYDROGEN_PEROXIDE_tx      -9.388880e+01 -4.362352e+01\n",
       "OXYGEN_MOLECULE_tx        -2.498880e+01  2.527648e+01\n",
       "CO_A_tx                   -1.873668e+03 -1.760887e+03\n",
       "Pi_tx                     -1.086185e+03 -1.063574e+03\n",
       "WATER_tx                  -1.842752e+02 -1.615333e+02"
      ]
     },
     "execution_count": 76,
     "metadata": {},
     "output_type": "execute_result"
    }
   ],
   "source": [
    "bounds_df"
   ]
  },
  {
   "cell_type": "code",
   "execution_count": 77,
   "metadata": {},
   "outputs": [],
   "source": [
    "import matplotlib.pyplot as plt\n",
    "\n",
    "def plot_dataframe_values(index_names, dataframe):\n",
    "    for name in index_names:\n",
    "        x = dataframe.columns.values\n",
    "\n",
    "        y_lb = []\n",
    "        y_ub = []\n",
    "\n",
    "        for value in range(len(x)):\n",
    "            y_lb.append(dataframe.loc[name].values[value][0])\n",
    "            y_ub.append(dataframe.loc[name].values[value][1])\n",
    "\n",
    "        plt.scatter(x, y_lb, label=\"lb\", color='blue')\n",
    "        plt.scatter(x, y_ub, label=\"ub\", color='blue')\n",
    "        plt.fill_between(x, y_lb, y_ub, color='blue', alpha=0.3)\n",
    "\n",
    "        plt.axhline(0, color='red', linewidth=2)  # Add a thick red line at y=0\n",
    "\n",
    "        plt.xlabel('Ratios')\n",
    "        plt.ylabel('drG')\n",
    "        plt.title(name)\n",
    "        # plt.legend()\n",
    "        plt.show()\n"
   ]
  },
  {
   "cell_type": "code",
   "execution_count": 78,
   "metadata": {},
   "outputs": [
    {
     "data": {
      "image/png": "[encoded data removed]",
      "text/plain": [
       "<Figure size 640x480 with 1 Axes>"
      ]
     },
     "metadata": {},
     "output_type": "display_data"
    },
    {
     "data": {
      "image/png": "[encoded data removed]",
      "text/plain": [
       "<Figure size 640x480 with 1 Axes>"
      ]
     },
     "metadata": {},
     "output_type": "display_data"
    }
   ],
   "source": [
    "plot_dataframe_values([\"RXN_11002\", \"MALSYN_RXN\"], new_compiled_df)"
   ]
  },
  {
   "cell_type": "code",
   "execution_count": 79,
   "metadata": {},
   "outputs": [
    {
     "name": "stderr",
     "output_type": "stream",
     "text": [
      "ERROR:cobra.io.sbml:'' is not a valid SBML 'SId'.\n",
      "WARNING:cobra.io.sbml:https://identifiers.org/Enzyme Commission Summary/ does not conform to 'http(s)://identifiers.org/collection/id' or'http(s)://identifiers.org/COLLECTION:id\n",
      "WARNING:cobra.io.sbml:https://identifiers.org/ec-code/ does not conform to 'http(s)://identifiers.org/collection/id' or'http(s)://identifiers.org/COLLECTION:id\n",
      "WARNING:cobra.io.sbml:https://identifiers.org/Enzyme Commission Summary/ does not conform to 'http(s)://identifiers.org/collection/id' or'http(s)://identifiers.org/COLLECTION:id\n",
      "WARNING:cobra.io.sbml:https://identifiers.org/ec-code/ does not conform to 'http(s)://identifiers.org/collection/id' or'http(s)://identifiers.org/COLLECTION:id\n",
      "WARNING:cobra.io.sbml:https://identifiers.org/Enzyme Commission Summary/ does not conform to 'http(s)://identifiers.org/collection/id' or'http(s)://identifiers.org/COLLECTION:id\n",
      "WARNING:cobra.io.sbml:https://identifiers.org/ec-code/ does not conform to 'http(s)://identifiers.org/collection/id' or'http(s)://identifiers.org/COLLECTION:id\n",
      "WARNING:cobra.io.sbml:https://identifiers.org/Enzyme Commission Summary/ does not conform to 'http(s)://identifiers.org/collection/id' or'http(s)://identifiers.org/COLLECTION:id\n",
      "WARNING:cobra.io.sbml:https://identifiers.org/ec-code/ does not conform to 'http(s)://identifiers.org/collection/id' or'http(s)://identifiers.org/COLLECTION:id\n",
      "WARNING:cobra.io.sbml:https://identifiers.org/Enzyme Commission Summary/ does not conform to 'http(s)://identifiers.org/collection/id' or'http(s)://identifiers.org/COLLECTION:id\n",
      "WARNING:cobra.io.sbml:https://identifiers.org/ec-code/ does not conform to 'http(s)://identifiers.org/collection/id' or'http(s)://identifiers.org/COLLECTION:id\n",
      "WARNING:cobra.io.sbml:https://identifiers.org/Enzyme Commission Summary/ does not conform to 'http(s)://identifiers.org/collection/id' or'http(s)://identifiers.org/COLLECTION:id\n",
      "WARNING:cobra.io.sbml:https://identifiers.org/ec-code/ does not conform to 'http(s)://identifiers.org/collection/id' or'http(s)://identifiers.org/COLLECTION:id\n",
      "WARNING:cobra.io.sbml:https://identifiers.org/Enzyme Commission Summary/ does not conform to 'http(s)://identifiers.org/collection/id' or'http(s)://identifiers.org/COLLECTION:id\n",
      "WARNING:cobra.io.sbml:https://identifiers.org/ec-code/ does not conform to 'http(s)://identifiers.org/collection/id' or'http(s)://identifiers.org/COLLECTION:id\n",
      "WARNING:cobra.io.sbml:https://identifiers.org/Enzyme Commission Summary/ does not conform to 'http(s)://identifiers.org/collection/id' or'http(s)://identifiers.org/COLLECTION:id\n",
      "WARNING:cobra.io.sbml:https://identifiers.org/ec-code/ does not conform to 'http(s)://identifiers.org/collection/id' or'http(s)://identifiers.org/COLLECTION:id\n",
      "WARNING:cobra.io.sbml:https://identifiers.org/Enzyme Commission Summary/ does not conform to 'http(s)://identifiers.org/collection/id' or'http(s)://identifiers.org/COLLECTION:id\n",
      "WARNING:cobra.io.sbml:https://identifiers.org/ec-code/ does not conform to 'http(s)://identifiers.org/collection/id' or'http(s)://identifiers.org/COLLECTION:id\n",
      "WARNING:cobra.io.sbml:https://identifiers.org/Enzyme Commission Summary/ does not conform to 'http(s)://identifiers.org/collection/id' or'http(s)://identifiers.org/COLLECTION:id\n",
      "WARNING:cobra.io.sbml:https://identifiers.org/ec-code/ does not conform to 'http(s)://identifiers.org/collection/id' or'http(s)://identifiers.org/COLLECTION:id\n",
      "WARNING:cobra.io.sbml:https://identifiers.org/Enzyme Commission Summary/ does not conform to 'http(s)://identifiers.org/collection/id' or'http(s)://identifiers.org/COLLECTION:id\n",
      "WARNING:cobra.io.sbml:https://identifiers.org/ec-code/ does not conform to 'http(s)://identifiers.org/collection/id' or'http(s)://identifiers.org/COLLECTION:id\n",
      "WARNING:cobra.io.sbml:https://identifiers.org/Enzyme Commission Summary/ does not conform to 'http(s)://identifiers.org/collection/id' or'http(s)://identifiers.org/COLLECTION:id\n",
      "WARNING:cobra.io.sbml:https://identifiers.org/ec-code/ does not conform to 'http(s)://identifiers.org/collection/id' or'http(s)://identifiers.org/COLLECTION:id\n",
      "WARNING:cobra.io.sbml:https://identifiers.org/Enzyme Commission Summary/ does not conform to 'http(s)://identifiers.org/collection/id' or'http(s)://identifiers.org/COLLECTION:id\n",
      "WARNING:cobra.io.sbml:https://identifiers.org/ec-code/ does not conform to 'http(s)://identifiers.org/collection/id' or'http(s)://identifiers.org/COLLECTION:id\n",
      "WARNING:cobra.io.sbml:https://identifiers.org/Enzyme Commission Summary/ does not conform to 'http(s)://identifiers.org/collection/id' or'http(s)://identifiers.org/COLLECTION:id\n"
     ]
    }
   ],
   "source": [
    "cetch_model_NADH = cobra.io.read_sbml_model(r\"CETCH_cycle_exchange.xml\")"
   ]
  },
  {
   "cell_type": "code",
   "execution_count": 80,
   "metadata": {},
   "outputs": [
    {
     "name": "stdout",
     "output_type": "stream",
     "text": [
      "RXN_18384\n",
      "RXN_8891\n",
      "RXN_11002\n",
      "RXN_8957\n",
      "NADPH_tx\n"
     ]
    }
   ],
   "source": [
    "NADH_met = Metabolite(\"NADH\", name=\"NADH\", compartment=\"u\", charge = -2, formula = \"C21H27N7O14P2\")\n",
    "NADH_met.annotation = {'biocyc': 'META:NADH',\n",
    " 'metacyc.compound': 'NADH',\n",
    " 'bigg.metabolite': 'nadh',\n",
    " 'chebi': 'CHEBI:16908',\n",
    " 'hmdb': 'HMDB01487',\n",
    " 'kegg': 'C00004',\n",
    " 'reactome': '192305.0',\n",
    " 'sabiork.compound': '38.0',\n",
    " 'seed': 'cpd00004',\n",
    " 'metanetx.chemical': 'MNXM89564',\n",
    " 'synonyms': 'Nicotinamide adenine dinucleotide - reduced',\n",
    " 'inchi': 'InChI=1/C21H29N7O14P2/c22-17-12-19(25-7-24-17)28(8-26-12)21-16(32)14(30)11(41-21)6-39-44(36,37)42-43(34,35)38-5-10-13(29)15(31)20(40-10)27-3-1-2-9(4-27)18(23)33/h1,3-4,7-8,10-11,13-16,20-21,29-32H,2,5-6H2,(H2,23,33)(H,34,35)(H,36,37)(H2,22,24,25)/p-2/fC21H27N7O14P2/h22-23H2/q-2'}\n",
    "\n",
    "NAD_met = Metabolite(\"NAD\", name=\"NAD\", compartment=\"u\", charge = -1, formula = \"C21H26N7O14P2\")\n",
    "NAD_met.annotation ={'biocyc': 'META:NAD',\n",
    " 'metacyc.compound': 'NAD',\n",
    " 'bigg.metabolite': 'nad',\n",
    " 'chebi': 'CHEBI:15846',\n",
    " 'hmdb': 'HMDB00902',\n",
    " 'kegg': 'C00003',\n",
    " 'reactome': '113526.0',\n",
    " 'sabiork.compound': '37.0',\n",
    " 'seed': 'cpd00003',\n",
    " 'metanetx.chemical': 'MNXM588016',\n",
    " 'synonyms': 'Nicotinamide adenine dinucleotide',\n",
    " 'inchi': 'InChI=1/C21H27N7O14P2/c22-17-12-19(25-7-24-17)28(8-26-12)21-16(32)14(30)11(41-21)6-39-44(36,37)42-43(34,35)38-5-10-13(29)15(31)20(40-10)27-3-1-2-9(4-27)18(23)33/h1-4,7-8,10-11,13-16,20-21,29-32H,5-6H2,(H5-,22,23,24,25,33,34,35,36,37)/p-1/t10-,11-,13-,14-,15-,16-,20-,21-/m1/s1/fC21H26N7O14P2/h22-23H2/q-1'}\n",
    "\n",
    "cetch_model_NADH.add_metabolites([NADH_met, NAD_met])\n",
    "\n",
    "\n",
    "for rxn in cetch_model_NADH.reactions:\n",
    "    if \"NADPH\" in [met.id for met in rxn.metabolites]:\n",
    "        print(rxn.id)\n",
    "        try:\n",
    "            rxn.add_metabolites({cetch_model_NADH.metabolites.NADH:rxn.get_coefficient(cetch_model_NADH.metabolites.NADPH)*1,\n",
    "                                 cetch_model_NADH.metabolites.NAD:rxn.get_coefficient(cetch_model_NADH.metabolites.NADP)*1})\n",
    "            \n",
    "            rxn.add_metabolites({cetch_model_NADH.metabolites.NADPH:rxn.get_coefficient(cetch_model_NADH.metabolites.NADPH)*-1,\n",
    "                                 cetch_model_NADH.metabolites.NADP:rxn.get_coefficient(cetch_model_NADH.metabolites.NADP)*-1})\n",
    "        except:\n",
    "            pass\n",
    "\n"
   ]
  },
  {
   "cell_type": "code",
   "execution_count": 81,
   "metadata": {},
   "outputs": [
    {
     "data": {
      "text/plain": [
       "{<Metabolite NADPH at 0x7f40809d9510>: 1.0}"
      ]
     },
     "execution_count": 81,
     "metadata": {},
     "output_type": "execute_result"
    }
   ],
   "source": [
    "cetch_model_NADH.reactions.NADPH_tx.metabolites"
   ]
  },
  {
   "cell_type": "code",
   "execution_count": 82,
   "metadata": {},
   "outputs": [],
   "source": [
    "rxn = cetch_model_NADH.reactions.NADPH_tx\n",
    "\n",
    "rxn.add_metabolites({cetch_model_NADH.metabolites.NADH:rxn.get_coefficient(cetch_model_NADH.metabolites.NADPH)*1})\n",
    "\n",
    "rxn.add_metabolites({cetch_model_NADH.metabolites.NADPH:rxn.get_coefficient(cetch_model_NADH.metabolites.NADPH)*-1})"
   ]
  },
  {
   "cell_type": "code",
   "execution_count": 83,
   "metadata": {},
   "outputs": [],
   "source": [
    "rxn = cetch_model_NADH.reactions.NADP_tx\n",
    "\n",
    "rxn.add_metabolites({cetch_model_NADH.metabolites.NAD:rxn.get_coefficient(cetch_model_NADH.metabolites.NADP)*1})\n",
    "\n",
    "rxn.add_metabolites({cetch_model_NADH.metabolites.NADP:rxn.get_coefficient(cetch_model_NADH.metabolites.NADP)*-1})"
   ]
  },
  {
   "cell_type": "code",
   "execution_count": 84,
   "metadata": {},
   "outputs": [
    {
     "data": {
      "text/html": [
       "\n",
       "        <table>\n",
       "            <tr>\n",
       "                <td><strong>Reaction identifier</strong></td><td>NADP_tx</td>\n",
       "            </tr><tr>\n",
       "                <td><strong>Name</strong></td><td>NADP exchange</td>\n",
       "            </tr><tr>\n",
       "                <td><strong>Memory address</strong></td>\n",
       "                <td>0x7f40809da680</td>\n",
       "            </tr><tr>\n",
       "                <td><strong>Stoichiometry</strong></td>\n",
       "                <td>\n",
       "                    <p style='text-align:right'><=> NAD</p>\n",
       "                    <p style='text-align:right'><=> NAD</p>\n",
       "                </td>\n",
       "            </tr><tr>\n",
       "                <td><strong>GPR</strong></td><td></td>\n",
       "            </tr><tr>\n",
       "                <td><strong>Lower bound</strong></td><td>-1000.0</td>\n",
       "            </tr><tr>\n",
       "                <td><strong>Upper bound</strong></td><td>1000.0</td>\n",
       "            </tr>\n",
       "        </table>\n",
       "        "
      ],
      "text/plain": [
       "<Reaction NADP_tx at 0x7f40809da680>"
      ]
     },
     "execution_count": 84,
     "metadata": {},
     "output_type": "execute_result"
    }
   ],
   "source": [
    "cetch_model_NADH.reactions.NADP_tx"
   ]
  },
  {
   "cell_type": "code",
   "execution_count": 85,
   "metadata": {},
   "outputs": [
    {
     "data": {
      "text/html": [
       "<h3>Objective</h3><p>1.0 MALSYN_RXN = 250.0</p><h4>Uptake</h4><table border=\"1\" class=\"dataframe\">\n",
       "  <thead>\n",
       "    <tr style=\"text-align: right;\">\n",
       "      <th>Metabolite</th>\n",
       "      <th>Reaction</th>\n",
       "      <th>Flux</th>\n",
       "      <th>C-Number</th>\n",
       "      <th>C-Flux</th>\n",
       "    </tr>\n",
       "  </thead>\n",
       "  <tbody>\n",
       "    <tr>\n",
       "      <td>ACETYL_COA</td>\n",
       "      <td>ACETYL_COA_tx</td>\n",
       "      <td>250</td>\n",
       "      <td>23</td>\n",
       "      <td>19.33%</td>\n",
       "    </tr>\n",
       "    <tr>\n",
       "      <td>ATP</td>\n",
       "      <td>ATP_tx</td>\n",
       "      <td>250</td>\n",
       "      <td>10</td>\n",
       "      <td>8.40%</td>\n",
       "    </tr>\n",
       "    <tr>\n",
       "      <td>CARBON_DIOXIDE</td>\n",
       "      <td>CO2_tx</td>\n",
       "      <td>500</td>\n",
       "      <td>1</td>\n",
       "      <td>1.68%</td>\n",
       "    </tr>\n",
       "    <tr>\n",
       "      <td>NADH</td>\n",
       "      <td>NADPH_tx</td>\n",
       "      <td>1000</td>\n",
       "      <td>21</td>\n",
       "      <td>70.59%</td>\n",
       "    </tr>\n",
       "    <tr>\n",
       "      <td>OXYGEN_MOLECULE</td>\n",
       "      <td>OXYGEN_MOLECULE_tx</td>\n",
       "      <td>500</td>\n",
       "      <td>0</td>\n",
       "      <td>0.00%</td>\n",
       "    </tr>\n",
       "    <tr>\n",
       "      <td>PROTON</td>\n",
       "      <td>PROTON_tx</td>\n",
       "      <td>250</td>\n",
       "      <td>0</td>\n",
       "      <td>0.00%</td>\n",
       "    </tr>\n",
       "    <tr>\n",
       "      <td>WATER</td>\n",
       "      <td>WATER_tx</td>\n",
       "      <td>250</td>\n",
       "      <td>0</td>\n",
       "      <td>0.00%</td>\n",
       "    </tr>\n",
       "  </tbody>\n",
       "</table><h4>Secretion</h4><table border=\"1\" class=\"dataframe\">\n",
       "  <thead>\n",
       "    <tr style=\"text-align: right;\">\n",
       "      <th>Metabolite</th>\n",
       "      <th>Reaction</th>\n",
       "      <th>Flux</th>\n",
       "      <th>C-Number</th>\n",
       "      <th>C-Flux</th>\n",
       "    </tr>\n",
       "  </thead>\n",
       "  <tbody>\n",
       "    <tr>\n",
       "      <td>ADP</td>\n",
       "      <td>ADP_tx</td>\n",
       "      <td>-250</td>\n",
       "      <td>10</td>\n",
       "      <td>8.40%</td>\n",
       "    </tr>\n",
       "    <tr>\n",
       "      <td>CO_A</td>\n",
       "      <td>CO_A_tx</td>\n",
       "      <td>-250</td>\n",
       "      <td>21</td>\n",
       "      <td>17.65%</td>\n",
       "    </tr>\n",
       "    <tr>\n",
       "      <td>HYDROGEN_PEROXIDE</td>\n",
       "      <td>HYDROGEN_PEROXIDE_tx</td>\n",
       "      <td>-500</td>\n",
       "      <td>0</td>\n",
       "      <td>0.00%</td>\n",
       "    </tr>\n",
       "    <tr>\n",
       "      <td>MAL</td>\n",
       "      <td>MAL_tx</td>\n",
       "      <td>-250</td>\n",
       "      <td>4</td>\n",
       "      <td>3.36%</td>\n",
       "    </tr>\n",
       "    <tr>\n",
       "      <td>NAD</td>\n",
       "      <td>NADP_tx</td>\n",
       "      <td>-1000</td>\n",
       "      <td>21</td>\n",
       "      <td>70.59%</td>\n",
       "    </tr>\n",
       "    <tr>\n",
       "      <td>Pi</td>\n",
       "      <td>Pi_tx</td>\n",
       "      <td>-250</td>\n",
       "      <td>0</td>\n",
       "      <td>0.00%</td>\n",
       "    </tr>\n",
       "  </tbody>\n",
       "</table>"
      ],
      "text/plain": [
       "<cobra.summary.model_summary.ModelSummary at 0x7f40852b7400>"
      ]
     },
     "execution_count": 85,
     "metadata": {},
     "output_type": "execute_result"
    }
   ],
   "source": [
    "cetch_model_NADH.objective = cetch_model_NADH.reactions.MALSYN_RXN\n",
    "sol = cetch_model_NADH.optimize()\n",
    "cetch_model_NADH.summary(sol)"
   ]
  },
  {
   "cell_type": "code",
   "execution_count": null,
   "metadata": {},
   "outputs": [],
   "source": []
  },
  {
   "cell_type": "code",
   "execution_count": 86,
   "metadata": {},
   "outputs": [],
   "source": [
    "tmodel = ThermoModel(cetch_model_NADH, split_biomass=False, add_charge_exchange=False) #flags prevent modifications that are important for thermodynamc analysis and charge balancing but we don't need them here"
   ]
  },
  {
   "cell_type": "code",
   "execution_count": 87,
   "metadata": {},
   "outputs": [],
   "source": [
    "#set the pH of each compartment\n",
    "tmodel.pH = {'m': Q_(8.1),\n",
    " 'c': Q_(7.3),\n",
    " 'b': Q_(7.3),\n",
    " 'p': Q_(8.0),\n",
    " 'v': Q_(5.2),\n",
    " 'x': Q_(7.5),\n",
    " 'r': Q_(7.1),\n",
    " 'e': Q_(4.7),\n",
    " 'l': Q_(6.0),\n",
    " 'i': Q_(7.3),\n",
    "    'u': Q_(7.0)}\n",
    "\n",
    "#Define a constant ionic strength for each compartment\n",
    "tmodel.I = {comp: Q_(0.25, 'M') for comp in tmodel.compartments}\n",
    "\n",
    "#Set the temperature of the model\n",
    "tmodel.T = Q_(298.15, 'K')\n",
    "\n",
    "#define mebrane potential for each compartment\n",
    "tmodel.phi = {'pl':Q_(0,'V'), \n",
    "               'pc':Q_(-0.111,'V'),\n",
    "               'cm':Q_(-0.160,'V'),\n",
    "               'ce':Q_(0.150,'V'),\n",
    "               'cx':Q_(0,'V'),\n",
    "               'cv':Q_(0.02,'V')}"
   ]
  },
  {
   "cell_type": "code",
   "execution_count": 88,
   "metadata": {},
   "outputs": [],
   "source": [
    "for met in tmodel.metabolites:\n",
    "    \n",
    "    met_cmp= met.annotation[\"biocyc\"].replace(\"META:\",\"\")\n",
    "    met.annotation = {\"metacyc.compound\":met_cmp}\n",
    "\n",
    "tmodel.metabolites.CPD_9407.annotation = {'metacyc.compound': 'CPD-9407'}#, 'kegg': 'C18324'}\n",
    "tmodel.metabolites.METHYL_MALONYL_COA.annotation = {'metacyc.compound': 'METHYL-MALONYL-COA'}#, 'kegg': 'C01213'}\n",
    "tmodel.metabolites.CARBON_DIOXIDE.annotation = {'metacyc.compound': 'CARBON-DIOXIDE'}"
   ]
  },
  {
   "cell_type": "code",
   "execution_count": 89,
   "metadata": {},
   "outputs": [
    {
     "name": "stdout",
     "output_type": "stream",
     "text": [
      "Initilizing component contribution object.../30 GLYOX                 \n",
      "No valid license for cxcalc installed, operating in read-only mode. A local cache may be loaded, but no compounds can be created. Please obtain a ChemAxon license to enable compound creation.\n",
      "Loading compounds from _compound.sqlite\n",
      "[████████████████████████████████████████] 30/30 NAD                                  \n",
      "\n"
     ]
    },
    {
     "data": {
      "text/plain": [
       "[]"
      ]
     },
     "execution_count": 89,
     "metadata": {},
     "output_type": "execute_result"
    }
   ],
   "source": [
    "#idnetify all the compounds that are in the model\n",
    "tmodel.get_compounds(search = True, update_annotations = False)"
   ]
  },
  {
   "cell_type": "code",
   "execution_count": 90,
   "metadata": {},
   "outputs": [
    {
     "name": "stdout",
     "output_type": "stream",
     "text": [
      "GLYOX\n",
      "WATER\n",
      "ACETYL_COA\n",
      "MAL\n",
      "CO_A\n",
      "ATP\n",
      "4_HYDROXY_BUTYRATE\n",
      "4_HYDROXY_BUTYRYL_COA\n",
      "ADP\n",
      "Pi\n",
      "NADP\n",
      "NADPH\n",
      "SUCC_S_ALD\n",
      "OXYGEN_MOLECULE\n",
      "CPD_9407\n",
      "CPD_9408\n",
      "HYDROGEN_PEROXIDE\n",
      "PROPIONYL_COA\n",
      "ACRYLYL_COA\n",
      "CPD_9406\n",
      "CROTONYL_COA\n",
      "CARBON_DIOXIDE\n",
      "CPD_17635\n",
      "CPD_9409\n",
      "METHYL_MALONYL_COA\n",
      "SUC_COA\n",
      "CPD_226\n",
      "NADH\n",
      "NAD\n"
     ]
    }
   ],
   "source": [
    "#concentration data all in M \n",
    "ConcLimits_df = pd.read_excel('cetch_conc_limits.xlsx', \n",
    "                   header=[0,1], \n",
    "                   index_col=[0]                   \n",
    "                   )\n",
    "\n",
    "for met in tmodel.metabolites:\n",
    "    # if met.id[:-2] in list(ConcLimits_df.index):\n",
    "    #     if met.id[:-2] not in ['charge', 'PROTON']:\n",
    "    if met.id in list(ConcLimits_df.index):\n",
    "        if met.id not in ['charge', 'PROTON']:\n",
    "            # ub = (ConcLimits_df.loc[met.id[:-2]][(met.compartment,'up')])\n",
    "            # lb = (ConcLimits_df.loc[met.id[:-2]][(met.compartment,'lo')])\n",
    "            ub = (ConcLimits_df.loc[met.id][(met.compartment,'up')])\n",
    "            lb = (ConcLimits_df.loc[met.id][(met.compartment,'lo')])\n",
    "            met.upper_bound = Q_(ub,'M')\n",
    "            met.lower_bound = Q_(lb,'M')\n",
    "            print(met.id)"
   ]
  },
  {
   "cell_type": "code",
   "execution_count": 91,
   "metadata": {},
   "outputs": [
    {
     "data": {
      "text/plain": [
       "{'u': 0.25 <Unit('molar')>}"
      ]
     },
     "execution_count": 91,
     "metadata": {},
     "output_type": "execute_result"
    }
   ],
   "source": [
    "tmodel.I"
   ]
  },
  {
   "cell_type": "code",
   "execution_count": 92,
   "metadata": {},
   "outputs": [
    {
     "data": {
      "text/plain": [
       "True"
      ]
     },
     "execution_count": 92,
     "metadata": {},
     "output_type": "execute_result"
    }
   ],
   "source": [
    "tmodel.metabolites.GLYOX.compound.can_be_transformed()"
   ]
  },
  {
   "cell_type": "code",
   "execution_count": 93,
   "metadata": {},
   "outputs": [
    {
     "data": {
      "text/plain": [
       "{'u': ''}"
      ]
     },
     "execution_count": 93,
     "metadata": {},
     "output_type": "execute_result"
    }
   ],
   "source": [
    "tmodel.compartments"
   ]
  },
  {
   "cell_type": "code",
   "execution_count": 94,
   "metadata": {},
   "outputs": [
    {
     "data": {
      "text/plain": [
       "{'u': 3 <Unit('dimensionless')>}"
      ]
     },
     "execution_count": 94,
     "metadata": {},
     "output_type": "execute_result"
    }
   ],
   "source": [
    "tmodel.pMg"
   ]
  },
  {
   "cell_type": "code",
   "execution_count": 95,
   "metadata": {},
   "outputs": [],
   "source": [
    "#set the pH of each compartment\n",
    "tmodel.pH = {'m': Q_(8.1),\n",
    " 'c': Q_(7.3),\n",
    " 'b': Q_(7.3),\n",
    " 'p': Q_(8.0),\n",
    " 'v': Q_(5.2),\n",
    " 'x': Q_(7.5),\n",
    " 'r': Q_(7.1),\n",
    " 'e': Q_(4.7),\n",
    " 'l': Q_(6.0),\n",
    " 'i': Q_(7.3),\n",
    "    'u': Q_(7.0)}\n",
    "\n",
    "#Define a constant ionic strength for each compartment\n",
    "tmodel.I = {comp: Q_(0.25, 'M') for comp in tmodel.compartments}\n",
    "\n",
    "#Set the temperature of the model\n",
    "tmodel.T = Q_(298.15, 'K')\n",
    "\n",
    "#define mebrane potential for each compartment\n",
    "tmodel.phi = {'pl':Q_(0,'V'), \n",
    "               'pc':Q_(-0.111,'V'),\n",
    "               'cm':Q_(-0.160,'V'),\n",
    "               'ce':Q_(0.150,'V'),\n",
    "               'cx':Q_(0,'V'),\n",
    "               'cv':Q_(0.02,'V')}\n",
    "\n",
    "# pH = tmodel.pH\n",
    "# I = tmodel.I\n",
    "# T = tmodel.T\n",
    "# pMg = tmodel.pMg\n",
    "\n",
    "# tmodel.metabolites.GLYOX.compound.transform(pH, I, T, pMg)"
   ]
  },
  {
   "cell_type": "code",
   "execution_count": 96,
   "metadata": {},
   "outputs": [],
   "source": [
    "# tmodel.pMg = {'u':Q_(3,'M')}"
   ]
  },
  {
   "cell_type": "code",
   "execution_count": 97,
   "metadata": {},
   "outputs": [
    {
     "data": {
      "text/html": [
       "\n",
       "        <table>\n",
       "            <tr>\n",
       "                <td><strong>Name</strong></td>\n",
       "                <td></td>\n",
       "            </tr><tr>\n",
       "                <td><strong>Memory address</strong></td>\n",
       "                <td>7f40809cee00</td>\n",
       "            </tr><tr>\n",
       "                <td><strong>Number of metabolites</strong></td>\n",
       "                <td>30</td>\n",
       "            </tr><tr>\n",
       "                <td><strong>Number of reactions</strong></td>\n",
       "                <td>27</td>\n",
       "            </tr><tr>\n",
       "                <td><strong>Number of genes</strong></td>\n",
       "                <td>0</td>\n",
       "            </tr><tr>\n",
       "                <td><strong>Number of groups</strong></td>\n",
       "                <td>0</td>\n",
       "            </tr><tr>\n",
       "                <td><strong>Objective expression</strong></td>\n",
       "                <td>1.0*MALSYN_RXN - 1.0*MALSYN_RXN_reverse_25886</td>\n",
       "            </tr><tr>\n",
       "                <td><strong>Compartments</strong></td>\n",
       "                <td>u</td>\n",
       "            </tr>\n",
       "          </table>"
      ],
      "text/plain": [
       "<ThermoModel  at 0x7f40809cee00>"
      ]
     },
     "execution_count": 97,
     "metadata": {},
     "output_type": "execute_result"
    }
   ],
   "source": [
    "tmodel"
   ]
  },
  {
   "cell_type": "code",
   "execution_count": 98,
   "metadata": {},
   "outputs": [
    {
     "name": "stdout",
     "output_type": "stream",
     "text": [
      "GLYOX u\n",
      "WATER u\n",
      "ACETYL_COA u\n",
      "PROTON u\n",
      "MAL u\n",
      "CO_A u\n",
      "ATP u\n",
      "4_HYDROXY_BUTYRATE u\n",
      "4_HYDROXY_BUTYRYL_COA u\n",
      "ADP u\n",
      "Pi u\n",
      "NADP u\n",
      "NADPH u\n",
      "SUCC_S_ALD u\n",
      "OXYGEN_MOLECULE u\n",
      "CPD_9407 u\n",
      "CPD_9408 u\n",
      "HYDROGEN_PEROXIDE u\n",
      "PROPIONYL_COA u\n",
      "ACRYLYL_COA u\n",
      "CPD_9406 u\n",
      "CROTONYL_COA u\n",
      "CARBON_DIOXIDE u\n",
      "CPD_17635 u\n",
      "CPD_9409 u\n",
      "METHYL_MALONYL_COA u\n",
      "SUC_COA u\n",
      "CPD_226 u\n",
      "NADH u\n",
      "NAD u\n"
     ]
    }
   ],
   "source": [
    "for met in tmodel.metabolites:\n",
    "    print(met.id, met.compartment)"
   ]
  },
  {
   "cell_type": "code",
   "execution_count": 99,
   "metadata": {},
   "outputs": [
    {
     "data": {
      "text/html": [
       "39.932987600843894 kilojoule/mole"
      ],
      "text/latex": [
       "$39.932987600843894\\ \\frac{\\mathrm{kilojoule}}{\\mathrm{mole}}$"
      ],
      "text/plain": [
       "39.932987600843894 <Unit('kilojoule / mole')>"
      ]
     },
     "execution_count": 99,
     "metadata": {},
     "output_type": "execute_result"
    }
   ],
   "source": [
    "thermo_flux.tools.drg_tools.calc_dfG_transform(tmodel.metabolites.GLYOX)"
   ]
  },
  {
   "cell_type": "code",
   "execution_count": 100,
   "metadata": {},
   "outputs": [
    {
     "name": "stdout",
     "output_type": "stream",
     "text": [
      "Identifying compounds...\n",
      "[████████████████████████████████████████] 30/30 NAD                                  \n",
      "\n",
      "Estimating dfG0'...\n",
      "[████████████████████████████████████████] 32/32 Mg_u                                                  \n",
      "\n",
      "Estimating drG0'...\n",
      "[████████████████████████████████████████] 27/27 WATER_tx                                 \n",
      "\n"
     ]
    }
   ],
   "source": [
    "tmodel.update_thermo_info()"
   ]
  },
  {
   "cell_type": "code",
   "execution_count": 101,
   "metadata": {},
   "outputs": [
    {
     "name": "stdout",
     "output_type": "stream",
     "text": [
      "Set parameter NonConvex to value 2\n",
      "Set parameter TimeLimit to value 10\n"
     ]
    }
   ],
   "source": [
    "tmodel.m = None #reset the gurobi model object in case you're re-running this cell \n",
    "tmodel.add_TFBA_variables(gdiss_constraint = False, qnorm=1,error_type='covariance')"
   ]
  },
  {
   "cell_type": "code",
   "execution_count": 102,
   "metadata": {},
   "outputs": [
    {
     "name": "stdout",
     "output_type": "stream",
     "text": [
      "[███████████████████████.................] 16/27 CO2_tx                                   \r"
     ]
    },
    {
     "name": "stderr",
     "output_type": "stream",
     "text": [
      "/home/corinna/anaconda3/envs/thermoflux2/lib/python3.10/site-packages/cvxpy/reductions/solvers/solving_chain.py:336: FutureWarning: \n",
      "    Your problem is being solved with the ECOS solver by default. Starting in \n",
      "    CVXPY 1.5.0, Clarabel will be used as the default solver instead. To continue \n",
      "    using ECOS, specify the ECOS solver explicitly using the ``solver=cp.ECOS`` \n",
      "    argument to the ``problem.solve`` method.\n",
      "    \n",
      "  warnings.warn(ECOS_DEPRECATION_MSG, FutureWarning)\n"
     ]
    },
    {
     "name": "stdout",
     "output_type": "stream",
     "text": [
      "[████████████████████████████████████████] 27/27 WATER_tx                             \n",
      "\n"
     ]
    }
   ],
   "source": [
    "bounds_df = thermo_flux.solver.gurobi.drG_bounds(tmodel, alpha=0.95) "
   ]
  },
  {
   "cell_type": "code",
   "execution_count": 103,
   "metadata": {},
   "outputs": [],
   "source": [
    "import matplotlib.pyplot as plt\n",
    "\n",
    "def plot_reaction(drGmprime_df, reactions_list):\n",
    "    # Get the reaction names and drGmprime values\n",
    "    reactions = drGmprime_df['reaction'].values\n",
    "    drGmprime = drGmprime_df['drGmprime'].values\n",
    "    errors = drGmprime_df['drG_SE'].values\n",
    "\n",
    "    # Filter the reactions based on the provided list\n",
    "    filtered_reactions = [reaction for reaction in reactions if reaction in reactions_list]\n",
    "    filtered_drGmprime = [drGmprime[i] for i, reaction in enumerate(reactions) if reaction in reactions_list]\n",
    "    filtered_errors = [errors[i] for i, reaction in enumerate(reactions) if reaction in reactions_list]\n",
    "\n",
    "    # Plot the filtered drGmprime values with error bars\n",
    "    plt.errorbar(filtered_reactions, filtered_drGmprime, yerr=filtered_errors, fmt='o')\n",
    "\n",
    "    # Set the x-axis label\n",
    "    plt.xlabel('Reaction')\n",
    "\n",
    "    # Set the y-axis label\n",
    "    plt.ylabel('drGmprime')\n",
    "\n",
    "    # Set the title\n",
    "    plt.title('drGmprime vs. Reaction')\n",
    "\n",
    "    # Tilt the x-axis labels by 270 degrees\n",
    "    plt.xticks(rotation=90)\n",
    "\n",
    "    # Show the plot\n",
    "    plt.show()\n"
   ]
  },
  {
   "cell_type": "code",
   "execution_count": 104,
   "metadata": {},
   "outputs": [],
   "source": [
    "import matplotlib.pyplot as plt\n",
    "\n",
    "def plot_dataframe_values(index_names, dataframe):\n",
    "    for name in index_names:\n",
    "        x = dataframe.columns.values\n",
    "\n",
    "        y_lb = []\n",
    "        y_ub = []\n",
    "\n",
    "        for value in range(len(x)):\n",
    "            y_lb.append(dataframe.loc[name].values[value][0])\n",
    "            y_ub.append(dataframe.loc[name].values[value][1])\n",
    "\n",
    "        plt.scatter(x, y_lb, label=\"lb\", color='blue')\n",
    "        plt.scatter(x, y_ub, label=\"ub\", color='blue')\n",
    "        plt.fill_between(x, y_lb, y_ub, color='blue', alpha=0.3)\n",
    "\n",
    "        plt.axhline(0, color='red', linewidth=2)  # Add a thick red line at y=0\n",
    "\n",
    "        plt.xlabel('Ratios')\n",
    "        plt.ylabel('drG')\n",
    "        plt.title(name)\n",
    "        # plt.legend()\n",
    "        plt.show()\n"
   ]
  },
  {
   "cell_type": "code",
   "execution_count": 105,
   "metadata": {
    "scrolled": true
   },
   "outputs": [],
   "source": [
    "import pandas as pd\n",
    "# from pint import Quantity as Q_\n",
    "\n",
    "def calculate_flux_bounds(tmodel, ratio_list, metabolite):\n",
    "    \"\"\"\n",
    "    Calculate flux bounds for different ratios using the provided model.\n",
    "\n",
    "    Args:\n",
    "        tmodel (object): The model object.\n",
    "        ratio_list (list): List of ratios to iterate over.\n",
    "\n",
    "    Returns:\n",
    "        pandas.DataFrame: DataFrame containing the flux bounds for each ratio.\n",
    "    \"\"\"\n",
    "    compiled_df = pd.DataFrame()\n",
    "\n",
    "    for item in ratio_list:\n",
    "        try:\n",
    "            tmodel.metabolites.get_by_id(metabolite).lower_bound = Q_(item, 'mM')\n",
    "            tmodel.metabolites.get_by_id(metabolite).upper_bound = Q_(item, 'mM')\n",
    "        except:\n",
    "            tmodel.metabolites.get_by_id(metabolite).upper_bound = Q_(item, 'mM')\n",
    "            tmodel.metabolites.get_by_id(metabolite).lower_bound = Q_(item, 'mM')\n",
    "\n",
    "        tmodel.m = None  # reset the gurobi model object in case you're re-running this cell \n",
    "        tmodel.add_TFBA_variables(gdiss_constraint=False, qnorm=1, error_type='covariance')\n",
    "        bounds_df = thermo_flux.solver.gurobi.drG_bounds(tmodel, alpha=0.95)\n",
    "\n",
    "        # Add bounds_df.lb and bounds_df.ub for each iteration to the compiled_df\n",
    "        compiled_df.insert(0, str(item) + \"_ub\", bounds_df.ub, False)\n",
    "        compiled_df.insert(0, str(item) + \"_lb\", bounds_df.lb, False)\n",
    "\n",
    "    new_compiled_df = pd.DataFrame()\n",
    "    new_compiled_df.index = compiled_df.index\n",
    "\n",
    "    for value in ratio_list:\n",
    "        new_compiled_df[str(value)] = [[a,b] for a, b in zip(compiled_df[str(value)+\"_lb\"], compiled_df[str(value)+\"_ub\"])]\n",
    "\n",
    "    return new_compiled_df\n",
    "\n"
   ]
  },
  {
   "cell_type": "code",
   "execution_count": 106,
   "metadata": {
    "scrolled": true
   },
   "outputs": [
    {
     "ename": "AttributeError",
     "evalue": "DictList has no attribute or entry NAPH",
     "output_type": "error",
     "traceback": [
      "\u001b[0;31m---------------------------------------------------------------------------\u001b[0m",
      "\u001b[0;31mKeyError\u001b[0m                                  Traceback (most recent call last)",
      "File \u001b[0;32m~/anaconda3/envs/thermoflux2/lib/python3.10/site-packages/cobra/core/dictlist.py:525\u001b[0m, in \u001b[0;36mDictList.__getattr__\u001b[0;34m(self, attr)\u001b[0m\n\u001b[1;32m    524\u001b[0m \u001b[38;5;28;01mtry\u001b[39;00m:\n\u001b[0;32m--> 525\u001b[0m     \u001b[38;5;28;01mreturn\u001b[39;00m \u001b[43mDictList\u001b[49m\u001b[38;5;241;43m.\u001b[39;49m\u001b[43mget_by_id\u001b[49m\u001b[43m(\u001b[49m\u001b[38;5;28;43mself\u001b[39;49m\u001b[43m,\u001b[49m\u001b[43m \u001b[49m\u001b[43mattr\u001b[49m\u001b[43m)\u001b[49m\n\u001b[1;32m    526\u001b[0m \u001b[38;5;28;01mexcept\u001b[39;00m \u001b[38;5;167;01mKeyError\u001b[39;00m:\n",
      "File \u001b[0;32m~/anaconda3/envs/thermoflux2/lib/python3.10/site-packages/cobra/core/dictlist.py:73\u001b[0m, in \u001b[0;36mDictList.get_by_id\u001b[0;34m(self, id)\u001b[0m\n\u001b[1;32m     72\u001b[0m \u001b[38;5;250m\u001b[39m\u001b[38;5;124;03m\"\"\"Return the element with a matching id.\"\"\"\u001b[39;00m\n\u001b[0;32m---> 73\u001b[0m \u001b[38;5;28;01mreturn\u001b[39;00m \u001b[38;5;28mlist\u001b[39m\u001b[38;5;241m.\u001b[39m\u001b[38;5;21m__getitem__\u001b[39m(\u001b[38;5;28mself\u001b[39m, \u001b[38;5;28;43mself\u001b[39;49m\u001b[38;5;241;43m.\u001b[39;49m\u001b[43m_dict\u001b[49m\u001b[43m[\u001b[49m\u001b[38;5;28;43mid\u001b[39;49m\u001b[43m]\u001b[49m)\n",
      "\u001b[0;31mKeyError\u001b[0m: 'NAPH'",
      "\nDuring handling of the above exception, another exception occurred:\n",
      "\u001b[0;31mAttributeError\u001b[0m                            Traceback (most recent call last)",
      "Cell \u001b[0;32mIn[106], line 18\u001b[0m\n\u001b[1;32m     15\u001b[0m     tmodel\u001b[38;5;241m.\u001b[39mmetabolites\u001b[38;5;241m.\u001b[39mNADH\u001b[38;5;241m.\u001b[39mupper_bound \u001b[38;5;241m=\u001b[39m Q_(item, \u001b[38;5;124m'\u001b[39m\u001b[38;5;124mmM\u001b[39m\u001b[38;5;124m'\u001b[39m)\n\u001b[1;32m     16\u001b[0m     tmodel\u001b[38;5;241m.\u001b[39mmetabolites\u001b[38;5;241m.\u001b[39mNADH\u001b[38;5;241m.\u001b[39mlower_bound \u001b[38;5;241m=\u001b[39m Q_(item, \u001b[38;5;124m'\u001b[39m\u001b[38;5;124mmM\u001b[39m\u001b[38;5;124m'\u001b[39m)\n\u001b[0;32m---> 18\u001b[0m \u001b[38;5;28mprint\u001b[39m(\u001b[43mtmodel\u001b[49m\u001b[38;5;241;43m.\u001b[39;49m\u001b[43mmetabolites\u001b[49m\u001b[38;5;241;43m.\u001b[39;49m\u001b[43mNAPH\u001b[49m\u001b[38;5;241m.\u001b[39mlower_bound , tmodel\u001b[38;5;241m.\u001b[39mmetabolites\u001b[38;5;241m.\u001b[39mNADPH\u001b[38;5;241m.\u001b[39mupper_bound) \n\u001b[1;32m     21\u001b[0m tmodel\u001b[38;5;241m.\u001b[39mm \u001b[38;5;241m=\u001b[39m \u001b[38;5;28;01mNone\u001b[39;00m \u001b[38;5;66;03m#reset the gurobi model object in case you're re-running this cell \u001b[39;00m\n\u001b[1;32m     22\u001b[0m tmodel\u001b[38;5;241m.\u001b[39madd_TFBA_variables(gdiss_constraint \u001b[38;5;241m=\u001b[39m \u001b[38;5;28;01mFalse\u001b[39;00m, qnorm\u001b[38;5;241m=\u001b[39m\u001b[38;5;241m1\u001b[39m,error_type\u001b[38;5;241m=\u001b[39m\u001b[38;5;124m'\u001b[39m\u001b[38;5;124mcovariance\u001b[39m\u001b[38;5;124m'\u001b[39m)\n",
      "File \u001b[0;32m~/anaconda3/envs/thermoflux2/lib/python3.10/site-packages/cobra/core/dictlist.py:527\u001b[0m, in \u001b[0;36mDictList.__getattr__\u001b[0;34m(self, attr)\u001b[0m\n\u001b[1;32m    525\u001b[0m     \u001b[38;5;28;01mreturn\u001b[39;00m DictList\u001b[38;5;241m.\u001b[39mget_by_id(\u001b[38;5;28mself\u001b[39m, attr)\n\u001b[1;32m    526\u001b[0m \u001b[38;5;28;01mexcept\u001b[39;00m \u001b[38;5;167;01mKeyError\u001b[39;00m:\n\u001b[0;32m--> 527\u001b[0m     \u001b[38;5;28;01mraise\u001b[39;00m \u001b[38;5;167;01mAttributeError\u001b[39;00m(\u001b[38;5;124mf\u001b[39m\u001b[38;5;124m\"\u001b[39m\u001b[38;5;124mDictList has no attribute or entry \u001b[39m\u001b[38;5;132;01m{\u001b[39;00mattr\u001b[38;5;132;01m}\u001b[39;00m\u001b[38;5;124m\"\u001b[39m)\n",
      "\u001b[0;31mAttributeError\u001b[0m: DictList has no attribute or entry NAPH"
     ]
    }
   ],
   "source": [
    "ratio_list = [0.001, 0.01, 0.2, 0.4, 0.6, 0.8, 1, 2, 3, 4, 5, 100, 1000]\n",
    "\n",
    "tmodel.metabolites.NAD.lower_bound = Q_(1, 'mM')\n",
    "tmodel.metabolites.NAD.upper_bound = Q_(1, 'mM')\n",
    "\n",
    "\n",
    "\n",
    "compiled_df = pd.DataFrame()\n",
    "\n",
    "for item in ratio_list:\n",
    "    try:\n",
    "        tmodel.metabolites.NADH.lower_bound = Q_(item, 'mM')\n",
    "        tmodel.metabolites.NADH.upper_bound = Q_(item, 'mM')\n",
    "    except:\n",
    "        tmodel.metabolites.NADH.upper_bound = Q_(item, 'mM')\n",
    "        tmodel.metabolites.NADH.lower_bound = Q_(item, 'mM')\n",
    "\n",
    "    print(tmodel.metabolites.NAPH.lower_bound , tmodel.metabolites.NADPH.upper_bound) \n",
    "\n",
    "\n",
    "    tmodel.m = None #reset the gurobi model object in case you're re-running this cell \n",
    "    tmodel.add_TFBA_variables(gdiss_constraint = False, qnorm=1,error_type='covariance')\n",
    "    bounds_df = thermo_flux.solver.gurobi.drG_bounds(tmodel, alpha=0.95)\n",
    "    bounds_kcal = Q_(bounds_df.values, 'kJ/mol').to('kcal/mol').m\n",
    "    bounds_df_kcal = pd.DataFrame(bounds_kcal, index=bounds_df.index, columns=bounds_df.columns)\n",
    "\n",
    "    # Add bounds_df.lb and bounds_df.ub for each iteration to the compiled_df\n",
    "    compiled_df.insert(0, str(item)+\"_ub\", bounds_df_kcal.ub, False)\n",
    "    compiled_df.insert(0, str(item)+\"_lb\", bounds_df_kcal.lb, False)\n",
    "\n",
    "\n",
    "\n",
    "new_compiled_df = pd.DataFrame()\n",
    "new_compiled_df.index = compiled_df.index\n",
    "\n",
    "for value in ratio_list:\n",
    "    new_compiled_df[str(value)] = [[a,b] for a, b in zip(compiled_df[str(value)+\"_lb\"], compiled_df[str(value)+\"_ub\"])]"
   ]
  },
  {
   "cell_type": "code",
   "execution_count": null,
   "metadata": {
    "scrolled": true
   },
   "outputs": [],
   "source": [
    "calculate_flux_bounds(tmodel, ratio_list, \"NADH\")"
   ]
  },
  {
   "cell_type": "code",
   "execution_count": null,
   "metadata": {},
   "outputs": [],
   "source": []
  },
  {
   "cell_type": "code",
   "execution_count": null,
   "metadata": {
    "scrolled": true
   },
   "outputs": [],
   "source": [
    "new_compiled_df = calculate_flux_bounds(tmodel, ratio_list, \"NADH\")"
   ]
  },
  {
   "cell_type": "code",
   "execution_count": null,
   "metadata": {},
   "outputs": [],
   "source": [
    "plot_dataframe_values([\"RXN_11002\", \"RXN_18384\", \"RXN_8891\", \"RXN_8957\", \"MALSYN_RXN\"], new_compiled_df)"
   ]
  },
  {
   "cell_type": "code",
   "execution_count": null,
   "metadata": {},
   "outputs": [],
   "source": []
  },
  {
   "cell_type": "code",
   "execution_count": null,
   "metadata": {},
   "outputs": [],
   "source": [
    "tmodel.m = None #reset the gurobi model object in case you're re-running this cell \n",
    "tmodel.add_TFBA_variables(gdiss_constraint = False, qnorm=1,error_type='covariance')"
   ]
  },
  {
   "cell_type": "code",
   "execution_count": null,
   "metadata": {},
   "outputs": [],
   "source": []
  },
  {
   "cell_type": "code",
   "execution_count": null,
   "metadata": {},
   "outputs": [],
   "source": []
  },
  {
   "cell_type": "code",
   "execution_count": null,
   "metadata": {},
   "outputs": [],
   "source": []
  }
 ],
 "metadata": {
  "kernelspec": {
   "display_name": "Python 3 (ipykernel)",
   "language": "python",
   "name": "python3"
  },
  "language_info": {
   "codemirror_mode": {
    "name": "ipython",
    "version": 3
   },
   "file_extension": ".py",
   "mimetype": "text/x-python",
   "name": "python",
   "nbconvert_exporter": "python",
   "pygments_lexer": "ipython3",
   "version": "3.10.12"
  }
 },
 "nbformat": 4,
 "nbformat_minor": 4
}
